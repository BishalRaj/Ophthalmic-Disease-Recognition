{
 "cells": [
  {
   "cell_type": "code",
   "execution_count": 1,
   "id": "1c5b5907",
   "metadata": {
    "papermill": {
     "duration": 6.451499,
     "end_time": "2022-06-05T20:43:53.082731",
     "exception": false,
     "start_time": "2022-06-05T20:43:46.631232",
     "status": "completed"
    },
    "tags": []
   },
   "outputs": [],
   "source": [
    "import numpy as np \n",
    "import pandas as pd \n",
    "import matplotlib.pyplot as plt\n",
    "import matplotlib.image as mpimg\n",
    "import os\n",
    "import zipfile\n",
    "import csv\n",
    "import cv2\n",
    "import shutil\n",
    "import random\n",
    "import seaborn as sns\n",
    "from PIL import Image\n",
    "from tqdm import tqdm\n",
    "import tensorflow as tf\n",
    "import tensorflow_addons as tfa\n",
    "from tensorflow import keras\n",
    "from tensorflow.keras import Model\n",
    "from tensorflow.keras import layers\n",
    "from tensorflow.keras.models import Model,Sequential\n",
    "from keras.utils.vis_utils import plot_model\n",
    "from tensorflow.keras.layers import Conv2D, MaxPooling2D, Dropout, Dense, Flatten, BatchNormalization\n",
    "from tensorflow.keras.preprocessing.image import ImageDataGenerator\n",
    "from tensorflow.keras.optimizers import RMSprop\n",
    "\n",
    "from tensorflow.keras.applications.inception_v3 import InceptionV3\n",
    "from tensorflow.keras.applications.resnet import ResNet50\n",
    "from tensorflow.keras.applications import vgg16\n"
   ]
  },
  {
   "cell_type": "code",
   "execution_count": 2,
   "id": "f24f96f6",
   "metadata": {
    "papermill": {
     "duration": 2.335126,
     "end_time": "2022-06-05T20:43:55.437464",
     "exception": false,
     "start_time": "2022-06-05T20:43:53.102338",
     "status": "completed"
    },
    "tags": []
   },
   "outputs": [
    {
     "name": "stdout",
     "output_type": "stream",
     "text": [
      "GPU device not found\n",
      "Found GPU at: \n"
     ]
    }
   ],
   "source": [
    "device_name = tf.test.gpu_device_name()\n",
    "if \"GPU\" not in device_name:\n",
    "    print(\"GPU device not found\")\n",
    "print('Found GPU at: {}'.format(device_name))"
   ]
  },
  {
   "cell_type": "code",
   "execution_count": 3,
   "id": "c8f5d84d",
   "metadata": {
    "papermill": {
     "duration": 0.026873,
     "end_time": "2022-06-05T20:43:55.485395",
     "exception": false,
     "start_time": "2022-06-05T20:43:55.458522",
     "status": "completed"
    },
    "tags": []
   },
   "outputs": [],
   "source": [
    "import warnings\n",
    "warnings.simplefilter(action=\"ignore\", category=FutureWarning)"
   ]
  },
  {
   "cell_type": "code",
   "execution_count": 4,
   "id": "923e0c49",
   "metadata": {
    "papermill": {
     "duration": 0.081383,
     "end_time": "2022-06-05T20:43:55.585423",
     "exception": false,
     "start_time": "2022-06-05T20:43:55.504040",
     "status": "completed"
    },
    "tags": []
   },
   "outputs": [
    {
     "data": {
      "text/html": [
       "<div>\n",
       "<style scoped>\n",
       "    .dataframe tbody tr th:only-of-type {\n",
       "        vertical-align: middle;\n",
       "    }\n",
       "\n",
       "    .dataframe tbody tr th {\n",
       "        vertical-align: top;\n",
       "    }\n",
       "\n",
       "    .dataframe thead th {\n",
       "        text-align: right;\n",
       "    }\n",
       "</style>\n",
       "<table border=\"1\" class=\"dataframe\">\n",
       "  <thead>\n",
       "    <tr style=\"text-align: right;\">\n",
       "      <th></th>\n",
       "      <th>ID</th>\n",
       "      <th>Patient Age</th>\n",
       "      <th>Patient Sex</th>\n",
       "      <th>Left-Fundus</th>\n",
       "      <th>Right-Fundus</th>\n",
       "      <th>Left-Diagnostic Keywords</th>\n",
       "      <th>Right-Diagnostic Keywords</th>\n",
       "      <th>N</th>\n",
       "      <th>D</th>\n",
       "      <th>G</th>\n",
       "      <th>C</th>\n",
       "      <th>A</th>\n",
       "      <th>H</th>\n",
       "      <th>M</th>\n",
       "      <th>O</th>\n",
       "      <th>filepath</th>\n",
       "      <th>labels</th>\n",
       "      <th>target</th>\n",
       "      <th>filename</th>\n",
       "    </tr>\n",
       "  </thead>\n",
       "  <tbody>\n",
       "    <tr>\n",
       "      <th>0</th>\n",
       "      <td>0</td>\n",
       "      <td>69</td>\n",
       "      <td>Female</td>\n",
       "      <td>0_left.jpg</td>\n",
       "      <td>0_right.jpg</td>\n",
       "      <td>cataract</td>\n",
       "      <td>normal fundus</td>\n",
       "      <td>0</td>\n",
       "      <td>0</td>\n",
       "      <td>0</td>\n",
       "      <td>1</td>\n",
       "      <td>0</td>\n",
       "      <td>0</td>\n",
       "      <td>0</td>\n",
       "      <td>0</td>\n",
       "      <td>../input/ocular-disease-recognition-odir5k/ODI...</td>\n",
       "      <td>['N']</td>\n",
       "      <td>[1, 0, 0, 0, 0, 0, 0, 0]</td>\n",
       "      <td>0_right.jpg</td>\n",
       "    </tr>\n",
       "    <tr>\n",
       "      <th>1</th>\n",
       "      <td>1</td>\n",
       "      <td>57</td>\n",
       "      <td>Male</td>\n",
       "      <td>1_left.jpg</td>\n",
       "      <td>1_right.jpg</td>\n",
       "      <td>normal fundus</td>\n",
       "      <td>normal fundus</td>\n",
       "      <td>1</td>\n",
       "      <td>0</td>\n",
       "      <td>0</td>\n",
       "      <td>0</td>\n",
       "      <td>0</td>\n",
       "      <td>0</td>\n",
       "      <td>0</td>\n",
       "      <td>0</td>\n",
       "      <td>../input/ocular-disease-recognition-odir5k/ODI...</td>\n",
       "      <td>['N']</td>\n",
       "      <td>[1, 0, 0, 0, 0, 0, 0, 0]</td>\n",
       "      <td>1_right.jpg</td>\n",
       "    </tr>\n",
       "    <tr>\n",
       "      <th>2</th>\n",
       "      <td>2</td>\n",
       "      <td>42</td>\n",
       "      <td>Male</td>\n",
       "      <td>2_left.jpg</td>\n",
       "      <td>2_right.jpg</td>\n",
       "      <td>laser spot，moderate non proliferative retinopathy</td>\n",
       "      <td>moderate non proliferative retinopathy</td>\n",
       "      <td>0</td>\n",
       "      <td>1</td>\n",
       "      <td>0</td>\n",
       "      <td>0</td>\n",
       "      <td>0</td>\n",
       "      <td>0</td>\n",
       "      <td>0</td>\n",
       "      <td>1</td>\n",
       "      <td>../input/ocular-disease-recognition-odir5k/ODI...</td>\n",
       "      <td>['D']</td>\n",
       "      <td>[0, 1, 0, 0, 0, 0, 0, 0]</td>\n",
       "      <td>2_right.jpg</td>\n",
       "    </tr>\n",
       "    <tr>\n",
       "      <th>3</th>\n",
       "      <td>4</td>\n",
       "      <td>53</td>\n",
       "      <td>Male</td>\n",
       "      <td>4_left.jpg</td>\n",
       "      <td>4_right.jpg</td>\n",
       "      <td>macular epiretinal membrane</td>\n",
       "      <td>mild nonproliferative retinopathy</td>\n",
       "      <td>0</td>\n",
       "      <td>1</td>\n",
       "      <td>0</td>\n",
       "      <td>0</td>\n",
       "      <td>0</td>\n",
       "      <td>0</td>\n",
       "      <td>0</td>\n",
       "      <td>1</td>\n",
       "      <td>../input/ocular-disease-recognition-odir5k/ODI...</td>\n",
       "      <td>['D']</td>\n",
       "      <td>[0, 1, 0, 0, 0, 0, 0, 0]</td>\n",
       "      <td>4_right.jpg</td>\n",
       "    </tr>\n",
       "    <tr>\n",
       "      <th>4</th>\n",
       "      <td>5</td>\n",
       "      <td>50</td>\n",
       "      <td>Female</td>\n",
       "      <td>5_left.jpg</td>\n",
       "      <td>5_right.jpg</td>\n",
       "      <td>moderate non proliferative retinopathy</td>\n",
       "      <td>moderate non proliferative retinopathy</td>\n",
       "      <td>0</td>\n",
       "      <td>1</td>\n",
       "      <td>0</td>\n",
       "      <td>0</td>\n",
       "      <td>0</td>\n",
       "      <td>0</td>\n",
       "      <td>0</td>\n",
       "      <td>0</td>\n",
       "      <td>../input/ocular-disease-recognition-odir5k/ODI...</td>\n",
       "      <td>['D']</td>\n",
       "      <td>[0, 1, 0, 0, 0, 0, 0, 0]</td>\n",
       "      <td>5_right.jpg</td>\n",
       "    </tr>\n",
       "    <tr>\n",
       "      <th>...</th>\n",
       "      <td>...</td>\n",
       "      <td>...</td>\n",
       "      <td>...</td>\n",
       "      <td>...</td>\n",
       "      <td>...</td>\n",
       "      <td>...</td>\n",
       "      <td>...</td>\n",
       "      <td>...</td>\n",
       "      <td>...</td>\n",
       "      <td>...</td>\n",
       "      <td>...</td>\n",
       "      <td>...</td>\n",
       "      <td>...</td>\n",
       "      <td>...</td>\n",
       "      <td>...</td>\n",
       "      <td>...</td>\n",
       "      <td>...</td>\n",
       "      <td>...</td>\n",
       "      <td>...</td>\n",
       "    </tr>\n",
       "    <tr>\n",
       "      <th>495</th>\n",
       "      <td>565</td>\n",
       "      <td>59</td>\n",
       "      <td>Female</td>\n",
       "      <td>565_left.jpg</td>\n",
       "      <td>565_right.jpg</td>\n",
       "      <td>dry age-related macular degeneration</td>\n",
       "      <td>dry age-related macular degeneration</td>\n",
       "      <td>0</td>\n",
       "      <td>0</td>\n",
       "      <td>0</td>\n",
       "      <td>0</td>\n",
       "      <td>1</td>\n",
       "      <td>0</td>\n",
       "      <td>0</td>\n",
       "      <td>0</td>\n",
       "      <td>../input/ocular-disease-recognition-odir5k/ODI...</td>\n",
       "      <td>['A']</td>\n",
       "      <td>[0, 0, 0, 0, 1, 0, 0, 0]</td>\n",
       "      <td>565_right.jpg</td>\n",
       "    </tr>\n",
       "    <tr>\n",
       "      <th>496</th>\n",
       "      <td>566</td>\n",
       "      <td>60</td>\n",
       "      <td>Male</td>\n",
       "      <td>566_left.jpg</td>\n",
       "      <td>566_right.jpg</td>\n",
       "      <td>drusen</td>\n",
       "      <td>moderate non proliferative retinopathy，drusen</td>\n",
       "      <td>0</td>\n",
       "      <td>1</td>\n",
       "      <td>0</td>\n",
       "      <td>0</td>\n",
       "      <td>0</td>\n",
       "      <td>0</td>\n",
       "      <td>0</td>\n",
       "      <td>1</td>\n",
       "      <td>../input/ocular-disease-recognition-odir5k/ODI...</td>\n",
       "      <td>['D']</td>\n",
       "      <td>[0, 1, 0, 0, 0, 0, 0, 0]</td>\n",
       "      <td>566_right.jpg</td>\n",
       "    </tr>\n",
       "    <tr>\n",
       "      <th>497</th>\n",
       "      <td>567</td>\n",
       "      <td>60</td>\n",
       "      <td>Male</td>\n",
       "      <td>567_left.jpg</td>\n",
       "      <td>567_right.jpg</td>\n",
       "      <td>mild nonproliferative retinopathy</td>\n",
       "      <td>pathological myopia</td>\n",
       "      <td>0</td>\n",
       "      <td>1</td>\n",
       "      <td>0</td>\n",
       "      <td>0</td>\n",
       "      <td>0</td>\n",
       "      <td>0</td>\n",
       "      <td>1</td>\n",
       "      <td>0</td>\n",
       "      <td>../input/ocular-disease-recognition-odir5k/ODI...</td>\n",
       "      <td>['M']</td>\n",
       "      <td>[0, 0, 0, 0, 0, 0, 1, 0]</td>\n",
       "      <td>567_right.jpg</td>\n",
       "    </tr>\n",
       "    <tr>\n",
       "      <th>498</th>\n",
       "      <td>569</td>\n",
       "      <td>64</td>\n",
       "      <td>Male</td>\n",
       "      <td>569_left.jpg</td>\n",
       "      <td>569_right.jpg</td>\n",
       "      <td>severe proliferative diabetic retinopathy</td>\n",
       "      <td>moderate non proliferative retinopathy</td>\n",
       "      <td>0</td>\n",
       "      <td>1</td>\n",
       "      <td>0</td>\n",
       "      <td>0</td>\n",
       "      <td>0</td>\n",
       "      <td>0</td>\n",
       "      <td>0</td>\n",
       "      <td>0</td>\n",
       "      <td>../input/ocular-disease-recognition-odir5k/ODI...</td>\n",
       "      <td>['D']</td>\n",
       "      <td>[0, 1, 0, 0, 0, 0, 0, 0]</td>\n",
       "      <td>569_right.jpg</td>\n",
       "    </tr>\n",
       "    <tr>\n",
       "      <th>499</th>\n",
       "      <td>570</td>\n",
       "      <td>65</td>\n",
       "      <td>Female</td>\n",
       "      <td>570_left.jpg</td>\n",
       "      <td>570_right.jpg</td>\n",
       "      <td>normal fundus</td>\n",
       "      <td>macular epiretinal membrane</td>\n",
       "      <td>0</td>\n",
       "      <td>0</td>\n",
       "      <td>0</td>\n",
       "      <td>0</td>\n",
       "      <td>0</td>\n",
       "      <td>0</td>\n",
       "      <td>0</td>\n",
       "      <td>1</td>\n",
       "      <td>../input/ocular-disease-recognition-odir5k/ODI...</td>\n",
       "      <td>['O']</td>\n",
       "      <td>[0, 0, 0, 0, 0, 0, 0, 1]</td>\n",
       "      <td>570_right.jpg</td>\n",
       "    </tr>\n",
       "  </tbody>\n",
       "</table>\n",
       "<p>500 rows × 19 columns</p>\n",
       "</div>"
      ],
      "text/plain": [
       "      ID  Patient Age Patient Sex   Left-Fundus   Right-Fundus  \\\n",
       "0      0           69      Female    0_left.jpg    0_right.jpg   \n",
       "1      1           57        Male    1_left.jpg    1_right.jpg   \n",
       "2      2           42        Male    2_left.jpg    2_right.jpg   \n",
       "3      4           53        Male    4_left.jpg    4_right.jpg   \n",
       "4      5           50      Female    5_left.jpg    5_right.jpg   \n",
       "..   ...          ...         ...           ...            ...   \n",
       "495  565           59      Female  565_left.jpg  565_right.jpg   \n",
       "496  566           60        Male  566_left.jpg  566_right.jpg   \n",
       "497  567           60        Male  567_left.jpg  567_right.jpg   \n",
       "498  569           64        Male  569_left.jpg  569_right.jpg   \n",
       "499  570           65      Female  570_left.jpg  570_right.jpg   \n",
       "\n",
       "                              Left-Diagnostic Keywords  \\\n",
       "0                                             cataract   \n",
       "1                                        normal fundus   \n",
       "2    laser spot，moderate non proliferative retinopathy   \n",
       "3                          macular epiretinal membrane   \n",
       "4               moderate non proliferative retinopathy   \n",
       "..                                                 ...   \n",
       "495               dry age-related macular degeneration   \n",
       "496                                             drusen   \n",
       "497                  mild nonproliferative retinopathy   \n",
       "498          severe proliferative diabetic retinopathy   \n",
       "499                                      normal fundus   \n",
       "\n",
       "                         Right-Diagnostic Keywords  N  D  G  C  A  H  M  O  \\\n",
       "0                                    normal fundus  0  0  0  1  0  0  0  0   \n",
       "1                                    normal fundus  1  0  0  0  0  0  0  0   \n",
       "2           moderate non proliferative retinopathy  0  1  0  0  0  0  0  1   \n",
       "3                mild nonproliferative retinopathy  0  1  0  0  0  0  0  1   \n",
       "4           moderate non proliferative retinopathy  0  1  0  0  0  0  0  0   \n",
       "..                                             ... .. .. .. .. .. .. .. ..   \n",
       "495           dry age-related macular degeneration  0  0  0  0  1  0  0  0   \n",
       "496  moderate non proliferative retinopathy，drusen  0  1  0  0  0  0  0  1   \n",
       "497                            pathological myopia  0  1  0  0  0  0  1  0   \n",
       "498         moderate non proliferative retinopathy  0  1  0  0  0  0  0  0   \n",
       "499                    macular epiretinal membrane  0  0  0  0  0  0  0  1   \n",
       "\n",
       "                                              filepath labels  \\\n",
       "0    ../input/ocular-disease-recognition-odir5k/ODI...  ['N']   \n",
       "1    ../input/ocular-disease-recognition-odir5k/ODI...  ['N']   \n",
       "2    ../input/ocular-disease-recognition-odir5k/ODI...  ['D']   \n",
       "3    ../input/ocular-disease-recognition-odir5k/ODI...  ['D']   \n",
       "4    ../input/ocular-disease-recognition-odir5k/ODI...  ['D']   \n",
       "..                                                 ...    ...   \n",
       "495  ../input/ocular-disease-recognition-odir5k/ODI...  ['A']   \n",
       "496  ../input/ocular-disease-recognition-odir5k/ODI...  ['D']   \n",
       "497  ../input/ocular-disease-recognition-odir5k/ODI...  ['M']   \n",
       "498  ../input/ocular-disease-recognition-odir5k/ODI...  ['D']   \n",
       "499  ../input/ocular-disease-recognition-odir5k/ODI...  ['O']   \n",
       "\n",
       "                       target       filename  \n",
       "0    [1, 0, 0, 0, 0, 0, 0, 0]    0_right.jpg  \n",
       "1    [1, 0, 0, 0, 0, 0, 0, 0]    1_right.jpg  \n",
       "2    [0, 1, 0, 0, 0, 0, 0, 0]    2_right.jpg  \n",
       "3    [0, 1, 0, 0, 0, 0, 0, 0]    4_right.jpg  \n",
       "4    [0, 1, 0, 0, 0, 0, 0, 0]    5_right.jpg  \n",
       "..                        ...            ...  \n",
       "495  [0, 0, 0, 0, 1, 0, 0, 0]  565_right.jpg  \n",
       "496  [0, 1, 0, 0, 0, 0, 0, 0]  566_right.jpg  \n",
       "497  [0, 0, 0, 0, 0, 0, 1, 0]  567_right.jpg  \n",
       "498  [0, 1, 0, 0, 0, 0, 0, 0]  569_right.jpg  \n",
       "499  [0, 0, 0, 0, 0, 0, 0, 1]  570_right.jpg  \n",
       "\n",
       "[500 rows x 19 columns]"
      ]
     },
     "execution_count": 4,
     "metadata": {},
     "output_type": "execute_result"
    }
   ],
   "source": [
    "train = pd.read_csv('./LabelledDataSet/full_df.csv')\n",
    "train.head(500)\n"
   ]
  },
  {
   "cell_type": "code",
   "execution_count": null,
   "id": "45bdb65e",
   "metadata": {},
   "outputs": [],
   "source": []
  },
  {
   "cell_type": "markdown",
   "id": "fc4f1166",
   "metadata": {
    "papermill": {
     "duration": 0.021565,
     "end_time": "2022-06-05T20:43:55.626209",
     "exception": false,
     "start_time": "2022-06-05T20:43:55.604644",
     "status": "completed"
    },
    "tags": []
   },
   "source": [
    "# Visualizing the data"
   ]
  },
  {
   "cell_type": "code",
   "execution_count": null,
   "id": "c4f34775",
   "metadata": {
    "papermill": {
     "duration": 0.027582,
     "end_time": "2022-06-05T20:43:55.672867",
     "exception": false,
     "start_time": "2022-06-05T20:43:55.645285",
     "status": "completed"
    },
    "tags": []
   },
   "outputs": [],
   "source": [
    "def check_disease(df,start,end):\n",
    "    df = df.iloc[:, start:end]\n",
    "    disease_name, zeroCount, oneCount = [], [], []\n",
    "    rowLen = len(df)\n",
    "    for (column_name, column) in df.iteritems():\n",
    "        disease_name.append(column_name)    \n",
    "        zeroCount.append(df[column_name].value_counts()[0])\n",
    "    oneCount = [rowLen - x for x in zeroCount]\n",
    "    \n",
    "    return disease_name, zeroCount, oneCount"
   ]
  },
  {
   "cell_type": "code",
   "execution_count": null,
   "id": "4e09a9f6",
   "metadata": {
    "papermill": {
     "duration": 0.027582,
     "end_time": "2022-06-05T20:43:55.672867",
     "exception": false,
     "start_time": "2022-06-05T20:43:55.645285",
     "status": "completed"
    },
    "tags": []
   },
   "outputs": [],
   "source": [
    "def check_disease(df,start,end):\n",
    "    df = df.iloc[:, start:end]\n",
    "    disease_name, zeroCount, oneCount = [], [], []\n",
    "    rowLen = len(df)\n",
    "    for (column_name, column) in df.iteritems():\n",
    "        disease_name.append(column_name)    \n",
    "        zeroCount.append(df[column_name].value_counts()[0])\n",
    "    oneCount = [rowLen - x for x in zeroCount]\n",
    "    \n",
    "    return disease_name, zeroCount, oneCount"
   ]
  },
  {
   "cell_type": "code",
   "execution_count": null,
   "id": "2d8b7018",
   "metadata": {
    "papermill": {
     "duration": 0.304339,
     "end_time": "2022-06-05T20:43:55.995568",
     "exception": false,
     "start_time": "2022-06-05T20:43:55.691229",
     "status": "completed"
    },
    "tags": []
   },
   "outputs": [],
   "source": [
    "disease_name, zeroCount, oneCount = check_disease(train,7,15)\n",
    "\n",
    "fig = plt.figure(figsize=(15, 8))\n",
    "plt.bar(disease_name, oneCount, width=0.6, color=['skyblue', 'gray'])\n",
    "plt.xlabel('Disease Name')\n",
    "plt.savefig('Overall Disease.png')"
   ]
  },
  {
   "cell_type": "code",
   "execution_count": null,
   "id": "15244880",
   "metadata": {
    "papermill": {
     "duration": 0.03134,
     "end_time": "2022-06-05T20:43:56.045431",
     "exception": false,
     "start_time": "2022-06-05T20:43:56.014091",
     "status": "completed"
    },
    "tags": []
   },
   "outputs": [],
   "source": [
    "# Drops the Column 'N', \n",
    "train=train.drop(columns=['N', 'D', 'H', 'O' ],axis=1)\n",
    "\n",
    "#Drops the Rows\n",
    "train=train[((train['G'] == 1) | (train['C'] == 1) | (train['A']== 1) | (train['M'] == 1))]\n",
    "\n",
    "# Classes\n",
    "classes=['G', 'C', 'A', 'M']\n",
    "\n",
    "# Reset an Index of pandas dataFrame\n",
    "train = train.reset_index(drop=True)"
   ]
  },
  {
   "cell_type": "code",
   "execution_count": null,
   "id": "88b3aa51",
   "metadata": {
    "papermill": {
     "duration": 0.232116,
     "end_time": "2022-06-05T20:43:56.295442",
     "exception": false,
     "start_time": "2022-06-05T20:43:56.063326",
     "status": "completed"
    },
    "tags": []
   },
   "outputs": [],
   "source": [
    "disease_name, zeroCount, oneCount = check_disease(train,7,11)\n",
    "\n",
    "fig = plt.figure(figsize=(10, 8))\n",
    "plt.bar(disease_name, oneCount, width=0.6, color=['skyblue', 'gray'])\n",
    "plt.xlabel('Disease Name')\n",
    "plt.savefig('Final Disease.png')"
   ]
  },
  {
   "cell_type": "code",
   "execution_count": null,
   "id": "7eeb77fd",
   "metadata": {
    "papermill": {
     "duration": 0.028589,
     "end_time": "2022-06-05T20:43:56.342562",
     "exception": false,
     "start_time": "2022-06-05T20:43:56.313973",
     "status": "completed"
    },
    "tags": []
   },
   "outputs": [],
   "source": [
    "def plot_count(feature, title, df, size=1, show_all=False):\n",
    "    f, ax = plt.subplots(1,1, figsize=(4*size,4))\n",
    "    total = float(len(df))\n",
    "    if show_all:\n",
    "        g = sns.countplot(df[feature], palette='Set3')\n",
    "        g.set_title(\"{} distribution\".format(title))\n",
    "    else:\n",
    "        g = sns.countplot(df[feature], order = df[feature].value_counts().index[:20], palette='Set3')\n",
    "        if(size > 2):\n",
    "            plt.xticks(rotation=90, size=8)\n",
    "            for p in ax.patches:\n",
    "                height = p.get_height()\n",
    "                ax.text(p.get_x()+p.get_width()/2.,\n",
    "                        height + 0.2,\n",
    "                        '{:1.2f}%'.format(100*height/total),\n",
    "                        ha=\"center\") \n",
    "        g.set_title(\"Number and percentage of {}\".format(title))\n",
    "    plt.show() "
   ]
  },
  {
   "cell_type": "code",
   "execution_count": null,
   "id": "0c37649b",
   "metadata": {
    "papermill": {
     "duration": 0.633389,
     "end_time": "2022-06-05T20:43:56.993906",
     "exception": false,
     "start_time": "2022-06-05T20:43:56.360517",
     "status": "completed"
    },
    "tags": []
   },
   "outputs": [],
   "source": [
    "plot_count(\"Patient Age\", \"Age\", train, size=5, show_all=True)"
   ]
  },
  {
   "cell_type": "code",
   "execution_count": null,
   "id": "887ad081",
   "metadata": {
    "papermill": {
     "duration": 0.1684,
     "end_time": "2022-06-05T20:43:57.183551",
     "exception": false,
     "start_time": "2022-06-05T20:43:57.015151",
     "status": "completed"
    },
    "tags": []
   },
   "outputs": [],
   "source": [
    "plot_count(\"Patient Sex\", \"Sex\", train, size=2)"
   ]
  },
  {
   "cell_type": "code",
   "execution_count": null,
   "id": "ceba8a24",
   "metadata": {
    "papermill": {
     "duration": 0.146785,
     "end_time": "2022-06-05T20:43:57.354034",
     "exception": false,
     "start_time": "2022-06-05T20:43:57.207249",
     "status": "completed"
    },
    "tags": []
   },
   "outputs": [],
   "source": [
    "plot_count(\"G\", \"Glaucoma\", train, size=2)"
   ]
  },
  {
   "cell_type": "code",
   "execution_count": null,
   "id": "29992a24",
   "metadata": {
    "papermill": {
     "duration": 0.150082,
     "end_time": "2022-06-05T20:43:57.536270",
     "exception": false,
     "start_time": "2022-06-05T20:43:57.386188",
     "status": "completed"
    },
    "tags": []
   },
   "outputs": [],
   "source": [
    "plot_count(\"C\", \"Cataract\", train, size=2)"
   ]
  },
  {
   "cell_type": "code",
   "execution_count": null,
   "id": "f3dcd0aa",
   "metadata": {
    "papermill": {
     "duration": 0.15941,
     "end_time": "2022-06-05T20:43:57.726615",
     "exception": false,
     "start_time": "2022-06-05T20:43:57.567205",
     "status": "completed"
    },
    "tags": []
   },
   "outputs": [],
   "source": [
    "plot_count(\"A\", \"Age Related Macular Degeneration\", train, size=2)"
   ]
  },
  {
   "cell_type": "code",
   "execution_count": null,
   "id": "6d319848",
   "metadata": {
    "papermill": {
     "duration": 0.179713,
     "end_time": "2022-06-05T20:43:57.935822",
     "exception": false,
     "start_time": "2022-06-05T20:43:57.756109",
     "status": "completed"
    },
    "tags": []
   },
   "outputs": [],
   "source": [
    "plot_count(\"M\", \"Pathological Myopia\", train, size=2)"
   ]
  },
  {
   "cell_type": "code",
   "execution_count": null,
   "id": "01c84f11",
   "metadata": {
    "papermill": {
     "duration": 0.028546,
     "end_time": "2022-06-05T20:43:57.984775",
     "exception": false,
     "start_time": "2022-06-05T20:43:57.956229",
     "status": "completed"
    },
    "tags": []
   },
   "outputs": [],
   "source": [
    "def plot_feature_distribution_grouped(feature, title, df, hue, size=4):\n",
    "    plt.figure(figsize=(size*5,size*2))\n",
    "    plt.title(title)\n",
    "    if(size > 2):\n",
    "        plt.xticks(rotation=90, size=8)\n",
    "    g = sns.countplot(df[feature], hue=df[hue], palette='Set3')\n",
    "    plt.xlabel(feature)\n",
    "    plt.legend()\n",
    "    plt.show()"
   ]
  },
  {
   "cell_type": "code",
   "execution_count": null,
   "id": "89543efe",
   "metadata": {
    "papermill": {
     "duration": 0.194913,
     "end_time": "2022-06-05T20:43:58.200164",
     "exception": false,
     "start_time": "2022-06-05T20:43:58.005251",
     "status": "completed"
    },
    "tags": []
   },
   "outputs": [],
   "source": [
    "plot_feature_distribution_grouped('Patient Sex', 'Glaucoma diagnosys grouped by sex', train, 'G', size=2)"
   ]
  },
  {
   "cell_type": "code",
   "execution_count": null,
   "id": "5d18f50b",
   "metadata": {
    "papermill": {
     "duration": 0.212759,
     "end_time": "2022-06-05T20:43:58.433409",
     "exception": false,
     "start_time": "2022-06-05T20:43:58.220650",
     "status": "completed"
    },
    "tags": []
   },
   "outputs": [],
   "source": [
    "plot_feature_distribution_grouped('Patient Sex', 'Cataract diagnosys grouped by sex', train, 'C', size=2)"
   ]
  },
  {
   "cell_type": "code",
   "execution_count": null,
   "id": "2926eaf6",
   "metadata": {
    "papermill": {
     "duration": 0.279542,
     "end_time": "2022-06-05T20:43:58.750037",
     "exception": false,
     "start_time": "2022-06-05T20:43:58.470495",
     "status": "completed"
    },
    "tags": []
   },
   "outputs": [],
   "source": [
    "plot_feature_distribution_grouped('Patient Sex', 'AMD diagnosys grouped by sex', train, 'A', size=2)"
   ]
  },
  {
   "cell_type": "code",
   "execution_count": null,
   "id": "61b6d1f3",
   "metadata": {
    "papermill": {
     "duration": 0.27037,
     "end_time": "2022-06-05T20:43:59.070506",
     "exception": false,
     "start_time": "2022-06-05T20:43:58.800136",
     "status": "completed"
    },
    "tags": []
   },
   "outputs": [],
   "source": [
    "plot_feature_distribution_grouped('Patient Sex', 'Pathological Myopia diagnosys grouped by sex', train, 'M', size=2)"
   ]
  },
  {
   "cell_type": "markdown",
   "id": "1bff9f2e",
   "metadata": {
    "papermill": {
     "duration": 0.034037,
     "end_time": "2022-06-05T20:43:59.138772",
     "exception": false,
     "start_time": "2022-06-05T20:43:59.104735",
     "status": "completed"
    },
    "tags": []
   },
   "source": [
    "# Pre processing the data"
   ]
  },
  {
   "cell_type": "code",
   "execution_count": null,
   "id": "74ef9b5a",
   "metadata": {
    "papermill": {
     "duration": 0.122273,
     "end_time": "2022-06-05T20:43:59.294758",
     "exception": false,
     "start_time": "2022-06-05T20:43:59.172485",
     "status": "completed"
    },
    "tags": []
   },
   "outputs": [],
   "source": [
    "# Create List for each Disease\n",
    "g_disease=[]\n",
    "for i in range(len(train)):\n",
    "    if(train['G'][i]==1):\n",
    "        g_disease.append(train['filename'][i])\n",
    "        \n",
    "c_disease=[]\n",
    "for i in range(len(train)):\n",
    "    if(train['C'][i]==1):\n",
    "        c_disease.append(train['filename'][i])\n",
    "\n",
    "a_disease=[]\n",
    "for i in range(len(train)):\n",
    "    if(train['A'][i]==1):\n",
    "        a_disease.append(train['filename'][i])\n",
    "        \n",
    "m_disease=[]\n",
    "for i in range(len(train)):\n",
    "    if(train['M'][i]==1):\n",
    "        m_disease.append(train['filename'][i])"
   ]
  },
  {
   "cell_type": "code",
   "execution_count": null,
   "id": "386e6262",
   "metadata": {
    "papermill": {
     "duration": 10.499178,
     "end_time": "2022-06-05T20:44:09.827478",
     "exception": false,
     "start_time": "2022-06-05T20:43:59.328300",
     "status": "completed"
    },
    "tags": []
   },
   "outputs": [],
   "source": [
    "# Copy images to new path\n",
    "if os.path.isdir('./data') is False:\n",
    "    os.mkdir('./data')\n",
    "\n",
    "# (Glaucoma, Cataract, Age related Macular Degeneration, Hypertension)\n",
    "\n",
    "g_disease_save_dir='./data/glaucoma/'\n",
    "os.mkdir('./data/glaucoma/')\n",
    "for filename in tqdm(g_disease):\n",
    "  shutil.copy('./LabelledDataSet/preprocessed_images/'+filename,g_disease_save_dir)\n",
    "\n",
    "c_disease_save_dir='./data/cataract/'\n",
    "os.mkdir('./data/cataract/')\n",
    "for filename in tqdm(c_disease):\n",
    "  shutil.copy('./LabelledDataSet/preprocessed_images/'+filename,c_disease_save_dir)\n",
    "\n",
    "a_disease_save_dir='./data/age_related_macular_degeneration/'\n",
    "os.mkdir('./data/age_related_macular_degeneration/')\n",
    "for filename in tqdm(a_disease):\n",
    "  shutil.copy('./LabelledDataSet/preprocessed_images/'+filename,a_disease_save_dir)\n",
    "\n",
    "m_disease_save_dir='./data/pathological_myopia/'\n",
    "os.mkdir('./data/pathological_myopia/')\n",
    "for filename in tqdm(m_disease):\n",
    "  shutil.copy('./LabelledDataSet/preprocessed_images/'+filename,m_disease_save_dir)"
   ]
  },
  {
   "cell_type": "code",
   "execution_count": null,
   "id": "474cd0e0",
   "metadata": {
    "papermill": {
     "duration": 0.04212,
     "end_time": "2022-06-05T20:44:09.897167",
     "exception": false,
     "start_time": "2022-06-05T20:44:09.855047",
     "status": "completed"
    },
    "tags": []
   },
   "outputs": [],
   "source": [
    "base_dir = './dataset/'\n",
    "if os.path.isdir(base_dir) is False:\n",
    "    os.mkdir(base_dir)\n",
    "\n",
    "#create two folders (train and validation)\n",
    "train_dir = os.path.join(base_dir, 'Training')\n",
    "os.mkdir(train_dir)\n",
    "\n",
    "testing_dir = os.path.join(base_dir, 'Testing')\n",
    "os.mkdir(testing_dir)\n",
    "\n",
    "validation_dir = os.path.join(base_dir, 'Validation')\n",
    "os.mkdir(validation_dir)\n",
    "\n",
    "# Under train folder create four folders \n",
    "# (Glaucoma, Cataract, Age related Macular Degeneration, Pathological Myopia)\n",
    "\n",
    "train_glaucoma_dir = os.path.join(train_dir, 'glaucoma')\n",
    "os.mkdir(train_glaucoma_dir)\n",
    "\n",
    "train_cataract_dir = os.path.join(train_dir, 'cataract')\n",
    "os.mkdir(train_cataract_dir)\n",
    "\n",
    "train_age_macular_dir = os.path.join(train_dir, 'age_related_macular_degeneration')\n",
    "os.mkdir(train_age_macular_dir)\n",
    "\n",
    "train_pathological_myopia_dir = os.path.join(train_dir, 'pathological_myopia')\n",
    "os.mkdir(train_pathological_myopia_dir)\n",
    "\n",
    "\n",
    "# Under testing folder create four folders \n",
    "\n",
    "testing_glaucoma_dir = os.path.join(testing_dir, 'glaucoma')\n",
    "os.mkdir(testing_glaucoma_dir)\n",
    "\n",
    "testing_cataract_dir = os.path.join(testing_dir, 'cataract')\n",
    "os.mkdir(testing_cataract_dir)\n",
    "\n",
    "testing_age_macular_dir = os.path.join(testing_dir, 'age_related_macular_degeneration')\n",
    "os.mkdir(testing_age_macular_dir)\n",
    "\n",
    "testing_pathological_myopia_dir = os.path.join(testing_dir, 'pathological_myopia')\n",
    "os.mkdir(testing_pathological_myopia_dir)\n",
    "\n",
    "\n",
    "# Under validation folder create four folders \n",
    "# (Glaucoma, Cataract, Age related Macular Degeneration, Pathological Myopia)\n",
    "\n",
    "validation_glaucoma_dir = os.path.join(validation_dir, 'glaucoma')\n",
    "os.mkdir(validation_glaucoma_dir)\n",
    "\n",
    "validation_cataract_dir = os.path.join(validation_dir, 'cataract')\n",
    "os.mkdir(validation_cataract_dir)\n",
    "\n",
    "validation_age_macular_dir = os.path.join(validation_dir, 'age_related_macular_degeneration')\n",
    "os.mkdir(validation_age_macular_dir)\n",
    "\n",
    "validation_pathological_myopia_dir = os.path.join(validation_dir, 'pathological_myopia')\n",
    "os.mkdir(validation_pathological_myopia_dir)"
   ]
  },
  {
   "cell_type": "code",
   "execution_count": null,
   "id": "bc813f8a",
   "metadata": {
    "papermill": {
     "duration": 0.035876,
     "end_time": "2022-06-05T20:44:09.960038",
     "exception": false,
     "start_time": "2022-06-05T20:44:09.924162",
     "status": "completed"
    },
    "tags": []
   },
   "outputs": [],
   "source": [
    "glaucoma_source_dir = './data/glaucoma/'\n",
    "training_glaucoma_dir = './dataset/Training/glaucoma/'\n",
    "testing_glaucoma_dir = './dataset/Testing/glaucoma/'\n",
    "valid_glaucoma_dir = './dataset/Validation/glaucoma/'\n",
    "\n",
    "cataract_source_dir = './data/cataract/'\n",
    "training_cataract_dir = './dataset/Training/cataract/'\n",
    "testing_cataract_dir = './dataset/Testing/cataract/'\n",
    "valid_cataract_dir = './dataset/Validation/cataract/'\n",
    "\n",
    "age_related_macular_degeneration_source_dir = './data/age_related_macular_degeneration/'\n",
    "training_age_related_macular_degeneration_dir = './dataset/Training/age_related_macular_degeneration/'\n",
    "testing_age_related_macular_degeneration_dir = './dataset/Testing/age_related_macular_degeneration/'\n",
    "valid_age_related_macular_degeneration_dir = './dataset/Validation/age_related_macular_degeneration/'\n",
    "\n",
    "pathological_myopia_source_dir = './data/pathological_myopia/'\n",
    "training_pathological_myopia_dir = './dataset/Training/pathological_myopia/'\n",
    "testing_pathological_myopia_dir = './dataset/Testing/pathological_myopia/'\n",
    "valid_pathological_myopia_dir = './dataset/Validation/pathological_myopia/'\n"
   ]
  },
  {
   "cell_type": "code",
   "execution_count": null,
   "id": "5a8228eb",
   "metadata": {
    "papermill": {
     "duration": 0.039274,
     "end_time": "2022-06-05T20:44:10.026411",
     "exception": false,
     "start_time": "2022-06-05T20:44:09.987137",
     "status": "completed"
    },
    "tags": []
   },
   "outputs": [],
   "source": [
    "def split_data(SOURCE, TRAINING, VALIDATION, TESTING, SPLIT_SIZE):\n",
    "    files = []\n",
    "    for filename in os.listdir(SOURCE):\n",
    "        file = SOURCE + filename\n",
    "        if os.path.getsize(file) > 0:\n",
    "            files.append(filename)\n",
    "        else:\n",
    "            print(filename + \" is zero length, so ignoring.\")\n",
    "    \n",
    "    SIZE = (1 - SPLIT_SIZE) / 2\n",
    "    training_length = int(len(files) * SPLIT_SIZE)\n",
    "    testing_length = int(len(files) * SIZE)\n",
    "    valid_length = int(len(files) * SIZE)\n",
    "    shuffled_set = random.sample(files, len(files))\n",
    "    training_set = shuffled_set[0:training_length]\n",
    "    testing_set = shuffled_set[training_length:training_length+testing_length]\n",
    "    valid_set = shuffled_set[training_length+testing_length:]\n",
    "\n",
    "    for filename in training_set:\n",
    "        this_file = SOURCE + filename\n",
    "        destination = TRAINING + filename\n",
    "        shutil.copy(this_file, destination)\n",
    "\n",
    "    for filename in valid_set:\n",
    "        this_file = SOURCE + filename\n",
    "        destination = VALIDATION + filename\n",
    "        shutil.copy(this_file, destination)\n",
    "        \n",
    "    for filename in testing_set:\n",
    "        this_file = SOURCE + filename\n",
    "        destination = TESTING + filename\n",
    "        shutil.copy(this_file, destination)"
   ]
  },
  {
   "cell_type": "code",
   "execution_count": null,
   "id": "2a4ab6b7",
   "metadata": {
    "papermill": {
     "duration": 0.234373,
     "end_time": "2022-06-05T20:44:10.287759",
     "exception": false,
     "start_time": "2022-06-05T20:44:10.053386",
     "status": "completed"
    },
    "tags": []
   },
   "outputs": [],
   "source": [
    "split_size = 0.80\n",
    "\n",
    "split_data(glaucoma_source_dir, training_glaucoma_dir, testing_glaucoma_dir, valid_glaucoma_dir, split_size)\n",
    "split_data(cataract_source_dir, training_cataract_dir, testing_cataract_dir, valid_cataract_dir, split_size)\n",
    "split_data(age_related_macular_degeneration_source_dir, training_age_related_macular_degeneration_dir, testing_age_related_macular_degeneration_dir, valid_age_related_macular_degeneration_dir, split_size)\n",
    "split_data(pathological_myopia_source_dir, training_pathological_myopia_dir, testing_pathological_myopia_dir, valid_pathological_myopia_dir, split_size)"
   ]
  },
  {
   "cell_type": "code",
   "execution_count": null,
   "id": "d92be4a9",
   "metadata": {
    "papermill": {
     "duration": 0.0363,
     "end_time": "2022-06-05T20:44:10.351202",
     "exception": false,
     "start_time": "2022-06-05T20:44:10.314902",
     "status": "completed"
    },
    "tags": []
   },
   "outputs": [],
   "source": [
    "def img_p(img_height,img_width):\n",
    "    train_datagen = ImageDataGenerator(rescale = 1./255.,\n",
    "                                        rotation_range = 30,\n",
    "                                        width_shift_range = 0.1,\n",
    "                                        height_shift_range = 0.1,\n",
    "                                        zoom_range = 0.1,\n",
    "                                        horizontal_flip = True\n",
    "                                       )\n",
    "    train_generator = train_datagen.flow_from_directory('./dataset/Training/', \n",
    "                                                        target_size=(img_height,img_width), \n",
    "                                                        class_mode='categorical')\n",
    "    validation_datagen = ImageDataGenerator(rescale=1/255)\n",
    "    validation_generator = validation_datagen.flow_from_directory('./dataset/Validation/', \n",
    "                                                              target_size=(img_height,img_width),\n",
    "                                                              class_mode='categorical')\n",
    "    test_datagen = ImageDataGenerator(rescale=1/255)\n",
    "    test_generator = test_datagen.flow_from_directory('./dataset/Testing/', \n",
    "                                                              target_size=(img_height,img_width),\n",
    "                                                              class_mode='categorical')\n",
    "    \n",
    "    return train_generator,validation_generator,test_generator"
   ]
  },
  {
   "cell_type": "markdown",
   "id": "a2092a4b",
   "metadata": {
    "papermill": {
     "duration": 0.025807,
     "end_time": "2022-06-05T20:44:10.403600",
     "exception": false,
     "start_time": "2022-06-05T20:44:10.377793",
     "status": "completed"
    },
    "tags": []
   },
   "source": [
    "# Model InceptionV3 "
   ]
  },
  {
   "cell_type": "code",
   "execution_count": null,
   "id": "c2427f2f",
   "metadata": {
    "papermill": {
     "duration": 0.340691,
     "end_time": "2022-06-05T20:44:10.770567",
     "exception": false,
     "start_time": "2022-06-05T20:44:10.429876",
     "status": "completed"
    },
    "tags": []
   },
   "outputs": [],
   "source": [
    "train_generator,validation_generator,test_generator = img_p(299,299)"
   ]
  },
  {
   "cell_type": "code",
   "execution_count": null,
   "id": "0b91d75f",
   "metadata": {
    "papermill": {
     "duration": 4.027875,
     "end_time": "2022-06-05T20:44:14.825017",
     "exception": false,
     "start_time": "2022-06-05T20:44:10.797142",
     "status": "completed"
    },
    "scrolled": true,
    "tags": []
   },
   "outputs": [],
   "source": [
    "base_model = InceptionV3(input_shape=(299, 299, 3), weights='imagenet', include_top=True)\n",
    "base_model.summary()"
   ]
  },
  {
   "cell_type": "code",
   "execution_count": null,
   "id": "4a371c39",
   "metadata": {
    "papermill": {
     "duration": 0.130489,
     "end_time": "2022-06-05T20:44:28.087213",
     "exception": false,
     "start_time": "2022-06-05T20:44:27.956724",
     "status": "completed"
    },
    "tags": []
   },
   "outputs": [],
   "source": [
    "x = base_model.layers[-2].output\n",
    "x = layers.Dense(1024, activation='relu')(x)\n",
    "x = layers.Dense (4, activation='softmax')(x)"
   ]
  },
  {
   "cell_type": "code",
   "execution_count": null,
   "id": "d1e51bf9",
   "metadata": {
    "papermill": {
     "duration": 0.10314,
     "end_time": "2022-06-05T20:44:28.267062",
     "exception": false,
     "start_time": "2022-06-05T20:44:28.163922",
     "status": "completed"
    },
    "tags": []
   },
   "outputs": [],
   "source": [
    "base_m = Model(inputs=base_model.input, outputs=x)"
   ]
  },
  {
   "cell_type": "code",
   "execution_count": null,
   "id": "023e86ff",
   "metadata": {
    "papermill": {
     "duration": 0.124134,
     "end_time": "2022-06-05T20:44:28.466312",
     "exception": false,
     "start_time": "2022-06-05T20:44:28.342178",
     "status": "completed"
    },
    "tags": []
   },
   "outputs": [],
   "source": [
    "base_m.compile(optimizer = RMSprop(learning_rate=0.0001), \n",
    "              loss = 'categorical_crossentropy', \n",
    "              metrics = ['accuracy', \n",
    "                        tf.keras.metrics.Recall(),\n",
    "                        tf.keras.metrics.Precision(),   \n",
    "                        tf.keras.metrics.AUC(),\n",
    "                        tfa.metrics.F1Score(num_classes=4, average=\"macro\")])"
   ]
  },
  {
   "cell_type": "code",
   "execution_count": null,
   "id": "db526e1a",
   "metadata": {
    "papermill": {
     "duration": 416.821591,
     "end_time": "2022-06-05T20:51:25.363004",
     "exception": false,
     "start_time": "2022-06-05T20:44:28.541413",
     "status": "completed"
    },
    "tags": []
   },
   "outputs": [],
   "source": [
    "clf=base_m.fit(train_generator,\n",
    "            validation_data = validation_generator,\n",
    "            steps_per_epoch=10,\n",
    "            epochs =10,\n",
    "            validation_steps=5,\n",
    "            verbose = 1)"
   ]
  },
  {
   "cell_type": "code",
   "execution_count": null,
   "id": "1b7a7716",
   "metadata": {
    "papermill": {
     "duration": 1.845047,
     "end_time": "2022-06-05T20:51:27.315940",
     "exception": false,
     "start_time": "2022-06-05T20:51:25.470893",
     "status": "completed"
    },
    "tags": []
   },
   "outputs": [],
   "source": [
    "base_m.evaluate(test_generator)"
   ]
  },
  {
   "cell_type": "code",
   "execution_count": null,
   "id": "a08622a9",
   "metadata": {
    "papermill": {
     "duration": 0.78638,
     "end_time": "2022-06-05T20:51:28.206294",
     "exception": false,
     "start_time": "2022-06-05T20:51:27.419914",
     "status": "completed"
    },
    "tags": []
   },
   "outputs": [],
   "source": [
    "acc = clf.history['accuracy']\n",
    "val_acc = clf.history['val_accuracy']\n",
    "loss = clf.history['loss']\n",
    "val_loss = clf.history['val_loss']\n",
    "\n",
    "epochs = range(1, len(loss) + 1)\n",
    "\n",
    "#accuracy plot\n",
    "plt.figure(figsize=(10,5))\n",
    "plt.plot(epochs, acc,  label='Training Accuracy') #color='lightblue',\n",
    "plt.plot(epochs, val_acc,  label='Validation Accuracy') #color='orange',\n",
    "plt.title('Training and Validation Accuracy')\n",
    "plt.ylabel('Accuracy')\n",
    "plt.xlabel('Epoch')\n",
    "plt.legend(loc=\"best\")\n",
    "plt.grid(visible=True, which='major', color='#666666', linestyle='-')\n",
    "plt.tight_layout()\n",
    "plt.savefig('inception_accuracy.png')\n",
    "\n",
    "#loss plot\n",
    "plt.figure(figsize=(10,5))\n",
    "plt.plot(epochs, loss, color='pink', label='Training Loss')\n",
    "plt.plot(epochs, val_loss, color='red', label='Validation Loss')\n",
    "plt.title('Training and Validation Loss')\n",
    "plt.xlabel('Epoch')\n",
    "plt.ylabel('Loss')\n",
    "plt.legend(loc=\"best\")\n",
    "plt.grid(visible=True, which='major', color='#666666', linestyle='-')\n",
    "plt.tight_layout()\n",
    "plt.rcParams['axes.facecolor'] = 'white'\n",
    "plt.savefig('inception_loss.png')\n"
   ]
  },
  {
   "cell_type": "code",
   "execution_count": null,
   "id": "f64acd95",
   "metadata": {
    "papermill": {
     "duration": 2.382375,
     "end_time": "2022-06-05T20:51:30.697522",
     "exception": false,
     "start_time": "2022-06-05T20:51:28.315147",
     "status": "completed"
    },
    "tags": []
   },
   "outputs": [],
   "source": [
    "base_m.predict(test_generator)"
   ]
  },
  {
   "cell_type": "code",
   "execution_count": null,
   "id": "8897339d",
   "metadata": {
    "papermill": {
     "duration": 0.132615,
     "end_time": "2022-06-05T20:51:30.942048",
     "exception": false,
     "start_time": "2022-06-05T20:51:30.809433",
     "status": "completed"
    },
    "tags": []
   },
   "outputs": [],
   "source": [
    "m = Model(inputs=base_model.input, outputs=base_model.layers[-2].output)"
   ]
  },
  {
   "cell_type": "code",
   "execution_count": null,
   "id": "586f7303",
   "metadata": {
    "papermill": {
     "duration": 26.872989,
     "end_time": "2022-06-05T20:51:57.918762",
     "exception": false,
     "start_time": "2022-06-05T20:51:31.045773",
     "status": "completed"
    },
    "tags": []
   },
   "outputs": [],
   "source": [
    "features = m.predict(train_generator)"
   ]
  },
  {
   "cell_type": "code",
   "execution_count": null,
   "id": "d760b027",
   "metadata": {
    "papermill": {
     "duration": 0.116039,
     "end_time": "2022-06-05T20:51:58.140111",
     "exception": false,
     "start_time": "2022-06-05T20:51:58.024072",
     "status": "completed"
    },
    "tags": []
   },
   "outputs": [],
   "source": [
    "features.shape"
   ]
  },
  {
   "cell_type": "code",
   "execution_count": null,
   "id": "58e33a36",
   "metadata": {
    "papermill": {
     "duration": 1.345057,
     "end_time": "2022-06-05T20:51:59.589523",
     "exception": false,
     "start_time": "2022-06-05T20:51:58.244466",
     "status": "completed"
    },
    "tags": []
   },
   "outputs": [],
   "source": [
    "t_features = m.predict(test_generator)"
   ]
  },
  {
   "cell_type": "code",
   "execution_count": null,
   "id": "4185428d",
   "metadata": {
    "papermill": {
     "duration": 0.124067,
     "end_time": "2022-06-05T20:51:59.830072",
     "exception": false,
     "start_time": "2022-06-05T20:51:59.706005",
     "status": "completed"
    },
    "tags": []
   },
   "outputs": [],
   "source": [
    "t_features.shape"
   ]
  },
  {
   "cell_type": "code",
   "execution_count": null,
   "id": "fa816a77",
   "metadata": {
    "papermill": {
     "duration": 0.126476,
     "end_time": "2022-06-05T20:52:00.062679",
     "exception": false,
     "start_time": "2022-06-05T20:51:59.936203",
     "status": "completed"
    },
    "tags": []
   },
   "outputs": [],
   "source": [
    "from numpy import save\n",
    "save('train_fe',features)\n",
    "save('test_fe',t_features)"
   ]
  },
  {
   "cell_type": "code",
   "execution_count": null,
   "id": "6f78dc1a",
   "metadata": {
    "papermill": {
     "duration": 4.764883,
     "end_time": "2022-06-05T20:52:04.933058",
     "exception": false,
     "start_time": "2022-06-05T20:52:00.168175",
     "status": "completed"
    },
    "tags": []
   },
   "outputs": [],
   "source": [
    "local_weights_file = './LabelledDataSet/inception/inception_v3_weights_tf_dim_ordering_tf_kernels_notop.h5'\n",
    "pre_trained_model = InceptionV3(input_shape = (299, 299, 3), \n",
    "                                include_top = False, \n",
    "                                weights = None)\n",
    "pre_trained_model.load_weights(local_weights_file)\n",
    "for layer in pre_trained_model.layers:\n",
    "  layer.trainable = False\n",
    "last_layer = pre_trained_model.get_layer('mixed7')\n",
    "print('last layer output shape: ', last_layer.output_shape)\n",
    "last_output = last_layer.output"
   ]
  },
  {
   "cell_type": "code",
   "execution_count": null,
   "id": "e2b1c79f",
   "metadata": {
    "papermill": {
     "duration": 0.242405,
     "end_time": "2022-06-05T20:52:05.381472",
     "exception": false,
     "start_time": "2022-06-05T20:52:05.139067",
     "status": "completed"
    },
    "tags": []
   },
   "outputs": [],
   "source": [
    "x = layers.Flatten()(last_output)\n",
    "x = layers.Dropout(0.5)(x) \n",
    "x = layers.Dense(1024, activation='relu')(x)                 \n",
    "x = layers.Dense (4, activation='softmax')(x)           \n",
    "model = Model( pre_trained_model.input, x) \n",
    "model.compile(optimizer = RMSprop(learning_rate=0.0001), \n",
    "              loss = 'categorical_crossentropy', \n",
    "              metrics = ['accuracy'])"
   ]
  },
  {
   "cell_type": "code",
   "execution_count": null,
   "id": "bc465923",
   "metadata": {
    "papermill": {
     "duration": 0.142004,
     "end_time": "2022-06-05T20:52:05.641651",
     "exception": false,
     "start_time": "2022-06-05T20:52:05.499647",
     "status": "completed"
    },
    "scrolled": true,
    "tags": []
   },
   "outputs": [],
   "source": [
    "model.summary()"
   ]
  },
  {
   "cell_type": "code",
   "execution_count": null,
   "id": "f208a50a",
   "metadata": {
    "papermill": {
     "duration": 372.503622,
     "end_time": "2022-06-05T20:58:18.258795",
     "exception": false,
     "start_time": "2022-06-05T20:52:05.755173",
     "status": "completed"
    },
    "tags": []
   },
   "outputs": [],
   "source": [
    "history = model.fit(\n",
    "            train_generator,\n",
    "            validation_data = validation_generator,\n",
    "            steps_per_epoch=10,\n",
    "            epochs =10,\n",
    "            validation_steps=5,\n",
    "            verbose = 1)"
   ]
  },
  {
   "cell_type": "code",
   "execution_count": null,
   "id": "2586db1f",
   "metadata": {
    "papermill": {
     "duration": 1.606921,
     "end_time": "2022-06-05T20:58:19.998883",
     "exception": false,
     "start_time": "2022-06-05T20:58:18.391962",
     "status": "completed"
    },
    "tags": []
   },
   "outputs": [],
   "source": [
    "model.evaluate(test_generator)"
   ]
  },
  {
   "cell_type": "code",
   "execution_count": null,
   "id": "e01729a1",
   "metadata": {
    "papermill": {
     "duration": 4.284602,
     "end_time": "2022-06-05T20:58:24.421467",
     "exception": false,
     "start_time": "2022-06-05T20:58:20.136865",
     "status": "completed"
    },
    "tags": []
   },
   "outputs": [],
   "source": [
    "model.save(\"inception_v3.h5\")"
   ]
  },
  {
   "cell_type": "code",
   "execution_count": null,
   "id": "107ba89b",
   "metadata": {
    "papermill": {
     "duration": 0.88181,
     "end_time": "2022-06-05T20:58:26.143966",
     "exception": false,
     "start_time": "2022-06-05T20:58:25.262156",
     "status": "completed"
    },
    "tags": []
   },
   "outputs": [],
   "source": [
    "#plotting training values\n",
    "import matplotlib.pyplot as plt\n",
    "\n",
    "acc = history.history['accuracy']\n",
    "val_acc = history.history['val_accuracy']\n",
    "loss = history.history['loss']\n",
    "val_loss = history.history['val_loss']\n",
    "\n",
    "epochs = range(1, len(loss) + 1)\n",
    "\n",
    "#accuracy plot\n",
    "plt.figure(figsize=(10,5))\n",
    "plt.plot(epochs, acc,  label='Training Accuracy') #color='lightblue',\n",
    "plt.plot(epochs, val_acc,  label='Validation Accuracy') #color='orange',\n",
    "plt.title('Training and Validation Accuracy')\n",
    "plt.ylabel('Accuracy')\n",
    "plt.xlabel('Epoch')\n",
    "plt.legend(loc=\"best\")\n",
    "plt.grid(visible=True, which='major', color='#666666', linestyle='-')\n",
    "plt.tight_layout()\n",
    "plt.savefig('inception_weights_accuracy.png')\n",
    "\n",
    "#loss plot\n",
    "plt.figure(figsize=(10,5))\n",
    "plt.plot(epochs, loss, color='pink', label='Training Loss')\n",
    "plt.plot(epochs, val_loss, color='red', label='Validation Loss')\n",
    "plt.title('Training and Validation Loss')\n",
    "plt.xlabel('Epoch')\n",
    "plt.ylabel('Loss')\n",
    "plt.legend(loc=\"best\")\n",
    "plt.grid(visible=True, which='major', color='#666666', linestyle='-')\n",
    "plt.tight_layout()\n",
    "plt.rcParams['axes.facecolor'] = 'white'\n",
    "plt.savefig('inception_weights_loss.png')"
   ]
  },
  {
   "cell_type": "markdown",
   "id": "ba3304de",
   "metadata": {
    "papermill": {
     "duration": 0.136553,
     "end_time": "2022-06-05T20:58:26.425148",
     "exception": false,
     "start_time": "2022-06-05T20:58:26.288595",
     "status": "completed"
    },
    "tags": []
   },
   "source": [
    "# Model ResNet"
   ]
  },
  {
   "cell_type": "code",
   "execution_count": null,
   "id": "a06265d2",
   "metadata": {
    "papermill": {
     "duration": 0.453255,
     "end_time": "2022-06-05T20:58:27.018509",
     "exception": false,
     "start_time": "2022-06-05T20:58:26.565254",
     "status": "completed"
    },
    "tags": []
   },
   "outputs": [],
   "source": [
    "train_generator,validation_generator,test_generator = img_p(224,224)"
   ]
  },
  {
   "cell_type": "code",
   "execution_count": null,
   "id": "cfa72a5a",
   "metadata": {
    "papermill": {
     "duration": 6.613272,
     "end_time": "2022-06-05T20:58:33.768338",
     "exception": false,
     "start_time": "2022-06-05T20:58:27.155066",
     "status": "completed"
    },
    "tags": []
   },
   "outputs": [],
   "source": [
    "resnet_m = ResNet50(input_shape=(224, 224, 3), weights='imagenet', include_top=True)"
   ]
  },
  {
   "cell_type": "code",
   "execution_count": null,
   "id": "f9cbb297",
   "metadata": {
    "papermill": {
     "duration": 0.168632,
     "end_time": "2022-06-05T20:58:34.070058",
     "exception": false,
     "start_time": "2022-06-05T20:58:33.901426",
     "status": "completed"
    },
    "scrolled": true,
    "tags": []
   },
   "outputs": [],
   "source": [
    "resnet_m.summary()"
   ]
  },
  {
   "cell_type": "code",
   "execution_count": null,
   "id": "846e8ba1",
   "metadata": {
    "papermill": {
     "duration": 0.159219,
     "end_time": "2022-06-05T20:58:34.364921",
     "exception": false,
     "start_time": "2022-06-05T20:58:34.205702",
     "status": "completed"
    },
    "tags": []
   },
   "outputs": [],
   "source": [
    "x = resnet_m.layers[-2].output\n",
    "x = layers.Dense(1024, activation='relu')(x)\n",
    "x = layers.Dense (4, activation='softmax')(x)"
   ]
  },
  {
   "cell_type": "code",
   "execution_count": null,
   "id": "5754ce81",
   "metadata": {
    "papermill": {
     "duration": 0.167647,
     "end_time": "2022-06-05T20:58:34.667101",
     "exception": false,
     "start_time": "2022-06-05T20:58:34.499454",
     "status": "completed"
    },
    "tags": []
   },
   "outputs": [],
   "source": [
    "resnet_m = Model(inputs=resnet_m.input, outputs=x)\n",
    "resnet_m.compile(optimizer = RMSprop(learning_rate=0.0001), \n",
    "              loss = 'categorical_crossentropy', \n",
    "              metrics = ['accuracy'])"
   ]
  },
  {
   "cell_type": "code",
   "execution_count": null,
   "id": "4ccc307e",
   "metadata": {
    "papermill": {
     "duration": 298.850334,
     "end_time": "2022-06-05T21:03:33.651471",
     "exception": false,
     "start_time": "2022-06-05T20:58:34.801137",
     "status": "completed"
    },
    "tags": []
   },
   "outputs": [],
   "source": [
    "res_clf = resnet_m.fit(train_generator,\n",
    "            validation_data = validation_generator,\n",
    "            steps_per_epoch=10,\n",
    "            epochs =10,\n",
    "            validation_steps=5,\n",
    "            verbose = 1)"
   ]
  },
  {
   "cell_type": "code",
   "execution_count": null,
   "id": "89bd58e2",
   "metadata": {
    "papermill": {
     "duration": 0.841294,
     "end_time": "2022-06-05T21:03:34.709483",
     "exception": false,
     "start_time": "2022-06-05T21:03:33.868189",
     "status": "completed"
    },
    "tags": []
   },
   "outputs": [],
   "source": [
    "#plotting training values\n",
    "import matplotlib.pyplot as plt\n",
    "\n",
    "acc = res_clf.history['accuracy']\n",
    "val_acc = res_clf.history['val_accuracy']\n",
    "loss = res_clf.history['loss']\n",
    "val_loss = res_clf.history['val_loss']\n",
    "\n",
    "epochs = range(1, len(loss) + 1)\n",
    "\n",
    "#accuracy plot\n",
    "plt.figure(figsize=(10,5))\n",
    "plt.plot(epochs, acc,  label='Training Accuracy') #color='lightblue',\n",
    "plt.plot(epochs, val_acc,  label='Validation Accuracy') #color='orange',\n",
    "plt.title('Training and Validation Accuracy')\n",
    "plt.ylabel('Accuracy')\n",
    "plt.xlabel('Epoch')\n",
    "plt.legend(loc=\"best\")\n",
    "plt.grid(visible=True, which='major', color='#666666', linestyle='-')\n",
    "plt.tight_layout()\n",
    "plt.savefig('resnet_accuracy.png')\n",
    "\n",
    "#loss plot\n",
    "plt.figure(figsize=(10,5))\n",
    "plt.plot(epochs, loss, color='pink', label='Training Loss')\n",
    "plt.plot(epochs, val_loss, color='red', label='Validation Loss')\n",
    "plt.title('Training and Validation Loss')\n",
    "plt.xlabel('Epoch')\n",
    "plt.ylabel('Loss')\n",
    "plt.legend(loc=\"best\")\n",
    "plt.grid(visible=True, which='major', color='#666666', linestyle='-')\n",
    "plt.tight_layout()\n",
    "plt.rcParams['axes.facecolor'] = 'white'\n",
    "plt.savefig('resnet_loss.png')"
   ]
  },
  {
   "cell_type": "code",
   "execution_count": null,
   "id": "2d1fe8cd",
   "metadata": {
    "papermill": {
     "duration": 2.097979,
     "end_time": "2022-06-05T21:03:36.967498",
     "exception": false,
     "start_time": "2022-06-05T21:03:34.869519",
     "status": "completed"
    },
    "tags": []
   },
   "outputs": [],
   "source": [
    "pre_trained_model = ResNet50(input_shape = (224,224, 3),\n",
    "                        include_top = False,\n",
    "                        weights = 'imagenet')\n",
    "\n",
    "for layer in pre_trained_model.layers:\n",
    "    layer.trainable = False"
   ]
  },
  {
   "cell_type": "code",
   "execution_count": null,
   "id": "5fdbfe81",
   "metadata": {
    "papermill": {
     "duration": 0.590222,
     "end_time": "2022-06-05T21:03:37.720413",
     "exception": false,
     "start_time": "2022-06-05T21:03:37.130191",
     "status": "completed"
    },
    "tags": []
   },
   "outputs": [],
   "source": [
    "resNet_model = Sequential([\n",
    "        pre_trained_model,\n",
    "        Flatten(),\n",
    "        Dropout(0.5),\n",
    "        Dense(1024, activation='relu'),\n",
    "        Dense(4, activation='softmax')])"
   ]
  },
  {
   "cell_type": "code",
   "execution_count": null,
   "id": "bc489167",
   "metadata": {
    "papermill": {
     "duration": 0.320032,
     "end_time": "2022-06-05T21:03:38.264553",
     "exception": false,
     "start_time": "2022-06-05T21:03:37.944521",
     "status": "completed"
    },
    "tags": []
   },
   "outputs": [],
   "source": [
    "resNet_model.compile(optimizer = RMSprop(learning_rate=0.0001), \n",
    "              loss = 'categorical_crossentropy', \n",
    "              metrics = ['accuracy'])"
   ]
  },
  {
   "cell_type": "code",
   "execution_count": null,
   "id": "5517061d",
   "metadata": {
    "papermill": {
     "duration": 0.171701,
     "end_time": "2022-06-05T21:03:38.666951",
     "exception": false,
     "start_time": "2022-06-05T21:03:38.495250",
     "status": "completed"
    },
    "tags": []
   },
   "outputs": [],
   "source": [
    "input_shape = (None, 224, 224, 3)\n",
    "resNet_model.build(input_shape)"
   ]
  },
  {
   "cell_type": "code",
   "execution_count": null,
   "id": "f8350ad9",
   "metadata": {
    "papermill": {
     "duration": 0.185432,
     "end_time": "2022-06-05T21:03:39.013926",
     "exception": false,
     "start_time": "2022-06-05T21:03:38.828494",
     "status": "completed"
    },
    "tags": []
   },
   "outputs": [],
   "source": [
    "resNet_model.summary()"
   ]
  },
  {
   "cell_type": "code",
   "execution_count": null,
   "id": "bee817f7",
   "metadata": {
    "papermill": {
     "duration": 239.655477,
     "end_time": "2022-06-05T21:07:38.836436",
     "exception": false,
     "start_time": "2022-06-05T21:03:39.180959",
     "status": "completed"
    },
    "tags": []
   },
   "outputs": [],
   "source": [
    "history = resNet_model.fit(\n",
    "            train_generator,\n",
    "            validation_data = validation_generator,\n",
    "            steps_per_epoch=10,\n",
    "            epochs =10,\n",
    "            validation_steps=5,\n",
    "            verbose = 1)"
   ]
  },
  {
   "cell_type": "code",
   "execution_count": null,
   "id": "2bf3af66",
   "metadata": {
    "papermill": {
     "duration": 1.648845,
     "end_time": "2022-06-05T21:07:40.729529",
     "exception": false,
     "start_time": "2022-06-05T21:07:39.080684",
     "status": "completed"
    },
    "tags": []
   },
   "outputs": [],
   "source": [
    "resNet_model.evaluate(test_generator)"
   ]
  },
  {
   "cell_type": "code",
   "execution_count": null,
   "id": "fe418a2d",
   "metadata": {
    "papermill": {
     "duration": 0.834325,
     "end_time": "2022-06-05T21:07:41.759298",
     "exception": false,
     "start_time": "2022-06-05T21:07:40.924973",
     "status": "completed"
    },
    "tags": []
   },
   "outputs": [],
   "source": [
    "#plotting training values\n",
    "import matplotlib.pyplot as plt\n",
    "\n",
    "acc = history.history['accuracy']\n",
    "val_acc = history.history['val_accuracy']\n",
    "loss = history.history['loss']\n",
    "val_loss = history.history['val_loss']\n",
    "\n",
    "epochs = range(1, len(loss) + 1)\n",
    "\n",
    "#accuracy plot\n",
    "plt.figure(figsize=(10,5))\n",
    "plt.plot(epochs, acc,  label='Training Accuracy') #color='lightblue',\n",
    "plt.plot(epochs, val_acc,  label='Validation Accuracy') #color='orange',\n",
    "plt.title('Training and Validation Accuracy')\n",
    "plt.ylabel('Accuracy')\n",
    "plt.xlabel('Epoch')\n",
    "plt.legend(loc=\"best\")\n",
    "plt.grid(visible=True, which='major', color='#666666', linestyle='-')\n",
    "plt.tight_layout()\n",
    "plt.savefig('resnet_weights_accuracy.png')\n",
    "\n",
    "#loss plot\n",
    "plt.figure(figsize=(10,5))\n",
    "plt.plot(epochs, loss, color='pink', label='Training Loss')\n",
    "plt.plot(epochs, val_loss, color='red', label='Validation Loss')\n",
    "plt.title('Training and Validation Loss')\n",
    "plt.xlabel('Epoch')\n",
    "plt.ylabel('Loss')\n",
    "plt.legend(loc=\"best\")\n",
    "plt.grid(visible=True, which='major', color='#666666', linestyle='-')\n",
    "plt.tight_layout()\n",
    "plt.rcParams['axes.facecolor'] = 'white'\n",
    "plt.savefig('resnet_weights_loss.png')"
   ]
  },
  {
   "cell_type": "code",
   "execution_count": null,
   "id": "cc9aaba5",
   "metadata": {
    "papermill": {
     "duration": 2.786376,
     "end_time": "2022-06-05T21:07:44.741282",
     "exception": false,
     "start_time": "2022-06-05T21:07:41.954906",
     "status": "completed"
    },
    "tags": []
   },
   "outputs": [],
   "source": [
    "resNet_model.save(\"resnet_model.h5\")"
   ]
  },
  {
   "cell_type": "markdown",
   "id": "c7900e44",
   "metadata": {
    "papermill": {
     "duration": 0.192496,
     "end_time": "2022-06-05T21:07:45.123213",
     "exception": false,
     "start_time": "2022-06-05T21:07:44.930717",
     "status": "completed"
    },
    "tags": []
   },
   "source": [
    "# Model VGG16"
   ]
  },
  {
   "cell_type": "code",
   "execution_count": null,
   "id": "64cba8ff",
   "metadata": {
    "papermill": {
     "duration": 8.22703,
     "end_time": "2022-06-05T21:07:53.542430",
     "exception": false,
     "start_time": "2022-06-05T21:07:45.315400",
     "status": "completed"
    },
    "tags": []
   },
   "outputs": [],
   "source": [
    "model=vgg16.VGG16(weights='imagenet',input_shape=(224,224,3), include_top=True, pooling=\"avg\")"
   ]
  },
  {
   "cell_type": "code",
   "execution_count": null,
   "id": "762f727e",
   "metadata": {
    "papermill": {
     "duration": 0.220972,
     "end_time": "2022-06-05T21:07:53.971437",
     "exception": false,
     "start_time": "2022-06-05T21:07:53.750465",
     "status": "completed"
    },
    "tags": []
   },
   "outputs": [],
   "source": [
    "model.summary()"
   ]
  },
  {
   "cell_type": "code",
   "execution_count": null,
   "id": "0828fd11",
   "metadata": {
    "papermill": {
     "duration": 0.231685,
     "end_time": "2022-06-05T21:07:54.407914",
     "exception": false,
     "start_time": "2022-06-05T21:07:54.176229",
     "status": "completed"
    },
    "tags": []
   },
   "outputs": [],
   "source": [
    "x = model.layers[-2].output\n",
    "x = layers.Dense(1024, activation='relu')(x)\n",
    "x = layers.Dense (4, activation='softmax')(x)"
   ]
  },
  {
   "cell_type": "code",
   "execution_count": null,
   "id": "94f0323d",
   "metadata": {
    "papermill": {
     "duration": 0.390941,
     "end_time": "2022-06-05T21:07:55.001352",
     "exception": false,
     "start_time": "2022-06-05T21:07:54.610411",
     "status": "completed"
    },
    "tags": []
   },
   "outputs": [],
   "source": [
    "b_mvgg16 = Model(inputs=model.input, outputs=x)\n",
    "b_mvgg16.compile(optimizer = RMSprop(learning_rate=0.0001), \n",
    "              loss = 'categorical_crossentropy', \n",
    "              metrics = ['accuracy'])\n",
    "\n"
   ]
  },
  {
   "cell_type": "code",
   "execution_count": null,
   "id": "8291ad76",
   "metadata": {
    "papermill": {
     "duration": 330.051336,
     "end_time": "2022-06-05T21:13:25.289608",
     "exception": false,
     "start_time": "2022-06-05T21:07:55.238272",
     "status": "completed"
    },
    "tags": []
   },
   "outputs": [],
   "source": [
    "vgg_clf = b_mvgg16.fit(train_generator,\n",
    "            validation_data = validation_generator,\n",
    "            steps_per_epoch=10,\n",
    "            epochs =10,\n",
    "            validation_steps=5,\n",
    "            verbose = 1)"
   ]
  },
  {
   "cell_type": "code",
   "execution_count": null,
   "id": "e0306f8c",
   "metadata": {
    "papermill": {
     "duration": 5.522989,
     "end_time": "2022-06-05T21:13:31.042961",
     "exception": false,
     "start_time": "2022-06-05T21:13:25.519972",
     "status": "completed"
    },
    "tags": []
   },
   "outputs": [],
   "source": [
    "b_mvgg16.evaluate(test_generator)"
   ]
  },
  {
   "cell_type": "code",
   "execution_count": null,
   "id": "6d48fb29",
   "metadata": {
    "papermill": {
     "duration": 1.100829,
     "end_time": "2022-06-05T21:13:32.427350",
     "exception": false,
     "start_time": "2022-06-05T21:13:31.326521",
     "status": "completed"
    },
    "tags": []
   },
   "outputs": [],
   "source": [
    "#plotting training values\n",
    "import matplotlib.pyplot as plt\n",
    "\n",
    "acc = history.history['accuracy']\n",
    "val_acc = history.history['val_accuracy']\n",
    "loss = history.history['loss']\n",
    "val_loss = history.history['val_loss']\n",
    "\n",
    "epochs = range(1, len(loss) + 1)\n",
    "\n",
    "#accuracy plot\n",
    "plt.figure(figsize=(10,5))\n",
    "plt.plot(epochs, acc,  label='Training Accuracy') #color='lightblue',\n",
    "plt.plot(epochs, val_acc,  label='Validation Accuracy') #color='orange',\n",
    "plt.title('Training and Validation Accuracy')\n",
    "plt.ylabel('Accuracy')\n",
    "plt.xlabel('Epoch')\n",
    "plt.legend(loc=\"best\")\n",
    "plt.grid(visible=True, which='major', color='#666666', linestyle='-')\n",
    "plt.tight_layout()\n",
    "plt.savefig('vgg_accuracy.png')\n",
    "\n",
    "#loss plot\n",
    "plt.figure(figsize=(10,5))\n",
    "plt.plot(epochs, loss, color='pink', label='Training Loss')\n",
    "plt.plot(epochs, val_loss, color='red', label='Validation Loss')\n",
    "plt.title('Training and Validation Loss')\n",
    "plt.xlabel('Epoch')\n",
    "plt.ylabel('Loss')\n",
    "plt.legend(loc=\"best\")\n",
    "plt.grid(visible=True, which='major', color='#666666', linestyle='-')\n",
    "plt.tight_layout()\n",
    "plt.rcParams['axes.facecolor'] = 'white'\n",
    "plt.savefig('vgg_loss.png')"
   ]
  },
  {
   "cell_type": "code",
   "execution_count": null,
   "id": "3c1794ba",
   "metadata": {
    "papermill": {
     "duration": 0.893052,
     "end_time": "2022-06-05T21:13:33.574885",
     "exception": false,
     "start_time": "2022-06-05T21:13:32.681833",
     "status": "completed"
    },
    "scrolled": true,
    "tags": []
   },
   "outputs": [],
   "source": [
    "model_vgg = vgg16.VGG16(weights='imagenet', input_shape=(224,224,3), include_top=False)\n",
    "model_vgg.summary()\n",
    "  # Make all layers untrainable\n",
    "for layer in model_vgg.layers:\n",
    "    layer.trainable = False"
   ]
  },
  {
   "cell_type": "code",
   "execution_count": null,
   "id": "dadeb7b2",
   "metadata": {
    "papermill": {
     "duration": 0.255672,
     "end_time": "2022-06-05T21:13:34.057931",
     "exception": false,
     "start_time": "2022-06-05T21:13:33.802259",
     "status": "completed"
    },
    "tags": []
   },
   "outputs": [],
   "source": [
    "x = model_vgg.output\n",
    "x = Flatten()(x)\n",
    "x = Dropout(0.5)(x)\n",
    "x = Dense(1024, activation=\"relu\")(x)\n",
    "predictions = Dense(4, activation=\"softmax\")(x)"
   ]
  },
  {
   "cell_type": "code",
   "execution_count": null,
   "id": "19c43528",
   "metadata": {
    "papermill": {
     "duration": 0.24265,
     "end_time": "2022-06-05T21:13:34.528573",
     "exception": false,
     "start_time": "2022-06-05T21:13:34.285923",
     "status": "completed"
    },
    "tags": []
   },
   "outputs": [],
   "source": [
    "m = Model(inputs=model_vgg.input, outputs=predictions)"
   ]
  },
  {
   "cell_type": "code",
   "execution_count": null,
   "id": "f573eed6",
   "metadata": {
    "papermill": {
     "duration": 0.241917,
     "end_time": "2022-06-05T21:13:34.997300",
     "exception": false,
     "start_time": "2022-06-05T21:13:34.755383",
     "status": "completed"
    },
    "tags": []
   },
   "outputs": [],
   "source": [
    "m.compile(optimizer = RMSprop(learning_rate=0.0001), \n",
    "              loss = 'categorical_crossentropy', \n",
    "              metrics = ['accuracy'])"
   ]
  },
  {
   "cell_type": "code",
   "execution_count": null,
   "id": "d2b97f33",
   "metadata": {
    "papermill": {
     "duration": 255.489083,
     "end_time": "2022-06-05T21:17:50.715614",
     "exception": false,
     "start_time": "2022-06-05T21:13:35.226531",
     "status": "completed"
    },
    "tags": []
   },
   "outputs": [],
   "source": [
    "vgg_clfw = m.fit(train_generator,\n",
    "                epochs=1,\n",
    "                steps_per_epoch=10,\n",
    "                validation_data=validation_generator,\n",
    "                validation_steps=5)"
   ]
  },
  {
   "cell_type": "code",
   "execution_count": null,
   "id": "cbeb3c8a",
   "metadata": {
    "papermill": {
     "duration": 1.244277,
     "end_time": "2022-06-05T21:17:52.216876",
     "exception": false,
     "start_time": "2022-06-05T21:17:50.972599",
     "status": "completed"
    },
    "tags": []
   },
   "outputs": [],
   "source": [
    "m.evaluate(test_generator)"
   ]
  },
  {
   "cell_type": "code",
   "execution_count": null,
   "id": "399faba5",
   "metadata": {
    "papermill": {
     "duration": 0.908206,
     "end_time": "2022-06-05T21:17:53.378872",
     "exception": false,
     "start_time": "2022-06-05T21:17:52.470666",
     "status": "completed"
    },
    "tags": []
   },
   "outputs": [],
   "source": [
    "#plotting training values\n",
    "import matplotlib.pyplot as plt\n",
    "\n",
    "acc = history.history['accuracy']\n",
    "val_acc = history.history['val_accuracy']\n",
    "loss = history.history['loss']\n",
    "val_loss = history.history['val_loss']\n",
    "\n",
    "epochs = range(1, len(loss) + 1)\n",
    "\n",
    "#accuracy plot\n",
    "plt.figure(figsize=(10,5))\n",
    "plt.plot(epochs, acc,  label='Training Accuracy') #color='lightblue',\n",
    "plt.plot(epochs, val_acc,  label='Validation Accuracy') #color='orange',\n",
    "plt.title('Training and Validation Accuracy')\n",
    "plt.ylabel('Accuracy')\n",
    "plt.xlabel('Epoch')\n",
    "plt.legend(loc=\"best\")\n",
    "plt.grid(visible=True, which='major', color='#666666', linestyle='-')\n",
    "plt.tight_layout()\n",
    "plt.savefig('vgg_weights_accuracy.png')\n",
    "\n",
    "#loss plot\n",
    "plt.figure(figsize=(10,5))\n",
    "plt.plot(epochs, loss, color='pink', label='Training Loss')\n",
    "plt.plot(epochs, val_loss, color='red', label='Validation Loss')\n",
    "plt.title('Training and Validation Loss')\n",
    "plt.xlabel('Epoch')\n",
    "plt.ylabel('Loss')\n",
    "plt.legend(loc=\"best\")\n",
    "plt.grid(visible=True, which='major', color='#666666', linestyle='-')\n",
    "plt.tight_layout()\n",
    "plt.rcParams['axes.facecolor'] = 'white'\n",
    "plt.savefig('vgg_weights_loss.png')"
   ]
  },
  {
   "cell_type": "code",
   "execution_count": null,
   "id": "099ddcdd",
   "metadata": {
    "papermill": {
     "duration": 0.799688,
     "end_time": "2022-06-05T21:17:54.434956",
     "exception": false,
     "start_time": "2022-06-05T21:17:53.635268",
     "status": "completed"
    },
    "tags": []
   },
   "outputs": [],
   "source": [
    "m.save(\"vgg_model.h5\")"
   ]
  },
  {
   "cell_type": "code",
   "execution_count": null,
   "id": "04691e4c",
   "metadata": {
    "papermill": {
     "duration": 0.265339,
     "end_time": "2022-06-05T21:17:54.950525",
     "exception": false,
     "start_time": "2022-06-05T21:17:54.685186",
     "status": "completed"
    },
    "tags": []
   },
   "outputs": [],
   "source": []
  }
 ],
 "metadata": {
  "kernelspec": {
   "display_name": "Python 3",
   "language": "python",
   "name": "python3"
  },
  "language_info": {
   "codemirror_mode": {
    "name": "ipython",
    "version": 3
   },
   "file_extension": ".py",
   "mimetype": "text/x-python",
   "name": "python",
   "nbconvert_exporter": "python",
   "pygments_lexer": "ipython3",
   "version": "3.7.13"
  },
  "papermill": {
   "default_parameters": {},
   "duration": 2059.601544,
   "end_time": "2022-06-05T21:17:58.324382",
   "environment_variables": {},
   "exception": null,
   "input_path": "__notebook__.ipynb",
   "output_path": "__notebook__.ipynb",
   "parameters": {},
   "start_time": "2022-06-05T20:43:38.722838",
   "version": "2.3.4"
  }
 },
 "nbformat": 4,
 "nbformat_minor": 5
}
