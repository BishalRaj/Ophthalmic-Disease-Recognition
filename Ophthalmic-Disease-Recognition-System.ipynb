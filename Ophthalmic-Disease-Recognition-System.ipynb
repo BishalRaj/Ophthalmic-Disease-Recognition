{
 "cells": [
  {
   "cell_type": "code",
   "execution_count": 1,
   "id": "1c5b5907",
   "metadata": {
    "papermill": {
     "duration": 6.451499,
     "end_time": "2022-06-05T20:43:53.082731",
     "exception": false,
     "start_time": "2022-06-05T20:43:46.631232",
     "status": "completed"
    },
    "tags": []
   },
   "outputs": [],
   "source": [
    "import numpy as np \n",
    "import pandas as pd \n",
    "import matplotlib.pyplot as plt\n",
    "import matplotlib.image as mpimg\n",
    "import os\n",
    "import zipfile\n",
    "import csv\n",
    "import cv2\n",
    "import shutil\n",
    "import random\n",
    "import seaborn as sns\n",
    "from PIL import Image\n",
    "from tqdm import tqdm\n",
    "import tensorflow as tf\n",
    "import tensorflow_addons as tfa\n",
    "from tensorflow import keras\n",
    "from tensorflow.keras import Model\n",
    "from tensorflow.keras import layers\n",
    "from tensorflow.keras.models import Model,Sequential\n",
    "from keras.utils.vis_utils import plot_model\n",
    "from tensorflow.keras.layers import Conv2D, MaxPooling2D, Dropout, Dense, Flatten, BatchNormalization\n",
    "from tensorflow.keras.preprocessing.image import ImageDataGenerator\n",
    "from tensorflow.keras.optimizers import RMSprop\n",
    "\n",
    "from tensorflow.keras.applications.inception_v3 import InceptionV3\n",
    "from tensorflow.keras.applications.resnet import ResNet50\n",
    "from tensorflow.keras.applications import vgg16\n"
   ]
  },
  {
   "cell_type": "code",
   "execution_count": 2,
   "id": "f24f96f6",
   "metadata": {
    "papermill": {
     "duration": 2.335126,
     "end_time": "2022-06-05T20:43:55.437464",
     "exception": false,
     "start_time": "2022-06-05T20:43:53.102338",
     "status": "completed"
    },
    "tags": []
   },
   "outputs": [
    {
     "name": "stdout",
     "output_type": "stream",
     "text": [
      "GPU device not found\n",
      "Found GPU at: \n"
     ]
    }
   ],
   "source": [
    "device_name = tf.test.gpu_device_name()\n",
    "if \"GPU\" not in device_name:\n",
    "    print(\"GPU device not found\")\n",
    "print('Found GPU at: {}'.format(device_name))"
   ]
  },
  {
   "cell_type": "code",
   "execution_count": 3,
   "id": "c8f5d84d",
   "metadata": {
    "papermill": {
     "duration": 0.026873,
     "end_time": "2022-06-05T20:43:55.485395",
     "exception": false,
     "start_time": "2022-06-05T20:43:55.458522",
     "status": "completed"
    },
    "tags": []
   },
   "outputs": [],
   "source": [
    "import warnings\n",
    "warnings.simplefilter(action=\"ignore\", category=FutureWarning)"
   ]
  },
  {
   "cell_type": "code",
   "execution_count": 4,
   "id": "923e0c49",
   "metadata": {
    "papermill": {
     "duration": 0.081383,
     "end_time": "2022-06-05T20:43:55.585423",
     "exception": false,
     "start_time": "2022-06-05T20:43:55.504040",
     "status": "completed"
    },
    "tags": []
   },
   "outputs": [],
   "source": [
    "train = pd.read_csv('./input/full_df.csv')\n",
    "# train"
   ]
  },
  {
   "cell_type": "markdown",
   "id": "fc4f1166",
   "metadata": {
    "papermill": {
     "duration": 0.021565,
     "end_time": "2022-06-05T20:43:55.626209",
     "exception": false,
     "start_time": "2022-06-05T20:43:55.604644",
     "status": "completed"
    },
    "tags": []
   },
   "source": [
    "# Data visualization"
   ]
  },
  {
   "cell_type": "code",
   "execution_count": 5,
   "id": "c4f34775",
   "metadata": {
    "papermill": {
     "duration": 0.027582,
     "end_time": "2022-06-05T20:43:55.672867",
     "exception": false,
     "start_time": "2022-06-05T20:43:55.645285",
     "status": "completed"
    },
    "tags": []
   },
   "outputs": [],
   "source": [
    "def check_disease(df,start,end):\n",
    "    df = df.iloc[:, start:end]\n",
    "    disease_name, zeroCount, oneCount = [], [], []\n",
    "    rowLen = len(df)\n",
    "    for (column_name, column) in df.iteritems():\n",
    "        disease_name.append(column_name)    \n",
    "        zeroCount.append(df[column_name].value_counts()[0])\n",
    "    oneCount = [rowLen - x for x in zeroCount]\n",
    "    \n",
    "    return disease_name, zeroCount, oneCount"
   ]
  },
  {
   "cell_type": "code",
   "execution_count": 6,
   "id": "2d8b7018",
   "metadata": {
    "papermill": {
     "duration": 0.304339,
     "end_time": "2022-06-05T20:43:55.995568",
     "exception": false,
     "start_time": "2022-06-05T20:43:55.691229",
     "status": "completed"
    },
    "tags": []
   },
   "outputs": [
    {
     "data": {
      "image/png": "[encoded data removed]",
      "text/plain": [
       "<Figure size 1080x576 with 1 Axes>"
      ]
     },
     "metadata": {
      "needs_background": "light"
     },
     "output_type": "display_data"
    }
   ],
   "source": [
    "disease_name, zeroCount, oneCount = check_disease(train,7,15)\n",
    "\n",
    "fig = plt.figure(figsize=(15, 8))\n",
    "plt.bar(disease_name, oneCount, width=0.6, color=['skyblue', 'gray'])\n",
    "plt.xlabel('Disease Name')\n",
    "plt.savefig('Overall Disease.png')"
   ]
  },
  {
   "cell_type": "code",
   "execution_count": 7,
   "id": "15244880",
   "metadata": {
    "papermill": {
     "duration": 0.03134,
     "end_time": "2022-06-05T20:43:56.045431",
     "exception": false,
     "start_time": "2022-06-05T20:43:56.014091",
     "status": "completed"
    },
    "tags": []
   },
   "outputs": [],
   "source": [
    "# Drops the Column 'N', \n",
    "train=train.drop(columns=['N', 'D', 'H', 'O' ],axis=1)\n",
    "\n",
    "#Drops the Rows\n",
    "train=train[((train['G'] == 1) | (train['C'] == 1) | (train['A']== 1) | (train['M'] == 1))]\n",
    "\n",
    "# Classes\n",
    "classes=['G', 'C', 'A', 'M']\n",
    "\n",
    "# Reset an Index of pandas dataFrame\n",
    "train = train.reset_index(drop=True)"
   ]
  },
  {
   "cell_type": "code",
   "execution_count": 8,
   "id": "88b3aa51",
   "metadata": {
    "papermill": {
     "duration": 0.232116,
     "end_time": "2022-06-05T20:43:56.295442",
     "exception": false,
     "start_time": "2022-06-05T20:43:56.063326",
     "status": "completed"
    },
    "tags": []
   },
   "outputs": [
    {
     "data": {
      "image/png": "[encoded data removed]",
      "text/plain": [
       "<Figure size 720x576 with 1 Axes>"
      ]
     },
     "metadata": {
      "needs_background": "light"
     },
     "output_type": "display_data"
    }
   ],
   "source": [
    "disease_name, zeroCount, oneCount = check_disease(train,7,11)\n",
    "\n",
    "fig = plt.figure(figsize=(10, 8))\n",
    "plt.bar(disease_name, oneCount, width=0.6, color=['skyblue', 'gray'])\n",
    "plt.xlabel('Disease Name')\n",
    "plt.savefig('Final Disease.png')"
   ]
  },
  {
   "cell_type": "code",
   "execution_count": 9,
   "id": "7eeb77fd",
   "metadata": {
    "papermill": {
     "duration": 0.028589,
     "end_time": "2022-06-05T20:43:56.342562",
     "exception": false,
     "start_time": "2022-06-05T20:43:56.313973",
     "status": "completed"
    },
    "tags": []
   },
   "outputs": [],
   "source": [
    "def plot_count(feature, title, df, size=1, show_all=False):\n",
    "    f, ax = plt.subplots(1,1, figsize=(4*size,4))\n",
    "    total = float(len(df))\n",
    "    if show_all:\n",
    "        g = sns.countplot(df[feature], palette='Set3')\n",
    "        g.set_title(\"{} distribution\".format(title))\n",
    "    else:\n",
    "        g = sns.countplot(df[feature], order = df[feature].value_counts().index[:20], palette='Set3')\n",
    "        if(size > 2):\n",
    "            plt.xticks(rotation=90, size=8)\n",
    "            for p in ax.patches:\n",
    "                height = p.get_height()\n",
    "                ax.text(p.get_x()+p.get_width()/2.,\n",
    "                        height + 0.2,\n",
    "                        '{:1.2f}%'.format(100*height/total),\n",
    "                        ha=\"center\") \n",
    "        g.set_title(\"Number and percentage of {}\".format(title))\n",
    "    plt.show() "
   ]
  },
  {
   "cell_type": "code",
   "execution_count": 10,
   "id": "0c37649b",
   "metadata": {
    "papermill": {
     "duration": 0.633389,
     "end_time": "2022-06-05T20:43:56.993906",
     "exception": false,
     "start_time": "2022-06-05T20:43:56.360517",
     "status": "completed"
    },
    "tags": []
   },
   "outputs": [
    {
     "data": {
      "image/png": "[encoded data removed]",
      "text/plain": [
       "<Figure size 1440x288 with 1 Axes>"
      ]
     },
     "metadata": {
      "needs_background": "light"
     },
     "output_type": "display_data"
    }
   ],
   "source": [
    "plot_count(\"Patient Age\", \"Age\", train, size=5, show_all=True)"
   ]
  },
  {
   "cell_type": "code",
   "execution_count": 11,
   "id": "887ad081",
   "metadata": {
    "papermill": {
     "duration": 0.1684,
     "end_time": "2022-06-05T20:43:57.183551",
     "exception": false,
     "start_time": "2022-06-05T20:43:57.015151",
     "status": "completed"
    },
    "tags": []
   },
   "outputs": [
    {
     "data": {
      "image/png": "[encoded data removed]",
      "text/plain": [
       "<Figure size 576x288 with 1 Axes>"
      ]
     },
     "metadata": {
      "needs_background": "light"
     },
     "output_type": "display_data"
    }
   ],
   "source": [
    "plot_count(\"Patient Sex\", \"Sex\", train, size=2)"
   ]
  },
  {
   "cell_type": "code",
   "execution_count": 12,
   "id": "ceba8a24",
   "metadata": {
    "papermill": {
     "duration": 0.146785,
     "end_time": "2022-06-05T20:43:57.354034",
     "exception": false,
     "start_time": "2022-06-05T20:43:57.207249",
     "status": "completed"
    },
    "tags": []
   },
   "outputs": [
    {
     "data": {
      "image/png": "[encoded data removed]",
      "text/plain": [
       "<Figure size 576x288 with 1 Axes>"
      ]
     },
     "metadata": {
      "needs_background": "light"
     },
     "output_type": "display_data"
    }
   ],
   "source": [
    "plot_count(\"G\", \"Glaucoma\", train, size=2)"
   ]
  },
  {
   "cell_type": "code",
   "execution_count": 13,
   "id": "29992a24",
   "metadata": {
    "papermill": {
     "duration": 0.150082,
     "end_time": "2022-06-05T20:43:57.536270",
     "exception": false,
     "start_time": "2022-06-05T20:43:57.386188",
     "status": "completed"
    },
    "tags": []
   },
   "outputs": [
    {
     "data": {
      "image/png": "[encoded data removed]",
      "text/plain": [
       "<Figure size 576x288 with 1 Axes>"
      ]
     },
     "metadata": {
      "needs_background": "light"
     },
     "output_type": "display_data"
    }
   ],
   "source": [
    "plot_count(\"C\", \"Cataract\", train, size=2)"
   ]
  },
  {
   "cell_type": "code",
   "execution_count": 14,
   "id": "f3dcd0aa",
   "metadata": {
    "papermill": {
     "duration": 0.15941,
     "end_time": "2022-06-05T20:43:57.726615",
     "exception": false,
     "start_time": "2022-06-05T20:43:57.567205",
     "status": "completed"
    },
    "tags": []
   },
   "outputs": [
    {
     "data": {
      "image/png": "[encoded data removed]",
      "text/plain": [
       "<Figure size 576x288 with 1 Axes>"
      ]
     },
     "metadata": {
      "needs_background": "light"
     },
     "output_type": "display_data"
    }
   ],
   "source": [
    "plot_count(\"A\", \"Age Related Macular Degeneration\", train, size=2)"
   ]
  },
  {
   "cell_type": "code",
   "execution_count": 15,
   "id": "6d319848",
   "metadata": {
    "papermill": {
     "duration": 0.179713,
     "end_time": "2022-06-05T20:43:57.935822",
     "exception": false,
     "start_time": "2022-06-05T20:43:57.756109",
     "status": "completed"
    },
    "tags": []
   },
   "outputs": [
    {
     "data": {
      "image/png": "[encoded data removed]",
      "text/plain": [
       "<Figure size 576x288 with 1 Axes>"
      ]
     },
     "metadata": {
      "needs_background": "light"
     },
     "output_type": "display_data"
    }
   ],
   "source": [
    "plot_count(\"M\", \"Pathological Myopia\", train, size=2)"
   ]
  },
  {
   "cell_type": "code",
   "execution_count": 16,
   "id": "01c84f11",
   "metadata": {
    "papermill": {
     "duration": 0.028546,
     "end_time": "2022-06-05T20:43:57.984775",
     "exception": false,
     "start_time": "2022-06-05T20:43:57.956229",
     "status": "completed"
    },
    "tags": []
   },
   "outputs": [],
   "source": [
    "def plot_feature_distribution_grouped(feature, title, df, hue, size=4):\n",
    "    plt.figure(figsize=(size*5,size*2))\n",
    "    plt.title(title)\n",
    "    if(size > 2):\n",
    "        plt.xticks(rotation=90, size=8)\n",
    "    g = sns.countplot(df[feature], hue=df[hue], palette='Set3')\n",
    "    plt.xlabel(feature)\n",
    "    plt.legend()\n",
    "    plt.show()"
   ]
  },
  {
   "cell_type": "code",
   "execution_count": 17,
   "id": "89543efe",
   "metadata": {
    "papermill": {
     "duration": 0.194913,
     "end_time": "2022-06-05T20:43:58.200164",
     "exception": false,
     "start_time": "2022-06-05T20:43:58.005251",
     "status": "completed"
    },
    "tags": []
   },
   "outputs": [
    {
     "data": {
      "image/png": "[encoded data removed]",
      "text/plain": [
       "<Figure size 720x288 with 1 Axes>"
      ]
     },
     "metadata": {
      "needs_background": "light"
     },
     "output_type": "display_data"
    }
   ],
   "source": [
    "plot_feature_distribution_grouped('Patient Sex', 'Glaucoma diagnosys grouped by sex', train, 'G', size=2)"
   ]
  },
  {
   "cell_type": "code",
   "execution_count": 18,
   "id": "5d18f50b",
   "metadata": {
    "papermill": {
     "duration": 0.212759,
     "end_time": "2022-06-05T20:43:58.433409",
     "exception": false,
     "start_time": "2022-06-05T20:43:58.220650",
     "status": "completed"
    },
    "tags": []
   },
   "outputs": [
    {
     "data": {
      "image/png": "[encoded data removed]",
      "text/plain": [
       "<Figure size 720x288 with 1 Axes>"
      ]
     },
     "metadata": {
      "needs_background": "light"
     },
     "output_type": "display_data"
    }
   ],
   "source": [
    "plot_feature_distribution_grouped('Patient Sex', 'Cataract diagnosys grouped by sex', train, 'C', size=2)"
   ]
  },
  {
   "cell_type": "code",
   "execution_count": 19,
   "id": "2926eaf6",
   "metadata": {
    "papermill": {
     "duration": 0.279542,
     "end_time": "2022-06-05T20:43:58.750037",
     "exception": false,
     "start_time": "2022-06-05T20:43:58.470495",
     "status": "completed"
    },
    "tags": []
   },
   "outputs": [
    {
     "data": {
      "image/png": "[encoded data removed]",
      "text/plain": [
       "<Figure size 720x288 with 1 Axes>"
      ]
     },
     "metadata": {
      "needs_background": "light"
     },
     "output_type": "display_data"
    }
   ],
   "source": [
    "plot_feature_distribution_grouped('Patient Sex', 'AMD diagnosys grouped by sex', train, 'A', size=2)"
   ]
  },
  {
   "cell_type": "code",
   "execution_count": 20,
   "id": "61b6d1f3",
   "metadata": {
    "papermill": {
     "duration": 0.27037,
     "end_time": "2022-06-05T20:43:59.070506",
     "exception": false,
     "start_time": "2022-06-05T20:43:58.800136",
     "status": "completed"
    },
    "tags": []
   },
   "outputs": [
    {
     "data": {
      "image/png": "[encoded data removed]",
      "text/plain": [
       "<Figure size 720x288 with 1 Axes>"
      ]
     },
     "metadata": {
      "needs_background": "light"
     },
     "output_type": "display_data"
    }
   ],
   "source": [
    "plot_feature_distribution_grouped('Patient Sex', 'Pathological Myopia diagnosys grouped by sex', train, 'M', size=2)"
   ]
  },
  {
   "cell_type": "markdown",
   "id": "1bff9f2e",
   "metadata": {
    "papermill": {
     "duration": 0.034037,
     "end_time": "2022-06-05T20:43:59.138772",
     "exception": false,
     "start_time": "2022-06-05T20:43:59.104735",
     "status": "completed"
    },
    "tags": []
   },
   "source": [
    "# Data Preprocessing"
   ]
  },
  {
   "cell_type": "code",
   "execution_count": 21,
   "id": "74ef9b5a",
   "metadata": {
    "papermill": {
     "duration": 0.122273,
     "end_time": "2022-06-05T20:43:59.294758",
     "exception": false,
     "start_time": "2022-06-05T20:43:59.172485",
     "status": "completed"
    },
    "tags": []
   },
   "outputs": [],
   "source": [
    "# Create List for each Disease\n",
    "g_disease=[]\n",
    "for i in range(len(train)):\n",
    "    if(train['G'][i]==1):\n",
    "        g_disease.append(train['filename'][i])\n",
    "        \n",
    "c_disease=[]\n",
    "for i in range(len(train)):\n",
    "    if(train['C'][i]==1):\n",
    "        c_disease.append(train['filename'][i])\n",
    "\n",
    "a_disease=[]\n",
    "for i in range(len(train)):\n",
    "    if(train['A'][i]==1):\n",
    "        a_disease.append(train['filename'][i])\n",
    "        \n",
    "m_disease=[]\n",
    "for i in range(len(train)):\n",
    "    if(train['M'][i]==1):\n",
    "        m_disease.append(train['filename'][i])"
   ]
  },
  {
   "cell_type": "code",
   "execution_count": 22,
   "id": "386e6262",
   "metadata": {
    "papermill": {
     "duration": 10.499178,
     "end_time": "2022-06-05T20:44:09.827478",
     "exception": false,
     "start_time": "2022-06-05T20:43:59.328300",
     "status": "completed"
    },
    "tags": []
   },
   "outputs": [
    {
     "name": "stderr",
     "output_type": "stream",
     "text": [
      "100%|██████████████████████████████████████████████████████████████████████████████| 397/397 [00:00<00:00, 1709.83it/s]\n",
      "100%|██████████████████████████████████████████████████████████████████████████████| 402/402 [00:00<00:00, 1617.13it/s]\n",
      "100%|██████████████████████████████████████████████████████████████████████████████| 319/319 [00:00<00:00, 1824.81it/s]\n",
      "100%|██████████████████████████████████████████████████████████████████████████████| 306/306 [00:00<00:00, 1737.74it/s]\n"
     ]
    }
   ],
   "source": [
    "# Copy images to new path\n",
    "if os.path.isdir('./data') is False:\n",
    "    os.mkdir('./data')\n",
    "\n",
    "# (Glaucoma, Cataract, Age related Macular Degeneration, Hypertension)\n",
    "\n",
    "g_disease_save_dir='./data/glaucoma/'\n",
    "os.mkdir('./data/glaucoma/')\n",
    "for filename in tqdm(g_disease):\n",
    "  shutil.copy('./input/preprocessed_images/'+filename,g_disease_save_dir)\n",
    "\n",
    "c_disease_save_dir='./data/cataract/'\n",
    "os.mkdir('./data/cataract/')\n",
    "for filename in tqdm(c_disease):\n",
    "  shutil.copy('./input/preprocessed_images/'+filename,c_disease_save_dir)\n",
    "\n",
    "a_disease_save_dir='./data/age_related_macular_degeneration/'\n",
    "os.mkdir('./data/age_related_macular_degeneration/')\n",
    "for filename in tqdm(a_disease):\n",
    "  shutil.copy('./input/preprocessed_images/'+filename,a_disease_save_dir)\n",
    "\n",
    "m_disease_save_dir='./data/pathological_myopia/'\n",
    "os.mkdir('./data/pathological_myopia/')\n",
    "for filename in tqdm(m_disease):\n",
    "  shutil.copy('./input/preprocessed_images/'+filename,m_disease_save_dir)"
   ]
  },
  {
   "cell_type": "code",
   "execution_count": 23,
   "id": "474cd0e0",
   "metadata": {
    "papermill": {
     "duration": 0.04212,
     "end_time": "2022-06-05T20:44:09.897167",
     "exception": false,
     "start_time": "2022-06-05T20:44:09.855047",
     "status": "completed"
    },
    "tags": []
   },
   "outputs": [],
   "source": [
    "base_dir = './dataset/'\n",
    "if os.path.isdir(base_dir) is False:\n",
    "    os.mkdir(base_dir)\n",
    "\n",
    "#create two folders (train and validation)\n",
    "train_dir = os.path.join(base_dir, 'Training')\n",
    "os.mkdir(train_dir)\n",
    "\n",
    "testing_dir = os.path.join(base_dir, 'Testing')\n",
    "os.mkdir(testing_dir)\n",
    "\n",
    "validation_dir = os.path.join(base_dir, 'Validation')\n",
    "os.mkdir(validation_dir)\n",
    "\n",
    "# Under train folder create four folders \n",
    "# (Glaucoma, Cataract, Age related Macular Degeneration, Pathological Myopia)\n",
    "\n",
    "train_glaucoma_dir = os.path.join(train_dir, 'glaucoma')\n",
    "os.mkdir(train_glaucoma_dir)\n",
    "\n",
    "train_cataract_dir = os.path.join(train_dir, 'cataract')\n",
    "os.mkdir(train_cataract_dir)\n",
    "\n",
    "train_age_macular_dir = os.path.join(train_dir, 'age_related_macular_degeneration')\n",
    "os.mkdir(train_age_macular_dir)\n",
    "\n",
    "train_pathological_myopia_dir = os.path.join(train_dir, 'pathological_myopia')\n",
    "os.mkdir(train_pathological_myopia_dir)\n",
    "\n",
    "\n",
    "# Under testing folder create four folders \n",
    "\n",
    "testing_glaucoma_dir = os.path.join(testing_dir, 'glaucoma')\n",
    "os.mkdir(testing_glaucoma_dir)\n",
    "\n",
    "testing_cataract_dir = os.path.join(testing_dir, 'cataract')\n",
    "os.mkdir(testing_cataract_dir)\n",
    "\n",
    "testing_age_macular_dir = os.path.join(testing_dir, 'age_related_macular_degeneration')\n",
    "os.mkdir(testing_age_macular_dir)\n",
    "\n",
    "testing_pathological_myopia_dir = os.path.join(testing_dir, 'pathological_myopia')\n",
    "os.mkdir(testing_pathological_myopia_dir)\n",
    "\n",
    "\n",
    "# Under validation folder create four folders \n",
    "# (Glaucoma, Cataract, Age related Macular Degeneration, Pathological Myopia)\n",
    "\n",
    "validation_glaucoma_dir = os.path.join(validation_dir, 'glaucoma')\n",
    "os.mkdir(validation_glaucoma_dir)\n",
    "\n",
    "validation_cataract_dir = os.path.join(validation_dir, 'cataract')\n",
    "os.mkdir(validation_cataract_dir)\n",
    "\n",
    "validation_age_macular_dir = os.path.join(validation_dir, 'age_related_macular_degeneration')\n",
    "os.mkdir(validation_age_macular_dir)\n",
    "\n",
    "validation_pathological_myopia_dir = os.path.join(validation_dir, 'pathological_myopia')\n",
    "os.mkdir(validation_pathological_myopia_dir)"
   ]
  },
  {
   "cell_type": "code",
   "execution_count": 24,
   "id": "bc813f8a",
   "metadata": {
    "papermill": {
     "duration": 0.035876,
     "end_time": "2022-06-05T20:44:09.960038",
     "exception": false,
     "start_time": "2022-06-05T20:44:09.924162",
     "status": "completed"
    },
    "tags": []
   },
   "outputs": [],
   "source": [
    "glaucoma_source_dir = './data/glaucoma/'\n",
    "training_glaucoma_dir = './dataset/Training/glaucoma/'\n",
    "testing_glaucoma_dir = './dataset/Testing/glaucoma/'\n",
    "valid_glaucoma_dir = './dataset/Validation/glaucoma/'\n",
    "\n",
    "cataract_source_dir = './data/cataract/'\n",
    "training_cataract_dir = './dataset/Training/cataract/'\n",
    "testing_cataract_dir = './dataset/Testing/cataract/'\n",
    "valid_cataract_dir = './dataset/Validation/cataract/'\n",
    "\n",
    "age_related_macular_degeneration_source_dir = './data/age_related_macular_degeneration/'\n",
    "training_age_related_macular_degeneration_dir = './dataset/Training/age_related_macular_degeneration/'\n",
    "testing_age_related_macular_degeneration_dir = './dataset/Testing/age_related_macular_degeneration/'\n",
    "valid_age_related_macular_degeneration_dir = './dataset/Validation/age_related_macular_degeneration/'\n",
    "\n",
    "pathological_myopia_source_dir = './data/pathological_myopia/'\n",
    "training_pathological_myopia_dir = './dataset/Training/pathological_myopia/'\n",
    "testing_pathological_myopia_dir = './dataset/Testing/pathological_myopia/'\n",
    "valid_pathological_myopia_dir = './dataset/Validation/pathological_myopia/'\n"
   ]
  },
  {
   "cell_type": "code",
   "execution_count": 25,
   "id": "5a8228eb",
   "metadata": {
    "papermill": {
     "duration": 0.039274,
     "end_time": "2022-06-05T20:44:10.026411",
     "exception": false,
     "start_time": "2022-06-05T20:44:09.987137",
     "status": "completed"
    },
    "tags": []
   },
   "outputs": [],
   "source": [
    "def split_data(SOURCE, TRAINING, VALIDATION, TESTING, SPLIT_SIZE):\n",
    "    files = []\n",
    "    for filename in os.listdir(SOURCE):\n",
    "        file = SOURCE + filename\n",
    "        if os.path.getsize(file) > 0:\n",
    "            files.append(filename)\n",
    "        else:\n",
    "            print(filename + \" is zero length, so ignoring.\")\n",
    "    \n",
    "    SIZE = (1 - SPLIT_SIZE) / 2\n",
    "    training_length = int(len(files) * SPLIT_SIZE)\n",
    "    testing_length = int(len(files) * SIZE)\n",
    "    valid_length = int(len(files) * SIZE)\n",
    "    shuffled_set = random.sample(files, len(files))\n",
    "    training_set = shuffled_set[0:training_length]\n",
    "    testing_set = shuffled_set[training_length:training_length+testing_length]\n",
    "    valid_set = shuffled_set[training_length+testing_length:]\n",
    "\n",
    "    for filename in training_set:\n",
    "        this_file = SOURCE + filename\n",
    "        destination = TRAINING + filename\n",
    "        shutil.copy(this_file, destination)\n",
    "\n",
    "    for filename in valid_set:\n",
    "        this_file = SOURCE + filename\n",
    "        destination = VALIDATION + filename\n",
    "        shutil.copy(this_file, destination)\n",
    "        \n",
    "    for filename in testing_set:\n",
    "        this_file = SOURCE + filename\n",
    "        destination = TESTING + filename\n",
    "        shutil.copy(this_file, destination)"
   ]
  },
  {
   "cell_type": "code",
   "execution_count": 26,
   "id": "2a4ab6b7",
   "metadata": {
    "papermill": {
     "duration": 0.234373,
     "end_time": "2022-06-05T20:44:10.287759",
     "exception": false,
     "start_time": "2022-06-05T20:44:10.053386",
     "status": "completed"
    },
    "tags": []
   },
   "outputs": [],
   "source": [
    "split_size = 0.80\n",
    "\n",
    "split_data(glaucoma_source_dir, training_glaucoma_dir, testing_glaucoma_dir, valid_glaucoma_dir, split_size)\n",
    "split_data(cataract_source_dir, training_cataract_dir, testing_cataract_dir, valid_cataract_dir, split_size)\n",
    "split_data(age_related_macular_degeneration_source_dir, training_age_related_macular_degeneration_dir, testing_age_related_macular_degeneration_dir, valid_age_related_macular_degeneration_dir, split_size)\n",
    "split_data(pathological_myopia_source_dir, training_pathological_myopia_dir, testing_pathological_myopia_dir, valid_pathological_myopia_dir, split_size)"
   ]
  },
  {
   "cell_type": "code",
   "execution_count": 27,
   "id": "d92be4a9",
   "metadata": {
    "papermill": {
     "duration": 0.0363,
     "end_time": "2022-06-05T20:44:10.351202",
     "exception": false,
     "start_time": "2022-06-05T20:44:10.314902",
     "status": "completed"
    },
    "tags": []
   },
   "outputs": [],
   "source": [
    "def img_p(img_height,img_width):\n",
    "    train_datagen = ImageDataGenerator(rescale = 1./255.,\n",
    "                                        rotation_range = 30,\n",
    "                                        width_shift_range = 0.1,\n",
    "                                        height_shift_range = 0.1,\n",
    "                                        zoom_range = 0.1,\n",
    "                                        horizontal_flip = True\n",
    "                                       )\n",
    "    train_generator = train_datagen.flow_from_directory('./dataset/Training/', \n",
    "                                                        target_size=(img_height,img_width), \n",
    "                                                        class_mode='categorical')\n",
    "    validation_datagen = ImageDataGenerator(rescale=1/255)\n",
    "    validation_generator = validation_datagen.flow_from_directory('./dataset/Validation/', \n",
    "                                                              target_size=(img_height,img_width),\n",
    "                                                              class_mode='categorical')\n",
    "    test_datagen = ImageDataGenerator(rescale=1/255)\n",
    "    test_generator = test_datagen.flow_from_directory('./dataset/Testing/', \n",
    "                                                              target_size=(img_height,img_width),\n",
    "                                                              class_mode='categorical')\n",
    "    \n",
    "    return train_generator,validation_generator,test_generator"
   ]
  },
  {
   "cell_type": "markdown",
   "id": "a2092a4b",
   "metadata": {
    "papermill": {
     "duration": 0.025807,
     "end_time": "2022-06-05T20:44:10.403600",
     "exception": false,
     "start_time": "2022-06-05T20:44:10.377793",
     "status": "completed"
    },
    "tags": []
   },
   "source": [
    "# InceptionV3"
   ]
  },
  {
   "cell_type": "code",
   "execution_count": 28,
   "id": "c2427f2f",
   "metadata": {
    "papermill": {
     "duration": 0.340691,
     "end_time": "2022-06-05T20:44:10.770567",
     "exception": false,
     "start_time": "2022-06-05T20:44:10.429876",
     "status": "completed"
    },
    "tags": []
   },
   "outputs": [
    {
     "name": "stdout",
     "output_type": "stream",
     "text": [
      "Found 1137 images belonging to 4 classes.\n",
      "Found 140 images belonging to 4 classes.\n",
      "Found 147 images belonging to 4 classes.\n"
     ]
    }
   ],
   "source": [
    "train_generator,validation_generator,test_generator = img_p(299,299)"
   ]
  },
  {
   "cell_type": "code",
   "execution_count": 29,
   "id": "0b91d75f",
   "metadata": {
    "papermill": {
     "duration": 4.027875,
     "end_time": "2022-06-05T20:44:14.825017",
     "exception": false,
     "start_time": "2022-06-05T20:44:10.797142",
     "status": "completed"
    },
    "scrolled": true,
    "tags": []
   },
   "outputs": [
    {
     "name": "stdout",
     "output_type": "stream",
     "text": [
      "Model: \"inception_v3\"\n",
      "__________________________________________________________________________________________________\n",
      " Layer (type)                   Output Shape         Param #     Connected to                     \n",
      "==================================================================================================\n",
      " input_1 (InputLayer)           [(None, 299, 299, 3  0           []                               \n",
      "                                )]                                                                \n",
      "                                                                                                  \n",
      " conv2d (Conv2D)                (None, 149, 149, 32  864         ['input_1[0][0]']                \n",
      "                                )                                                                 \n",
      "                                                                                                  \n",
      " batch_normalization (BatchNorm  (None, 149, 149, 32  96         ['conv2d[0][0]']                 \n",
      " alization)                     )                                                                 \n",
      "                                                                                                  \n",
      " activation (Activation)        (None, 149, 149, 32  0           ['batch_normalization[0][0]']    \n",
      "                                )                                                                 \n",
      "                                                                                                  \n",
      " conv2d_1 (Conv2D)              (None, 147, 147, 32  9216        ['activation[0][0]']             \n",
      "                                )                                                                 \n",
      "                                                                                                  \n",
      " batch_normalization_1 (BatchNo  (None, 147, 147, 32  96         ['conv2d_1[0][0]']               \n",
      " rmalization)                   )                                                                 \n",
      "                                                                                                  \n",
      " activation_1 (Activation)      (None, 147, 147, 32  0           ['batch_normalization_1[0][0]']  \n",
      "                                )                                                                 \n",
      "                                                                                                  \n",
      " conv2d_2 (Conv2D)              (None, 147, 147, 64  18432       ['activation_1[0][0]']           \n",
      "                                )                                                                 \n",
      "                                                                                                  \n",
      " batch_normalization_2 (BatchNo  (None, 147, 147, 64  192        ['conv2d_2[0][0]']               \n",
      " rmalization)                   )                                                                 \n",
      "                                                                                                  \n",
      " activation_2 (Activation)      (None, 147, 147, 64  0           ['batch_normalization_2[0][0]']  \n",
      "                                )                                                                 \n",
      "                                                                                                  \n",
      " max_pooling2d (MaxPooling2D)   (None, 73, 73, 64)   0           ['activation_2[0][0]']           \n",
      "                                                                                                  \n",
      " conv2d_3 (Conv2D)              (None, 73, 73, 80)   5120        ['max_pooling2d[0][0]']          \n",
      "                                                                                                  \n",
      " batch_normalization_3 (BatchNo  (None, 73, 73, 80)  240         ['conv2d_3[0][0]']               \n",
      " rmalization)                                                                                     \n",
      "                                                                                                  \n",
      " activation_3 (Activation)      (None, 73, 73, 80)   0           ['batch_normalization_3[0][0]']  \n",
      "                                                                                                  \n",
      " conv2d_4 (Conv2D)              (None, 71, 71, 192)  138240      ['activation_3[0][0]']           \n",
      "                                                                                                  \n",
      " batch_normalization_4 (BatchNo  (None, 71, 71, 192)  576        ['conv2d_4[0][0]']               \n",
      " rmalization)                                                                                     \n",
      "                                                                                                  \n",
      " activation_4 (Activation)      (None, 71, 71, 192)  0           ['batch_normalization_4[0][0]']  \n",
      "                                                                                                  \n",
      " max_pooling2d_1 (MaxPooling2D)  (None, 35, 35, 192)  0          ['activation_4[0][0]']           \n",
      "                                                                                                  \n",
      " conv2d_8 (Conv2D)              (None, 35, 35, 64)   12288       ['max_pooling2d_1[0][0]']        \n",
      "                                                                                                  \n",
      " batch_normalization_8 (BatchNo  (None, 35, 35, 64)  192         ['conv2d_8[0][0]']               \n",
      " rmalization)                                                                                     \n",
      "                                                                                                  \n",
      " activation_8 (Activation)      (None, 35, 35, 64)   0           ['batch_normalization_8[0][0]']  \n",
      "                                                                                                  \n",
      " conv2d_6 (Conv2D)              (None, 35, 35, 48)   9216        ['max_pooling2d_1[0][0]']        \n",
      "                                                                                                  \n",
      " conv2d_9 (Conv2D)              (None, 35, 35, 96)   55296       ['activation_8[0][0]']           \n",
      "                                                                                                  \n",
      " batch_normalization_6 (BatchNo  (None, 35, 35, 48)  144         ['conv2d_6[0][0]']               \n",
      " rmalization)                                                                                     \n",
      "                                                                                                  \n",
      " batch_normalization_9 (BatchNo  (None, 35, 35, 96)  288         ['conv2d_9[0][0]']               \n",
      " rmalization)                                                                                     \n",
      "                                                                                                  \n",
      " activation_6 (Activation)      (None, 35, 35, 48)   0           ['batch_normalization_6[0][0]']  \n",
      "                                                                                                  \n",
      " activation_9 (Activation)      (None, 35, 35, 96)   0           ['batch_normalization_9[0][0]']  \n",
      "                                                                                                  \n",
      " average_pooling2d (AveragePool  (None, 35, 35, 192)  0          ['max_pooling2d_1[0][0]']        \n",
      " ing2D)                                                                                           \n",
      "                                                                                                  \n",
      " conv2d_5 (Conv2D)              (None, 35, 35, 64)   12288       ['max_pooling2d_1[0][0]']        \n",
      "                                                                                                  \n",
      " conv2d_7 (Conv2D)              (None, 35, 35, 64)   76800       ['activation_6[0][0]']           \n",
      "                                                                                                  \n",
      " conv2d_10 (Conv2D)             (None, 35, 35, 96)   82944       ['activation_9[0][0]']           \n",
      "                                                                                                  \n",
      " conv2d_11 (Conv2D)             (None, 35, 35, 32)   6144        ['average_pooling2d[0][0]']      \n",
      "                                                                                                  \n",
      " batch_normalization_5 (BatchNo  (None, 35, 35, 64)  192         ['conv2d_5[0][0]']               \n",
      " rmalization)                                                                                     \n",
      "                                                                                                  \n",
      " batch_normalization_7 (BatchNo  (None, 35, 35, 64)  192         ['conv2d_7[0][0]']               \n",
      " rmalization)                                                                                     \n",
      "                                                                                                  \n",
      " batch_normalization_10 (BatchN  (None, 35, 35, 96)  288         ['conv2d_10[0][0]']              \n",
      " ormalization)                                                                                    \n",
      "                                                                                                  \n",
      " batch_normalization_11 (BatchN  (None, 35, 35, 32)  96          ['conv2d_11[0][0]']              \n",
      " ormalization)                                                                                    \n",
      "                                                                                                  \n",
      " activation_5 (Activation)      (None, 35, 35, 64)   0           ['batch_normalization_5[0][0]']  \n",
      "                                                                                                  \n",
      " activation_7 (Activation)      (None, 35, 35, 64)   0           ['batch_normalization_7[0][0]']  \n",
      "                                                                                                  \n",
      " activation_10 (Activation)     (None, 35, 35, 96)   0           ['batch_normalization_10[0][0]'] \n",
      "                                                                                                  \n",
      " activation_11 (Activation)     (None, 35, 35, 32)   0           ['batch_normalization_11[0][0]'] \n",
      "                                                                                                  \n",
      " mixed0 (Concatenate)           (None, 35, 35, 256)  0           ['activation_5[0][0]',           \n",
      "                                                                  'activation_7[0][0]',           \n",
      "                                                                  'activation_10[0][0]',          \n",
      "                                                                  'activation_11[0][0]']          \n",
      "                                                                                                  \n",
      " conv2d_15 (Conv2D)             (None, 35, 35, 64)   16384       ['mixed0[0][0]']                 \n",
      "                                                                                                  \n",
      " batch_normalization_15 (BatchN  (None, 35, 35, 64)  192         ['conv2d_15[0][0]']              \n",
      " ormalization)                                                                                    \n",
      "                                                                                                  \n",
      " activation_15 (Activation)     (None, 35, 35, 64)   0           ['batch_normalization_15[0][0]'] \n",
      "                                                                                                  \n",
      " conv2d_13 (Conv2D)             (None, 35, 35, 48)   12288       ['mixed0[0][0]']                 \n",
      "                                                                                                  \n",
      " conv2d_16 (Conv2D)             (None, 35, 35, 96)   55296       ['activation_15[0][0]']          \n",
      "                                                                                                  \n",
      " batch_normalization_13 (BatchN  (None, 35, 35, 48)  144         ['conv2d_13[0][0]']              \n",
      " ormalization)                                                                                    \n",
      "                                                                                                  \n",
      " batch_normalization_16 (BatchN  (None, 35, 35, 96)  288         ['conv2d_16[0][0]']              \n",
      " ormalization)                                                                                    \n",
      "                                                                                                  \n",
      " activation_13 (Activation)     (None, 35, 35, 48)   0           ['batch_normalization_13[0][0]'] \n",
      "                                                                                                  \n",
      " activation_16 (Activation)     (None, 35, 35, 96)   0           ['batch_normalization_16[0][0]'] \n",
      "                                                                                                  \n",
      " average_pooling2d_1 (AveragePo  (None, 35, 35, 256)  0          ['mixed0[0][0]']                 \n",
      " oling2D)                                                                                         \n",
      "                                                                                                  \n",
      " conv2d_12 (Conv2D)             (None, 35, 35, 64)   16384       ['mixed0[0][0]']                 \n",
      "                                                                                                  \n",
      " conv2d_14 (Conv2D)             (None, 35, 35, 64)   76800       ['activation_13[0][0]']          \n",
      "                                                                                                  \n",
      " conv2d_17 (Conv2D)             (None, 35, 35, 96)   82944       ['activation_16[0][0]']          \n",
      "                                                                                                  \n",
      " conv2d_18 (Conv2D)             (None, 35, 35, 64)   16384       ['average_pooling2d_1[0][0]']    \n",
      "                                                                                                  \n",
      " batch_normalization_12 (BatchN  (None, 35, 35, 64)  192         ['conv2d_12[0][0]']              \n",
      " ormalization)                                                                                    \n",
      "                                                                                                  \n",
      " batch_normalization_14 (BatchN  (None, 35, 35, 64)  192         ['conv2d_14[0][0]']              \n",
      " ormalization)                                                                                    \n",
      "                                                                                                  \n",
      " batch_normalization_17 (BatchN  (None, 35, 35, 96)  288         ['conv2d_17[0][0]']              \n",
      " ormalization)                                                                                    \n",
      "                                                                                                  \n",
      " batch_normalization_18 (BatchN  (None, 35, 35, 64)  192         ['conv2d_18[0][0]']              \n",
      " ormalization)                                                                                    \n",
      "                                                                                                  \n",
      " activation_12 (Activation)     (None, 35, 35, 64)   0           ['batch_normalization_12[0][0]'] \n",
      "                                                                                                  \n",
      " activation_14 (Activation)     (None, 35, 35, 64)   0           ['batch_normalization_14[0][0]'] \n",
      "                                                                                                  \n",
      " activation_17 (Activation)     (None, 35, 35, 96)   0           ['batch_normalization_17[0][0]'] \n",
      "                                                                                                  \n",
      " activation_18 (Activation)     (None, 35, 35, 64)   0           ['batch_normalization_18[0][0]'] \n",
      "                                                                                                  \n",
      " mixed1 (Concatenate)           (None, 35, 35, 288)  0           ['activation_12[0][0]',          \n",
      "                                                                  'activation_14[0][0]',          \n",
      "                                                                  'activation_17[0][0]',          \n",
      "                                                                  'activation_18[0][0]']          \n",
      "                                                                                                  \n",
      " conv2d_22 (Conv2D)             (None, 35, 35, 64)   18432       ['mixed1[0][0]']                 \n",
      "                                                                                                  \n",
      " batch_normalization_22 (BatchN  (None, 35, 35, 64)  192         ['conv2d_22[0][0]']              \n",
      " ormalization)                                                                                    \n",
      "                                                                                                  \n",
      " activation_22 (Activation)     (None, 35, 35, 64)   0           ['batch_normalization_22[0][0]'] \n",
      "                                                                                                  \n",
      " conv2d_20 (Conv2D)             (None, 35, 35, 48)   13824       ['mixed1[0][0]']                 \n",
      "                                                                                                  \n",
      " conv2d_23 (Conv2D)             (None, 35, 35, 96)   55296       ['activation_22[0][0]']          \n",
      "                                                                                                  \n",
      " batch_normalization_20 (BatchN  (None, 35, 35, 48)  144         ['conv2d_20[0][0]']              \n",
      " ormalization)                                                                                    \n",
      "                                                                                                  \n",
      " batch_normalization_23 (BatchN  (None, 35, 35, 96)  288         ['conv2d_23[0][0]']              \n",
      " ormalization)                                                                                    \n",
      "                                                                                                  \n",
      " activation_20 (Activation)     (None, 35, 35, 48)   0           ['batch_normalization_20[0][0]'] \n",
      "                                                                                                  \n",
      " activation_23 (Activation)     (None, 35, 35, 96)   0           ['batch_normalization_23[0][0]'] \n",
      "                                                                                                  \n",
      " average_pooling2d_2 (AveragePo  (None, 35, 35, 288)  0          ['mixed1[0][0]']                 \n",
      " oling2D)                                                                                         \n",
      "                                                                                                  \n",
      " conv2d_19 (Conv2D)             (None, 35, 35, 64)   18432       ['mixed1[0][0]']                 \n",
      "                                                                                                  \n",
      " conv2d_21 (Conv2D)             (None, 35, 35, 64)   76800       ['activation_20[0][0]']          \n",
      "                                                                                                  \n",
      " conv2d_24 (Conv2D)             (None, 35, 35, 96)   82944       ['activation_23[0][0]']          \n",
      "                                                                                                  \n",
      " conv2d_25 (Conv2D)             (None, 35, 35, 64)   18432       ['average_pooling2d_2[0][0]']    \n",
      "                                                                                                  \n",
      " batch_normalization_19 (BatchN  (None, 35, 35, 64)  192         ['conv2d_19[0][0]']              \n",
      " ormalization)                                                                                    \n",
      "                                                                                                  \n",
      " batch_normalization_21 (BatchN  (None, 35, 35, 64)  192         ['conv2d_21[0][0]']              \n",
      " ormalization)                                                                                    \n",
      "                                                                                                  \n",
      " batch_normalization_24 (BatchN  (None, 35, 35, 96)  288         ['conv2d_24[0][0]']              \n",
      " ormalization)                                                                                    \n",
      "                                                                                                  \n",
      " batch_normalization_25 (BatchN  (None, 35, 35, 64)  192         ['conv2d_25[0][0]']              \n",
      " ormalization)                                                                                    \n",
      "                                                                                                  \n",
      " activation_19 (Activation)     (None, 35, 35, 64)   0           ['batch_normalization_19[0][0]'] \n",
      "                                                                                                  \n",
      " activation_21 (Activation)     (None, 35, 35, 64)   0           ['batch_normalization_21[0][0]'] \n",
      "                                                                                                  \n",
      " activation_24 (Activation)     (None, 35, 35, 96)   0           ['batch_normalization_24[0][0]'] \n",
      "                                                                                                  \n",
      " activation_25 (Activation)     (None, 35, 35, 64)   0           ['batch_normalization_25[0][0]'] \n",
      "                                                                                                  \n",
      " mixed2 (Concatenate)           (None, 35, 35, 288)  0           ['activation_19[0][0]',          \n",
      "                                                                  'activation_21[0][0]',          \n",
      "                                                                  'activation_24[0][0]',          \n",
      "                                                                  'activation_25[0][0]']          \n",
      "                                                                                                  \n",
      " conv2d_27 (Conv2D)             (None, 35, 35, 64)   18432       ['mixed2[0][0]']                 \n",
      "                                                                                                  \n",
      " batch_normalization_27 (BatchN  (None, 35, 35, 64)  192         ['conv2d_27[0][0]']              \n",
      " ormalization)                                                                                    \n",
      "                                                                                                  \n",
      " activation_27 (Activation)     (None, 35, 35, 64)   0           ['batch_normalization_27[0][0]'] \n",
      "                                                                                                  \n",
      " conv2d_28 (Conv2D)             (None, 35, 35, 96)   55296       ['activation_27[0][0]']          \n",
      "                                                                                                  \n",
      " batch_normalization_28 (BatchN  (None, 35, 35, 96)  288         ['conv2d_28[0][0]']              \n",
      " ormalization)                                                                                    \n",
      "                                                                                                  \n",
      " activation_28 (Activation)     (None, 35, 35, 96)   0           ['batch_normalization_28[0][0]'] \n",
      "                                                                                                  \n",
      " conv2d_26 (Conv2D)             (None, 17, 17, 384)  995328      ['mixed2[0][0]']                 \n",
      "                                                                                                  \n",
      " conv2d_29 (Conv2D)             (None, 17, 17, 96)   82944       ['activation_28[0][0]']          \n",
      "                                                                                                  \n",
      " batch_normalization_26 (BatchN  (None, 17, 17, 384)  1152       ['conv2d_26[0][0]']              \n",
      " ormalization)                                                                                    \n",
      "                                                                                                  \n",
      " batch_normalization_29 (BatchN  (None, 17, 17, 96)  288         ['conv2d_29[0][0]']              \n",
      " ormalization)                                                                                    \n",
      "                                                                                                  \n",
      " activation_26 (Activation)     (None, 17, 17, 384)  0           ['batch_normalization_26[0][0]'] \n",
      "                                                                                                  \n",
      " activation_29 (Activation)     (None, 17, 17, 96)   0           ['batch_normalization_29[0][0]'] \n",
      "                                                                                                  \n",
      " max_pooling2d_2 (MaxPooling2D)  (None, 17, 17, 288)  0          ['mixed2[0][0]']                 \n",
      "                                                                                                  \n",
      " mixed3 (Concatenate)           (None, 17, 17, 768)  0           ['activation_26[0][0]',          \n",
      "                                                                  'activation_29[0][0]',          \n",
      "                                                                  'max_pooling2d_2[0][0]']        \n",
      "                                                                                                  \n",
      " conv2d_34 (Conv2D)             (None, 17, 17, 128)  98304       ['mixed3[0][0]']                 \n",
      "                                                                                                  \n",
      " batch_normalization_34 (BatchN  (None, 17, 17, 128)  384        ['conv2d_34[0][0]']              \n",
      " ormalization)                                                                                    \n",
      "                                                                                                  \n",
      " activation_34 (Activation)     (None, 17, 17, 128)  0           ['batch_normalization_34[0][0]'] \n",
      "                                                                                                  \n",
      " conv2d_35 (Conv2D)             (None, 17, 17, 128)  114688      ['activation_34[0][0]']          \n",
      "                                                                                                  \n",
      " batch_normalization_35 (BatchN  (None, 17, 17, 128)  384        ['conv2d_35[0][0]']              \n",
      " ormalization)                                                                                    \n",
      "                                                                                                  \n",
      " activation_35 (Activation)     (None, 17, 17, 128)  0           ['batch_normalization_35[0][0]'] \n",
      "                                                                                                  \n",
      " conv2d_31 (Conv2D)             (None, 17, 17, 128)  98304       ['mixed3[0][0]']                 \n",
      "                                                                                                  \n",
      " conv2d_36 (Conv2D)             (None, 17, 17, 128)  114688      ['activation_35[0][0]']          \n",
      "                                                                                                  \n",
      " batch_normalization_31 (BatchN  (None, 17, 17, 128)  384        ['conv2d_31[0][0]']              \n",
      " ormalization)                                                                                    \n",
      "                                                                                                  \n",
      " batch_normalization_36 (BatchN  (None, 17, 17, 128)  384        ['conv2d_36[0][0]']              \n",
      " ormalization)                                                                                    \n",
      "                                                                                                  \n",
      " activation_31 (Activation)     (None, 17, 17, 128)  0           ['batch_normalization_31[0][0]'] \n",
      "                                                                                                  \n",
      " activation_36 (Activation)     (None, 17, 17, 128)  0           ['batch_normalization_36[0][0]'] \n",
      "                                                                                                  \n",
      " conv2d_32 (Conv2D)             (None, 17, 17, 128)  114688      ['activation_31[0][0]']          \n",
      "                                                                                                  \n",
      " conv2d_37 (Conv2D)             (None, 17, 17, 128)  114688      ['activation_36[0][0]']          \n",
      "                                                                                                  \n",
      " batch_normalization_32 (BatchN  (None, 17, 17, 128)  384        ['conv2d_32[0][0]']              \n",
      " ormalization)                                                                                    \n",
      "                                                                                                  \n",
      " batch_normalization_37 (BatchN  (None, 17, 17, 128)  384        ['conv2d_37[0][0]']              \n",
      " ormalization)                                                                                    \n",
      "                                                                                                  \n",
      " activation_32 (Activation)     (None, 17, 17, 128)  0           ['batch_normalization_32[0][0]'] \n",
      "                                                                                                  \n",
      " activation_37 (Activation)     (None, 17, 17, 128)  0           ['batch_normalization_37[0][0]'] \n",
      "                                                                                                  \n",
      " average_pooling2d_3 (AveragePo  (None, 17, 17, 768)  0          ['mixed3[0][0]']                 \n",
      " oling2D)                                                                                         \n",
      "                                                                                                  \n",
      " conv2d_30 (Conv2D)             (None, 17, 17, 192)  147456      ['mixed3[0][0]']                 \n",
      "                                                                                                  \n",
      " conv2d_33 (Conv2D)             (None, 17, 17, 192)  172032      ['activation_32[0][0]']          \n",
      "                                                                                                  \n",
      " conv2d_38 (Conv2D)             (None, 17, 17, 192)  172032      ['activation_37[0][0]']          \n",
      "                                                                                                  \n",
      " conv2d_39 (Conv2D)             (None, 17, 17, 192)  147456      ['average_pooling2d_3[0][0]']    \n",
      "                                                                                                  \n",
      " batch_normalization_30 (BatchN  (None, 17, 17, 192)  576        ['conv2d_30[0][0]']              \n",
      " ormalization)                                                                                    \n",
      "                                                                                                  \n",
      " batch_normalization_33 (BatchN  (None, 17, 17, 192)  576        ['conv2d_33[0][0]']              \n",
      " ormalization)                                                                                    \n",
      "                                                                                                  \n",
      " batch_normalization_38 (BatchN  (None, 17, 17, 192)  576        ['conv2d_38[0][0]']              \n",
      " ormalization)                                                                                    \n",
      "                                                                                                  \n",
      " batch_normalization_39 (BatchN  (None, 17, 17, 192)  576        ['conv2d_39[0][0]']              \n",
      " ormalization)                                                                                    \n",
      "                                                                                                  \n",
      " activation_30 (Activation)     (None, 17, 17, 192)  0           ['batch_normalization_30[0][0]'] \n",
      "                                                                                                  \n",
      " activation_33 (Activation)     (None, 17, 17, 192)  0           ['batch_normalization_33[0][0]'] \n",
      "                                                                                                  \n",
      " activation_38 (Activation)     (None, 17, 17, 192)  0           ['batch_normalization_38[0][0]'] \n",
      "                                                                                                  \n",
      " activation_39 (Activation)     (None, 17, 17, 192)  0           ['batch_normalization_39[0][0]'] \n",
      "                                                                                                  \n",
      " mixed4 (Concatenate)           (None, 17, 17, 768)  0           ['activation_30[0][0]',          \n",
      "                                                                  'activation_33[0][0]',          \n",
      "                                                                  'activation_38[0][0]',          \n",
      "                                                                  'activation_39[0][0]']          \n",
      "                                                                                                  \n",
      " conv2d_44 (Conv2D)             (None, 17, 17, 160)  122880      ['mixed4[0][0]']                 \n",
      "                                                                                                  \n",
      " batch_normalization_44 (BatchN  (None, 17, 17, 160)  480        ['conv2d_44[0][0]']              \n",
      " ormalization)                                                                                    \n",
      "                                                                                                  \n",
      " activation_44 (Activation)     (None, 17, 17, 160)  0           ['batch_normalization_44[0][0]'] \n",
      "                                                                                                  \n",
      " conv2d_45 (Conv2D)             (None, 17, 17, 160)  179200      ['activation_44[0][0]']          \n",
      "                                                                                                  \n",
      " batch_normalization_45 (BatchN  (None, 17, 17, 160)  480        ['conv2d_45[0][0]']              \n",
      " ormalization)                                                                                    \n",
      "                                                                                                  \n",
      " activation_45 (Activation)     (None, 17, 17, 160)  0           ['batch_normalization_45[0][0]'] \n",
      "                                                                                                  \n",
      " conv2d_41 (Conv2D)             (None, 17, 17, 160)  122880      ['mixed4[0][0]']                 \n",
      "                                                                                                  \n",
      " conv2d_46 (Conv2D)             (None, 17, 17, 160)  179200      ['activation_45[0][0]']          \n",
      "                                                                                                  \n",
      " batch_normalization_41 (BatchN  (None, 17, 17, 160)  480        ['conv2d_41[0][0]']              \n",
      " ormalization)                                                                                    \n",
      "                                                                                                  \n",
      " batch_normalization_46 (BatchN  (None, 17, 17, 160)  480        ['conv2d_46[0][0]']              \n",
      " ormalization)                                                                                    \n",
      "                                                                                                  \n",
      " activation_41 (Activation)     (None, 17, 17, 160)  0           ['batch_normalization_41[0][0]'] \n",
      "                                                                                                  \n",
      " activation_46 (Activation)     (None, 17, 17, 160)  0           ['batch_normalization_46[0][0]'] \n",
      "                                                                                                  \n",
      " conv2d_42 (Conv2D)             (None, 17, 17, 160)  179200      ['activation_41[0][0]']          \n",
      "                                                                                                  \n",
      " conv2d_47 (Conv2D)             (None, 17, 17, 160)  179200      ['activation_46[0][0]']          \n",
      "                                                                                                  \n",
      " batch_normalization_42 (BatchN  (None, 17, 17, 160)  480        ['conv2d_42[0][0]']              \n",
      " ormalization)                                                                                    \n",
      "                                                                                                  \n",
      " batch_normalization_47 (BatchN  (None, 17, 17, 160)  480        ['conv2d_47[0][0]']              \n",
      " ormalization)                                                                                    \n",
      "                                                                                                  \n",
      " activation_42 (Activation)     (None, 17, 17, 160)  0           ['batch_normalization_42[0][0]'] \n",
      "                                                                                                  \n",
      " activation_47 (Activation)     (None, 17, 17, 160)  0           ['batch_normalization_47[0][0]'] \n",
      "                                                                                                  \n",
      " average_pooling2d_4 (AveragePo  (None, 17, 17, 768)  0          ['mixed4[0][0]']                 \n",
      " oling2D)                                                                                         \n",
      "                                                                                                  \n",
      " conv2d_40 (Conv2D)             (None, 17, 17, 192)  147456      ['mixed4[0][0]']                 \n",
      "                                                                                                  \n",
      " conv2d_43 (Conv2D)             (None, 17, 17, 192)  215040      ['activation_42[0][0]']          \n",
      "                                                                                                  \n",
      " conv2d_48 (Conv2D)             (None, 17, 17, 192)  215040      ['activation_47[0][0]']          \n",
      "                                                                                                  \n",
      " conv2d_49 (Conv2D)             (None, 17, 17, 192)  147456      ['average_pooling2d_4[0][0]']    \n",
      "                                                                                                  \n",
      " batch_normalization_40 (BatchN  (None, 17, 17, 192)  576        ['conv2d_40[0][0]']              \n",
      " ormalization)                                                                                    \n",
      "                                                                                                  \n",
      " batch_normalization_43 (BatchN  (None, 17, 17, 192)  576        ['conv2d_43[0][0]']              \n",
      " ormalization)                                                                                    \n",
      "                                                                                                  \n",
      " batch_normalization_48 (BatchN  (None, 17, 17, 192)  576        ['conv2d_48[0][0]']              \n",
      " ormalization)                                                                                    \n",
      "                                                                                                  \n",
      " batch_normalization_49 (BatchN  (None, 17, 17, 192)  576        ['conv2d_49[0][0]']              \n",
      " ormalization)                                                                                    \n",
      "                                                                                                  \n",
      " activation_40 (Activation)     (None, 17, 17, 192)  0           ['batch_normalization_40[0][0]'] \n",
      "                                                                                                  \n",
      " activation_43 (Activation)     (None, 17, 17, 192)  0           ['batch_normalization_43[0][0]'] \n",
      "                                                                                                  \n",
      " activation_48 (Activation)     (None, 17, 17, 192)  0           ['batch_normalization_48[0][0]'] \n",
      "                                                                                                  \n",
      " activation_49 (Activation)     (None, 17, 17, 192)  0           ['batch_normalization_49[0][0]'] \n",
      "                                                                                                  \n",
      " mixed5 (Concatenate)           (None, 17, 17, 768)  0           ['activation_40[0][0]',          \n",
      "                                                                  'activation_43[0][0]',          \n",
      "                                                                  'activation_48[0][0]',          \n",
      "                                                                  'activation_49[0][0]']          \n",
      "                                                                                                  \n",
      " conv2d_54 (Conv2D)             (None, 17, 17, 160)  122880      ['mixed5[0][0]']                 \n",
      "                                                                                                  \n",
      " batch_normalization_54 (BatchN  (None, 17, 17, 160)  480        ['conv2d_54[0][0]']              \n",
      " ormalization)                                                                                    \n",
      "                                                                                                  \n",
      " activation_54 (Activation)     (None, 17, 17, 160)  0           ['batch_normalization_54[0][0]'] \n",
      "                                                                                                  \n",
      " conv2d_55 (Conv2D)             (None, 17, 17, 160)  179200      ['activation_54[0][0]']          \n",
      "                                                                                                  \n",
      " batch_normalization_55 (BatchN  (None, 17, 17, 160)  480        ['conv2d_55[0][0]']              \n",
      " ormalization)                                                                                    \n",
      "                                                                                                  \n",
      " activation_55 (Activation)     (None, 17, 17, 160)  0           ['batch_normalization_55[0][0]'] \n",
      "                                                                                                  \n",
      " conv2d_51 (Conv2D)             (None, 17, 17, 160)  122880      ['mixed5[0][0]']                 \n",
      "                                                                                                  \n",
      " conv2d_56 (Conv2D)             (None, 17, 17, 160)  179200      ['activation_55[0][0]']          \n",
      "                                                                                                  \n",
      " batch_normalization_51 (BatchN  (None, 17, 17, 160)  480        ['conv2d_51[0][0]']              \n",
      " ormalization)                                                                                    \n",
      "                                                                                                  \n",
      " batch_normalization_56 (BatchN  (None, 17, 17, 160)  480        ['conv2d_56[0][0]']              \n",
      " ormalization)                                                                                    \n",
      "                                                                                                  \n",
      " activation_51 (Activation)     (None, 17, 17, 160)  0           ['batch_normalization_51[0][0]'] \n",
      "                                                                                                  \n",
      " activation_56 (Activation)     (None, 17, 17, 160)  0           ['batch_normalization_56[0][0]'] \n",
      "                                                                                                  \n",
      " conv2d_52 (Conv2D)             (None, 17, 17, 160)  179200      ['activation_51[0][0]']          \n",
      "                                                                                                  \n",
      " conv2d_57 (Conv2D)             (None, 17, 17, 160)  179200      ['activation_56[0][0]']          \n",
      "                                                                                                  \n",
      " batch_normalization_52 (BatchN  (None, 17, 17, 160)  480        ['conv2d_52[0][0]']              \n",
      " ormalization)                                                                                    \n",
      "                                                                                                  \n",
      " batch_normalization_57 (BatchN  (None, 17, 17, 160)  480        ['conv2d_57[0][0]']              \n",
      " ormalization)                                                                                    \n",
      "                                                                                                  \n",
      " activation_52 (Activation)     (None, 17, 17, 160)  0           ['batch_normalization_52[0][0]'] \n",
      "                                                                                                  \n",
      " activation_57 (Activation)     (None, 17, 17, 160)  0           ['batch_normalization_57[0][0]'] \n",
      "                                                                                                  \n",
      " average_pooling2d_5 (AveragePo  (None, 17, 17, 768)  0          ['mixed5[0][0]']                 \n",
      " oling2D)                                                                                         \n",
      "                                                                                                  \n",
      " conv2d_50 (Conv2D)             (None, 17, 17, 192)  147456      ['mixed5[0][0]']                 \n",
      "                                                                                                  \n",
      " conv2d_53 (Conv2D)             (None, 17, 17, 192)  215040      ['activation_52[0][0]']          \n",
      "                                                                                                  \n",
      " conv2d_58 (Conv2D)             (None, 17, 17, 192)  215040      ['activation_57[0][0]']          \n",
      "                                                                                                  \n",
      " conv2d_59 (Conv2D)             (None, 17, 17, 192)  147456      ['average_pooling2d_5[0][0]']    \n",
      "                                                                                                  \n",
      " batch_normalization_50 (BatchN  (None, 17, 17, 192)  576        ['conv2d_50[0][0]']              \n",
      " ormalization)                                                                                    \n",
      "                                                                                                  \n",
      " batch_normalization_53 (BatchN  (None, 17, 17, 192)  576        ['conv2d_53[0][0]']              \n",
      " ormalization)                                                                                    \n",
      "                                                                                                  \n",
      " batch_normalization_58 (BatchN  (None, 17, 17, 192)  576        ['conv2d_58[0][0]']              \n",
      " ormalization)                                                                                    \n",
      "                                                                                                  \n",
      " batch_normalization_59 (BatchN  (None, 17, 17, 192)  576        ['conv2d_59[0][0]']              \n",
      " ormalization)                                                                                    \n",
      "                                                                                                  \n",
      " activation_50 (Activation)     (None, 17, 17, 192)  0           ['batch_normalization_50[0][0]'] \n",
      "                                                                                                  \n",
      " activation_53 (Activation)     (None, 17, 17, 192)  0           ['batch_normalization_53[0][0]'] \n",
      "                                                                                                  \n",
      " activation_58 (Activation)     (None, 17, 17, 192)  0           ['batch_normalization_58[0][0]'] \n",
      "                                                                                                  \n",
      " activation_59 (Activation)     (None, 17, 17, 192)  0           ['batch_normalization_59[0][0]'] \n",
      "                                                                                                  \n",
      " mixed6 (Concatenate)           (None, 17, 17, 768)  0           ['activation_50[0][0]',          \n",
      "                                                                  'activation_53[0][0]',          \n",
      "                                                                  'activation_58[0][0]',          \n",
      "                                                                  'activation_59[0][0]']          \n",
      "                                                                                                  \n",
      " conv2d_64 (Conv2D)             (None, 17, 17, 192)  147456      ['mixed6[0][0]']                 \n",
      "                                                                                                  \n",
      " batch_normalization_64 (BatchN  (None, 17, 17, 192)  576        ['conv2d_64[0][0]']              \n",
      " ormalization)                                                                                    \n",
      "                                                                                                  \n",
      " activation_64 (Activation)     (None, 17, 17, 192)  0           ['batch_normalization_64[0][0]'] \n",
      "                                                                                                  \n",
      " conv2d_65 (Conv2D)             (None, 17, 17, 192)  258048      ['activation_64[0][0]']          \n",
      "                                                                                                  \n",
      " batch_normalization_65 (BatchN  (None, 17, 17, 192)  576        ['conv2d_65[0][0]']              \n",
      " ormalization)                                                                                    \n",
      "                                                                                                  \n",
      " activation_65 (Activation)     (None, 17, 17, 192)  0           ['batch_normalization_65[0][0]'] \n",
      "                                                                                                  \n",
      " conv2d_61 (Conv2D)             (None, 17, 17, 192)  147456      ['mixed6[0][0]']                 \n",
      "                                                                                                  \n",
      " conv2d_66 (Conv2D)             (None, 17, 17, 192)  258048      ['activation_65[0][0]']          \n",
      "                                                                                                  \n",
      " batch_normalization_61 (BatchN  (None, 17, 17, 192)  576        ['conv2d_61[0][0]']              \n",
      " ormalization)                                                                                    \n",
      "                                                                                                  \n",
      " batch_normalization_66 (BatchN  (None, 17, 17, 192)  576        ['conv2d_66[0][0]']              \n",
      " ormalization)                                                                                    \n",
      "                                                                                                  \n",
      " activation_61 (Activation)     (None, 17, 17, 192)  0           ['batch_normalization_61[0][0]'] \n",
      "                                                                                                  \n",
      " activation_66 (Activation)     (None, 17, 17, 192)  0           ['batch_normalization_66[0][0]'] \n",
      "                                                                                                  \n",
      " conv2d_62 (Conv2D)             (None, 17, 17, 192)  258048      ['activation_61[0][0]']          \n",
      "                                                                                                  \n",
      " conv2d_67 (Conv2D)             (None, 17, 17, 192)  258048      ['activation_66[0][0]']          \n",
      "                                                                                                  \n",
      " batch_normalization_62 (BatchN  (None, 17, 17, 192)  576        ['conv2d_62[0][0]']              \n",
      " ormalization)                                                                                    \n",
      "                                                                                                  \n",
      " batch_normalization_67 (BatchN  (None, 17, 17, 192)  576        ['conv2d_67[0][0]']              \n",
      " ormalization)                                                                                    \n",
      "                                                                                                  \n",
      " activation_62 (Activation)     (None, 17, 17, 192)  0           ['batch_normalization_62[0][0]'] \n",
      "                                                                                                  \n",
      " activation_67 (Activation)     (None, 17, 17, 192)  0           ['batch_normalization_67[0][0]'] \n",
      "                                                                                                  \n",
      " average_pooling2d_6 (AveragePo  (None, 17, 17, 768)  0          ['mixed6[0][0]']                 \n",
      " oling2D)                                                                                         \n",
      "                                                                                                  \n",
      " conv2d_60 (Conv2D)             (None, 17, 17, 192)  147456      ['mixed6[0][0]']                 \n",
      "                                                                                                  \n",
      " conv2d_63 (Conv2D)             (None, 17, 17, 192)  258048      ['activation_62[0][0]']          \n",
      "                                                                                                  \n",
      " conv2d_68 (Conv2D)             (None, 17, 17, 192)  258048      ['activation_67[0][0]']          \n",
      "                                                                                                  \n",
      " conv2d_69 (Conv2D)             (None, 17, 17, 192)  147456      ['average_pooling2d_6[0][0]']    \n",
      "                                                                                                  \n",
      " batch_normalization_60 (BatchN  (None, 17, 17, 192)  576        ['conv2d_60[0][0]']              \n",
      " ormalization)                                                                                    \n",
      "                                                                                                  \n",
      " batch_normalization_63 (BatchN  (None, 17, 17, 192)  576        ['conv2d_63[0][0]']              \n",
      " ormalization)                                                                                    \n",
      "                                                                                                  \n",
      " batch_normalization_68 (BatchN  (None, 17, 17, 192)  576        ['conv2d_68[0][0]']              \n",
      " ormalization)                                                                                    \n",
      "                                                                                                  \n",
      " batch_normalization_69 (BatchN  (None, 17, 17, 192)  576        ['conv2d_69[0][0]']              \n",
      " ormalization)                                                                                    \n",
      "                                                                                                  \n",
      " activation_60 (Activation)     (None, 17, 17, 192)  0           ['batch_normalization_60[0][0]'] \n",
      "                                                                                                  \n",
      " activation_63 (Activation)     (None, 17, 17, 192)  0           ['batch_normalization_63[0][0]'] \n",
      "                                                                                                  \n",
      " activation_68 (Activation)     (None, 17, 17, 192)  0           ['batch_normalization_68[0][0]'] \n",
      "                                                                                                  \n",
      " activation_69 (Activation)     (None, 17, 17, 192)  0           ['batch_normalization_69[0][0]'] \n",
      "                                                                                                  \n",
      " mixed7 (Concatenate)           (None, 17, 17, 768)  0           ['activation_60[0][0]',          \n",
      "                                                                  'activation_63[0][0]',          \n",
      "                                                                  'activation_68[0][0]',          \n",
      "                                                                  'activation_69[0][0]']          \n",
      "                                                                                                  \n",
      " conv2d_72 (Conv2D)             (None, 17, 17, 192)  147456      ['mixed7[0][0]']                 \n",
      "                                                                                                  \n",
      " batch_normalization_72 (BatchN  (None, 17, 17, 192)  576        ['conv2d_72[0][0]']              \n",
      " ormalization)                                                                                    \n",
      "                                                                                                  \n",
      " activation_72 (Activation)     (None, 17, 17, 192)  0           ['batch_normalization_72[0][0]'] \n",
      "                                                                                                  \n",
      " conv2d_73 (Conv2D)             (None, 17, 17, 192)  258048      ['activation_72[0][0]']          \n",
      "                                                                                                  \n",
      " batch_normalization_73 (BatchN  (None, 17, 17, 192)  576        ['conv2d_73[0][0]']              \n",
      " ormalization)                                                                                    \n",
      "                                                                                                  \n",
      " activation_73 (Activation)     (None, 17, 17, 192)  0           ['batch_normalization_73[0][0]'] \n",
      "                                                                                                  \n",
      " conv2d_70 (Conv2D)             (None, 17, 17, 192)  147456      ['mixed7[0][0]']                 \n",
      "                                                                                                  \n",
      " conv2d_74 (Conv2D)             (None, 17, 17, 192)  258048      ['activation_73[0][0]']          \n",
      "                                                                                                  \n",
      " batch_normalization_70 (BatchN  (None, 17, 17, 192)  576        ['conv2d_70[0][0]']              \n",
      " ormalization)                                                                                    \n",
      "                                                                                                  \n",
      " batch_normalization_74 (BatchN  (None, 17, 17, 192)  576        ['conv2d_74[0][0]']              \n",
      " ormalization)                                                                                    \n",
      "                                                                                                  \n",
      " activation_70 (Activation)     (None, 17, 17, 192)  0           ['batch_normalization_70[0][0]'] \n",
      "                                                                                                  \n",
      " activation_74 (Activation)     (None, 17, 17, 192)  0           ['batch_normalization_74[0][0]'] \n",
      "                                                                                                  \n",
      " conv2d_71 (Conv2D)             (None, 8, 8, 320)    552960      ['activation_70[0][0]']          \n",
      "                                                                                                  \n",
      " conv2d_75 (Conv2D)             (None, 8, 8, 192)    331776      ['activation_74[0][0]']          \n",
      "                                                                                                  \n",
      " batch_normalization_71 (BatchN  (None, 8, 8, 320)   960         ['conv2d_71[0][0]']              \n",
      " ormalization)                                                                                    \n",
      "                                                                                                  \n",
      " batch_normalization_75 (BatchN  (None, 8, 8, 192)   576         ['conv2d_75[0][0]']              \n",
      " ormalization)                                                                                    \n",
      "                                                                                                  \n",
      " activation_71 (Activation)     (None, 8, 8, 320)    0           ['batch_normalization_71[0][0]'] \n",
      "                                                                                                  \n",
      " activation_75 (Activation)     (None, 8, 8, 192)    0           ['batch_normalization_75[0][0]'] \n",
      "                                                                                                  \n",
      " max_pooling2d_3 (MaxPooling2D)  (None, 8, 8, 768)   0           ['mixed7[0][0]']                 \n",
      "                                                                                                  \n",
      " mixed8 (Concatenate)           (None, 8, 8, 1280)   0           ['activation_71[0][0]',          \n",
      "                                                                  'activation_75[0][0]',          \n",
      "                                                                  'max_pooling2d_3[0][0]']        \n",
      "                                                                                                  \n",
      " conv2d_80 (Conv2D)             (None, 8, 8, 448)    573440      ['mixed8[0][0]']                 \n",
      "                                                                                                  \n",
      " batch_normalization_80 (BatchN  (None, 8, 8, 448)   1344        ['conv2d_80[0][0]']              \n",
      " ormalization)                                                                                    \n",
      "                                                                                                  \n",
      " activation_80 (Activation)     (None, 8, 8, 448)    0           ['batch_normalization_80[0][0]'] \n",
      "                                                                                                  \n",
      " conv2d_77 (Conv2D)             (None, 8, 8, 384)    491520      ['mixed8[0][0]']                 \n",
      "                                                                                                  \n",
      " conv2d_81 (Conv2D)             (None, 8, 8, 384)    1548288     ['activation_80[0][0]']          \n",
      "                                                                                                  \n",
      " batch_normalization_77 (BatchN  (None, 8, 8, 384)   1152        ['conv2d_77[0][0]']              \n",
      " ormalization)                                                                                    \n",
      "                                                                                                  \n",
      " batch_normalization_81 (BatchN  (None, 8, 8, 384)   1152        ['conv2d_81[0][0]']              \n",
      " ormalization)                                                                                    \n",
      "                                                                                                  \n",
      " activation_77 (Activation)     (None, 8, 8, 384)    0           ['batch_normalization_77[0][0]'] \n",
      "                                                                                                  \n",
      " activation_81 (Activation)     (None, 8, 8, 384)    0           ['batch_normalization_81[0][0]'] \n",
      "                                                                                                  \n",
      " conv2d_78 (Conv2D)             (None, 8, 8, 384)    442368      ['activation_77[0][0]']          \n",
      "                                                                                                  \n",
      " conv2d_79 (Conv2D)             (None, 8, 8, 384)    442368      ['activation_77[0][0]']          \n",
      "                                                                                                  \n",
      " conv2d_82 (Conv2D)             (None, 8, 8, 384)    442368      ['activation_81[0][0]']          \n",
      "                                                                                                  \n",
      " conv2d_83 (Conv2D)             (None, 8, 8, 384)    442368      ['activation_81[0][0]']          \n",
      "                                                                                                  \n",
      " average_pooling2d_7 (AveragePo  (None, 8, 8, 1280)  0           ['mixed8[0][0]']                 \n",
      " oling2D)                                                                                         \n",
      "                                                                                                  \n",
      " conv2d_76 (Conv2D)             (None, 8, 8, 320)    409600      ['mixed8[0][0]']                 \n",
      "                                                                                                  \n",
      " batch_normalization_78 (BatchN  (None, 8, 8, 384)   1152        ['conv2d_78[0][0]']              \n",
      " ormalization)                                                                                    \n",
      "                                                                                                  \n",
      " batch_normalization_79 (BatchN  (None, 8, 8, 384)   1152        ['conv2d_79[0][0]']              \n",
      " ormalization)                                                                                    \n",
      "                                                                                                  \n",
      " batch_normalization_82 (BatchN  (None, 8, 8, 384)   1152        ['conv2d_82[0][0]']              \n",
      " ormalization)                                                                                    \n",
      "                                                                                                  \n",
      " batch_normalization_83 (BatchN  (None, 8, 8, 384)   1152        ['conv2d_83[0][0]']              \n",
      " ormalization)                                                                                    \n",
      "                                                                                                  \n",
      " conv2d_84 (Conv2D)             (None, 8, 8, 192)    245760      ['average_pooling2d_7[0][0]']    \n",
      "                                                                                                  \n",
      " batch_normalization_76 (BatchN  (None, 8, 8, 320)   960         ['conv2d_76[0][0]']              \n",
      " ormalization)                                                                                    \n",
      "                                                                                                  \n",
      " activation_78 (Activation)     (None, 8, 8, 384)    0           ['batch_normalization_78[0][0]'] \n",
      "                                                                                                  \n",
      " activation_79 (Activation)     (None, 8, 8, 384)    0           ['batch_normalization_79[0][0]'] \n",
      "                                                                                                  \n",
      " activation_82 (Activation)     (None, 8, 8, 384)    0           ['batch_normalization_82[0][0]'] \n",
      "                                                                                                  \n",
      " activation_83 (Activation)     (None, 8, 8, 384)    0           ['batch_normalization_83[0][0]'] \n",
      "                                                                                                  \n",
      " batch_normalization_84 (BatchN  (None, 8, 8, 192)   576         ['conv2d_84[0][0]']              \n",
      " ormalization)                                                                                    \n",
      "                                                                                                  \n",
      " activation_76 (Activation)     (None, 8, 8, 320)    0           ['batch_normalization_76[0][0]'] \n",
      "                                                                                                  \n",
      " mixed9_0 (Concatenate)         (None, 8, 8, 768)    0           ['activation_78[0][0]',          \n",
      "                                                                  'activation_79[0][0]']          \n",
      "                                                                                                  \n",
      " concatenate (Concatenate)      (None, 8, 8, 768)    0           ['activation_82[0][0]',          \n",
      "                                                                  'activation_83[0][0]']          \n",
      "                                                                                                  \n",
      " activation_84 (Activation)     (None, 8, 8, 192)    0           ['batch_normalization_84[0][0]'] \n",
      "                                                                                                  \n",
      " mixed9 (Concatenate)           (None, 8, 8, 2048)   0           ['activation_76[0][0]',          \n",
      "                                                                  'mixed9_0[0][0]',               \n",
      "                                                                  'concatenate[0][0]',            \n",
      "                                                                  'activation_84[0][0]']          \n",
      "                                                                                                  \n",
      " conv2d_89 (Conv2D)             (None, 8, 8, 448)    917504      ['mixed9[0][0]']                 \n",
      "                                                                                                  \n",
      " batch_normalization_89 (BatchN  (None, 8, 8, 448)   1344        ['conv2d_89[0][0]']              \n",
      " ormalization)                                                                                    \n",
      "                                                                                                  \n",
      " activation_89 (Activation)     (None, 8, 8, 448)    0           ['batch_normalization_89[0][0]'] \n",
      "                                                                                                  \n",
      " conv2d_86 (Conv2D)             (None, 8, 8, 384)    786432      ['mixed9[0][0]']                 \n",
      "                                                                                                  \n",
      " conv2d_90 (Conv2D)             (None, 8, 8, 384)    1548288     ['activation_89[0][0]']          \n",
      "                                                                                                  \n",
      " batch_normalization_86 (BatchN  (None, 8, 8, 384)   1152        ['conv2d_86[0][0]']              \n",
      " ormalization)                                                                                    \n",
      "                                                                                                  \n",
      " batch_normalization_90 (BatchN  (None, 8, 8, 384)   1152        ['conv2d_90[0][0]']              \n",
      " ormalization)                                                                                    \n",
      "                                                                                                  \n",
      " activation_86 (Activation)     (None, 8, 8, 384)    0           ['batch_normalization_86[0][0]'] \n",
      "                                                                                                  \n",
      " activation_90 (Activation)     (None, 8, 8, 384)    0           ['batch_normalization_90[0][0]'] \n",
      "                                                                                                  \n",
      " conv2d_87 (Conv2D)             (None, 8, 8, 384)    442368      ['activation_86[0][0]']          \n",
      "                                                                                                  \n",
      " conv2d_88 (Conv2D)             (None, 8, 8, 384)    442368      ['activation_86[0][0]']          \n",
      "                                                                                                  \n",
      " conv2d_91 (Conv2D)             (None, 8, 8, 384)    442368      ['activation_90[0][0]']          \n",
      "                                                                                                  \n",
      " conv2d_92 (Conv2D)             (None, 8, 8, 384)    442368      ['activation_90[0][0]']          \n",
      "                                                                                                  \n",
      " average_pooling2d_8 (AveragePo  (None, 8, 8, 2048)  0           ['mixed9[0][0]']                 \n",
      " oling2D)                                                                                         \n",
      "                                                                                                  \n",
      " conv2d_85 (Conv2D)             (None, 8, 8, 320)    655360      ['mixed9[0][0]']                 \n",
      "                                                                                                  \n",
      " batch_normalization_87 (BatchN  (None, 8, 8, 384)   1152        ['conv2d_87[0][0]']              \n",
      " ormalization)                                                                                    \n",
      "                                                                                                  \n",
      " batch_normalization_88 (BatchN  (None, 8, 8, 384)   1152        ['conv2d_88[0][0]']              \n",
      " ormalization)                                                                                    \n",
      "                                                                                                  \n",
      " batch_normalization_91 (BatchN  (None, 8, 8, 384)   1152        ['conv2d_91[0][0]']              \n",
      " ormalization)                                                                                    \n",
      "                                                                                                  \n",
      " batch_normalization_92 (BatchN  (None, 8, 8, 384)   1152        ['conv2d_92[0][0]']              \n",
      " ormalization)                                                                                    \n",
      "                                                                                                  \n",
      " conv2d_93 (Conv2D)             (None, 8, 8, 192)    393216      ['average_pooling2d_8[0][0]']    \n",
      "                                                                                                  \n",
      " batch_normalization_85 (BatchN  (None, 8, 8, 320)   960         ['conv2d_85[0][0]']              \n",
      " ormalization)                                                                                    \n",
      "                                                                                                  \n",
      " activation_87 (Activation)     (None, 8, 8, 384)    0           ['batch_normalization_87[0][0]'] \n",
      "                                                                                                  \n",
      " activation_88 (Activation)     (None, 8, 8, 384)    0           ['batch_normalization_88[0][0]'] \n",
      "                                                                                                  \n",
      " activation_91 (Activation)     (None, 8, 8, 384)    0           ['batch_normalization_91[0][0]'] \n",
      "                                                                                                  \n",
      " activation_92 (Activation)     (None, 8, 8, 384)    0           ['batch_normalization_92[0][0]'] \n",
      "                                                                                                  \n",
      " batch_normalization_93 (BatchN  (None, 8, 8, 192)   576         ['conv2d_93[0][0]']              \n",
      " ormalization)                                                                                    \n",
      "                                                                                                  \n",
      " activation_85 (Activation)     (None, 8, 8, 320)    0           ['batch_normalization_85[0][0]'] \n",
      "                                                                                                  \n",
      " mixed9_1 (Concatenate)         (None, 8, 8, 768)    0           ['activation_87[0][0]',          \n",
      "                                                                  'activation_88[0][0]']          \n",
      "                                                                                                  \n",
      " concatenate_1 (Concatenate)    (None, 8, 8, 768)    0           ['activation_91[0][0]',          \n",
      "                                                                  'activation_92[0][0]']          \n",
      "                                                                                                  \n",
      " activation_93 (Activation)     (None, 8, 8, 192)    0           ['batch_normalization_93[0][0]'] \n",
      "                                                                                                  \n",
      " mixed10 (Concatenate)          (None, 8, 8, 2048)   0           ['activation_85[0][0]',          \n",
      "                                                                  'mixed9_1[0][0]',               \n",
      "                                                                  'concatenate_1[0][0]',          \n",
      "                                                                  'activation_93[0][0]']          \n",
      "                                                                                                  \n",
      " avg_pool (GlobalAveragePooling  (None, 2048)        0           ['mixed10[0][0]']                \n",
      " 2D)                                                                                              \n",
      "                                                                                                  \n",
      " predictions (Dense)            (None, 1000)         2049000     ['avg_pool[0][0]']               \n",
      "                                                                                                  \n",
      "==================================================================================================\n",
      "Total params: 23,851,784\n",
      "Trainable params: 23,817,352\n",
      "Non-trainable params: 34,432\n",
      "__________________________________________________________________________________________________\n"
     ]
    }
   ],
   "source": [
    "base_model = InceptionV3(input_shape=(299, 299, 3), weights='imagenet', include_top=True)\n",
    "base_model.summary()"
   ]
  },
  {
   "cell_type": "code",
   "execution_count": 30,
   "id": "0c79bd38",
   "metadata": {
    "papermill": {
     "duration": 12.941626,
     "end_time": "2022-06-05T20:44:27.800170",
     "exception": false,
     "start_time": "2022-06-05T20:44:14.858544",
     "status": "completed"
    },
    "scrolled": true,
    "tags": []
   },
   "outputs": [],
   "source": [
    "# plot_model(base_model, to_file='inception_model.png', show_shapes=True, show_layer_names=True)\n",
    "# display(Image.open('inception_model.png'))"
   ]
  },
  {
   "cell_type": "code",
   "execution_count": 31,
   "id": "4a371c39",
   "metadata": {
    "papermill": {
     "duration": 0.130489,
     "end_time": "2022-06-05T20:44:28.087213",
     "exception": false,
     "start_time": "2022-06-05T20:44:27.956724",
     "status": "completed"
    },
    "tags": []
   },
   "outputs": [],
   "source": [
    "x = base_model.layers[-2].output\n",
    "x = layers.Dense(1024, activation='relu')(x)\n",
    "x = layers.Dense (4, activation='softmax')(x)"
   ]
  },
  {
   "cell_type": "code",
   "execution_count": 32,
   "id": "d1e51bf9",
   "metadata": {
    "papermill": {
     "duration": 0.10314,
     "end_time": "2022-06-05T20:44:28.267062",
     "exception": false,
     "start_time": "2022-06-05T20:44:28.163922",
     "status": "completed"
    },
    "tags": []
   },
   "outputs": [],
   "source": [
    "base_m = Model(inputs=base_model.input, outputs=x)"
   ]
  },
  {
   "cell_type": "code",
   "execution_count": 33,
   "id": "023e86ff",
   "metadata": {
    "papermill": {
     "duration": 0.124134,
     "end_time": "2022-06-05T20:44:28.466312",
     "exception": false,
     "start_time": "2022-06-05T20:44:28.342178",
     "status": "completed"
    },
    "tags": []
   },
   "outputs": [],
   "source": [
    "base_m.compile(optimizer = RMSprop(learning_rate=0.0001), \n",
    "              loss = 'categorical_crossentropy', \n",
    "              metrics = ['accuracy', \n",
    "                        tf.keras.metrics.Recall(),\n",
    "                        tf.keras.metrics.Precision(),   \n",
    "                        tf.keras.metrics.AUC(),\n",
    "                        tfa.metrics.F1Score(num_classes=4, average=\"macro\")])"
   ]
  },
  {
   "cell_type": "code",
   "execution_count": null,
   "id": "db526e1a",
   "metadata": {
    "papermill": {
     "duration": 416.821591,
     "end_time": "2022-06-05T20:51:25.363004",
     "exception": false,
     "start_time": "2022-06-05T20:44:28.541413",
     "status": "completed"
    },
    "tags": []
   },
   "outputs": [
    {
     "name": "stdout",
     "output_type": "stream",
     "text": [
      "Epoch 1/20\n",
      "20/20 [==============================] - 367s 18s/step - loss: 0.9578 - accuracy: 0.6234 - recall: 0.4859 - precision: 0.7182 - auc: 0.8430 - f1_score: 0.6212 - val_loss: 1.5459 - val_accuracy: 0.4286 - val_recall: 0.3643 - val_precision: 0.4397 - val_auc: 0.7148 - val_f1_score: 0.3365\n",
      "Epoch 2/20\n",
      " 3/20 [===>..........................] - ETA: 4:25 - loss: 0.6400 - accuracy: 0.7812 - recall: 0.7292 - precision: 0.8333 - auc: 0.9270 - f1_score: 0.7782"
     ]
    }
   ],
   "source": [
    "clf=base_m.fit(train_generator,\n",
    "            validation_data = validation_generator,\n",
    "            steps_per_epoch=20,\n",
    "            epochs =20,\n",
    "            validation_steps=5,\n",
    "            verbose = 1)"
   ]
  },
  {
   "cell_type": "code",
   "execution_count": null,
   "id": "1b7a7716",
   "metadata": {
    "papermill": {
     "duration": 1.845047,
     "end_time": "2022-06-05T20:51:27.315940",
     "exception": false,
     "start_time": "2022-06-05T20:51:25.470893",
     "status": "completed"
    },
    "tags": []
   },
   "outputs": [],
   "source": [
    "base_m.evaluate(test_generator)"
   ]
  },
  {
   "cell_type": "code",
   "execution_count": null,
   "id": "a08622a9",
   "metadata": {
    "papermill": {
     "duration": 0.78638,
     "end_time": "2022-06-05T20:51:28.206294",
     "exception": false,
     "start_time": "2022-06-05T20:51:27.419914",
     "status": "completed"
    },
    "tags": []
   },
   "outputs": [],
   "source": [
    "acc = clf.history['accuracy']\n",
    "val_acc = clf.history['val_accuracy']\n",
    "loss = clf.history['loss']\n",
    "val_loss = clf.history['val_loss']\n",
    "\n",
    "epochs = range(1, len(loss) + 1)\n",
    "\n",
    "#accuracy plot\n",
    "plt.figure(figsize=(10,5))\n",
    "plt.plot(epochs, acc,  label='Training Accuracy') #color='lightblue',\n",
    "plt.plot(epochs, val_acc,  label='Validation Accuracy') #color='orange',\n",
    "plt.title('Training and Validation Accuracy')\n",
    "plt.ylabel('Accuracy')\n",
    "plt.xlabel('Epoch')\n",
    "plt.legend(loc=\"best\")\n",
    "plt.grid(visible=True, which='major', color='#666666', linestyle='-')\n",
    "plt.tight_layout()\n",
    "plt.savefig('inception_accuracy.png')\n",
    "\n",
    "#loss plot\n",
    "plt.figure(figsize=(10,5))\n",
    "plt.plot(epochs, loss, color='pink', label='Training Loss')\n",
    "plt.plot(epochs, val_loss, color='red', label='Validation Loss')\n",
    "plt.title('Training and Validation Loss')\n",
    "plt.xlabel('Epoch')\n",
    "plt.ylabel('Loss')\n",
    "plt.legend(loc=\"best\")\n",
    "plt.grid(visible=True, which='major', color='#666666', linestyle='-')\n",
    "plt.tight_layout()\n",
    "plt.rcParams['axes.facecolor'] = 'white'\n",
    "plt.savefig('inception_loss.png')\n"
   ]
  },
  {
   "cell_type": "code",
   "execution_count": null,
   "id": "f64acd95",
   "metadata": {
    "papermill": {
     "duration": 2.382375,
     "end_time": "2022-06-05T20:51:30.697522",
     "exception": false,
     "start_time": "2022-06-05T20:51:28.315147",
     "status": "completed"
    },
    "tags": []
   },
   "outputs": [],
   "source": [
    "base_m.predict(test_generator)"
   ]
  },
  {
   "cell_type": "code",
   "execution_count": null,
   "id": "8897339d",
   "metadata": {
    "papermill": {
     "duration": 0.132615,
     "end_time": "2022-06-05T20:51:30.942048",
     "exception": false,
     "start_time": "2022-06-05T20:51:30.809433",
     "status": "completed"
    },
    "tags": []
   },
   "outputs": [],
   "source": [
    "m = Model(inputs=base_model.input, outputs=base_model.layers[-2].output)"
   ]
  },
  {
   "cell_type": "code",
   "execution_count": null,
   "id": "586f7303",
   "metadata": {
    "papermill": {
     "duration": 26.872989,
     "end_time": "2022-06-05T20:51:57.918762",
     "exception": false,
     "start_time": "2022-06-05T20:51:31.045773",
     "status": "completed"
    },
    "tags": []
   },
   "outputs": [],
   "source": [
    "features = m.predict(train_generator)"
   ]
  },
  {
   "cell_type": "code",
   "execution_count": null,
   "id": "d760b027",
   "metadata": {
    "papermill": {
     "duration": 0.116039,
     "end_time": "2022-06-05T20:51:58.140111",
     "exception": false,
     "start_time": "2022-06-05T20:51:58.024072",
     "status": "completed"
    },
    "tags": []
   },
   "outputs": [],
   "source": [
    "features.shape"
   ]
  },
  {
   "cell_type": "code",
   "execution_count": null,
   "id": "58e33a36",
   "metadata": {
    "papermill": {
     "duration": 1.345057,
     "end_time": "2022-06-05T20:51:59.589523",
     "exception": false,
     "start_time": "2022-06-05T20:51:58.244466",
     "status": "completed"
    },
    "tags": []
   },
   "outputs": [],
   "source": [
    "t_features = m.predict(test_generator)"
   ]
  },
  {
   "cell_type": "code",
   "execution_count": null,
   "id": "4185428d",
   "metadata": {
    "papermill": {
     "duration": 0.124067,
     "end_time": "2022-06-05T20:51:59.830072",
     "exception": false,
     "start_time": "2022-06-05T20:51:59.706005",
     "status": "completed"
    },
    "tags": []
   },
   "outputs": [],
   "source": [
    "t_features.shape"
   ]
  },
  {
   "cell_type": "code",
   "execution_count": null,
   "id": "fa816a77",
   "metadata": {
    "papermill": {
     "duration": 0.126476,
     "end_time": "2022-06-05T20:52:00.062679",
     "exception": false,
     "start_time": "2022-06-05T20:51:59.936203",
     "status": "completed"
    },
    "tags": []
   },
   "outputs": [],
   "source": [
    "from numpy import save\n",
    "save('train_fe',features)\n",
    "save('test_fe',t_features)"
   ]
  },
  {
   "cell_type": "code",
   "execution_count": null,
   "id": "6f78dc1a",
   "metadata": {
    "papermill": {
     "duration": 4.764883,
     "end_time": "2022-06-05T20:52:04.933058",
     "exception": false,
     "start_time": "2022-06-05T20:52:00.168175",
     "status": "completed"
    },
    "tags": []
   },
   "outputs": [],
   "source": [
    "local_weights_file = './input/inception/inception_v3_weights_tf_dim_ordering_tf_kernels_notop.h5'\n",
    "pre_trained_model = InceptionV3(input_shape = (299, 299, 3), \n",
    "                                include_top = False, \n",
    "                                weights = None)\n",
    "pre_trained_model.load_weights(local_weights_file)\n",
    "for layer in pre_trained_model.layers:\n",
    "  layer.trainable = False\n",
    "last_layer = pre_trained_model.get_layer('mixed7')\n",
    "print('last layer output shape: ', last_layer.output_shape)\n",
    "last_output = last_layer.output"
   ]
  },
  {
   "cell_type": "code",
   "execution_count": null,
   "id": "e2b1c79f",
   "metadata": {
    "papermill": {
     "duration": 0.242405,
     "end_time": "2022-06-05T20:52:05.381472",
     "exception": false,
     "start_time": "2022-06-05T20:52:05.139067",
     "status": "completed"
    },
    "tags": []
   },
   "outputs": [],
   "source": [
    "x = layers.Flatten()(last_output)\n",
    "x = layers.Dropout(0.5)(x) \n",
    "x = layers.Dense(1024, activation='relu')(x)                 \n",
    "x = layers.Dense (4, activation='softmax')(x)           \n",
    "model = Model( pre_trained_model.input, x) \n",
    "model.compile(optimizer = RMSprop(learning_rate=0.0001), \n",
    "              loss = 'categorical_crossentropy', \n",
    "              metrics = ['accuracy'])"
   ]
  },
  {
   "cell_type": "code",
   "execution_count": null,
   "id": "bc465923",
   "metadata": {
    "papermill": {
     "duration": 0.142004,
     "end_time": "2022-06-05T20:52:05.641651",
     "exception": false,
     "start_time": "2022-06-05T20:52:05.499647",
     "status": "completed"
    },
    "scrolled": true,
    "tags": []
   },
   "outputs": [],
   "source": [
    "model.summary()"
   ]
  },
  {
   "cell_type": "code",
   "execution_count": null,
   "id": "f208a50a",
   "metadata": {
    "papermill": {
     "duration": 372.503622,
     "end_time": "2022-06-05T20:58:18.258795",
     "exception": false,
     "start_time": "2022-06-05T20:52:05.755173",
     "status": "completed"
    },
    "tags": []
   },
   "outputs": [],
   "source": [
    "history = model.fit(\n",
    "            train_generator,\n",
    "            validation_data = validation_generator,\n",
    "            steps_per_epoch=20,\n",
    "            epochs =20,\n",
    "            validation_steps=5,\n",
    "            verbose = 1)"
   ]
  },
  {
   "cell_type": "code",
   "execution_count": null,
   "id": "2586db1f",
   "metadata": {
    "papermill": {
     "duration": 1.606921,
     "end_time": "2022-06-05T20:58:19.998883",
     "exception": false,
     "start_time": "2022-06-05T20:58:18.391962",
     "status": "completed"
    },
    "tags": []
   },
   "outputs": [],
   "source": [
    "model.evaluate(test_generator)"
   ]
  },
  {
   "cell_type": "code",
   "execution_count": null,
   "id": "e01729a1",
   "metadata": {
    "papermill": {
     "duration": 4.284602,
     "end_time": "2022-06-05T20:58:24.421467",
     "exception": false,
     "start_time": "2022-06-05T20:58:20.136865",
     "status": "completed"
    },
    "tags": []
   },
   "outputs": [],
   "source": [
    "model.save(\"inception_v3.h5\")"
   ]
  },
  {
   "cell_type": "code",
   "execution_count": null,
   "id": "107ba89b",
   "metadata": {
    "papermill": {
     "duration": 0.88181,
     "end_time": "2022-06-05T20:58:26.143966",
     "exception": false,
     "start_time": "2022-06-05T20:58:25.262156",
     "status": "completed"
    },
    "tags": []
   },
   "outputs": [],
   "source": [
    "#plotting training values\n",
    "import matplotlib.pyplot as plt\n",
    "\n",
    "acc = history.history['accuracy']\n",
    "val_acc = history.history['val_accuracy']\n",
    "loss = history.history['loss']\n",
    "val_loss = history.history['val_loss']\n",
    "\n",
    "epochs = range(1, len(loss) + 1)\n",
    "\n",
    "#accuracy plot\n",
    "plt.figure(figsize=(10,5))\n",
    "plt.plot(epochs, acc,  label='Training Accuracy') #color='lightblue',\n",
    "plt.plot(epochs, val_acc,  label='Validation Accuracy') #color='orange',\n",
    "plt.title('Training and Validation Accuracy')\n",
    "plt.ylabel('Accuracy')\n",
    "plt.xlabel('Epoch')\n",
    "plt.legend(loc=\"best\")\n",
    "plt.grid(visible=True, which='major', color='#666666', linestyle='-')\n",
    "plt.tight_layout()\n",
    "plt.savefig('inception_weights_accuracy.png')\n",
    "\n",
    "#loss plot\n",
    "plt.figure(figsize=(10,5))\n",
    "plt.plot(epochs, loss, color='pink', label='Training Loss')\n",
    "plt.plot(epochs, val_loss, color='red', label='Validation Loss')\n",
    "plt.title('Training and Validation Loss')\n",
    "plt.xlabel('Epoch')\n",
    "plt.ylabel('Loss')\n",
    "plt.legend(loc=\"best\")\n",
    "plt.grid(visible=True, which='major', color='#666666', linestyle='-')\n",
    "plt.tight_layout()\n",
    "plt.rcParams['axes.facecolor'] = 'white'\n",
    "plt.savefig('inception_weights_loss.png')"
   ]
  },
  {
   "cell_type": "markdown",
   "id": "ba3304de",
   "metadata": {
    "papermill": {
     "duration": 0.136553,
     "end_time": "2022-06-05T20:58:26.425148",
     "exception": false,
     "start_time": "2022-06-05T20:58:26.288595",
     "status": "completed"
    },
    "tags": []
   },
   "source": [
    "# ResNet"
   ]
  },
  {
   "cell_type": "code",
   "execution_count": null,
   "id": "a06265d2",
   "metadata": {
    "papermill": {
     "duration": 0.453255,
     "end_time": "2022-06-05T20:58:27.018509",
     "exception": false,
     "start_time": "2022-06-05T20:58:26.565254",
     "status": "completed"
    },
    "tags": []
   },
   "outputs": [],
   "source": [
    "train_generator,validation_generator,test_generator = img_p(224,224)"
   ]
  },
  {
   "cell_type": "code",
   "execution_count": null,
   "id": "cfa72a5a",
   "metadata": {
    "papermill": {
     "duration": 6.613272,
     "end_time": "2022-06-05T20:58:33.768338",
     "exception": false,
     "start_time": "2022-06-05T20:58:27.155066",
     "status": "completed"
    },
    "tags": []
   },
   "outputs": [],
   "source": [
    "resnet_m = ResNet50(input_shape=(224, 224, 3), weights='imagenet', include_top=True)"
   ]
  },
  {
   "cell_type": "code",
   "execution_count": null,
   "id": "f9cbb297",
   "metadata": {
    "papermill": {
     "duration": 0.168632,
     "end_time": "2022-06-05T20:58:34.070058",
     "exception": false,
     "start_time": "2022-06-05T20:58:33.901426",
     "status": "completed"
    },
    "scrolled": true,
    "tags": []
   },
   "outputs": [],
   "source": [
    "resnet_m.summary()"
   ]
  },
  {
   "cell_type": "code",
   "execution_count": null,
   "id": "846e8ba1",
   "metadata": {
    "papermill": {
     "duration": 0.159219,
     "end_time": "2022-06-05T20:58:34.364921",
     "exception": false,
     "start_time": "2022-06-05T20:58:34.205702",
     "status": "completed"
    },
    "tags": []
   },
   "outputs": [],
   "source": [
    "x = resnet_m.layers[-2].output\n",
    "x = layers.Dense(1024, activation='relu')(x)\n",
    "x = layers.Dense (4, activation='softmax')(x)"
   ]
  },
  {
   "cell_type": "code",
   "execution_count": null,
   "id": "5754ce81",
   "metadata": {
    "papermill": {
     "duration": 0.167647,
     "end_time": "2022-06-05T20:58:34.667101",
     "exception": false,
     "start_time": "2022-06-05T20:58:34.499454",
     "status": "completed"
    },
    "tags": []
   },
   "outputs": [],
   "source": [
    "resnet_m = Model(inputs=resnet_m.input, outputs=x)\n",
    "resnet_m.compile(optimizer = RMSprop(learning_rate=0.0001), \n",
    "              loss = 'categorical_crossentropy', \n",
    "              metrics = ['accuracy'])"
   ]
  },
  {
   "cell_type": "code",
   "execution_count": null,
   "id": "4ccc307e",
   "metadata": {
    "papermill": {
     "duration": 298.850334,
     "end_time": "2022-06-05T21:03:33.651471",
     "exception": false,
     "start_time": "2022-06-05T20:58:34.801137",
     "status": "completed"
    },
    "tags": []
   },
   "outputs": [],
   "source": [
    "res_clf = resnet_m.fit(train_generator,\n",
    "            validation_data = validation_generator,\n",
    "            steps_per_epoch=20,\n",
    "            epochs =20,\n",
    "            validation_steps=5,\n",
    "            verbose = 1)"
   ]
  },
  {
   "cell_type": "code",
   "execution_count": null,
   "id": "89bd58e2",
   "metadata": {
    "papermill": {
     "duration": 0.841294,
     "end_time": "2022-06-05T21:03:34.709483",
     "exception": false,
     "start_time": "2022-06-05T21:03:33.868189",
     "status": "completed"
    },
    "tags": []
   },
   "outputs": [],
   "source": [
    "#plotting training values\n",
    "import matplotlib.pyplot as plt\n",
    "\n",
    "acc = res_clf.history['accuracy']\n",
    "val_acc = res_clf.history['val_accuracy']\n",
    "loss = res_clf.history['loss']\n",
    "val_loss = res_clf.history['val_loss']\n",
    "\n",
    "epochs = range(1, len(loss) + 1)\n",
    "\n",
    "#accuracy plot\n",
    "plt.figure(figsize=(10,5))\n",
    "plt.plot(epochs, acc,  label='Training Accuracy') #color='lightblue',\n",
    "plt.plot(epochs, val_acc,  label='Validation Accuracy') #color='orange',\n",
    "plt.title('Training and Validation Accuracy')\n",
    "plt.ylabel('Accuracy')\n",
    "plt.xlabel('Epoch')\n",
    "plt.legend(loc=\"best\")\n",
    "plt.grid(visible=True, which='major', color='#666666', linestyle='-')\n",
    "plt.tight_layout()\n",
    "plt.savefig('resnet_accuracy.png')\n",
    "\n",
    "#loss plot\n",
    "plt.figure(figsize=(10,5))\n",
    "plt.plot(epochs, loss, color='pink', label='Training Loss')\n",
    "plt.plot(epochs, val_loss, color='red', label='Validation Loss')\n",
    "plt.title('Training and Validation Loss')\n",
    "plt.xlabel('Epoch')\n",
    "plt.ylabel('Loss')\n",
    "plt.legend(loc=\"best\")\n",
    "plt.grid(visible=True, which='major', color='#666666', linestyle='-')\n",
    "plt.tight_layout()\n",
    "plt.rcParams['axes.facecolor'] = 'white'\n",
    "plt.savefig('resnet_loss.png')"
   ]
  },
  {
   "cell_type": "code",
   "execution_count": null,
   "id": "2d1fe8cd",
   "metadata": {
    "papermill": {
     "duration": 2.097979,
     "end_time": "2022-06-05T21:03:36.967498",
     "exception": false,
     "start_time": "2022-06-05T21:03:34.869519",
     "status": "completed"
    },
    "tags": []
   },
   "outputs": [],
   "source": [
    "pre_trained_model = ResNet50(input_shape = (224,224, 3),\n",
    "                        include_top = False,\n",
    "                        weights = 'imagenet')\n",
    "\n",
    "for layer in pre_trained_model.layers:\n",
    "    layer.trainable = False"
   ]
  },
  {
   "cell_type": "code",
   "execution_count": null,
   "id": "5fdbfe81",
   "metadata": {
    "papermill": {
     "duration": 0.590222,
     "end_time": "2022-06-05T21:03:37.720413",
     "exception": false,
     "start_time": "2022-06-05T21:03:37.130191",
     "status": "completed"
    },
    "tags": []
   },
   "outputs": [],
   "source": [
    "resNet_model = Sequential([\n",
    "        pre_trained_model,\n",
    "        Flatten(),\n",
    "        Dropout(0.5),\n",
    "        Dense(1024, activation='relu'),\n",
    "        Dense(4, activation='softmax')])"
   ]
  },
  {
   "cell_type": "code",
   "execution_count": null,
   "id": "bc489167",
   "metadata": {
    "papermill": {
     "duration": 0.320032,
     "end_time": "2022-06-05T21:03:38.264553",
     "exception": false,
     "start_time": "2022-06-05T21:03:37.944521",
     "status": "completed"
    },
    "tags": []
   },
   "outputs": [],
   "source": [
    "resNet_model.compile(optimizer = RMSprop(learning_rate=0.0001), \n",
    "              loss = 'categorical_crossentropy', \n",
    "              metrics = ['accuracy'])"
   ]
  },
  {
   "cell_type": "code",
   "execution_count": null,
   "id": "5517061d",
   "metadata": {
    "papermill": {
     "duration": 0.171701,
     "end_time": "2022-06-05T21:03:38.666951",
     "exception": false,
     "start_time": "2022-06-05T21:03:38.495250",
     "status": "completed"
    },
    "tags": []
   },
   "outputs": [],
   "source": [
    "input_shape = (None, 224, 224, 3)\n",
    "resNet_model.build(input_shape)"
   ]
  },
  {
   "cell_type": "code",
   "execution_count": null,
   "id": "f8350ad9",
   "metadata": {
    "papermill": {
     "duration": 0.185432,
     "end_time": "2022-06-05T21:03:39.013926",
     "exception": false,
     "start_time": "2022-06-05T21:03:38.828494",
     "status": "completed"
    },
    "tags": []
   },
   "outputs": [],
   "source": [
    "resNet_model.summary()"
   ]
  },
  {
   "cell_type": "code",
   "execution_count": null,
   "id": "bee817f7",
   "metadata": {
    "papermill": {
     "duration": 239.655477,
     "end_time": "2022-06-05T21:07:38.836436",
     "exception": false,
     "start_time": "2022-06-05T21:03:39.180959",
     "status": "completed"
    },
    "tags": []
   },
   "outputs": [],
   "source": [
    "history = resNet_model.fit(\n",
    "            train_generator,\n",
    "            validation_data = validation_generator,\n",
    "            steps_per_epoch=20,\n",
    "            epochs =20,\n",
    "            validation_steps=5,\n",
    "            verbose = 1)"
   ]
  },
  {
   "cell_type": "code",
   "execution_count": null,
   "id": "2bf3af66",
   "metadata": {
    "papermill": {
     "duration": 1.648845,
     "end_time": "2022-06-05T21:07:40.729529",
     "exception": false,
     "start_time": "2022-06-05T21:07:39.080684",
     "status": "completed"
    },
    "tags": []
   },
   "outputs": [],
   "source": [
    "resNet_model.evaluate(test_generator)"
   ]
  },
  {
   "cell_type": "code",
   "execution_count": null,
   "id": "fe418a2d",
   "metadata": {
    "papermill": {
     "duration": 0.834325,
     "end_time": "2022-06-05T21:07:41.759298",
     "exception": false,
     "start_time": "2022-06-05T21:07:40.924973",
     "status": "completed"
    },
    "tags": []
   },
   "outputs": [],
   "source": [
    "#plotting training values\n",
    "import matplotlib.pyplot as plt\n",
    "\n",
    "acc = history.history['accuracy']\n",
    "val_acc = history.history['val_accuracy']\n",
    "loss = history.history['loss']\n",
    "val_loss = history.history['val_loss']\n",
    "\n",
    "epochs = range(1, len(loss) + 1)\n",
    "\n",
    "#accuracy plot\n",
    "plt.figure(figsize=(10,5))\n",
    "plt.plot(epochs, acc,  label='Training Accuracy') #color='lightblue',\n",
    "plt.plot(epochs, val_acc,  label='Validation Accuracy') #color='orange',\n",
    "plt.title('Training and Validation Accuracy')\n",
    "plt.ylabel('Accuracy')\n",
    "plt.xlabel('Epoch')\n",
    "plt.legend(loc=\"best\")\n",
    "plt.grid(visible=True, which='major', color='#666666', linestyle='-')\n",
    "plt.tight_layout()\n",
    "plt.savefig('resnet_weights_accuracy.png')\n",
    "\n",
    "#loss plot\n",
    "plt.figure(figsize=(10,5))\n",
    "plt.plot(epochs, loss, color='pink', label='Training Loss')\n",
    "plt.plot(epochs, val_loss, color='red', label='Validation Loss')\n",
    "plt.title('Training and Validation Loss')\n",
    "plt.xlabel('Epoch')\n",
    "plt.ylabel('Loss')\n",
    "plt.legend(loc=\"best\")\n",
    "plt.grid(visible=True, which='major', color='#666666', linestyle='-')\n",
    "plt.tight_layout()\n",
    "plt.rcParams['axes.facecolor'] = 'white'\n",
    "plt.savefig('resnet_weights_loss.png')"
   ]
  },
  {
   "cell_type": "code",
   "execution_count": null,
   "id": "cc9aaba5",
   "metadata": {
    "papermill": {
     "duration": 2.786376,
     "end_time": "2022-06-05T21:07:44.741282",
     "exception": false,
     "start_time": "2022-06-05T21:07:41.954906",
     "status": "completed"
    },
    "tags": []
   },
   "outputs": [],
   "source": [
    "resNet_model.save(\"resnet_model.h5\")"
   ]
  },
  {
   "cell_type": "markdown",
   "id": "c7900e44",
   "metadata": {
    "papermill": {
     "duration": 0.192496,
     "end_time": "2022-06-05T21:07:45.123213",
     "exception": false,
     "start_time": "2022-06-05T21:07:44.930717",
     "status": "completed"
    },
    "tags": []
   },
   "source": [
    "# VGG16"
   ]
  },
  {
   "cell_type": "code",
   "execution_count": null,
   "id": "64cba8ff",
   "metadata": {
    "papermill": {
     "duration": 8.22703,
     "end_time": "2022-06-05T21:07:53.542430",
     "exception": false,
     "start_time": "2022-06-05T21:07:45.315400",
     "status": "completed"
    },
    "tags": []
   },
   "outputs": [],
   "source": [
    "model=vgg16.VGG16(weights='imagenet',input_shape=(224,224,3), include_top=True, pooling=\"avg\")"
   ]
  },
  {
   "cell_type": "code",
   "execution_count": null,
   "id": "762f727e",
   "metadata": {
    "papermill": {
     "duration": 0.220972,
     "end_time": "2022-06-05T21:07:53.971437",
     "exception": false,
     "start_time": "2022-06-05T21:07:53.750465",
     "status": "completed"
    },
    "tags": []
   },
   "outputs": [],
   "source": [
    "model.summary()"
   ]
  },
  {
   "cell_type": "code",
   "execution_count": null,
   "id": "0828fd11",
   "metadata": {
    "papermill": {
     "duration": 0.231685,
     "end_time": "2022-06-05T21:07:54.407914",
     "exception": false,
     "start_time": "2022-06-05T21:07:54.176229",
     "status": "completed"
    },
    "tags": []
   },
   "outputs": [],
   "source": [
    "x = model.layers[-2].output\n",
    "x = layers.Dense(1024, activation='relu')(x)\n",
    "x = layers.Dense (4, activation='softmax')(x)"
   ]
  },
  {
   "cell_type": "code",
   "execution_count": null,
   "id": "94f0323d",
   "metadata": {
    "papermill": {
     "duration": 0.390941,
     "end_time": "2022-06-05T21:07:55.001352",
     "exception": false,
     "start_time": "2022-06-05T21:07:54.610411",
     "status": "completed"
    },
    "tags": []
   },
   "outputs": [],
   "source": [
    "b_mvgg16 = Model(inputs=model.input, outputs=x)\n",
    "# b_mvgg16.compile(optimizer = RMSprop(lr=0.0001), \n",
    "#               loss = 'categorical_crossentropy', \n",
    "#               metrics = ['accuracy'])\n",
    "\n",
    "\n",
    "b_mvgg16.compile(optimizer = RMSprop(learning_rate=0.0001), \n",
    "              loss = 'categorical_crossentropy', \n",
    "              metrics = ['accuracy'])\n",
    "\n"
   ]
  },
  {
   "cell_type": "code",
   "execution_count": null,
   "id": "8291ad76",
   "metadata": {
    "papermill": {
     "duration": 330.051336,
     "end_time": "2022-06-05T21:13:25.289608",
     "exception": false,
     "start_time": "2022-06-05T21:07:55.238272",
     "status": "completed"
    },
    "tags": []
   },
   "outputs": [],
   "source": [
    "vgg_clf = b_mvgg16.fit(train_generator,\n",
    "            validation_data = validation_generator,\n",
    "            steps_per_epoch=20,\n",
    "            epochs =20,\n",
    "            validation_steps=5,\n",
    "            verbose = 1)"
   ]
  },
  {
   "cell_type": "code",
   "execution_count": null,
   "id": "e0306f8c",
   "metadata": {
    "papermill": {
     "duration": 5.522989,
     "end_time": "2022-06-05T21:13:31.042961",
     "exception": false,
     "start_time": "2022-06-05T21:13:25.519972",
     "status": "completed"
    },
    "tags": []
   },
   "outputs": [],
   "source": [
    "b_mvgg16.evaluate(test_generator)"
   ]
  },
  {
   "cell_type": "code",
   "execution_count": null,
   "id": "6d48fb29",
   "metadata": {
    "papermill": {
     "duration": 1.100829,
     "end_time": "2022-06-05T21:13:32.427350",
     "exception": false,
     "start_time": "2022-06-05T21:13:31.326521",
     "status": "completed"
    },
    "tags": []
   },
   "outputs": [],
   "source": [
    "#plotting training values\n",
    "import matplotlib.pyplot as plt\n",
    "\n",
    "acc = history.history['accuracy']\n",
    "val_acc = history.history['val_accuracy']\n",
    "loss = history.history['loss']\n",
    "val_loss = history.history['val_loss']\n",
    "\n",
    "epochs = range(1, len(loss) + 1)\n",
    "\n",
    "#accuracy plot\n",
    "plt.figure(figsize=(10,5))\n",
    "plt.plot(epochs, acc,  label='Training Accuracy') #color='lightblue',\n",
    "plt.plot(epochs, val_acc,  label='Validation Accuracy') #color='orange',\n",
    "plt.title('Training and Validation Accuracy')\n",
    "plt.ylabel('Accuracy')\n",
    "plt.xlabel('Epoch')\n",
    "plt.legend(loc=\"best\")\n",
    "plt.grid(visible=True, which='major', color='#666666', linestyle='-')\n",
    "plt.tight_layout()\n",
    "plt.savefig('vgg_accuracy.png')\n",
    "\n",
    "#loss plot\n",
    "plt.figure(figsize=(10,5))\n",
    "plt.plot(epochs, loss, color='pink', label='Training Loss')\n",
    "plt.plot(epochs, val_loss, color='red', label='Validation Loss')\n",
    "plt.title('Training and Validation Loss')\n",
    "plt.xlabel('Epoch')\n",
    "plt.ylabel('Loss')\n",
    "plt.legend(loc=\"best\")\n",
    "plt.grid(visible=True, which='major', color='#666666', linestyle='-')\n",
    "plt.tight_layout()\n",
    "plt.rcParams['axes.facecolor'] = 'white'\n",
    "plt.savefig('vgg_loss.png')"
   ]
  },
  {
   "cell_type": "code",
   "execution_count": null,
   "id": "3c1794ba",
   "metadata": {
    "papermill": {
     "duration": 0.893052,
     "end_time": "2022-06-05T21:13:33.574885",
     "exception": false,
     "start_time": "2022-06-05T21:13:32.681833",
     "status": "completed"
    },
    "scrolled": true,
    "tags": []
   },
   "outputs": [],
   "source": [
    "model_vgg = vgg16.VGG16(weights='imagenet', input_shape=(224,224,3), include_top=False)\n",
    "model_vgg.summary()\n",
    "  # Make all layers untrainable\n",
    "for layer in model_vgg.layers:\n",
    "    layer.trainable = False"
   ]
  },
  {
   "cell_type": "code",
   "execution_count": null,
   "id": "dadeb7b2",
   "metadata": {
    "papermill": {
     "duration": 0.255672,
     "end_time": "2022-06-05T21:13:34.057931",
     "exception": false,
     "start_time": "2022-06-05T21:13:33.802259",
     "status": "completed"
    },
    "tags": []
   },
   "outputs": [],
   "source": [
    "x = model_vgg.output\n",
    "x = Flatten()(x)\n",
    "x = Dropout(0.5)(x)\n",
    "x = Dense(1024, activation=\"relu\")(x)\n",
    "predictions = Dense(4, activation=\"softmax\")(x)"
   ]
  },
  {
   "cell_type": "code",
   "execution_count": null,
   "id": "19c43528",
   "metadata": {
    "papermill": {
     "duration": 0.24265,
     "end_time": "2022-06-05T21:13:34.528573",
     "exception": false,
     "start_time": "2022-06-05T21:13:34.285923",
     "status": "completed"
    },
    "tags": []
   },
   "outputs": [],
   "source": [
    "m = Model(inputs=model_vgg.input, outputs=predictions)"
   ]
  },
  {
   "cell_type": "code",
   "execution_count": null,
   "id": "f573eed6",
   "metadata": {
    "papermill": {
     "duration": 0.241917,
     "end_time": "2022-06-05T21:13:34.997300",
     "exception": false,
     "start_time": "2022-06-05T21:13:34.755383",
     "status": "completed"
    },
    "tags": []
   },
   "outputs": [],
   "source": [
    "m.compile(optimizer = RMSprop(learning_rate=0.0001), \n",
    "              loss = 'categorical_crossentropy', \n",
    "              metrics = ['accuracy'])"
   ]
  },
  {
   "cell_type": "code",
   "execution_count": null,
   "id": "d2b97f33",
   "metadata": {
    "papermill": {
     "duration": 255.489083,
     "end_time": "2022-06-05T21:17:50.715614",
     "exception": false,
     "start_time": "2022-06-05T21:13:35.226531",
     "status": "completed"
    },
    "tags": []
   },
   "outputs": [],
   "source": [
    "vgg_clfw = m.fit(train_generator,\n",
    "                epochs=1,\n",
    "                steps_per_epoch=20,\n",
    "                validation_data=validation_generator,\n",
    "                validation_steps=5)"
   ]
  },
  {
   "cell_type": "code",
   "execution_count": null,
   "id": "cbeb3c8a",
   "metadata": {
    "papermill": {
     "duration": 1.244277,
     "end_time": "2022-06-05T21:17:52.216876",
     "exception": false,
     "start_time": "2022-06-05T21:17:50.972599",
     "status": "completed"
    },
    "tags": []
   },
   "outputs": [],
   "source": [
    "m.evaluate(test_generator)"
   ]
  },
  {
   "cell_type": "code",
   "execution_count": null,
   "id": "399faba5",
   "metadata": {
    "papermill": {
     "duration": 0.908206,
     "end_time": "2022-06-05T21:17:53.378872",
     "exception": false,
     "start_time": "2022-06-05T21:17:52.470666",
     "status": "completed"
    },
    "tags": []
   },
   "outputs": [],
   "source": [
    "#plotting training values\n",
    "import matplotlib.pyplot as plt\n",
    "\n",
    "acc = history.history['accuracy']\n",
    "val_acc = history.history['val_accuracy']\n",
    "loss = history.history['loss']\n",
    "val_loss = history.history['val_loss']\n",
    "\n",
    "epochs = range(1, len(loss) + 1)\n",
    "\n",
    "#accuracy plot\n",
    "plt.figure(figsize=(10,5))\n",
    "plt.plot(epochs, acc,  label='Training Accuracy') #color='lightblue',\n",
    "plt.plot(epochs, val_acc,  label='Validation Accuracy') #color='orange',\n",
    "plt.title('Training and Validation Accuracy')\n",
    "plt.ylabel('Accuracy')\n",
    "plt.xlabel('Epoch')\n",
    "plt.legend(loc=\"best\")\n",
    "plt.grid(visible=True, which='major', color='#666666', linestyle='-')\n",
    "plt.tight_layout()\n",
    "plt.savefig('vgg_weights_accuracy.png')\n",
    "\n",
    "#loss plot\n",
    "plt.figure(figsize=(10,5))\n",
    "plt.plot(epochs, loss, color='pink', label='Training Loss')\n",
    "plt.plot(epochs, val_loss, color='red', label='Validation Loss')\n",
    "plt.title('Training and Validation Loss')\n",
    "plt.xlabel('Epoch')\n",
    "plt.ylabel('Loss')\n",
    "plt.legend(loc=\"best\")\n",
    "plt.grid(visible=True, which='major', color='#666666', linestyle='-')\n",
    "plt.tight_layout()\n",
    "plt.rcParams['axes.facecolor'] = 'white'\n",
    "plt.savefig('vgg_weights_loss.png')"
   ]
  },
  {
   "cell_type": "code",
   "execution_count": null,
   "id": "099ddcdd",
   "metadata": {
    "papermill": {
     "duration": 0.799688,
     "end_time": "2022-06-05T21:17:54.434956",
     "exception": false,
     "start_time": "2022-06-05T21:17:53.635268",
     "status": "completed"
    },
    "tags": []
   },
   "outputs": [],
   "source": [
    "m.save(\"vgg_model.h5\")"
   ]
  },
  {
   "cell_type": "code",
   "execution_count": null,
   "id": "04691e4c",
   "metadata": {
    "papermill": {
     "duration": 0.265339,
     "end_time": "2022-06-05T21:17:54.950525",
     "exception": false,
     "start_time": "2022-06-05T21:17:54.685186",
     "status": "completed"
    },
    "tags": []
   },
   "outputs": [],
   "source": []
  }
 ],
 "metadata": {
  "kernelspec": {
   "display_name": "Python 3 (ipykernel)",
   "language": "python",
   "name": "python3"
  },
  "language_info": {
   "codemirror_mode": {
    "name": "ipython",
    "version": 3
   },
   "file_extension": ".py",
   "mimetype": "text/x-python",
   "name": "python",
   "nbconvert_exporter": "python",
   "pygments_lexer": "ipython3",
   "version": "3.9.12"
  },
  "papermill": {
   "default_parameters": {},
   "duration": 2059.601544,
   "end_time": "2022-06-05T21:17:58.324382",
   "environment_variables": {},
   "exception": null,
   "input_path": "__notebook__.ipynb",
   "output_path": "__notebook__.ipynb",
   "parameters": {},
   "start_time": "2022-06-05T20:43:38.722838",
   "version": "2.3.4"
  }
 },
 "nbformat": 4,
 "nbformat_minor": 5
}
