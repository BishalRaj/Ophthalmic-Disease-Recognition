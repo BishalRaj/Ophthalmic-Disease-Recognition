{
 "cells": [
  {
   "cell_type": "code",
   "execution_count": 1,
   "id": "1c5b5907",
   "metadata": {
    "papermill": {
     "duration": 6.451499,
     "end_time": "2022-06-05T20:43:53.082731",
     "exception": false,
     "start_time": "2022-06-05T20:43:46.631232",
     "status": "completed"
    },
    "tags": []
   },
   "outputs": [],
   "source": [
    "import numpy as np \n",
    "import pandas as pd \n",
    "import matplotlib.pyplot as plt\n",
    "import matplotlib.image as mpimg\n",
    "import os\n",
    "import zipfile\n",
    "import csv\n",
    "import cv2\n",
    "import shutil\n",
    "import random\n",
    "import seaborn as sns\n",
    "from PIL import Image\n",
    "from tqdm import tqdm\n",
    "import tensorflow as tf\n",
    "import tensorflow_addons as tfa\n",
    "from tensorflow import keras\n",
    "from tensorflow.keras import Model\n",
    "from tensorflow.keras import layers\n",
    "from tensorflow.keras.models import Model,Sequential\n",
    "from keras.utils.vis_utils import plot_model\n",
    "from tensorflow.keras.layers import Conv2D, MaxPooling2D, Dropout, Dense, Flatten, BatchNormalization\n",
    "from tensorflow.keras.preprocessing.image import ImageDataGenerator\n",
    "from tensorflow.keras.optimizers import RMSprop\n",
    "\n",
    "from tensorflow.keras.applications.inception_v3 import InceptionV3\n",
    "from tensorflow.keras.applications.resnet import ResNet50\n",
    "from tensorflow.keras.applications import vgg16\n"
   ]
  },
  {
   "cell_type": "code",
   "execution_count": 2,
   "id": "f24f96f6",
   "metadata": {
    "papermill": {
     "duration": 2.335126,
     "end_time": "2022-06-05T20:43:55.437464",
     "exception": false,
     "start_time": "2022-06-05T20:43:53.102338",
     "status": "completed"
    },
    "tags": []
   },
   "outputs": [
    {
     "name": "stdout",
     "output_type": "stream",
     "text": [
      "GPU device not found\n",
      "Found GPU at: \n"
     ]
    }
   ],
   "source": [
    "device_name = tf.test.gpu_device_name()\n",
    "if \"GPU\" not in device_name:\n",
    "    print(\"GPU device not found\")\n",
    "print('Found GPU at: {}'.format(device_name))"
   ]
  },
  {
   "cell_type": "code",
   "execution_count": 3,
   "id": "c8f5d84d",
   "metadata": {
    "papermill": {
     "duration": 0.026873,
     "end_time": "2022-06-05T20:43:55.485395",
     "exception": false,
     "start_time": "2022-06-05T20:43:55.458522",
     "status": "completed"
    },
    "tags": []
   },
   "outputs": [],
   "source": [
    "import warnings\n",
    "warnings.simplefilter(action=\"ignore\", category=FutureWarning)"
   ]
  },
  {
   "cell_type": "code",
   "execution_count": 4,
   "id": "923e0c49",
   "metadata": {
    "papermill": {
     "duration": 0.081383,
     "end_time": "2022-06-05T20:43:55.585423",
     "exception": false,
     "start_time": "2022-06-05T20:43:55.504040",
     "status": "completed"
    },
    "tags": []
   },
   "outputs": [],
   "source": [
    "train = pd.read_csv('./LabelledDataSet/full_df.csv')\n",
    "# train"
   ]
  },
  {
   "cell_type": "markdown",
   "id": "fc4f1166",
   "metadata": {
    "papermill": {
     "duration": 0.021565,
     "end_time": "2022-06-05T20:43:55.626209",
     "exception": false,
     "start_time": "2022-06-05T20:43:55.604644",
     "status": "completed"
    },
    "tags": []
   },
   "source": [
    "# Data visualization"
   ]
  },
  {
   "cell_type": "code",
   "execution_count": 5,
   "id": "c4f34775",
   "metadata": {
    "papermill": {
     "duration": 0.027582,
     "end_time": "2022-06-05T20:43:55.672867",
     "exception": false,
     "start_time": "2022-06-05T20:43:55.645285",
     "status": "completed"
    },
    "tags": []
   },
   "outputs": [],
   "source": [
    "def check_disease(df,start,end):\n",
    "    df = df.iloc[:, start:end]\n",
    "    disease_name, zeroCount, oneCount = [], [], []\n",
    "    rowLen = len(df)\n",
    "    for (column_name, column) in df.iteritems():\n",
    "        disease_name.append(column_name)    \n",
    "        zeroCount.append(df[column_name].value_counts()[0])\n",
    "    oneCount = [rowLen - x for x in zeroCount]\n",
    "    \n",
    "    return disease_name, zeroCount, oneCount"
   ]
  },
  {
   "cell_type": "code",
   "execution_count": 6,
   "id": "2d8b7018",
   "metadata": {
    "papermill": {
     "duration": 0.304339,
     "end_time": "2022-06-05T20:43:55.995568",
     "exception": false,
     "start_time": "2022-06-05T20:43:55.691229",
     "status": "completed"
    },
    "tags": []
   },
   "outputs": [
    {
     "data": {
      "image/png": "[encoded data removed]",
      "text/plain": [
       "<Figure size 1080x576 with 1 Axes>"
      ]
     },
     "metadata": {
      "needs_background": "light"
     },
     "output_type": "display_data"
    }
   ],
   "source": [
    "disease_name, zeroCount, oneCount = check_disease(train,7,15)\n",
    "\n",
    "fig = plt.figure(figsize=(15, 8))\n",
    "plt.bar(disease_name, oneCount, width=0.6, color=['skyblue', 'gray'])\n",
    "plt.xlabel('Disease Name')\n",
    "plt.savefig('Overall Disease.png')"
   ]
  },
  {
   "cell_type": "code",
   "execution_count": 7,
   "id": "15244880",
   "metadata": {
    "papermill": {
     "duration": 0.03134,
     "end_time": "2022-06-05T20:43:56.045431",
     "exception": false,
     "start_time": "2022-06-05T20:43:56.014091",
     "status": "completed"
    },
    "tags": []
   },
   "outputs": [],
   "source": [
    "# Drops the Column 'N', \n",
    "train=train.drop(columns=['N', 'D', 'H', 'O' ],axis=1)\n",
    "\n",
    "#Drops the Rows\n",
    "train=train[((train['G'] == 1) | (train['C'] == 1) | (train['A']== 1) | (train['M'] == 1))]\n",
    "\n",
    "# Classes\n",
    "classes=['G', 'C', 'A', 'M']\n",
    "\n",
    "# Reset an Index of pandas dataFrame\n",
    "train = train.reset_index(drop=True)"
   ]
  },
  {
   "cell_type": "code",
   "execution_count": 8,
   "id": "88b3aa51",
   "metadata": {
    "papermill": {
     "duration": 0.232116,
     "end_time": "2022-06-05T20:43:56.295442",
     "exception": false,
     "start_time": "2022-06-05T20:43:56.063326",
     "status": "completed"
    },
    "tags": []
   },
   "outputs": [
    {
     "data": {
      "image/png": "[encoded data removed]",
      "text/plain": [
       "<Figure size 720x576 with 1 Axes>"
      ]
     },
     "metadata": {
      "needs_background": "light"
     },
     "output_type": "display_data"
    }
   ],
   "source": [
    "disease_name, zeroCount, oneCount = check_disease(train,7,11)\n",
    "\n",
    "fig = plt.figure(figsize=(10, 8))\n",
    "plt.bar(disease_name, oneCount, width=0.6, color=['skyblue', 'gray'])\n",
    "plt.xlabel('Disease Name')\n",
    "plt.savefig('Final Disease.png')"
   ]
  },
  {
   "cell_type": "code",
   "execution_count": 9,
   "id": "7eeb77fd",
   "metadata": {
    "papermill": {
     "duration": 0.028589,
     "end_time": "2022-06-05T20:43:56.342562",
     "exception": false,
     "start_time": "2022-06-05T20:43:56.313973",
     "status": "completed"
    },
    "tags": []
   },
   "outputs": [],
   "source": [
    "def plot_count(feature, title, df, size=1, show_all=False):\n",
    "    f, ax = plt.subplots(1,1, figsize=(4*size,4))\n",
    "    total = float(len(df))\n",
    "    if show_all:\n",
    "        g = sns.countplot(df[feature], palette='Set3')\n",
    "        g.set_title(\"{} distribution\".format(title))\n",
    "    else:\n",
    "        g = sns.countplot(df[feature], order = df[feature].value_counts().index[:20], palette='Set3')\n",
    "        if(size > 2):\n",
    "            plt.xticks(rotation=90, size=8)\n",
    "            for p in ax.patches:\n",
    "                height = p.get_height()\n",
    "                ax.text(p.get_x()+p.get_width()/2.,\n",
    "                        height + 0.2,\n",
    "                        '{:1.2f}%'.format(100*height/total),\n",
    "                        ha=\"center\") \n",
    "        g.set_title(\"Number and percentage of {}\".format(title))\n",
    "    plt.show() "
   ]
  },
  {
   "cell_type": "code",
   "execution_count": 10,
   "id": "0c37649b",
   "metadata": {
    "papermill": {
     "duration": 0.633389,
     "end_time": "2022-06-05T20:43:56.993906",
     "exception": false,
     "start_time": "2022-06-05T20:43:56.360517",
     "status": "completed"
    },
    "tags": []
   },
   "outputs": [
    {
     "data": {
      "image/png": "[encoded data removed]",
      "text/plain": [
       "<Figure size 1440x288 with 1 Axes>"
      ]
     },
     "metadata": {
      "needs_background": "light"
     },
     "output_type": "display_data"
    }
   ],
   "source": [
    "plot_count(\"Patient Age\", \"Age\", train, size=5, show_all=True)"
   ]
  },
  {
   "cell_type": "code",
   "execution_count": 11,
   "id": "887ad081",
   "metadata": {
    "papermill": {
     "duration": 0.1684,
     "end_time": "2022-06-05T20:43:57.183551",
     "exception": false,
     "start_time": "2022-06-05T20:43:57.015151",
     "status": "completed"
    },
    "tags": []
   },
   "outputs": [
    {
     "data": {
      "image/png": "[encoded data removed]",
      "text/plain": [
       "<Figure size 576x288 with 1 Axes>"
      ]
     },
     "metadata": {
      "needs_background": "light"
     },
     "output_type": "display_data"
    }
   ],
   "source": [
    "plot_count(\"Patient Sex\", \"Sex\", train, size=2)"
   ]
  },
  {
   "cell_type": "code",
   "execution_count": 12,
   "id": "ceba8a24",
   "metadata": {
    "papermill": {
     "duration": 0.146785,
     "end_time": "2022-06-05T20:43:57.354034",
     "exception": false,
     "start_time": "2022-06-05T20:43:57.207249",
     "status": "completed"
    },
    "tags": []
   },
   "outputs": [
    {
     "data": {
      "image/png": "[encoded data removed]",
      "text/plain": [
       "<Figure size 576x288 with 1 Axes>"
      ]
     },
     "metadata": {
      "needs_background": "light"
     },
     "output_type": "display_data"
    }
   ],
   "source": [
    "plot_count(\"G\", \"Glaucoma\", train, size=2)"
   ]
  },
  {
   "cell_type": "code",
   "execution_count": 13,
   "id": "29992a24",
   "metadata": {
    "papermill": {
     "duration": 0.150082,
     "end_time": "2022-06-05T20:43:57.536270",
     "exception": false,
     "start_time": "2022-06-05T20:43:57.386188",
     "status": "completed"
    },
    "tags": []
   },
   "outputs": [
    {
     "data": {
      "image/png": "[encoded data removed]",
      "text/plain": [
       "<Figure size 576x288 with 1 Axes>"
      ]
     },
     "metadata": {
      "needs_background": "light"
     },
     "output_type": "display_data"
    }
   ],
   "source": [
    "plot_count(\"C\", \"Cataract\", train, size=2)"
   ]
  },
  {
   "cell_type": "code",
   "execution_count": 14,
   "id": "f3dcd0aa",
   "metadata": {
    "papermill": {
     "duration": 0.15941,
     "end_time": "2022-06-05T20:43:57.726615",
     "exception": false,
     "start_time": "2022-06-05T20:43:57.567205",
     "status": "completed"
    },
    "tags": []
   },
   "outputs": [
    {
     "data": {
      "image/png": "[encoded data removed]",
      "text/plain": [
       "<Figure size 576x288 with 1 Axes>"
      ]
     },
     "metadata": {
      "needs_background": "light"
     },
     "output_type": "display_data"
    }
   ],
   "source": [
    "plot_count(\"A\", \"Age Related Macular Degeneration\", train, size=2)"
   ]
  },
  {
   "cell_type": "code",
   "execution_count": 15,
   "id": "6d319848",
   "metadata": {
    "papermill": {
     "duration": 0.179713,
     "end_time": "2022-06-05T20:43:57.935822",
     "exception": false,
     "start_time": "2022-06-05T20:43:57.756109",
     "status": "completed"
    },
    "tags": []
   },
   "outputs": [
    {
     "data": {
      "image/png": "[encoded data removed]",
      "text/plain": [
       "<Figure size 576x288 with 1 Axes>"
      ]
     },
     "metadata": {
      "needs_background": "light"
     },
     "output_type": "display_data"
    }
   ],
   "source": [
    "plot_count(\"M\", \"Pathological Myopia\", train, size=2)"
   ]
  },
  {
   "cell_type": "code",
   "execution_count": 16,
   "id": "01c84f11",
   "metadata": {
    "papermill": {
     "duration": 0.028546,
     "end_time": "2022-06-05T20:43:57.984775",
     "exception": false,
     "start_time": "2022-06-05T20:43:57.956229",
     "status": "completed"
    },
    "tags": []
   },
   "outputs": [],
   "source": [
    "def plot_feature_distribution_grouped(feature, title, df, hue, size=4):\n",
    "    plt.figure(figsize=(size*5,size*2))\n",
    "    plt.title(title)\n",
    "    if(size > 2):\n",
    "        plt.xticks(rotation=90, size=8)\n",
    "    g = sns.countplot(df[feature], hue=df[hue], palette='Set3')\n",
    "    plt.xlabel(feature)\n",
    "    plt.legend()\n",
    "    plt.show()"
   ]
  },
  {
   "cell_type": "code",
   "execution_count": 17,
   "id": "89543efe",
   "metadata": {
    "papermill": {
     "duration": 0.194913,
     "end_time": "2022-06-05T20:43:58.200164",
     "exception": false,
     "start_time": "2022-06-05T20:43:58.005251",
     "status": "completed"
    },
    "tags": []
   },
   "outputs": [
    {
     "data": {
      "image/png": "[encoded data removed]",
      "text/plain": [
       "<Figure size 720x288 with 1 Axes>"
      ]
     },
     "metadata": {
      "needs_background": "light"
     },
     "output_type": "display_data"
    }
   ],
   "source": [
    "plot_feature_distribution_grouped('Patient Sex', 'Glaucoma diagnosys grouped by sex', train, 'G', size=2)"
   ]
  },
  {
   "cell_type": "code",
   "execution_count": 18,
   "id": "5d18f50b",
   "metadata": {
    "papermill": {
     "duration": 0.212759,
     "end_time": "2022-06-05T20:43:58.433409",
     "exception": false,
     "start_time": "2022-06-05T20:43:58.220650",
     "status": "completed"
    },
    "tags": []
   },
   "outputs": [
    {
     "data": {
      "image/png": "[encoded data removed]",
      "text/plain": [
       "<Figure size 720x288 with 1 Axes>"
      ]
     },
     "metadata": {
      "needs_background": "light"
     },
     "output_type": "display_data"
    }
   ],
   "source": [
    "plot_feature_distribution_grouped('Patient Sex', 'Cataract diagnosys grouped by sex', train, 'C', size=2)"
   ]
  },
  {
   "cell_type": "code",
   "execution_count": 19,
   "id": "2926eaf6",
   "metadata": {
    "papermill": {
     "duration": 0.279542,
     "end_time": "2022-06-05T20:43:58.750037",
     "exception": false,
     "start_time": "2022-06-05T20:43:58.470495",
     "status": "completed"
    },
    "tags": []
   },
   "outputs": [
    {
     "data": {
      "image/png": "[encoded data removed]",
      "text/plain": [
       "<Figure size 720x288 with 1 Axes>"
      ]
     },
     "metadata": {
      "needs_background": "light"
     },
     "output_type": "display_data"
    }
   ],
   "source": [
    "plot_feature_distribution_grouped('Patient Sex', 'AMD diagnosys grouped by sex', train, 'A', size=2)"
   ]
  },
  {
   "cell_type": "code",
   "execution_count": 20,
   "id": "61b6d1f3",
   "metadata": {
    "papermill": {
     "duration": 0.27037,
     "end_time": "2022-06-05T20:43:59.070506",
     "exception": false,
     "start_time": "2022-06-05T20:43:58.800136",
     "status": "completed"
    },
    "tags": []
   },
   "outputs": [
    {
     "data": {
      "image/png": "[encoded data removed]",
      "text/plain": [
       "<Figure size 720x288 with 1 Axes>"
      ]
     },
     "metadata": {
      "needs_background": "light"
     },
     "output_type": "display_data"
    }
   ],
   "source": [
    "plot_feature_distribution_grouped('Patient Sex', 'Pathological Myopia diagnosys grouped by sex', train, 'M', size=2)"
   ]
  },
  {
   "cell_type": "markdown",
   "id": "1bff9f2e",
   "metadata": {
    "papermill": {
     "duration": 0.034037,
     "end_time": "2022-06-05T20:43:59.138772",
     "exception": false,
     "start_time": "2022-06-05T20:43:59.104735",
     "status": "completed"
    },
    "tags": []
   },
   "source": [
    "# Data Preprocessing"
   ]
  },
  {
   "cell_type": "code",
   "execution_count": 21,
   "id": "74ef9b5a",
   "metadata": {
    "papermill": {
     "duration": 0.122273,
     "end_time": "2022-06-05T20:43:59.294758",
     "exception": false,
     "start_time": "2022-06-05T20:43:59.172485",
     "status": "completed"
    },
    "tags": []
   },
   "outputs": [],
   "source": [
    "# Create List for each Disease\n",
    "g_disease=[]\n",
    "for i in range(len(train)):\n",
    "    if(train['G'][i]==1):\n",
    "        g_disease.append(train['filename'][i])\n",
    "        \n",
    "c_disease=[]\n",
    "for i in range(len(train)):\n",
    "    if(train['C'][i]==1):\n",
    "        c_disease.append(train['filename'][i])\n",
    "\n",
    "a_disease=[]\n",
    "for i in range(len(train)):\n",
    "    if(train['A'][i]==1):\n",
    "        a_disease.append(train['filename'][i])\n",
    "        \n",
    "m_disease=[]\n",
    "for i in range(len(train)):\n",
    "    if(train['M'][i]==1):\n",
    "        m_disease.append(train['filename'][i])"
   ]
  },
  {
   "cell_type": "code",
   "execution_count": 22,
   "id": "386e6262",
   "metadata": {
    "papermill": {
     "duration": 10.499178,
     "end_time": "2022-06-05T20:44:09.827478",
     "exception": false,
     "start_time": "2022-06-05T20:43:59.328300",
     "status": "completed"
    },
    "tags": []
   },
   "outputs": [
    {
     "name": "stderr",
     "output_type": "stream",
     "text": [
      "100%|███████████████████████████████████████████████████████████████████████████████| 397/397 [00:00<00:00, 949.95it/s]\n",
      "100%|██████████████████████████████████████████████████████████████████████████████| 402/402 [00:00<00:00, 1113.34it/s]\n",
      "100%|██████████████████████████████████████████████████████████████████████████████| 319/319 [00:00<00:00, 1096.86it/s]\n",
      "100%|██████████████████████████████████████████████████████████████████████████████| 306/306 [00:00<00:00, 1123.90it/s]\n"
     ]
    }
   ],
   "source": [
    "# Copy images to new path\n",
    "if os.path.isdir('./data') is False:\n",
    "    os.mkdir('./data')\n",
    "\n",
    "# (Glaucoma, Cataract, Age related Macular Degeneration, Hypertension)\n",
    "\n",
    "g_disease_save_dir='./data/glaucoma/'\n",
    "os.mkdir('./data/glaucoma/')\n",
    "for filename in tqdm(g_disease):\n",
    "  shutil.copy('./LabelledDataSet/preprocessed_images/'+filename,g_disease_save_dir)\n",
    "\n",
    "c_disease_save_dir='./data/cataract/'\n",
    "os.mkdir('./data/cataract/')\n",
    "for filename in tqdm(c_disease):\n",
    "  shutil.copy('./LabelledDataSet/preprocessed_images/'+filename,c_disease_save_dir)\n",
    "\n",
    "a_disease_save_dir='./data/age_related_macular_degeneration/'\n",
    "os.mkdir('./data/age_related_macular_degeneration/')\n",
    "for filename in tqdm(a_disease):\n",
    "  shutil.copy('./LabelledDataSet/preprocessed_images/'+filename,a_disease_save_dir)\n",
    "\n",
    "m_disease_save_dir='./data/pathological_myopia/'\n",
    "os.mkdir('./data/pathological_myopia/')\n",
    "for filename in tqdm(m_disease):\n",
    "  shutil.copy('./LabelledDataSet/preprocessed_images/'+filename,m_disease_save_dir)"
   ]
  },
  {
   "cell_type": "code",
   "execution_count": 23,
   "id": "474cd0e0",
   "metadata": {
    "papermill": {
     "duration": 0.04212,
     "end_time": "2022-06-05T20:44:09.897167",
     "exception": false,
     "start_time": "2022-06-05T20:44:09.855047",
     "status": "completed"
    },
    "tags": []
   },
   "outputs": [],
   "source": [
    "base_dir = './dataset/'\n",
    "if os.path.isdir(base_dir) is False:\n",
    "    os.mkdir(base_dir)\n",
    "\n",
    "#create two folders (train and validation)\n",
    "train_dir = os.path.join(base_dir, 'Training')\n",
    "os.mkdir(train_dir)\n",
    "\n",
    "testing_dir = os.path.join(base_dir, 'Testing')\n",
    "os.mkdir(testing_dir)\n",
    "\n",
    "validation_dir = os.path.join(base_dir, 'Validation')\n",
    "os.mkdir(validation_dir)\n",
    "\n",
    "# Under train folder create four folders \n",
    "# (Glaucoma, Cataract, Age related Macular Degeneration, Pathological Myopia)\n",
    "\n",
    "train_glaucoma_dir = os.path.join(train_dir, 'glaucoma')\n",
    "os.mkdir(train_glaucoma_dir)\n",
    "\n",
    "train_cataract_dir = os.path.join(train_dir, 'cataract')\n",
    "os.mkdir(train_cataract_dir)\n",
    "\n",
    "train_age_macular_dir = os.path.join(train_dir, 'age_related_macular_degeneration')\n",
    "os.mkdir(train_age_macular_dir)\n",
    "\n",
    "train_pathological_myopia_dir = os.path.join(train_dir, 'pathological_myopia')\n",
    "os.mkdir(train_pathological_myopia_dir)\n",
    "\n",
    "\n",
    "# Under testing folder create four folders \n",
    "\n",
    "testing_glaucoma_dir = os.path.join(testing_dir, 'glaucoma')\n",
    "os.mkdir(testing_glaucoma_dir)\n",
    "\n",
    "testing_cataract_dir = os.path.join(testing_dir, 'cataract')\n",
    "os.mkdir(testing_cataract_dir)\n",
    "\n",
    "testing_age_macular_dir = os.path.join(testing_dir, 'age_related_macular_degeneration')\n",
    "os.mkdir(testing_age_macular_dir)\n",
    "\n",
    "testing_pathological_myopia_dir = os.path.join(testing_dir, 'pathological_myopia')\n",
    "os.mkdir(testing_pathological_myopia_dir)\n",
    "\n",
    "\n",
    "# Under validation folder create four folders \n",
    "# (Glaucoma, Cataract, Age related Macular Degeneration, Pathological Myopia)\n",
    "\n",
    "validation_glaucoma_dir = os.path.join(validation_dir, 'glaucoma')\n",
    "os.mkdir(validation_glaucoma_dir)\n",
    "\n",
    "validation_cataract_dir = os.path.join(validation_dir, 'cataract')\n",
    "os.mkdir(validation_cataract_dir)\n",
    "\n",
    "validation_age_macular_dir = os.path.join(validation_dir, 'age_related_macular_degeneration')\n",
    "os.mkdir(validation_age_macular_dir)\n",
    "\n",
    "validation_pathological_myopia_dir = os.path.join(validation_dir, 'pathological_myopia')\n",
    "os.mkdir(validation_pathological_myopia_dir)"
   ]
  },
  {
   "cell_type": "code",
   "execution_count": 24,
   "id": "bc813f8a",
   "metadata": {
    "papermill": {
     "duration": 0.035876,
     "end_time": "2022-06-05T20:44:09.960038",
     "exception": false,
     "start_time": "2022-06-05T20:44:09.924162",
     "status": "completed"
    },
    "tags": []
   },
   "outputs": [],
   "source": [
    "glaucoma_source_dir = './data/glaucoma/'\n",
    "training_glaucoma_dir = './dataset/Training/glaucoma/'\n",
    "testing_glaucoma_dir = './dataset/Testing/glaucoma/'\n",
    "valid_glaucoma_dir = './dataset/Validation/glaucoma/'\n",
    "\n",
    "cataract_source_dir = './data/cataract/'\n",
    "training_cataract_dir = './dataset/Training/cataract/'\n",
    "testing_cataract_dir = './dataset/Testing/cataract/'\n",
    "valid_cataract_dir = './dataset/Validation/cataract/'\n",
    "\n",
    "age_related_macular_degeneration_source_dir = './data/age_related_macular_degeneration/'\n",
    "training_age_related_macular_degeneration_dir = './dataset/Training/age_related_macular_degeneration/'\n",
    "testing_age_related_macular_degeneration_dir = './dataset/Testing/age_related_macular_degeneration/'\n",
    "valid_age_related_macular_degeneration_dir = './dataset/Validation/age_related_macular_degeneration/'\n",
    "\n",
    "pathological_myopia_source_dir = './data/pathological_myopia/'\n",
    "training_pathological_myopia_dir = './dataset/Training/pathological_myopia/'\n",
    "testing_pathological_myopia_dir = './dataset/Testing/pathological_myopia/'\n",
    "valid_pathological_myopia_dir = './dataset/Validation/pathological_myopia/'\n"
   ]
  },
  {
   "cell_type": "code",
   "execution_count": 25,
   "id": "5a8228eb",
   "metadata": {
    "papermill": {
     "duration": 0.039274,
     "end_time": "2022-06-05T20:44:10.026411",
     "exception": false,
     "start_time": "2022-06-05T20:44:09.987137",
     "status": "completed"
    },
    "tags": []
   },
   "outputs": [],
   "source": [
    "def split_data(SOURCE, TRAINING, VALIDATION, TESTING, SPLIT_SIZE):\n",
    "    files = []\n",
    "    for filename in os.listdir(SOURCE):\n",
    "        file = SOURCE + filename\n",
    "        if os.path.getsize(file) > 0:\n",
    "            files.append(filename)\n",
    "        else:\n",
    "            print(filename + \" is zero length, so ignoring.\")\n",
    "    \n",
    "    SIZE = (1 - SPLIT_SIZE) / 2\n",
    "    training_length = int(len(files) * SPLIT_SIZE)\n",
    "    testing_length = int(len(files) * SIZE)\n",
    "    valid_length = int(len(files) * SIZE)\n",
    "    shuffled_set = random.sample(files, len(files))\n",
    "    training_set = shuffled_set[0:training_length]\n",
    "    testing_set = shuffled_set[training_length:training_length+testing_length]\n",
    "    valid_set = shuffled_set[training_length+testing_length:]\n",
    "\n",
    "    for filename in training_set:\n",
    "        this_file = SOURCE + filename\n",
    "        destination = TRAINING + filename\n",
    "        shutil.copy(this_file, destination)\n",
    "\n",
    "    for filename in valid_set:\n",
    "        this_file = SOURCE + filename\n",
    "        destination = VALIDATION + filename\n",
    "        shutil.copy(this_file, destination)\n",
    "        \n",
    "    for filename in testing_set:\n",
    "        this_file = SOURCE + filename\n",
    "        destination = TESTING + filename\n",
    "        shutil.copy(this_file, destination)"
   ]
  },
  {
   "cell_type": "code",
   "execution_count": 26,
   "id": "2a4ab6b7",
   "metadata": {
    "papermill": {
     "duration": 0.234373,
     "end_time": "2022-06-05T20:44:10.287759",
     "exception": false,
     "start_time": "2022-06-05T20:44:10.053386",
     "status": "completed"
    },
    "tags": []
   },
   "outputs": [],
   "source": [
    "split_size = 0.80\n",
    "\n",
    "split_data(glaucoma_source_dir, training_glaucoma_dir, testing_glaucoma_dir, valid_glaucoma_dir, split_size)\n",
    "split_data(cataract_source_dir, training_cataract_dir, testing_cataract_dir, valid_cataract_dir, split_size)\n",
    "split_data(age_related_macular_degeneration_source_dir, training_age_related_macular_degeneration_dir, testing_age_related_macular_degeneration_dir, valid_age_related_macular_degeneration_dir, split_size)\n",
    "split_data(pathological_myopia_source_dir, training_pathological_myopia_dir, testing_pathological_myopia_dir, valid_pathological_myopia_dir, split_size)"
   ]
  },
  {
   "cell_type": "code",
   "execution_count": 27,
   "id": "d92be4a9",
   "metadata": {
    "papermill": {
     "duration": 0.0363,
     "end_time": "2022-06-05T20:44:10.351202",
     "exception": false,
     "start_time": "2022-06-05T20:44:10.314902",
     "status": "completed"
    },
    "tags": []
   },
   "outputs": [],
   "source": [
    "def img_p(img_height,img_width):\n",
    "    train_datagen = ImageDataGenerator(rescale = 1./255.,\n",
    "                                        rotation_range = 30,\n",
    "                                        width_shift_range = 0.1,\n",
    "                                        height_shift_range = 0.1,\n",
    "                                        zoom_range = 0.1,\n",
    "                                        horizontal_flip = True\n",
    "                                       )\n",
    "    train_generator = train_datagen.flow_from_directory('./dataset/Training/', \n",
    "                                                        target_size=(img_height,img_width), \n",
    "                                                        class_mode='categorical')\n",
    "    validation_datagen = ImageDataGenerator(rescale=1/255)\n",
    "    validation_generator = validation_datagen.flow_from_directory('./dataset/Validation/', \n",
    "                                                              target_size=(img_height,img_width),\n",
    "                                                              class_mode='categorical')\n",
    "    test_datagen = ImageDataGenerator(rescale=1/255)\n",
    "    test_generator = test_datagen.flow_from_directory('./dataset/Testing/', \n",
    "                                                              target_size=(img_height,img_width),\n",
    "                                                              class_mode='categorical')\n",
    "    \n",
    "    return train_generator,validation_generator,test_generator"
   ]
  },
  {
   "cell_type": "markdown",
   "id": "a2092a4b",
   "metadata": {
    "papermill": {
     "duration": 0.025807,
     "end_time": "2022-06-05T20:44:10.403600",
     "exception": false,
     "start_time": "2022-06-05T20:44:10.377793",
     "status": "completed"
    },
    "tags": []
   },
   "source": [
    "# InceptionV3"
   ]
  },
  {
   "cell_type": "code",
   "execution_count": 28,
   "id": "c2427f2f",
   "metadata": {
    "papermill": {
     "duration": 0.340691,
     "end_time": "2022-06-05T20:44:10.770567",
     "exception": false,
     "start_time": "2022-06-05T20:44:10.429876",
     "status": "completed"
    },
    "tags": []
   },
   "outputs": [
    {
     "name": "stdout",
     "output_type": "stream",
     "text": [
      "Found 1137 images belonging to 4 classes.\n",
      "Found 140 images belonging to 4 classes.\n",
      "Found 147 images belonging to 4 classes.\n"
     ]
    }
   ],
   "source": [
    "train_generator,validation_generator,test_generator = img_p(299,299)"
   ]
  },
  {
   "cell_type": "code",
   "execution_count": 29,
   "id": "0b91d75f",
   "metadata": {
    "papermill": {
     "duration": 4.027875,
     "end_time": "2022-06-05T20:44:14.825017",
     "exception": false,
     "start_time": "2022-06-05T20:44:10.797142",
     "status": "completed"
    },
    "scrolled": true,
    "tags": []
   },
   "outputs": [
    {
     "name": "stdout",
     "output_type": "stream",
     "text": [
      "Model: \"inception_v3\"\n",
      "__________________________________________________________________________________________________\n",
      " Layer (type)                   Output Shape         Param #     Connected to                     \n",
      "==================================================================================================\n",
      " input_1 (InputLayer)           [(None, 299, 299, 3  0           []                               \n",
      "                                )]                                                                \n",
      "                                                                                                  \n",
      " conv2d (Conv2D)                (None, 149, 149, 32  864         ['input_1[0][0]']                \n",
      "                                )                                                                 \n",
      "                                                                                                  \n",
      " batch_normalization (BatchNorm  (None, 149, 149, 32  96         ['conv2d[0][0]']                 \n",
      " alization)                     )                                                                 \n",
      "                                                                                                  \n",
      " activation (Activation)        (None, 149, 149, 32  0           ['batch_normalization[0][0]']    \n",
      "                                )                                                                 \n",
      "                                                                                                  \n",
      " conv2d_1 (Conv2D)              (None, 147, 147, 32  9216        ['activation[0][0]']             \n",
      "                                )                                                                 \n",
      "                                                                                                  \n",
      " batch_normalization_1 (BatchNo  (None, 147, 147, 32  96         ['conv2d_1[0][0]']               \n",
      " rmalization)                   )                                                                 \n",
      "                                                                                                  \n",
      " activation_1 (Activation)      (None, 147, 147, 32  0           ['batch_normalization_1[0][0]']  \n",
      "                                )                                                                 \n",
      "                                                                                                  \n",
      " conv2d_2 (Conv2D)              (None, 147, 147, 64  18432       ['activation_1[0][0]']           \n",
      "                                )                                                                 \n",
      "                                                                                                  \n",
      " batch_normalization_2 (BatchNo  (None, 147, 147, 64  192        ['conv2d_2[0][0]']               \n",
      " rmalization)                   )                                                                 \n",
      "                                                                                                  \n",
      " activation_2 (Activation)      (None, 147, 147, 64  0           ['batch_normalization_2[0][0]']  \n",
      "                                )                                                                 \n",
      "                                                                                                  \n",
      " max_pooling2d (MaxPooling2D)   (None, 73, 73, 64)   0           ['activation_2[0][0]']           \n",
      "                                                                                                  \n",
      " conv2d_3 (Conv2D)              (None, 73, 73, 80)   5120        ['max_pooling2d[0][0]']          \n",
      "                                                                                                  \n",
      " batch_normalization_3 (BatchNo  (None, 73, 73, 80)  240         ['conv2d_3[0][0]']               \n",
      " rmalization)                                                                                     \n",
      "                                                                                                  \n",
      " activation_3 (Activation)      (None, 73, 73, 80)   0           ['batch_normalization_3[0][0]']  \n",
      "                                                                                                  \n",
      " conv2d_4 (Conv2D)              (None, 71, 71, 192)  138240      ['activation_3[0][0]']           \n",
      "                                                                                                  \n",
      " batch_normalization_4 (BatchNo  (None, 71, 71, 192)  576        ['conv2d_4[0][0]']               \n",
      " rmalization)                                                                                     \n",
      "                                                                                                  \n",
      " activation_4 (Activation)      (None, 71, 71, 192)  0           ['batch_normalization_4[0][0]']  \n",
      "                                                                                                  \n",
      " max_pooling2d_1 (MaxPooling2D)  (None, 35, 35, 192)  0          ['activation_4[0][0]']           \n",
      "                                                                                                  \n",
      " conv2d_8 (Conv2D)              (None, 35, 35, 64)   12288       ['max_pooling2d_1[0][0]']        \n",
      "                                                                                                  \n",
      " batch_normalization_8 (BatchNo  (None, 35, 35, 64)  192         ['conv2d_8[0][0]']               \n",
      " rmalization)                                                                                     \n",
      "                                                                                                  \n",
      " activation_8 (Activation)      (None, 35, 35, 64)   0           ['batch_normalization_8[0][0]']  \n",
      "                                                                                                  \n",
      " conv2d_6 (Conv2D)              (None, 35, 35, 48)   9216        ['max_pooling2d_1[0][0]']        \n",
      "                                                                                                  \n",
      " conv2d_9 (Conv2D)              (None, 35, 35, 96)   55296       ['activation_8[0][0]']           \n",
      "                                                                                                  \n",
      " batch_normalization_6 (BatchNo  (None, 35, 35, 48)  144         ['conv2d_6[0][0]']               \n",
      " rmalization)                                                                                     \n",
      "                                                                                                  \n",
      " batch_normalization_9 (BatchNo  (None, 35, 35, 96)  288         ['conv2d_9[0][0]']               \n",
      " rmalization)                                                                                     \n",
      "                                                                                                  \n",
      " activation_6 (Activation)      (None, 35, 35, 48)   0           ['batch_normalization_6[0][0]']  \n",
      "                                                                                                  \n",
      " activation_9 (Activation)      (None, 35, 35, 96)   0           ['batch_normalization_9[0][0]']  \n",
      "                                                                                                  \n",
      " average_pooling2d (AveragePool  (None, 35, 35, 192)  0          ['max_pooling2d_1[0][0]']        \n",
      " ing2D)                                                                                           \n",
      "                                                                                                  \n",
      " conv2d_5 (Conv2D)              (None, 35, 35, 64)   12288       ['max_pooling2d_1[0][0]']        \n",
      "                                                                                                  \n",
      " conv2d_7 (Conv2D)              (None, 35, 35, 64)   76800       ['activation_6[0][0]']           \n",
      "                                                                                                  \n",
      " conv2d_10 (Conv2D)             (None, 35, 35, 96)   82944       ['activation_9[0][0]']           \n",
      "                                                                                                  \n",
      " conv2d_11 (Conv2D)             (None, 35, 35, 32)   6144        ['average_pooling2d[0][0]']      \n",
      "                                                                                                  \n",
      " batch_normalization_5 (BatchNo  (None, 35, 35, 64)  192         ['conv2d_5[0][0]']               \n",
      " rmalization)                                                                                     \n",
      "                                                                                                  \n",
      " batch_normalization_7 (BatchNo  (None, 35, 35, 64)  192         ['conv2d_7[0][0]']               \n",
      " rmalization)                                                                                     \n",
      "                                                                                                  \n",
      " batch_normalization_10 (BatchN  (None, 35, 35, 96)  288         ['conv2d_10[0][0]']              \n",
      " ormalization)                                                                                    \n",
      "                                                                                                  \n",
      " batch_normalization_11 (BatchN  (None, 35, 35, 32)  96          ['conv2d_11[0][0]']              \n",
      " ormalization)                                                                                    \n",
      "                                                                                                  \n",
      " activation_5 (Activation)      (None, 35, 35, 64)   0           ['batch_normalization_5[0][0]']  \n",
      "                                                                                                  \n",
      " activation_7 (Activation)      (None, 35, 35, 64)   0           ['batch_normalization_7[0][0]']  \n",
      "                                                                                                  \n",
      " activation_10 (Activation)     (None, 35, 35, 96)   0           ['batch_normalization_10[0][0]'] \n",
      "                                                                                                  \n",
      " activation_11 (Activation)     (None, 35, 35, 32)   0           ['batch_normalization_11[0][0]'] \n",
      "                                                                                                  \n",
      " mixed0 (Concatenate)           (None, 35, 35, 256)  0           ['activation_5[0][0]',           \n",
      "                                                                  'activation_7[0][0]',           \n",
      "                                                                  'activation_10[0][0]',          \n",
      "                                                                  'activation_11[0][0]']          \n",
      "                                                                                                  \n",
      " conv2d_15 (Conv2D)             (None, 35, 35, 64)   16384       ['mixed0[0][0]']                 \n",
      "                                                                                                  \n",
      " batch_normalization_15 (BatchN  (None, 35, 35, 64)  192         ['conv2d_15[0][0]']              \n",
      " ormalization)                                                                                    \n",
      "                                                                                                  \n",
      " activation_15 (Activation)     (None, 35, 35, 64)   0           ['batch_normalization_15[0][0]'] \n",
      "                                                                                                  \n",
      " conv2d_13 (Conv2D)             (None, 35, 35, 48)   12288       ['mixed0[0][0]']                 \n",
      "                                                                                                  \n",
      " conv2d_16 (Conv2D)             (None, 35, 35, 96)   55296       ['activation_15[0][0]']          \n",
      "                                                                                                  \n",
      " batch_normalization_13 (BatchN  (None, 35, 35, 48)  144         ['conv2d_13[0][0]']              \n",
      " ormalization)                                                                                    \n",
      "                                                                                                  \n",
      " batch_normalization_16 (BatchN  (None, 35, 35, 96)  288         ['conv2d_16[0][0]']              \n",
      " ormalization)                                                                                    \n",
      "                                                                                                  \n",
      " activation_13 (Activation)     (None, 35, 35, 48)   0           ['batch_normalization_13[0][0]'] \n",
      "                                                                                                  \n",
      " activation_16 (Activation)     (None, 35, 35, 96)   0           ['batch_normalization_16[0][0]'] \n",
      "                                                                                                  \n",
      " average_pooling2d_1 (AveragePo  (None, 35, 35, 256)  0          ['mixed0[0][0]']                 \n",
      " oling2D)                                                                                         \n",
      "                                                                                                  \n",
      " conv2d_12 (Conv2D)             (None, 35, 35, 64)   16384       ['mixed0[0][0]']                 \n",
      "                                                                                                  \n",
      " conv2d_14 (Conv2D)             (None, 35, 35, 64)   76800       ['activation_13[0][0]']          \n",
      "                                                                                                  \n",
      " conv2d_17 (Conv2D)             (None, 35, 35, 96)   82944       ['activation_16[0][0]']          \n",
      "                                                                                                  \n",
      " conv2d_18 (Conv2D)             (None, 35, 35, 64)   16384       ['average_pooling2d_1[0][0]']    \n",
      "                                                                                                  \n",
      " batch_normalization_12 (BatchN  (None, 35, 35, 64)  192         ['conv2d_12[0][0]']              \n",
      " ormalization)                                                                                    \n",
      "                                                                                                  \n",
      " batch_normalization_14 (BatchN  (None, 35, 35, 64)  192         ['conv2d_14[0][0]']              \n",
      " ormalization)                                                                                    \n",
      "                                                                                                  \n",
      " batch_normalization_17 (BatchN  (None, 35, 35, 96)  288         ['conv2d_17[0][0]']              \n",
      " ormalization)                                                                                    \n",
      "                                                                                                  \n",
      " batch_normalization_18 (BatchN  (None, 35, 35, 64)  192         ['conv2d_18[0][0]']              \n",
      " ormalization)                                                                                    \n",
      "                                                                                                  \n",
      " activation_12 (Activation)     (None, 35, 35, 64)   0           ['batch_normalization_12[0][0]'] \n",
      "                                                                                                  \n",
      " activation_14 (Activation)     (None, 35, 35, 64)   0           ['batch_normalization_14[0][0]'] \n",
      "                                                                                                  \n",
      " activation_17 (Activation)     (None, 35, 35, 96)   0           ['batch_normalization_17[0][0]'] \n",
      "                                                                                                  \n",
      " activation_18 (Activation)     (None, 35, 35, 64)   0           ['batch_normalization_18[0][0]'] \n",
      "                                                                                                  \n",
      " mixed1 (Concatenate)           (None, 35, 35, 288)  0           ['activation_12[0][0]',          \n",
      "                                                                  'activation_14[0][0]',          \n",
      "                                                                  'activation_17[0][0]',          \n",
      "                                                                  'activation_18[0][0]']          \n",
      "                                                                                                  \n",
      " conv2d_22 (Conv2D)             (None, 35, 35, 64)   18432       ['mixed1[0][0]']                 \n",
      "                                                                                                  \n",
      " batch_normalization_22 (BatchN  (None, 35, 35, 64)  192         ['conv2d_22[0][0]']              \n",
      " ormalization)                                                                                    \n",
      "                                                                                                  \n",
      " activation_22 (Activation)     (None, 35, 35, 64)   0           ['batch_normalization_22[0][0]'] \n",
      "                                                                                                  \n",
      " conv2d_20 (Conv2D)             (None, 35, 35, 48)   13824       ['mixed1[0][0]']                 \n",
      "                                                                                                  \n",
      " conv2d_23 (Conv2D)             (None, 35, 35, 96)   55296       ['activation_22[0][0]']          \n",
      "                                                                                                  \n",
      " batch_normalization_20 (BatchN  (None, 35, 35, 48)  144         ['conv2d_20[0][0]']              \n",
      " ormalization)                                                                                    \n",
      "                                                                                                  \n",
      " batch_normalization_23 (BatchN  (None, 35, 35, 96)  288         ['conv2d_23[0][0]']              \n",
      " ormalization)                                                                                    \n",
      "                                                                                                  \n",
      " activation_20 (Activation)     (None, 35, 35, 48)   0           ['batch_normalization_20[0][0]'] \n",
      "                                                                                                  \n",
      " activation_23 (Activation)     (None, 35, 35, 96)   0           ['batch_normalization_23[0][0]'] \n",
      "                                                                                                  \n",
      " average_pooling2d_2 (AveragePo  (None, 35, 35, 288)  0          ['mixed1[0][0]']                 \n",
      " oling2D)                                                                                         \n",
      "                                                                                                  \n",
      " conv2d_19 (Conv2D)             (None, 35, 35, 64)   18432       ['mixed1[0][0]']                 \n",
      "                                                                                                  \n",
      " conv2d_21 (Conv2D)             (None, 35, 35, 64)   76800       ['activation_20[0][0]']          \n",
      "                                                                                                  \n",
      " conv2d_24 (Conv2D)             (None, 35, 35, 96)   82944       ['activation_23[0][0]']          \n",
      "                                                                                                  \n",
      " conv2d_25 (Conv2D)             (None, 35, 35, 64)   18432       ['average_pooling2d_2[0][0]']    \n",
      "                                                                                                  \n",
      " batch_normalization_19 (BatchN  (None, 35, 35, 64)  192         ['conv2d_19[0][0]']              \n",
      " ormalization)                                                                                    \n",
      "                                                                                                  \n",
      " batch_normalization_21 (BatchN  (None, 35, 35, 64)  192         ['conv2d_21[0][0]']              \n",
      " ormalization)                                                                                    \n",
      "                                                                                                  \n",
      " batch_normalization_24 (BatchN  (None, 35, 35, 96)  288         ['conv2d_24[0][0]']              \n",
      " ormalization)                                                                                    \n",
      "                                                                                                  \n",
      " batch_normalization_25 (BatchN  (None, 35, 35, 64)  192         ['conv2d_25[0][0]']              \n",
      " ormalization)                                                                                    \n",
      "                                                                                                  \n",
      " activation_19 (Activation)     (None, 35, 35, 64)   0           ['batch_normalization_19[0][0]'] \n",
      "                                                                                                  \n",
      " activation_21 (Activation)     (None, 35, 35, 64)   0           ['batch_normalization_21[0][0]'] \n",
      "                                                                                                  \n",
      " activation_24 (Activation)     (None, 35, 35, 96)   0           ['batch_normalization_24[0][0]'] \n",
      "                                                                                                  \n",
      " activation_25 (Activation)     (None, 35, 35, 64)   0           ['batch_normalization_25[0][0]'] \n",
      "                                                                                                  \n",
      " mixed2 (Concatenate)           (None, 35, 35, 288)  0           ['activation_19[0][0]',          \n",
      "                                                                  'activation_21[0][0]',          \n",
      "                                                                  'activation_24[0][0]',          \n",
      "                                                                  'activation_25[0][0]']          \n",
      "                                                                                                  \n",
      " conv2d_27 (Conv2D)             (None, 35, 35, 64)   18432       ['mixed2[0][0]']                 \n",
      "                                                                                                  \n",
      " batch_normalization_27 (BatchN  (None, 35, 35, 64)  192         ['conv2d_27[0][0]']              \n",
      " ormalization)                                                                                    \n",
      "                                                                                                  \n",
      " activation_27 (Activation)     (None, 35, 35, 64)   0           ['batch_normalization_27[0][0]'] \n",
      "                                                                                                  \n",
      " conv2d_28 (Conv2D)             (None, 35, 35, 96)   55296       ['activation_27[0][0]']          \n",
      "                                                                                                  \n",
      " batch_normalization_28 (BatchN  (None, 35, 35, 96)  288         ['conv2d_28[0][0]']              \n",
      " ormalization)                                                                                    \n",
      "                                                                                                  \n",
      " activation_28 (Activation)     (None, 35, 35, 96)   0           ['batch_normalization_28[0][0]'] \n",
      "                                                                                                  \n",
      " conv2d_26 (Conv2D)             (None, 17, 17, 384)  995328      ['mixed2[0][0]']                 \n",
      "                                                                                                  \n",
      " conv2d_29 (Conv2D)             (None, 17, 17, 96)   82944       ['activation_28[0][0]']          \n",
      "                                                                                                  \n",
      " batch_normalization_26 (BatchN  (None, 17, 17, 384)  1152       ['conv2d_26[0][0]']              \n",
      " ormalization)                                                                                    \n",
      "                                                                                                  \n",
      " batch_normalization_29 (BatchN  (None, 17, 17, 96)  288         ['conv2d_29[0][0]']              \n",
      " ormalization)                                                                                    \n",
      "                                                                                                  \n",
      " activation_26 (Activation)     (None, 17, 17, 384)  0           ['batch_normalization_26[0][0]'] \n",
      "                                                                                                  \n",
      " activation_29 (Activation)     (None, 17, 17, 96)   0           ['batch_normalization_29[0][0]'] \n",
      "                                                                                                  \n",
      " max_pooling2d_2 (MaxPooling2D)  (None, 17, 17, 288)  0          ['mixed2[0][0]']                 \n",
      "                                                                                                  \n",
      " mixed3 (Concatenate)           (None, 17, 17, 768)  0           ['activation_26[0][0]',          \n",
      "                                                                  'activation_29[0][0]',          \n",
      "                                                                  'max_pooling2d_2[0][0]']        \n",
      "                                                                                                  \n",
      " conv2d_34 (Conv2D)             (None, 17, 17, 128)  98304       ['mixed3[0][0]']                 \n",
      "                                                                                                  \n",
      " batch_normalization_34 (BatchN  (None, 17, 17, 128)  384        ['conv2d_34[0][0]']              \n",
      " ormalization)                                                                                    \n",
      "                                                                                                  \n",
      " activation_34 (Activation)     (None, 17, 17, 128)  0           ['batch_normalization_34[0][0]'] \n",
      "                                                                                                  \n",
      " conv2d_35 (Conv2D)             (None, 17, 17, 128)  114688      ['activation_34[0][0]']          \n",
      "                                                                                                  \n",
      " batch_normalization_35 (BatchN  (None, 17, 17, 128)  384        ['conv2d_35[0][0]']              \n",
      " ormalization)                                                                                    \n",
      "                                                                                                  \n",
      " activation_35 (Activation)     (None, 17, 17, 128)  0           ['batch_normalization_35[0][0]'] \n",
      "                                                                                                  \n",
      " conv2d_31 (Conv2D)             (None, 17, 17, 128)  98304       ['mixed3[0][0]']                 \n",
      "                                                                                                  \n",
      " conv2d_36 (Conv2D)             (None, 17, 17, 128)  114688      ['activation_35[0][0]']          \n",
      "                                                                                                  \n",
      " batch_normalization_31 (BatchN  (None, 17, 17, 128)  384        ['conv2d_31[0][0]']              \n",
      " ormalization)                                                                                    \n",
      "                                                                                                  \n",
      " batch_normalization_36 (BatchN  (None, 17, 17, 128)  384        ['conv2d_36[0][0]']              \n",
      " ormalization)                                                                                    \n",
      "                                                                                                  \n",
      " activation_31 (Activation)     (None, 17, 17, 128)  0           ['batch_normalization_31[0][0]'] \n",
      "                                                                                                  \n",
      " activation_36 (Activation)     (None, 17, 17, 128)  0           ['batch_normalization_36[0][0]'] \n",
      "                                                                                                  \n",
      " conv2d_32 (Conv2D)             (None, 17, 17, 128)  114688      ['activation_31[0][0]']          \n",
      "                                                                                                  \n",
      " conv2d_37 (Conv2D)             (None, 17, 17, 128)  114688      ['activation_36[0][0]']          \n",
      "                                                                                                  \n",
      " batch_normalization_32 (BatchN  (None, 17, 17, 128)  384        ['conv2d_32[0][0]']              \n",
      " ormalization)                                                                                    \n",
      "                                                                                                  \n",
      " batch_normalization_37 (BatchN  (None, 17, 17, 128)  384        ['conv2d_37[0][0]']              \n",
      " ormalization)                                                                                    \n",
      "                                                                                                  \n",
      " activation_32 (Activation)     (None, 17, 17, 128)  0           ['batch_normalization_32[0][0]'] \n",
      "                                                                                                  \n",
      " activation_37 (Activation)     (None, 17, 17, 128)  0           ['batch_normalization_37[0][0]'] \n",
      "                                                                                                  \n",
      " average_pooling2d_3 (AveragePo  (None, 17, 17, 768)  0          ['mixed3[0][0]']                 \n",
      " oling2D)                                                                                         \n",
      "                                                                                                  \n",
      " conv2d_30 (Conv2D)             (None, 17, 17, 192)  147456      ['mixed3[0][0]']                 \n",
      "                                                                                                  \n",
      " conv2d_33 (Conv2D)             (None, 17, 17, 192)  172032      ['activation_32[0][0]']          \n",
      "                                                                                                  \n",
      " conv2d_38 (Conv2D)             (None, 17, 17, 192)  172032      ['activation_37[0][0]']          \n",
      "                                                                                                  \n",
      " conv2d_39 (Conv2D)             (None, 17, 17, 192)  147456      ['average_pooling2d_3[0][0]']    \n",
      "                                                                                                  \n",
      " batch_normalization_30 (BatchN  (None, 17, 17, 192)  576        ['conv2d_30[0][0]']              \n",
      " ormalization)                                                                                    \n",
      "                                                                                                  \n",
      " batch_normalization_33 (BatchN  (None, 17, 17, 192)  576        ['conv2d_33[0][0]']              \n",
      " ormalization)                                                                                    \n",
      "                                                                                                  \n",
      " batch_normalization_38 (BatchN  (None, 17, 17, 192)  576        ['conv2d_38[0][0]']              \n",
      " ormalization)                                                                                    \n",
      "                                                                                                  \n",
      " batch_normalization_39 (BatchN  (None, 17, 17, 192)  576        ['conv2d_39[0][0]']              \n",
      " ormalization)                                                                                    \n",
      "                                                                                                  \n",
      " activation_30 (Activation)     (None, 17, 17, 192)  0           ['batch_normalization_30[0][0]'] \n",
      "                                                                                                  \n",
      " activation_33 (Activation)     (None, 17, 17, 192)  0           ['batch_normalization_33[0][0]'] \n",
      "                                                                                                  \n",
      " activation_38 (Activation)     (None, 17, 17, 192)  0           ['batch_normalization_38[0][0]'] \n",
      "                                                                                                  \n",
      " activation_39 (Activation)     (None, 17, 17, 192)  0           ['batch_normalization_39[0][0]'] \n",
      "                                                                                                  \n",
      " mixed4 (Concatenate)           (None, 17, 17, 768)  0           ['activation_30[0][0]',          \n",
      "                                                                  'activation_33[0][0]',          \n",
      "                                                                  'activation_38[0][0]',          \n",
      "                                                                  'activation_39[0][0]']          \n",
      "                                                                                                  \n",
      " conv2d_44 (Conv2D)             (None, 17, 17, 160)  122880      ['mixed4[0][0]']                 \n",
      "                                                                                                  \n",
      " batch_normalization_44 (BatchN  (None, 17, 17, 160)  480        ['conv2d_44[0][0]']              \n",
      " ormalization)                                                                                    \n",
      "                                                                                                  \n",
      " activation_44 (Activation)     (None, 17, 17, 160)  0           ['batch_normalization_44[0][0]'] \n",
      "                                                                                                  \n",
      " conv2d_45 (Conv2D)             (None, 17, 17, 160)  179200      ['activation_44[0][0]']          \n",
      "                                                                                                  \n",
      " batch_normalization_45 (BatchN  (None, 17, 17, 160)  480        ['conv2d_45[0][0]']              \n",
      " ormalization)                                                                                    \n",
      "                                                                                                  \n",
      " activation_45 (Activation)     (None, 17, 17, 160)  0           ['batch_normalization_45[0][0]'] \n",
      "                                                                                                  \n",
      " conv2d_41 (Conv2D)             (None, 17, 17, 160)  122880      ['mixed4[0][0]']                 \n",
      "                                                                                                  \n",
      " conv2d_46 (Conv2D)             (None, 17, 17, 160)  179200      ['activation_45[0][0]']          \n",
      "                                                                                                  \n",
      " batch_normalization_41 (BatchN  (None, 17, 17, 160)  480        ['conv2d_41[0][0]']              \n",
      " ormalization)                                                                                    \n",
      "                                                                                                  \n",
      " batch_normalization_46 (BatchN  (None, 17, 17, 160)  480        ['conv2d_46[0][0]']              \n",
      " ormalization)                                                                                    \n",
      "                                                                                                  \n",
      " activation_41 (Activation)     (None, 17, 17, 160)  0           ['batch_normalization_41[0][0]'] \n",
      "                                                                                                  \n",
      " activation_46 (Activation)     (None, 17, 17, 160)  0           ['batch_normalization_46[0][0]'] \n",
      "                                                                                                  \n",
      " conv2d_42 (Conv2D)             (None, 17, 17, 160)  179200      ['activation_41[0][0]']          \n",
      "                                                                                                  \n",
      " conv2d_47 (Conv2D)             (None, 17, 17, 160)  179200      ['activation_46[0][0]']          \n",
      "                                                                                                  \n",
      " batch_normalization_42 (BatchN  (None, 17, 17, 160)  480        ['conv2d_42[0][0]']              \n",
      " ormalization)                                                                                    \n",
      "                                                                                                  \n",
      " batch_normalization_47 (BatchN  (None, 17, 17, 160)  480        ['conv2d_47[0][0]']              \n",
      " ormalization)                                                                                    \n",
      "                                                                                                  \n",
      " activation_42 (Activation)     (None, 17, 17, 160)  0           ['batch_normalization_42[0][0]'] \n",
      "                                                                                                  \n",
      " activation_47 (Activation)     (None, 17, 17, 160)  0           ['batch_normalization_47[0][0]'] \n",
      "                                                                                                  \n",
      " average_pooling2d_4 (AveragePo  (None, 17, 17, 768)  0          ['mixed4[0][0]']                 \n",
      " oling2D)                                                                                         \n",
      "                                                                                                  \n",
      " conv2d_40 (Conv2D)             (None, 17, 17, 192)  147456      ['mixed4[0][0]']                 \n",
      "                                                                                                  \n",
      " conv2d_43 (Conv2D)             (None, 17, 17, 192)  215040      ['activation_42[0][0]']          \n",
      "                                                                                                  \n",
      " conv2d_48 (Conv2D)             (None, 17, 17, 192)  215040      ['activation_47[0][0]']          \n",
      "                                                                                                  \n",
      " conv2d_49 (Conv2D)             (None, 17, 17, 192)  147456      ['average_pooling2d_4[0][0]']    \n",
      "                                                                                                  \n",
      " batch_normalization_40 (BatchN  (None, 17, 17, 192)  576        ['conv2d_40[0][0]']              \n",
      " ormalization)                                                                                    \n",
      "                                                                                                  \n",
      " batch_normalization_43 (BatchN  (None, 17, 17, 192)  576        ['conv2d_43[0][0]']              \n",
      " ormalization)                                                                                    \n",
      "                                                                                                  \n",
      " batch_normalization_48 (BatchN  (None, 17, 17, 192)  576        ['conv2d_48[0][0]']              \n",
      " ormalization)                                                                                    \n",
      "                                                                                                  \n",
      " batch_normalization_49 (BatchN  (None, 17, 17, 192)  576        ['conv2d_49[0][0]']              \n",
      " ormalization)                                                                                    \n",
      "                                                                                                  \n",
      " activation_40 (Activation)     (None, 17, 17, 192)  0           ['batch_normalization_40[0][0]'] \n",
      "                                                                                                  \n",
      " activation_43 (Activation)     (None, 17, 17, 192)  0           ['batch_normalization_43[0][0]'] \n",
      "                                                                                                  \n",
      " activation_48 (Activation)     (None, 17, 17, 192)  0           ['batch_normalization_48[0][0]'] \n",
      "                                                                                                  \n",
      " activation_49 (Activation)     (None, 17, 17, 192)  0           ['batch_normalization_49[0][0]'] \n",
      "                                                                                                  \n",
      " mixed5 (Concatenate)           (None, 17, 17, 768)  0           ['activation_40[0][0]',          \n",
      "                                                                  'activation_43[0][0]',          \n",
      "                                                                  'activation_48[0][0]',          \n",
      "                                                                  'activation_49[0][0]']          \n",
      "                                                                                                  \n",
      " conv2d_54 (Conv2D)             (None, 17, 17, 160)  122880      ['mixed5[0][0]']                 \n",
      "                                                                                                  \n",
      " batch_normalization_54 (BatchN  (None, 17, 17, 160)  480        ['conv2d_54[0][0]']              \n",
      " ormalization)                                                                                    \n",
      "                                                                                                  \n",
      " activation_54 (Activation)     (None, 17, 17, 160)  0           ['batch_normalization_54[0][0]'] \n",
      "                                                                                                  \n",
      " conv2d_55 (Conv2D)             (None, 17, 17, 160)  179200      ['activation_54[0][0]']          \n",
      "                                                                                                  \n",
      " batch_normalization_55 (BatchN  (None, 17, 17, 160)  480        ['conv2d_55[0][0]']              \n",
      " ormalization)                                                                                    \n",
      "                                                                                                  \n",
      " activation_55 (Activation)     (None, 17, 17, 160)  0           ['batch_normalization_55[0][0]'] \n",
      "                                                                                                  \n",
      " conv2d_51 (Conv2D)             (None, 17, 17, 160)  122880      ['mixed5[0][0]']                 \n",
      "                                                                                                  \n",
      " conv2d_56 (Conv2D)             (None, 17, 17, 160)  179200      ['activation_55[0][0]']          \n",
      "                                                                                                  \n",
      " batch_normalization_51 (BatchN  (None, 17, 17, 160)  480        ['conv2d_51[0][0]']              \n",
      " ormalization)                                                                                    \n",
      "                                                                                                  \n",
      " batch_normalization_56 (BatchN  (None, 17, 17, 160)  480        ['conv2d_56[0][0]']              \n",
      " ormalization)                                                                                    \n",
      "                                                                                                  \n",
      " activation_51 (Activation)     (None, 17, 17, 160)  0           ['batch_normalization_51[0][0]'] \n",
      "                                                                                                  \n",
      " activation_56 (Activation)     (None, 17, 17, 160)  0           ['batch_normalization_56[0][0]'] \n",
      "                                                                                                  \n",
      " conv2d_52 (Conv2D)             (None, 17, 17, 160)  179200      ['activation_51[0][0]']          \n",
      "                                                                                                  \n",
      " conv2d_57 (Conv2D)             (None, 17, 17, 160)  179200      ['activation_56[0][0]']          \n",
      "                                                                                                  \n",
      " batch_normalization_52 (BatchN  (None, 17, 17, 160)  480        ['conv2d_52[0][0]']              \n",
      " ormalization)                                                                                    \n",
      "                                                                                                  \n",
      " batch_normalization_57 (BatchN  (None, 17, 17, 160)  480        ['conv2d_57[0][0]']              \n",
      " ormalization)                                                                                    \n",
      "                                                                                                  \n",
      " activation_52 (Activation)     (None, 17, 17, 160)  0           ['batch_normalization_52[0][0]'] \n",
      "                                                                                                  \n",
      " activation_57 (Activation)     (None, 17, 17, 160)  0           ['batch_normalization_57[0][0]'] \n",
      "                                                                                                  \n",
      " average_pooling2d_5 (AveragePo  (None, 17, 17, 768)  0          ['mixed5[0][0]']                 \n",
      " oling2D)                                                                                         \n",
      "                                                                                                  \n",
      " conv2d_50 (Conv2D)             (None, 17, 17, 192)  147456      ['mixed5[0][0]']                 \n",
      "                                                                                                  \n",
      " conv2d_53 (Conv2D)             (None, 17, 17, 192)  215040      ['activation_52[0][0]']          \n",
      "                                                                                                  \n",
      " conv2d_58 (Conv2D)             (None, 17, 17, 192)  215040      ['activation_57[0][0]']          \n",
      "                                                                                                  \n",
      " conv2d_59 (Conv2D)             (None, 17, 17, 192)  147456      ['average_pooling2d_5[0][0]']    \n",
      "                                                                                                  \n",
      " batch_normalization_50 (BatchN  (None, 17, 17, 192)  576        ['conv2d_50[0][0]']              \n",
      " ormalization)                                                                                    \n",
      "                                                                                                  \n",
      " batch_normalization_53 (BatchN  (None, 17, 17, 192)  576        ['conv2d_53[0][0]']              \n",
      " ormalization)                                                                                    \n",
      "                                                                                                  \n",
      " batch_normalization_58 (BatchN  (None, 17, 17, 192)  576        ['conv2d_58[0][0]']              \n",
      " ormalization)                                                                                    \n",
      "                                                                                                  \n",
      " batch_normalization_59 (BatchN  (None, 17, 17, 192)  576        ['conv2d_59[0][0]']              \n",
      " ormalization)                                                                                    \n",
      "                                                                                                  \n",
      " activation_50 (Activation)     (None, 17, 17, 192)  0           ['batch_normalization_50[0][0]'] \n",
      "                                                                                                  \n",
      " activation_53 (Activation)     (None, 17, 17, 192)  0           ['batch_normalization_53[0][0]'] \n",
      "                                                                                                  \n",
      " activation_58 (Activation)     (None, 17, 17, 192)  0           ['batch_normalization_58[0][0]'] \n",
      "                                                                                                  \n",
      " activation_59 (Activation)     (None, 17, 17, 192)  0           ['batch_normalization_59[0][0]'] \n",
      "                                                                                                  \n",
      " mixed6 (Concatenate)           (None, 17, 17, 768)  0           ['activation_50[0][0]',          \n",
      "                                                                  'activation_53[0][0]',          \n",
      "                                                                  'activation_58[0][0]',          \n",
      "                                                                  'activation_59[0][0]']          \n",
      "                                                                                                  \n",
      " conv2d_64 (Conv2D)             (None, 17, 17, 192)  147456      ['mixed6[0][0]']                 \n",
      "                                                                                                  \n",
      " batch_normalization_64 (BatchN  (None, 17, 17, 192)  576        ['conv2d_64[0][0]']              \n",
      " ormalization)                                                                                    \n",
      "                                                                                                  \n",
      " activation_64 (Activation)     (None, 17, 17, 192)  0           ['batch_normalization_64[0][0]'] \n",
      "                                                                                                  \n",
      " conv2d_65 (Conv2D)             (None, 17, 17, 192)  258048      ['activation_64[0][0]']          \n",
      "                                                                                                  \n",
      " batch_normalization_65 (BatchN  (None, 17, 17, 192)  576        ['conv2d_65[0][0]']              \n",
      " ormalization)                                                                                    \n",
      "                                                                                                  \n",
      " activation_65 (Activation)     (None, 17, 17, 192)  0           ['batch_normalization_65[0][0]'] \n",
      "                                                                                                  \n",
      " conv2d_61 (Conv2D)             (None, 17, 17, 192)  147456      ['mixed6[0][0]']                 \n",
      "                                                                                                  \n",
      " conv2d_66 (Conv2D)             (None, 17, 17, 192)  258048      ['activation_65[0][0]']          \n",
      "                                                                                                  \n",
      " batch_normalization_61 (BatchN  (None, 17, 17, 192)  576        ['conv2d_61[0][0]']              \n",
      " ormalization)                                                                                    \n",
      "                                                                                                  \n",
      " batch_normalization_66 (BatchN  (None, 17, 17, 192)  576        ['conv2d_66[0][0]']              \n",
      " ormalization)                                                                                    \n",
      "                                                                                                  \n",
      " activation_61 (Activation)     (None, 17, 17, 192)  0           ['batch_normalization_61[0][0]'] \n",
      "                                                                                                  \n",
      " activation_66 (Activation)     (None, 17, 17, 192)  0           ['batch_normalization_66[0][0]'] \n",
      "                                                                                                  \n",
      " conv2d_62 (Conv2D)             (None, 17, 17, 192)  258048      ['activation_61[0][0]']          \n",
      "                                                                                                  \n",
      " conv2d_67 (Conv2D)             (None, 17, 17, 192)  258048      ['activation_66[0][0]']          \n",
      "                                                                                                  \n",
      " batch_normalization_62 (BatchN  (None, 17, 17, 192)  576        ['conv2d_62[0][0]']              \n",
      " ormalization)                                                                                    \n",
      "                                                                                                  \n",
      " batch_normalization_67 (BatchN  (None, 17, 17, 192)  576        ['conv2d_67[0][0]']              \n",
      " ormalization)                                                                                    \n",
      "                                                                                                  \n",
      " activation_62 (Activation)     (None, 17, 17, 192)  0           ['batch_normalization_62[0][0]'] \n",
      "                                                                                                  \n",
      " activation_67 (Activation)     (None, 17, 17, 192)  0           ['batch_normalization_67[0][0]'] \n",
      "                                                                                                  \n",
      " average_pooling2d_6 (AveragePo  (None, 17, 17, 768)  0          ['mixed6[0][0]']                 \n",
      " oling2D)                                                                                         \n",
      "                                                                                                  \n",
      " conv2d_60 (Conv2D)             (None, 17, 17, 192)  147456      ['mixed6[0][0]']                 \n",
      "                                                                                                  \n",
      " conv2d_63 (Conv2D)             (None, 17, 17, 192)  258048      ['activation_62[0][0]']          \n",
      "                                                                                                  \n",
      " conv2d_68 (Conv2D)             (None, 17, 17, 192)  258048      ['activation_67[0][0]']          \n",
      "                                                                                                  \n",
      " conv2d_69 (Conv2D)             (None, 17, 17, 192)  147456      ['average_pooling2d_6[0][0]']    \n",
      "                                                                                                  \n",
      " batch_normalization_60 (BatchN  (None, 17, 17, 192)  576        ['conv2d_60[0][0]']              \n",
      " ormalization)                                                                                    \n",
      "                                                                                                  \n",
      " batch_normalization_63 (BatchN  (None, 17, 17, 192)  576        ['conv2d_63[0][0]']              \n",
      " ormalization)                                                                                    \n",
      "                                                                                                  \n",
      " batch_normalization_68 (BatchN  (None, 17, 17, 192)  576        ['conv2d_68[0][0]']              \n",
      " ormalization)                                                                                    \n",
      "                                                                                                  \n",
      " batch_normalization_69 (BatchN  (None, 17, 17, 192)  576        ['conv2d_69[0][0]']              \n",
      " ormalization)                                                                                    \n",
      "                                                                                                  \n",
      " activation_60 (Activation)     (None, 17, 17, 192)  0           ['batch_normalization_60[0][0]'] \n",
      "                                                                                                  \n",
      " activation_63 (Activation)     (None, 17, 17, 192)  0           ['batch_normalization_63[0][0]'] \n",
      "                                                                                                  \n",
      " activation_68 (Activation)     (None, 17, 17, 192)  0           ['batch_normalization_68[0][0]'] \n",
      "                                                                                                  \n",
      " activation_69 (Activation)     (None, 17, 17, 192)  0           ['batch_normalization_69[0][0]'] \n",
      "                                                                                                  \n",
      " mixed7 (Concatenate)           (None, 17, 17, 768)  0           ['activation_60[0][0]',          \n",
      "                                                                  'activation_63[0][0]',          \n",
      "                                                                  'activation_68[0][0]',          \n",
      "                                                                  'activation_69[0][0]']          \n",
      "                                                                                                  \n",
      " conv2d_72 (Conv2D)             (None, 17, 17, 192)  147456      ['mixed7[0][0]']                 \n",
      "                                                                                                  \n",
      " batch_normalization_72 (BatchN  (None, 17, 17, 192)  576        ['conv2d_72[0][0]']              \n",
      " ormalization)                                                                                    \n",
      "                                                                                                  \n",
      " activation_72 (Activation)     (None, 17, 17, 192)  0           ['batch_normalization_72[0][0]'] \n",
      "                                                                                                  \n",
      " conv2d_73 (Conv2D)             (None, 17, 17, 192)  258048      ['activation_72[0][0]']          \n",
      "                                                                                                  \n",
      " batch_normalization_73 (BatchN  (None, 17, 17, 192)  576        ['conv2d_73[0][0]']              \n",
      " ormalization)                                                                                    \n",
      "                                                                                                  \n",
      " activation_73 (Activation)     (None, 17, 17, 192)  0           ['batch_normalization_73[0][0]'] \n",
      "                                                                                                  \n",
      " conv2d_70 (Conv2D)             (None, 17, 17, 192)  147456      ['mixed7[0][0]']                 \n",
      "                                                                                                  \n",
      " conv2d_74 (Conv2D)             (None, 17, 17, 192)  258048      ['activation_73[0][0]']          \n",
      "                                                                                                  \n",
      " batch_normalization_70 (BatchN  (None, 17, 17, 192)  576        ['conv2d_70[0][0]']              \n",
      " ormalization)                                                                                    \n",
      "                                                                                                  \n",
      " batch_normalization_74 (BatchN  (None, 17, 17, 192)  576        ['conv2d_74[0][0]']              \n",
      " ormalization)                                                                                    \n",
      "                                                                                                  \n",
      " activation_70 (Activation)     (None, 17, 17, 192)  0           ['batch_normalization_70[0][0]'] \n",
      "                                                                                                  \n",
      " activation_74 (Activation)     (None, 17, 17, 192)  0           ['batch_normalization_74[0][0]'] \n",
      "                                                                                                  \n",
      " conv2d_71 (Conv2D)             (None, 8, 8, 320)    552960      ['activation_70[0][0]']          \n",
      "                                                                                                  \n",
      " conv2d_75 (Conv2D)             (None, 8, 8, 192)    331776      ['activation_74[0][0]']          \n",
      "                                                                                                  \n",
      " batch_normalization_71 (BatchN  (None, 8, 8, 320)   960         ['conv2d_71[0][0]']              \n",
      " ormalization)                                                                                    \n",
      "                                                                                                  \n",
      " batch_normalization_75 (BatchN  (None, 8, 8, 192)   576         ['conv2d_75[0][0]']              \n",
      " ormalization)                                                                                    \n",
      "                                                                                                  \n",
      " activation_71 (Activation)     (None, 8, 8, 320)    0           ['batch_normalization_71[0][0]'] \n",
      "                                                                                                  \n",
      " activation_75 (Activation)     (None, 8, 8, 192)    0           ['batch_normalization_75[0][0]'] \n",
      "                                                                                                  \n",
      " max_pooling2d_3 (MaxPooling2D)  (None, 8, 8, 768)   0           ['mixed7[0][0]']                 \n",
      "                                                                                                  \n",
      " mixed8 (Concatenate)           (None, 8, 8, 1280)   0           ['activation_71[0][0]',          \n",
      "                                                                  'activation_75[0][0]',          \n",
      "                                                                  'max_pooling2d_3[0][0]']        \n",
      "                                                                                                  \n",
      " conv2d_80 (Conv2D)             (None, 8, 8, 448)    573440      ['mixed8[0][0]']                 \n",
      "                                                                                                  \n",
      " batch_normalization_80 (BatchN  (None, 8, 8, 448)   1344        ['conv2d_80[0][0]']              \n",
      " ormalization)                                                                                    \n",
      "                                                                                                  \n",
      " activation_80 (Activation)     (None, 8, 8, 448)    0           ['batch_normalization_80[0][0]'] \n",
      "                                                                                                  \n",
      " conv2d_77 (Conv2D)             (None, 8, 8, 384)    491520      ['mixed8[0][0]']                 \n",
      "                                                                                                  \n",
      " conv2d_81 (Conv2D)             (None, 8, 8, 384)    1548288     ['activation_80[0][0]']          \n",
      "                                                                                                  \n",
      " batch_normalization_77 (BatchN  (None, 8, 8, 384)   1152        ['conv2d_77[0][0]']              \n",
      " ormalization)                                                                                    \n",
      "                                                                                                  \n",
      " batch_normalization_81 (BatchN  (None, 8, 8, 384)   1152        ['conv2d_81[0][0]']              \n",
      " ormalization)                                                                                    \n",
      "                                                                                                  \n",
      " activation_77 (Activation)     (None, 8, 8, 384)    0           ['batch_normalization_77[0][0]'] \n",
      "                                                                                                  \n",
      " activation_81 (Activation)     (None, 8, 8, 384)    0           ['batch_normalization_81[0][0]'] \n",
      "                                                                                                  \n",
      " conv2d_78 (Conv2D)             (None, 8, 8, 384)    442368      ['activation_77[0][0]']          \n",
      "                                                                                                  \n",
      " conv2d_79 (Conv2D)             (None, 8, 8, 384)    442368      ['activation_77[0][0]']          \n",
      "                                                                                                  \n",
      " conv2d_82 (Conv2D)             (None, 8, 8, 384)    442368      ['activation_81[0][0]']          \n",
      "                                                                                                  \n",
      " conv2d_83 (Conv2D)             (None, 8, 8, 384)    442368      ['activation_81[0][0]']          \n",
      "                                                                                                  \n",
      " average_pooling2d_7 (AveragePo  (None, 8, 8, 1280)  0           ['mixed8[0][0]']                 \n",
      " oling2D)                                                                                         \n",
      "                                                                                                  \n",
      " conv2d_76 (Conv2D)             (None, 8, 8, 320)    409600      ['mixed8[0][0]']                 \n",
      "                                                                                                  \n",
      " batch_normalization_78 (BatchN  (None, 8, 8, 384)   1152        ['conv2d_78[0][0]']              \n",
      " ormalization)                                                                                    \n",
      "                                                                                                  \n",
      " batch_normalization_79 (BatchN  (None, 8, 8, 384)   1152        ['conv2d_79[0][0]']              \n",
      " ormalization)                                                                                    \n",
      "                                                                                                  \n",
      " batch_normalization_82 (BatchN  (None, 8, 8, 384)   1152        ['conv2d_82[0][0]']              \n",
      " ormalization)                                                                                    \n",
      "                                                                                                  \n",
      " batch_normalization_83 (BatchN  (None, 8, 8, 384)   1152        ['conv2d_83[0][0]']              \n",
      " ormalization)                                                                                    \n",
      "                                                                                                  \n",
      " conv2d_84 (Conv2D)             (None, 8, 8, 192)    245760      ['average_pooling2d_7[0][0]']    \n",
      "                                                                                                  \n",
      " batch_normalization_76 (BatchN  (None, 8, 8, 320)   960         ['conv2d_76[0][0]']              \n",
      " ormalization)                                                                                    \n",
      "                                                                                                  \n",
      " activation_78 (Activation)     (None, 8, 8, 384)    0           ['batch_normalization_78[0][0]'] \n",
      "                                                                                                  \n",
      " activation_79 (Activation)     (None, 8, 8, 384)    0           ['batch_normalization_79[0][0]'] \n",
      "                                                                                                  \n",
      " activation_82 (Activation)     (None, 8, 8, 384)    0           ['batch_normalization_82[0][0]'] \n",
      "                                                                                                  \n",
      " activation_83 (Activation)     (None, 8, 8, 384)    0           ['batch_normalization_83[0][0]'] \n",
      "                                                                                                  \n",
      " batch_normalization_84 (BatchN  (None, 8, 8, 192)   576         ['conv2d_84[0][0]']              \n",
      " ormalization)                                                                                    \n",
      "                                                                                                  \n",
      " activation_76 (Activation)     (None, 8, 8, 320)    0           ['batch_normalization_76[0][0]'] \n",
      "                                                                                                  \n",
      " mixed9_0 (Concatenate)         (None, 8, 8, 768)    0           ['activation_78[0][0]',          \n",
      "                                                                  'activation_79[0][0]']          \n",
      "                                                                                                  \n",
      " concatenate (Concatenate)      (None, 8, 8, 768)    0           ['activation_82[0][0]',          \n",
      "                                                                  'activation_83[0][0]']          \n",
      "                                                                                                  \n",
      " activation_84 (Activation)     (None, 8, 8, 192)    0           ['batch_normalization_84[0][0]'] \n",
      "                                                                                                  \n",
      " mixed9 (Concatenate)           (None, 8, 8, 2048)   0           ['activation_76[0][0]',          \n",
      "                                                                  'mixed9_0[0][0]',               \n",
      "                                                                  'concatenate[0][0]',            \n",
      "                                                                  'activation_84[0][0]']          \n",
      "                                                                                                  \n",
      " conv2d_89 (Conv2D)             (None, 8, 8, 448)    917504      ['mixed9[0][0]']                 \n",
      "                                                                                                  \n",
      " batch_normalization_89 (BatchN  (None, 8, 8, 448)   1344        ['conv2d_89[0][0]']              \n",
      " ormalization)                                                                                    \n",
      "                                                                                                  \n",
      " activation_89 (Activation)     (None, 8, 8, 448)    0           ['batch_normalization_89[0][0]'] \n",
      "                                                                                                  \n",
      " conv2d_86 (Conv2D)             (None, 8, 8, 384)    786432      ['mixed9[0][0]']                 \n",
      "                                                                                                  \n",
      " conv2d_90 (Conv2D)             (None, 8, 8, 384)    1548288     ['activation_89[0][0]']          \n",
      "                                                                                                  \n",
      " batch_normalization_86 (BatchN  (None, 8, 8, 384)   1152        ['conv2d_86[0][0]']              \n",
      " ormalization)                                                                                    \n",
      "                                                                                                  \n",
      " batch_normalization_90 (BatchN  (None, 8, 8, 384)   1152        ['conv2d_90[0][0]']              \n",
      " ormalization)                                                                                    \n",
      "                                                                                                  \n",
      " activation_86 (Activation)     (None, 8, 8, 384)    0           ['batch_normalization_86[0][0]'] \n",
      "                                                                                                  \n",
      " activation_90 (Activation)     (None, 8, 8, 384)    0           ['batch_normalization_90[0][0]'] \n",
      "                                                                                                  \n",
      " conv2d_87 (Conv2D)             (None, 8, 8, 384)    442368      ['activation_86[0][0]']          \n",
      "                                                                                                  \n",
      " conv2d_88 (Conv2D)             (None, 8, 8, 384)    442368      ['activation_86[0][0]']          \n",
      "                                                                                                  \n",
      " conv2d_91 (Conv2D)             (None, 8, 8, 384)    442368      ['activation_90[0][0]']          \n",
      "                                                                                                  \n",
      " conv2d_92 (Conv2D)             (None, 8, 8, 384)    442368      ['activation_90[0][0]']          \n",
      "                                                                                                  \n",
      " average_pooling2d_8 (AveragePo  (None, 8, 8, 2048)  0           ['mixed9[0][0]']                 \n",
      " oling2D)                                                                                         \n",
      "                                                                                                  \n",
      " conv2d_85 (Conv2D)             (None, 8, 8, 320)    655360      ['mixed9[0][0]']                 \n",
      "                                                                                                  \n",
      " batch_normalization_87 (BatchN  (None, 8, 8, 384)   1152        ['conv2d_87[0][0]']              \n",
      " ormalization)                                                                                    \n",
      "                                                                                                  \n",
      " batch_normalization_88 (BatchN  (None, 8, 8, 384)   1152        ['conv2d_88[0][0]']              \n",
      " ormalization)                                                                                    \n",
      "                                                                                                  \n",
      " batch_normalization_91 (BatchN  (None, 8, 8, 384)   1152        ['conv2d_91[0][0]']              \n",
      " ormalization)                                                                                    \n",
      "                                                                                                  \n",
      " batch_normalization_92 (BatchN  (None, 8, 8, 384)   1152        ['conv2d_92[0][0]']              \n",
      " ormalization)                                                                                    \n",
      "                                                                                                  \n",
      " conv2d_93 (Conv2D)             (None, 8, 8, 192)    393216      ['average_pooling2d_8[0][0]']    \n",
      "                                                                                                  \n",
      " batch_normalization_85 (BatchN  (None, 8, 8, 320)   960         ['conv2d_85[0][0]']              \n",
      " ormalization)                                                                                    \n",
      "                                                                                                  \n",
      " activation_87 (Activation)     (None, 8, 8, 384)    0           ['batch_normalization_87[0][0]'] \n",
      "                                                                                                  \n",
      " activation_88 (Activation)     (None, 8, 8, 384)    0           ['batch_normalization_88[0][0]'] \n",
      "                                                                                                  \n",
      " activation_91 (Activation)     (None, 8, 8, 384)    0           ['batch_normalization_91[0][0]'] \n",
      "                                                                                                  \n",
      " activation_92 (Activation)     (None, 8, 8, 384)    0           ['batch_normalization_92[0][0]'] \n",
      "                                                                                                  \n",
      " batch_normalization_93 (BatchN  (None, 8, 8, 192)   576         ['conv2d_93[0][0]']              \n",
      " ormalization)                                                                                    \n",
      "                                                                                                  \n",
      " activation_85 (Activation)     (None, 8, 8, 320)    0           ['batch_normalization_85[0][0]'] \n",
      "                                                                                                  \n",
      " mixed9_1 (Concatenate)         (None, 8, 8, 768)    0           ['activation_87[0][0]',          \n",
      "                                                                  'activation_88[0][0]']          \n",
      "                                                                                                  \n",
      " concatenate_1 (Concatenate)    (None, 8, 8, 768)    0           ['activation_91[0][0]',          \n",
      "                                                                  'activation_92[0][0]']          \n",
      "                                                                                                  \n",
      " activation_93 (Activation)     (None, 8, 8, 192)    0           ['batch_normalization_93[0][0]'] \n",
      "                                                                                                  \n",
      " mixed10 (Concatenate)          (None, 8, 8, 2048)   0           ['activation_85[0][0]',          \n",
      "                                                                  'mixed9_1[0][0]',               \n",
      "                                                                  'concatenate_1[0][0]',          \n",
      "                                                                  'activation_93[0][0]']          \n",
      "                                                                                                  \n",
      " avg_pool (GlobalAveragePooling  (None, 2048)        0           ['mixed10[0][0]']                \n",
      " 2D)                                                                                              \n",
      "                                                                                                  \n",
      " predictions (Dense)            (None, 1000)         2049000     ['avg_pool[0][0]']               \n",
      "                                                                                                  \n",
      "==================================================================================================\n",
      "Total params: 23,851,784\n",
      "Trainable params: 23,817,352\n",
      "Non-trainable params: 34,432\n",
      "__________________________________________________________________________________________________\n"
     ]
    }
   ],
   "source": [
    "base_model = InceptionV3(input_shape=(299, 299, 3), weights='imagenet', include_top=True)\n",
    "base_model.summary()"
   ]
  },
  {
   "cell_type": "code",
   "execution_count": 30,
   "id": "0c79bd38",
   "metadata": {
    "papermill": {
     "duration": 12.941626,
     "end_time": "2022-06-05T20:44:27.800170",
     "exception": false,
     "start_time": "2022-06-05T20:44:14.858544",
     "status": "completed"
    },
    "scrolled": true,
    "tags": []
   },
   "outputs": [],
   "source": [
    "# plot_model(base_model, to_file='inception_model.png', show_shapes=True, show_layer_names=True)\n",
    "# display(Image.open('inception_model.png'))"
   ]
  },
  {
   "cell_type": "code",
   "execution_count": 31,
   "id": "4a371c39",
   "metadata": {
    "papermill": {
     "duration": 0.130489,
     "end_time": "2022-06-05T20:44:28.087213",
     "exception": false,
     "start_time": "2022-06-05T20:44:27.956724",
     "status": "completed"
    },
    "tags": []
   },
   "outputs": [],
   "source": [
    "x = base_model.layers[-2].output\n",
    "x = layers.Dense(1024, activation='relu')(x)\n",
    "x = layers.Dense (4, activation='softmax')(x)"
   ]
  },
  {
   "cell_type": "code",
   "execution_count": 32,
   "id": "d1e51bf9",
   "metadata": {
    "papermill": {
     "duration": 0.10314,
     "end_time": "2022-06-05T20:44:28.267062",
     "exception": false,
     "start_time": "2022-06-05T20:44:28.163922",
     "status": "completed"
    },
    "tags": []
   },
   "outputs": [],
   "source": [
    "base_m = Model(inputs=base_model.input, outputs=x)"
   ]
  },
  {
   "cell_type": "code",
   "execution_count": 33,
   "id": "023e86ff",
   "metadata": {
    "papermill": {
     "duration": 0.124134,
     "end_time": "2022-06-05T20:44:28.466312",
     "exception": false,
     "start_time": "2022-06-05T20:44:28.342178",
     "status": "completed"
    },
    "tags": []
   },
   "outputs": [],
   "source": [
    "base_m.compile(optimizer = RMSprop(learning_rate=0.0001), \n",
    "              loss = 'categorical_crossentropy', \n",
    "              metrics = ['accuracy', \n",
    "                        tf.keras.metrics.Recall(),\n",
    "                        tf.keras.metrics.Precision(),   \n",
    "                        tf.keras.metrics.AUC(),\n",
    "                        tfa.metrics.F1Score(num_classes=4, average=\"macro\")])"
   ]
  },
  {
   "cell_type": "code",
   "execution_count": 34,
   "id": "db526e1a",
   "metadata": {
    "papermill": {
     "duration": 416.821591,
     "end_time": "2022-06-05T20:51:25.363004",
     "exception": false,
     "start_time": "2022-06-05T20:44:28.541413",
     "status": "completed"
    },
    "tags": []
   },
   "outputs": [
    {
     "name": "stdout",
     "output_type": "stream",
     "text": [
      "Epoch 1/20\n",
      "20/20 [==============================] - 294s 14s/step - loss: 0.9813 - accuracy: 0.5936 - recall: 0.5056 - precision: 0.7117 - auc: 0.8369 - f1_score: 0.5910 - val_loss: 1.2304 - val_accuracy: 0.5571 - val_recall: 0.4643 - val_precision: 0.6500 - val_auc: 0.7839 - val_f1_score: 0.4727\n",
      "Epoch 2/20\n",
      "20/20 [==============================] - 275s 14s/step - loss: 0.6868 - accuracy: 0.7456 - recall: 0.6880 - precision: 0.7993 - auc: 0.9202 - f1_score: 0.7479 - val_loss: 1.3103 - val_accuracy: 0.5214 - val_recall: 0.4214 - val_precision: 0.5566 - val_auc: 0.7876 - val_f1_score: 0.4985\n",
      "Epoch 3/20\n",
      "20/20 [==============================] - 275s 14s/step - loss: 0.5284 - accuracy: 0.8240 - recall: 0.7952 - precision: 0.8525 - auc: 0.9511 - f1_score: 0.8251 - val_loss: 1.3801 - val_accuracy: 0.5286 - val_recall: 0.5000 - val_precision: 0.5469 - val_auc: 0.8074 - val_f1_score: 0.4990\n",
      "Epoch 4/20\n",
      "20/20 [==============================] - 273s 14s/step - loss: 0.5287 - accuracy: 0.7920 - recall: 0.7664 - precision: 0.8374 - auc: 0.9526 - f1_score: 0.7918 - val_loss: 1.3270 - val_accuracy: 0.6000 - val_recall: 0.5571 - val_precision: 0.6341 - val_auc: 0.8283 - val_f1_score: 0.5979\n",
      "Epoch 5/20\n",
      "20/20 [==============================] - 280s 14s/step - loss: 0.4083 - accuracy: 0.8625 - recall: 0.8297 - precision: 0.8806 - auc: 0.9701 - f1_score: 0.8619 - val_loss: 1.6238 - val_accuracy: 0.6071 - val_recall: 0.6000 - val_precision: 0.6222 - val_auc: 0.8214 - val_f1_score: 0.5838\n",
      "Epoch 6/20\n",
      "20/20 [==============================] - 279s 14s/step - loss: 0.4636 - accuracy: 0.8344 - recall: 0.8219 - precision: 0.8623 - auc: 0.9616 - f1_score: 0.8380 - val_loss: 1.0447 - val_accuracy: 0.7500 - val_recall: 0.7429 - val_precision: 0.7536 - val_auc: 0.9166 - val_f1_score: 0.7486\n",
      "Epoch 7/20\n",
      "20/20 [==============================] - 279s 14s/step - loss: 0.3909 - accuracy: 0.8625 - recall: 0.8500 - precision: 0.8846 - auc: 0.9723 - f1_score: 0.8634 - val_loss: 1.5496 - val_accuracy: 0.6643 - val_recall: 0.6429 - val_precision: 0.6716 - val_auc: 0.8696 - val_f1_score: 0.6590\n",
      "Epoch 8/20\n",
      "20/20 [==============================] - 272s 14s/step - loss: 0.3156 - accuracy: 0.8800 - recall: 0.8640 - precision: 0.8955 - auc: 0.9825 - f1_score: 0.8825 - val_loss: 2.1636 - val_accuracy: 0.5786 - val_recall: 0.5786 - val_precision: 0.5870 - val_auc: 0.8015 - val_f1_score: 0.5713\n",
      "Epoch 9/20\n",
      "20/20 [==============================] - 272s 14s/step - loss: 0.3659 - accuracy: 0.8704 - recall: 0.8528 - precision: 0.8958 - auc: 0.9755 - f1_score: 0.8717 - val_loss: 1.4999 - val_accuracy: 0.6714 - val_recall: 0.6643 - val_precision: 0.6788 - val_auc: 0.8835 - val_f1_score: 0.6614\n",
      "Epoch 10/20\n",
      "20/20 [==============================] - 272s 14s/step - loss: 0.3095 - accuracy: 0.8912 - recall: 0.8720 - precision: 0.9083 - auc: 0.9823 - f1_score: 0.8874 - val_loss: 1.6467 - val_accuracy: 0.7214 - val_recall: 0.7143 - val_precision: 0.7353 - val_auc: 0.8940 - val_f1_score: 0.7191\n",
      "Epoch 11/20\n",
      "20/20 [==============================] - 278s 14s/step - loss: 0.2895 - accuracy: 0.8928 - recall: 0.8672 - precision: 0.9079 - auc: 0.9849 - f1_score: 0.8925 - val_loss: 1.4567 - val_accuracy: 0.7071 - val_recall: 0.7000 - val_precision: 0.7101 - val_auc: 0.8892 - val_f1_score: 0.7114\n",
      "Epoch 12/20\n",
      "20/20 [==============================] - 276s 14s/step - loss: 0.1574 - accuracy: 0.9344 - recall: 0.9248 - precision: 0.9383 - auc: 0.9958 - f1_score: 0.9327 - val_loss: 1.7662 - val_accuracy: 0.7357 - val_recall: 0.7286 - val_precision: 0.7338 - val_auc: 0.8943 - val_f1_score: 0.7376\n",
      "Epoch 13/20\n",
      "20/20 [==============================] - 276s 14s/step - loss: 0.2432 - accuracy: 0.9184 - recall: 0.9088 - precision: 0.9236 - auc: 0.9858 - f1_score: 0.9191 - val_loss: 1.7253 - val_accuracy: 0.7071 - val_recall: 0.7071 - val_precision: 0.7226 - val_auc: 0.8810 - val_f1_score: 0.7089\n",
      "Epoch 14/20\n",
      "20/20 [==============================] - 276s 14s/step - loss: 0.2183 - accuracy: 0.9232 - recall: 0.9152 - precision: 0.9301 - auc: 0.9915 - f1_score: 0.9238 - val_loss: 1.4329 - val_accuracy: 0.7500 - val_recall: 0.7500 - val_precision: 0.7609 - val_auc: 0.8995 - val_f1_score: 0.7522\n",
      "Epoch 15/20\n",
      "20/20 [==============================] - 275s 14s/step - loss: 0.1836 - accuracy: 0.9344 - recall: 0.9296 - precision: 0.9417 - auc: 0.9932 - f1_score: 0.9349 - val_loss: 2.1120 - val_accuracy: 0.7571 - val_recall: 0.7571 - val_precision: 0.7571 - val_auc: 0.8793 - val_f1_score: 0.7559\n",
      "Epoch 16/20\n",
      "20/20 [==============================] - 274s 14s/step - loss: 0.1716 - accuracy: 0.9376 - recall: 0.9344 - precision: 0.9419 - auc: 0.9916 - f1_score: 0.9382 - val_loss: 1.5456 - val_accuracy: 0.7714 - val_recall: 0.7714 - val_precision: 0.7770 - val_auc: 0.8967 - val_f1_score: 0.7723\n",
      "Epoch 17/20\n",
      "20/20 [==============================] - 280s 14s/step - loss: 0.2019 - accuracy: 0.9438 - recall: 0.9391 - precision: 0.9479 - auc: 0.9899 - f1_score: 0.9446 - val_loss: 1.6249 - val_accuracy: 0.7500 - val_recall: 0.7429 - val_precision: 0.7482 - val_auc: 0.8928 - val_f1_score: 0.7490\n",
      "Epoch 18/20\n",
      "20/20 [==============================] - 280s 14s/step - loss: 0.1844 - accuracy: 0.9359 - recall: 0.9312 - precision: 0.9460 - auc: 0.9919 - f1_score: 0.9357 - val_loss: 1.9758 - val_accuracy: 0.7357 - val_recall: 0.7286 - val_precision: 0.7338 - val_auc: 0.8800 - val_f1_score: 0.7394\n",
      "Epoch 19/20\n",
      "20/20 [==============================] - 274s 14s/step - loss: 0.1500 - accuracy: 0.9520 - recall: 0.9456 - precision: 0.9579 - auc: 0.9947 - f1_score: 0.9524 - val_loss: 2.6487 - val_accuracy: 0.7143 - val_recall: 0.7071 - val_precision: 0.7122 - val_auc: 0.8461 - val_f1_score: 0.7051\n",
      "Epoch 20/20\n",
      "20/20 [==============================] - 287s 15s/step - loss: 0.1913 - accuracy: 0.9296 - recall: 0.9184 - precision: 0.9364 - auc: 0.9922 - f1_score: 0.9292 - val_loss: 2.7514 - val_accuracy: 0.7143 - val_recall: 0.7143 - val_precision: 0.7194 - val_auc: 0.8513 - val_f1_score: 0.7152\n"
     ]
    }
   ],
   "source": [
    "clf=base_m.fit(train_generator,\n",
    "            validation_data = validation_generator,\n",
    "            steps_per_epoch=20,\n",
    "            epochs =20,\n",
    "            validation_steps=5,\n",
    "            verbose = 1)"
   ]
  },
  {
   "cell_type": "code",
   "execution_count": 35,
   "id": "1b7a7716",
   "metadata": {
    "papermill": {
     "duration": 1.845047,
     "end_time": "2022-06-05T20:51:27.315940",
     "exception": false,
     "start_time": "2022-06-05T20:51:25.470893",
     "status": "completed"
    },
    "tags": []
   },
   "outputs": [
    {
     "name": "stdout",
     "output_type": "stream",
     "text": [
      "5/5 [==============================] - 9s 2s/step - loss: 2.4906 - accuracy: 0.7891 - recall: 0.7891 - precision: 0.7891 - auc: 0.8811 - f1_score: 0.7887\n"
     ]
    },
    {
     "data": {
      "text/plain": [
       "[2.490568161010742,\n",
       " 0.7891156673431396,\n",
       " 0.7891156673431396,\n",
       " 0.7891156673431396,\n",
       " 0.8810989856719971,\n",
       " 0.7887111306190491]"
      ]
     },
     "execution_count": 35,
     "metadata": {},
     "output_type": "execute_result"
    }
   ],
   "source": [
    "base_m.evaluate(test_generator)"
   ]
  },
  {
   "cell_type": "code",
   "execution_count": 36,
   "id": "a08622a9",
   "metadata": {
    "papermill": {
     "duration": 0.78638,
     "end_time": "2022-06-05T20:51:28.206294",
     "exception": false,
     "start_time": "2022-06-05T20:51:27.419914",
     "status": "completed"
    },
    "tags": []
   },
   "outputs": [
    {
     "data": {
      "image/png": "[encoded data removed]",
      "text/plain": [
       "<Figure size 720x360 with 1 Axes>"
      ]
     },
     "metadata": {
      "needs_background": "light"
     },
     "output_type": "display_data"
    },
    {
     "data": {
      "image/png": "[encoded data removed]",
      "text/plain": [
       "<Figure size 720x360 with 1 Axes>"
      ]
     },
     "metadata": {
      "needs_background": "light"
     },
     "output_type": "display_data"
    }
   ],
   "source": [
    "acc = clf.history['accuracy']\n",
    "val_acc = clf.history['val_accuracy']\n",
    "loss = clf.history['loss']\n",
    "val_loss = clf.history['val_loss']\n",
    "\n",
    "epochs = range(1, len(loss) + 1)\n",
    "\n",
    "#accuracy plot\n",
    "plt.figure(figsize=(10,5))\n",
    "plt.plot(epochs, acc,  label='Training Accuracy') #color='lightblue',\n",
    "plt.plot(epochs, val_acc,  label='Validation Accuracy') #color='orange',\n",
    "plt.title('Training and Validation Accuracy')\n",
    "plt.ylabel('Accuracy')\n",
    "plt.xlabel('Epoch')\n",
    "plt.legend(loc=\"best\")\n",
    "plt.grid(visible=True, which='major', color='#666666', linestyle='-')\n",
    "plt.tight_layout()\n",
    "plt.savefig('inception_accuracy.png')\n",
    "\n",
    "#loss plot\n",
    "plt.figure(figsize=(10,5))\n",
    "plt.plot(epochs, loss, color='pink', label='Training Loss')\n",
    "plt.plot(epochs, val_loss, color='red', label='Validation Loss')\n",
    "plt.title('Training and Validation Loss')\n",
    "plt.xlabel('Epoch')\n",
    "plt.ylabel('Loss')\n",
    "plt.legend(loc=\"best\")\n",
    "plt.grid(visible=True, which='major', color='#666666', linestyle='-')\n",
    "plt.tight_layout()\n",
    "plt.rcParams['axes.facecolor'] = 'white'\n",
    "plt.savefig('inception_loss.png')\n"
   ]
  },
  {
   "cell_type": "code",
   "execution_count": 37,
   "id": "f64acd95",
   "metadata": {
    "papermill": {
     "duration": 2.382375,
     "end_time": "2022-06-05T20:51:30.697522",
     "exception": false,
     "start_time": "2022-06-05T20:51:28.315147",
     "status": "completed"
    },
    "tags": []
   },
   "outputs": [
    {
     "name": "stdout",
     "output_type": "stream",
     "text": [
      "5/5 [==============================] - 10s 2s/step\n"
     ]
    },
    {
     "data": {
      "text/plain": [
       "array([[8.42115933e-10, 4.50538135e-10, 2.47134934e-11, 1.00000000e+00],\n",
       "       [1.04415268e-14, 1.00000000e+00, 2.60453060e-15, 8.93383225e-16],\n",
       "       [3.00092543e-05, 4.29054035e-06, 3.45843881e-02, 9.65381384e-01],\n",
       "       [1.72993154e-04, 9.99818385e-01, 8.59555712e-06, 1.81688189e-11],\n",
       "       [1.12988097e-15, 1.00000000e+00, 2.06291719e-15, 1.58660642e-15],\n",
       "       [1.08191434e-14, 1.00000000e+00, 2.69922512e-13, 4.91114404e-15],\n",
       "       [5.05577524e-11, 1.21030901e-08, 7.08601025e-11, 1.00000000e+00],\n",
       "       [9.58353630e-05, 5.57203954e-08, 9.99881148e-01, 2.29189682e-05],\n",
       "       [1.30652357e-12, 1.00000000e+00, 2.57850897e-13, 3.17895294e-14],\n",
       "       [7.35412478e-01, 1.07617030e-04, 2.88705784e-03, 2.61592835e-01],\n",
       "       [7.86201954e-02, 9.09800291e-01, 1.15786055e-02, 8.18491799e-07],\n",
       "       [9.53417420e-01, 3.38424555e-09, 4.54861894e-02, 1.09633687e-03],\n",
       "       [3.17347502e-11, 1.00000000e+00, 1.95034527e-12, 4.85468410e-16],\n",
       "       [9.99939084e-01, 5.99719424e-05, 7.86468206e-07, 8.94626737e-08],\n",
       "       [2.48930210e-05, 9.96603489e-01, 3.37001123e-03, 1.50750350e-06],\n",
       "       [9.98897076e-01, 8.43828190e-08, 5.30078309e-04, 5.72724559e-04],\n",
       "       [6.13683163e-14, 1.00000000e+00, 3.04619712e-14, 1.71681714e-11],\n",
       "       [4.14814311e-15, 1.34563815e-13, 8.51672676e-16, 1.00000000e+00],\n",
       "       [8.54400878e-06, 3.32134332e-05, 9.99958158e-01, 1.35667888e-09],\n",
       "       [1.84165316e-09, 2.58351830e-11, 4.70723904e-10, 1.00000000e+00],\n",
       "       [4.25293475e-01, 5.29454648e-01, 1.54966880e-02, 2.97551751e-02],\n",
       "       [2.21897312e-03, 2.28316807e-07, 1.90093624e-06, 9.97778833e-01],\n",
       "       [4.64042841e-06, 1.11472998e-02, 9.88848090e-01, 1.32471575e-10],\n",
       "       [9.99999881e-01, 1.41837131e-09, 9.76155263e-08, 1.49571605e-11],\n",
       "       [2.03073068e-06, 1.87544558e-09, 9.99997973e-01, 3.21832595e-11],\n",
       "       [9.97899175e-01, 2.10079434e-03, 2.05373158e-08, 1.40213369e-10],\n",
       "       [2.72362755e-04, 3.83421109e-04, 9.99344289e-01, 1.55333441e-10],\n",
       "       [1.00000000e+00, 2.85449264e-09, 5.69317163e-11, 5.97786013e-12],\n",
       "       [9.39038247e-02, 7.67213351e-06, 9.06088412e-01, 1.05154840e-07],\n",
       "       [1.81115076e-01, 5.92351682e-07, 8.18884194e-01, 6.41632667e-08],\n",
       "       [1.65237182e-07, 9.99991298e-01, 2.28655449e-06, 6.15061390e-06],\n",
       "       [3.72252368e-11, 1.00000000e+00, 8.83557658e-13, 8.57423873e-14],\n",
       "       [6.10091242e-13, 1.00000000e+00, 7.75858924e-13, 2.04867793e-13],\n",
       "       [1.15424025e-11, 1.06750885e-13, 1.32525380e-09, 1.00000000e+00],\n",
       "       [8.81727695e-01, 1.18272379e-01, 1.90997902e-08, 2.54211045e-11],\n",
       "       [9.99999762e-01, 2.95708446e-07, 2.96955960e-10, 6.13875324e-13],\n",
       "       [3.89630657e-07, 3.13282928e-12, 2.59941242e-08, 9.99999642e-01],\n",
       "       [1.76989997e-04, 1.87301641e-08, 9.99822915e-01, 6.49487717e-08],\n",
       "       [1.68611086e-03, 9.98313904e-01, 3.45913485e-08, 3.27624863e-12],\n",
       "       [3.51484154e-11, 1.00000000e+00, 3.37025650e-11, 8.84418271e-15],\n",
       "       [1.28118151e-13, 1.00000000e+00, 2.30037950e-12, 5.98735615e-15],\n",
       "       [1.92368628e-08, 2.48927701e-09, 1.00087265e-10, 1.00000000e+00],\n",
       "       [9.99999881e-01, 6.35721236e-08, 2.62645861e-09, 3.74710774e-14],\n",
       "       [9.94887412e-01, 4.83325304e-04, 4.62905271e-03, 1.61604831e-07],\n",
       "       [8.71987205e-10, 9.99809563e-01, 1.90401348e-04, 6.73358450e-13],\n",
       "       [9.57248628e-01, 9.39429519e-05, 4.25903872e-02, 6.71065718e-05],\n",
       "       [1.88573761e-08, 1.00000000e+00, 1.57619143e-11, 2.15856277e-13],\n",
       "       [1.40987319e-12, 2.64713779e-10, 1.00000000e+00, 1.03287311e-12],\n",
       "       [1.00000000e+00, 2.58553836e-08, 4.46074253e-08, 1.05021736e-09],\n",
       "       [4.68251304e-09, 3.30471259e-08, 9.24467656e-07, 9.99999046e-01],\n",
       "       [1.00000000e+00, 3.61960774e-11, 2.60476953e-11, 2.71962539e-11],\n",
       "       [2.72425609e-07, 9.99999762e-01, 1.82784721e-09, 1.67966063e-09],\n",
       "       [1.01582676e-09, 9.17254965e-06, 9.99990821e-01, 6.21958152e-10],\n",
       "       [1.01117082e-14, 1.00000000e+00, 5.57180761e-16, 3.17519101e-17],\n",
       "       [6.44996945e-10, 2.63065204e-15, 4.36301826e-14, 1.00000000e+00],\n",
       "       [3.30065564e-06, 9.99825418e-01, 1.71352411e-04, 3.38327212e-13],\n",
       "       [5.47707870e-08, 2.34794902e-06, 9.37184959e-05, 9.99903798e-01],\n",
       "       [2.01034133e-12, 9.99999762e-01, 1.87268938e-07, 5.36433231e-10],\n",
       "       [9.54103780e-06, 2.24148789e-06, 9.99988198e-01, 1.37203142e-13],\n",
       "       [9.69383895e-01, 1.32489455e-04, 3.04835774e-02, 1.72899420e-11],\n",
       "       [3.27017382e-02, 2.60414453e-07, 9.67297971e-01, 4.17558503e-08],\n",
       "       [4.75905699e-14, 1.00000000e+00, 1.04993481e-13, 8.53916547e-14],\n",
       "       [5.05528028e-08, 9.26829813e-09, 1.61335109e-07, 9.99999762e-01],\n",
       "       [1.41631213e-08, 9.99999881e-01, 5.16715453e-08, 2.73852163e-10],\n",
       "       [7.18590536e-06, 5.64104924e-03, 9.94351745e-01, 7.46566871e-12],\n",
       "       [9.99999881e-01, 2.89223578e-09, 8.84426541e-08, 5.78384823e-12],\n",
       "       [4.38524372e-09, 2.23434977e-08, 4.07828447e-05, 9.99959230e-01],\n",
       "       [2.81335094e-11, 4.11647279e-12, 9.55159632e-11, 1.00000000e+00],\n",
       "       [9.99650478e-01, 2.17528268e-05, 3.27673974e-04, 1.38647991e-08],\n",
       "       [1.40037855e-07, 2.98211195e-12, 9.99999881e-01, 6.16525053e-09],\n",
       "       [1.08434192e-10, 1.00000000e+00, 1.35473105e-10, 6.82667952e-13],\n",
       "       [9.87186193e-01, 1.28049059e-02, 8.75110562e-09, 8.83777284e-06],\n",
       "       [1.36736766e-04, 1.61126070e-02, 7.44718864e-06, 9.83743250e-01],\n",
       "       [1.00000000e+00, 1.48897873e-11, 7.71011088e-10, 1.28316005e-13],\n",
       "       [2.02285465e-15, 1.00000000e+00, 7.43939561e-16, 1.32606330e-16],\n",
       "       [3.65907798e-14, 1.00000000e+00, 1.08990193e-12, 4.73946566e-13],\n",
       "       [9.97244716e-01, 2.75528920e-03, 3.93529029e-11, 2.45479123e-11],\n",
       "       [9.99999881e-01, 6.66021072e-10, 7.32297067e-08, 5.03795006e-10],\n",
       "       [9.99900699e-01, 2.53658374e-08, 9.93340582e-05, 1.36814933e-08],\n",
       "       [2.48009675e-13, 3.28031283e-11, 1.00000000e+00, 1.30091082e-09],\n",
       "       [2.01752173e-15, 1.00000000e+00, 5.96561123e-21, 2.93065981e-19],\n",
       "       [4.91827552e-04, 9.71400082e-01, 2.80814972e-02, 2.65838644e-05],\n",
       "       [1.57740033e-05, 9.23972111e-03, 9.90744412e-01, 3.90376398e-09],\n",
       "       [8.28515212e-09, 1.00000000e+00, 2.82776190e-12, 7.39163730e-11],\n",
       "       [7.58010083e-06, 4.78114771e-06, 7.36642251e-05, 9.99913931e-01],\n",
       "       [2.10040249e-10, 1.00000000e+00, 9.41793952e-12, 1.11969814e-13],\n",
       "       [4.72467780e-01, 5.27382612e-01, 1.49549582e-04, 4.07673978e-10],\n",
       "       [7.55481094e-11, 6.14872819e-09, 4.82935747e-10, 1.00000000e+00],\n",
       "       [4.31129622e-04, 7.10112954e-06, 9.99561727e-01, 1.82363227e-08],\n",
       "       [1.00000000e+00, 6.57782329e-10, 3.02292769e-08, 1.64519232e-09],\n",
       "       [9.69623566e-01, 7.07548170e-04, 2.96688080e-02, 6.35099653e-08],\n",
       "       [4.66466736e-05, 6.07625043e-06, 8.31578016e-01, 1.68369189e-01],\n",
       "       [9.89464534e-05, 9.99901056e-01, 3.27749006e-09, 4.86174567e-09],\n",
       "       [9.99997973e-01, 2.07651624e-06, 1.93451086e-08, 2.97213254e-10],\n",
       "       [1.71405096e-02, 1.68059578e-05, 6.06609873e-09, 9.82842743e-01],\n",
       "       [9.99411106e-01, 5.79114072e-04, 9.74862724e-06, 5.94255244e-12],\n",
       "       [4.99339192e-04, 9.03331116e-03, 9.90467370e-01, 4.95474495e-12],\n",
       "       [1.19342855e-15, 1.59030033e-18, 1.22117944e-16, 1.00000000e+00],\n",
       "       [2.69510928e-17, 1.00000000e+00, 6.42327160e-16, 7.81112947e-15],\n",
       "       [2.85926104e-01, 7.14072287e-01, 1.56814554e-06, 2.00257779e-11],\n",
       "       [1.28565589e-03, 4.94647846e-02, 9.49249387e-01, 1.62675633e-07],\n",
       "       [1.50094647e-03, 9.98499036e-01, 3.22773381e-08, 1.38527259e-10],\n",
       "       [1.27219722e-15, 1.00000000e+00, 7.73338302e-17, 3.96913286e-15],\n",
       "       [9.97882307e-01, 2.11766525e-03, 3.32750910e-11, 3.56094668e-11],\n",
       "       [6.22274447e-03, 1.71127354e-07, 9.93777037e-01, 7.97802091e-09],\n",
       "       [3.95616739e-09, 4.04981916e-11, 1.39036743e-07, 9.99999881e-01],\n",
       "       [5.88308957e-10, 3.79250407e-12, 1.00000000e+00, 2.60648413e-11],\n",
       "       [1.00000000e+00, 1.68541764e-10, 1.82648243e-08, 1.30988420e-09],\n",
       "       [6.03218734e-01, 5.71214005e-05, 3.96724135e-01, 1.39191592e-08],\n",
       "       [1.85605651e-03, 1.88863197e-07, 9.98143673e-01, 6.80082241e-11],\n",
       "       [9.95406747e-01, 5.05871789e-08, 4.59331460e-03, 4.20025881e-09],\n",
       "       [1.06910938e-05, 5.65596245e-08, 9.99989271e-01, 2.33930795e-13],\n",
       "       [6.90517247e-01, 2.59280364e-06, 1.24314195e-03, 3.08237016e-01],\n",
       "       [2.36310188e-06, 1.63222666e-07, 9.99966979e-01, 3.05084086e-05],\n",
       "       [1.00000000e+00, 3.85390692e-10, 1.06545079e-12, 1.39453556e-15],\n",
       "       [1.10511188e-12, 1.00000000e+00, 9.95251516e-14, 3.43806385e-16],\n",
       "       [1.19072460e-12, 1.00000000e+00, 1.97666009e-10, 1.46214967e-11],\n",
       "       [4.37252368e-07, 1.03176520e-04, 9.99866724e-01, 2.96375729e-05],\n",
       "       [1.45296278e-13, 1.00000000e+00, 1.44238594e-15, 5.89591649e-14],\n",
       "       [1.00000000e+00, 3.08925888e-12, 7.23454296e-10, 2.09244244e-09],\n",
       "       [8.98421695e-06, 7.82205007e-07, 9.99990225e-01, 4.92658914e-10],\n",
       "       [3.17384765e-05, 6.50019138e-06, 9.99961734e-01, 1.64259906e-09],\n",
       "       [2.10637374e-16, 1.00000000e+00, 6.12433213e-14, 2.19430476e-16],\n",
       "       [3.72519353e-05, 8.00155321e-05, 9.99450505e-01, 4.32181958e-04],\n",
       "       [2.41399698e-06, 1.24236319e-08, 5.23089341e-08, 9.99997497e-01],\n",
       "       [2.84901122e-03, 9.97150958e-01, 8.59581704e-08, 2.02175637e-11],\n",
       "       [2.98336941e-12, 8.61025384e-08, 1.57420756e-12, 9.99999881e-01],\n",
       "       [1.61434889e-06, 9.99957561e-01, 8.16337251e-06, 3.26621775e-05],\n",
       "       [9.99999404e-01, 5.59927344e-07, 3.20939222e-08, 8.28840197e-13],\n",
       "       [9.82392788e-01, 1.75207295e-02, 2.01028297e-06, 8.44548558e-05],\n",
       "       [2.57449836e-04, 4.43016512e-09, 5.36045128e-08, 9.99742448e-01],\n",
       "       [1.68434683e-10, 2.27871055e-06, 6.28853580e-10, 9.99997735e-01],\n",
       "       [2.23358831e-12, 1.00000000e+00, 6.32778743e-17, 1.95316692e-16],\n",
       "       [1.10755794e-15, 1.00000000e+00, 1.35236264e-15, 1.21186291e-13],\n",
       "       [1.15566922e-11, 8.45060422e-05, 9.99915481e-01, 2.68443799e-16],\n",
       "       [3.65088612e-18, 1.23357749e-16, 1.15894718e-12, 1.00000000e+00],\n",
       "       [9.99984980e-01, 1.50754422e-05, 2.83557799e-08, 2.86147062e-09],\n",
       "       [1.90175371e-15, 1.00000000e+00, 2.73252260e-13, 1.92932337e-15],\n",
       "       [9.08339918e-01, 1.65430279e-07, 9.16598439e-02, 2.50496346e-10],\n",
       "       [1.28772201e-10, 3.78410164e-07, 9.99999642e-01, 3.04568057e-13],\n",
       "       [9.99998093e-01, 1.77968911e-06, 6.56105215e-08, 2.38186970e-11],\n",
       "       [4.90620565e-13, 5.56838430e-13, 7.23516758e-09, 1.00000000e+00],\n",
       "       [7.35758144e-15, 1.00000000e+00, 3.70788779e-16, 1.84521192e-12],\n",
       "       [1.80498493e-04, 9.99379396e-01, 4.40129661e-04, 7.13094250e-09],\n",
       "       [9.73160088e-01, 2.78696698e-05, 2.68120114e-02, 6.39124698e-10],\n",
       "       [8.50740145e-10, 1.00000000e+00, 5.11384490e-09, 7.32482434e-13],\n",
       "       [3.66133512e-10, 9.99985218e-01, 1.48258796e-05, 3.28601278e-11]],\n",
       "      dtype=float32)"
      ]
     },
     "execution_count": 37,
     "metadata": {},
     "output_type": "execute_result"
    }
   ],
   "source": [
    "base_m.predict(test_generator)"
   ]
  },
  {
   "cell_type": "code",
   "execution_count": 38,
   "id": "8897339d",
   "metadata": {
    "papermill": {
     "duration": 0.132615,
     "end_time": "2022-06-05T20:51:30.942048",
     "exception": false,
     "start_time": "2022-06-05T20:51:30.809433",
     "status": "completed"
    },
    "tags": []
   },
   "outputs": [],
   "source": [
    "m = Model(inputs=base_model.input, outputs=base_model.layers[-2].output)"
   ]
  },
  {
   "cell_type": "code",
   "execution_count": 39,
   "id": "586f7303",
   "metadata": {
    "papermill": {
     "duration": 26.872989,
     "end_time": "2022-06-05T20:51:57.918762",
     "exception": false,
     "start_time": "2022-06-05T20:51:31.045773",
     "status": "completed"
    },
    "tags": []
   },
   "outputs": [
    {
     "name": "stdout",
     "output_type": "stream",
     "text": [
      "36/36 [==============================] - 77s 2s/step\n"
     ]
    }
   ],
   "source": [
    "features = m.predict(train_generator)"
   ]
  },
  {
   "cell_type": "code",
   "execution_count": 40,
   "id": "d760b027",
   "metadata": {
    "papermill": {
     "duration": 0.116039,
     "end_time": "2022-06-05T20:51:58.140111",
     "exception": false,
     "start_time": "2022-06-05T20:51:58.024072",
     "status": "completed"
    },
    "tags": []
   },
   "outputs": [
    {
     "data": {
      "text/plain": [
       "(1137, 2048)"
      ]
     },
     "execution_count": 40,
     "metadata": {},
     "output_type": "execute_result"
    }
   ],
   "source": [
    "features.shape"
   ]
  },
  {
   "cell_type": "code",
   "execution_count": 41,
   "id": "58e33a36",
   "metadata": {
    "papermill": {
     "duration": 1.345057,
     "end_time": "2022-06-05T20:51:59.589523",
     "exception": false,
     "start_time": "2022-06-05T20:51:58.244466",
     "status": "completed"
    },
    "tags": []
   },
   "outputs": [
    {
     "name": "stdout",
     "output_type": "stream",
     "text": [
      "5/5 [==============================] - 9s 2s/step\n"
     ]
    }
   ],
   "source": [
    "t_features = m.predict(test_generator)"
   ]
  },
  {
   "cell_type": "code",
   "execution_count": 42,
   "id": "4185428d",
   "metadata": {
    "papermill": {
     "duration": 0.124067,
     "end_time": "2022-06-05T20:51:59.830072",
     "exception": false,
     "start_time": "2022-06-05T20:51:59.706005",
     "status": "completed"
    },
    "tags": []
   },
   "outputs": [
    {
     "data": {
      "text/plain": [
       "(147, 2048)"
      ]
     },
     "execution_count": 42,
     "metadata": {},
     "output_type": "execute_result"
    }
   ],
   "source": [
    "t_features.shape"
   ]
  },
  {
   "cell_type": "code",
   "execution_count": 43,
   "id": "fa816a77",
   "metadata": {
    "papermill": {
     "duration": 0.126476,
     "end_time": "2022-06-05T20:52:00.062679",
     "exception": false,
     "start_time": "2022-06-05T20:51:59.936203",
     "status": "completed"
    },
    "tags": []
   },
   "outputs": [],
   "source": [
    "from numpy import save\n",
    "save('train_fe',features)\n",
    "save('test_fe',t_features)"
   ]
  },
  {
   "cell_type": "code",
   "execution_count": 44,
   "id": "6f78dc1a",
   "metadata": {
    "papermill": {
     "duration": 4.764883,
     "end_time": "2022-06-05T20:52:04.933058",
     "exception": false,
     "start_time": "2022-06-05T20:52:00.168175",
     "status": "completed"
    },
    "tags": []
   },
   "outputs": [
    {
     "name": "stdout",
     "output_type": "stream",
     "text": [
      "last layer output shape:  (None, 17, 17, 768)\n"
     ]
    }
   ],
   "source": [
    "local_weights_file = './LabelledDataSet/inception/inception_v3_weights_tf_dim_ordering_tf_kernels_notop.h5'\n",
    "pre_trained_model = InceptionV3(input_shape = (299, 299, 3), \n",
    "                                include_top = False, \n",
    "                                weights = None)\n",
    "pre_trained_model.load_weights(local_weights_file)\n",
    "for layer in pre_trained_model.layers:\n",
    "  layer.trainable = False\n",
    "last_layer = pre_trained_model.get_layer('mixed7')\n",
    "print('last layer output shape: ', last_layer.output_shape)\n",
    "last_output = last_layer.output"
   ]
  },
  {
   "cell_type": "code",
   "execution_count": 45,
   "id": "e2b1c79f",
   "metadata": {
    "papermill": {
     "duration": 0.242405,
     "end_time": "2022-06-05T20:52:05.381472",
     "exception": false,
     "start_time": "2022-06-05T20:52:05.139067",
     "status": "completed"
    },
    "tags": []
   },
   "outputs": [],
   "source": [
    "x = layers.Flatten()(last_output)\n",
    "x = layers.Dropout(0.5)(x) \n",
    "x = layers.Dense(1024, activation='relu')(x)                 \n",
    "x = layers.Dense (4, activation='softmax')(x)           \n",
    "model = Model( pre_trained_model.input, x) \n",
    "model.compile(optimizer = RMSprop(learning_rate=0.0001), \n",
    "              loss = 'categorical_crossentropy', \n",
    "              metrics = ['accuracy'])"
   ]
  },
  {
   "cell_type": "code",
   "execution_count": 46,
   "id": "bc465923",
   "metadata": {
    "papermill": {
     "duration": 0.142004,
     "end_time": "2022-06-05T20:52:05.641651",
     "exception": false,
     "start_time": "2022-06-05T20:52:05.499647",
     "status": "completed"
    },
    "scrolled": true,
    "tags": []
   },
   "outputs": [
    {
     "name": "stdout",
     "output_type": "stream",
     "text": [
      "Model: \"model_2\"\n",
      "__________________________________________________________________________________________________\n",
      " Layer (type)                   Output Shape         Param #     Connected to                     \n",
      "==================================================================================================\n",
      " input_2 (InputLayer)           [(None, 299, 299, 3  0           []                               \n",
      "                                )]                                                                \n",
      "                                                                                                  \n",
      " conv2d_94 (Conv2D)             (None, 149, 149, 32  864         ['input_2[0][0]']                \n",
      "                                )                                                                 \n",
      "                                                                                                  \n",
      " batch_normalization_94 (BatchN  (None, 149, 149, 32  96         ['conv2d_94[0][0]']              \n",
      " ormalization)                  )                                                                 \n",
      "                                                                                                  \n",
      " activation_94 (Activation)     (None, 149, 149, 32  0           ['batch_normalization_94[0][0]'] \n",
      "                                )                                                                 \n",
      "                                                                                                  \n",
      " conv2d_95 (Conv2D)             (None, 147, 147, 32  9216        ['activation_94[0][0]']          \n",
      "                                )                                                                 \n",
      "                                                                                                  \n",
      " batch_normalization_95 (BatchN  (None, 147, 147, 32  96         ['conv2d_95[0][0]']              \n",
      " ormalization)                  )                                                                 \n",
      "                                                                                                  \n",
      " activation_95 (Activation)     (None, 147, 147, 32  0           ['batch_normalization_95[0][0]'] \n",
      "                                )                                                                 \n",
      "                                                                                                  \n",
      " conv2d_96 (Conv2D)             (None, 147, 147, 64  18432       ['activation_95[0][0]']          \n",
      "                                )                                                                 \n",
      "                                                                                                  \n",
      " batch_normalization_96 (BatchN  (None, 147, 147, 64  192        ['conv2d_96[0][0]']              \n",
      " ormalization)                  )                                                                 \n",
      "                                                                                                  \n",
      " activation_96 (Activation)     (None, 147, 147, 64  0           ['batch_normalization_96[0][0]'] \n",
      "                                )                                                                 \n",
      "                                                                                                  \n",
      " max_pooling2d_4 (MaxPooling2D)  (None, 73, 73, 64)  0           ['activation_96[0][0]']          \n",
      "                                                                                                  \n",
      " conv2d_97 (Conv2D)             (None, 73, 73, 80)   5120        ['max_pooling2d_4[0][0]']        \n",
      "                                                                                                  \n",
      " batch_normalization_97 (BatchN  (None, 73, 73, 80)  240         ['conv2d_97[0][0]']              \n",
      " ormalization)                                                                                    \n",
      "                                                                                                  \n",
      " activation_97 (Activation)     (None, 73, 73, 80)   0           ['batch_normalization_97[0][0]'] \n",
      "                                                                                                  \n",
      " conv2d_98 (Conv2D)             (None, 71, 71, 192)  138240      ['activation_97[0][0]']          \n",
      "                                                                                                  \n",
      " batch_normalization_98 (BatchN  (None, 71, 71, 192)  576        ['conv2d_98[0][0]']              \n",
      " ormalization)                                                                                    \n",
      "                                                                                                  \n",
      " activation_98 (Activation)     (None, 71, 71, 192)  0           ['batch_normalization_98[0][0]'] \n",
      "                                                                                                  \n",
      " max_pooling2d_5 (MaxPooling2D)  (None, 35, 35, 192)  0          ['activation_98[0][0]']          \n",
      "                                                                                                  \n",
      " conv2d_102 (Conv2D)            (None, 35, 35, 64)   12288       ['max_pooling2d_5[0][0]']        \n",
      "                                                                                                  \n",
      " batch_normalization_102 (Batch  (None, 35, 35, 64)  192         ['conv2d_102[0][0]']             \n",
      " Normalization)                                                                                   \n",
      "                                                                                                  \n",
      " activation_102 (Activation)    (None, 35, 35, 64)   0           ['batch_normalization_102[0][0]']\n",
      "                                                                                                  \n",
      " conv2d_100 (Conv2D)            (None, 35, 35, 48)   9216        ['max_pooling2d_5[0][0]']        \n",
      "                                                                                                  \n",
      " conv2d_103 (Conv2D)            (None, 35, 35, 96)   55296       ['activation_102[0][0]']         \n",
      "                                                                                                  \n",
      " batch_normalization_100 (Batch  (None, 35, 35, 48)  144         ['conv2d_100[0][0]']             \n",
      " Normalization)                                                                                   \n",
      "                                                                                                  \n",
      " batch_normalization_103 (Batch  (None, 35, 35, 96)  288         ['conv2d_103[0][0]']             \n",
      " Normalization)                                                                                   \n",
      "                                                                                                  \n",
      " activation_100 (Activation)    (None, 35, 35, 48)   0           ['batch_normalization_100[0][0]']\n",
      "                                                                                                  \n",
      " activation_103 (Activation)    (None, 35, 35, 96)   0           ['batch_normalization_103[0][0]']\n",
      "                                                                                                  \n",
      " average_pooling2d_9 (AveragePo  (None, 35, 35, 192)  0          ['max_pooling2d_5[0][0]']        \n",
      " oling2D)                                                                                         \n",
      "                                                                                                  \n",
      " conv2d_99 (Conv2D)             (None, 35, 35, 64)   12288       ['max_pooling2d_5[0][0]']        \n",
      "                                                                                                  \n",
      " conv2d_101 (Conv2D)            (None, 35, 35, 64)   76800       ['activation_100[0][0]']         \n",
      "                                                                                                  \n",
      " conv2d_104 (Conv2D)            (None, 35, 35, 96)   82944       ['activation_103[0][0]']         \n",
      "                                                                                                  \n",
      " conv2d_105 (Conv2D)            (None, 35, 35, 32)   6144        ['average_pooling2d_9[0][0]']    \n",
      "                                                                                                  \n",
      " batch_normalization_99 (BatchN  (None, 35, 35, 64)  192         ['conv2d_99[0][0]']              \n",
      " ormalization)                                                                                    \n",
      "                                                                                                  \n",
      " batch_normalization_101 (Batch  (None, 35, 35, 64)  192         ['conv2d_101[0][0]']             \n",
      " Normalization)                                                                                   \n",
      "                                                                                                  \n",
      " batch_normalization_104 (Batch  (None, 35, 35, 96)  288         ['conv2d_104[0][0]']             \n",
      " Normalization)                                                                                   \n",
      "                                                                                                  \n",
      " batch_normalization_105 (Batch  (None, 35, 35, 32)  96          ['conv2d_105[0][0]']             \n",
      " Normalization)                                                                                   \n",
      "                                                                                                  \n",
      " activation_99 (Activation)     (None, 35, 35, 64)   0           ['batch_normalization_99[0][0]'] \n",
      "                                                                                                  \n",
      " activation_101 (Activation)    (None, 35, 35, 64)   0           ['batch_normalization_101[0][0]']\n",
      "                                                                                                  \n",
      " activation_104 (Activation)    (None, 35, 35, 96)   0           ['batch_normalization_104[0][0]']\n",
      "                                                                                                  \n",
      " activation_105 (Activation)    (None, 35, 35, 32)   0           ['batch_normalization_105[0][0]']\n",
      "                                                                                                  \n",
      " mixed0 (Concatenate)           (None, 35, 35, 256)  0           ['activation_99[0][0]',          \n",
      "                                                                  'activation_101[0][0]',         \n",
      "                                                                  'activation_104[0][0]',         \n",
      "                                                                  'activation_105[0][0]']         \n",
      "                                                                                                  \n",
      " conv2d_109 (Conv2D)            (None, 35, 35, 64)   16384       ['mixed0[0][0]']                 \n",
      "                                                                                                  \n",
      " batch_normalization_109 (Batch  (None, 35, 35, 64)  192         ['conv2d_109[0][0]']             \n",
      " Normalization)                                                                                   \n",
      "                                                                                                  \n",
      " activation_109 (Activation)    (None, 35, 35, 64)   0           ['batch_normalization_109[0][0]']\n",
      "                                                                                                  \n",
      " conv2d_107 (Conv2D)            (None, 35, 35, 48)   12288       ['mixed0[0][0]']                 \n",
      "                                                                                                  \n",
      " conv2d_110 (Conv2D)            (None, 35, 35, 96)   55296       ['activation_109[0][0]']         \n",
      "                                                                                                  \n",
      " batch_normalization_107 (Batch  (None, 35, 35, 48)  144         ['conv2d_107[0][0]']             \n",
      " Normalization)                                                                                   \n",
      "                                                                                                  \n",
      " batch_normalization_110 (Batch  (None, 35, 35, 96)  288         ['conv2d_110[0][0]']             \n",
      " Normalization)                                                                                   \n",
      "                                                                                                  \n",
      " activation_107 (Activation)    (None, 35, 35, 48)   0           ['batch_normalization_107[0][0]']\n",
      "                                                                                                  \n",
      " activation_110 (Activation)    (None, 35, 35, 96)   0           ['batch_normalization_110[0][0]']\n",
      "                                                                                                  \n",
      " average_pooling2d_10 (AverageP  (None, 35, 35, 256)  0          ['mixed0[0][0]']                 \n",
      " ooling2D)                                                                                        \n",
      "                                                                                                  \n",
      " conv2d_106 (Conv2D)            (None, 35, 35, 64)   16384       ['mixed0[0][0]']                 \n",
      "                                                                                                  \n",
      " conv2d_108 (Conv2D)            (None, 35, 35, 64)   76800       ['activation_107[0][0]']         \n",
      "                                                                                                  \n",
      " conv2d_111 (Conv2D)            (None, 35, 35, 96)   82944       ['activation_110[0][0]']         \n",
      "                                                                                                  \n",
      " conv2d_112 (Conv2D)            (None, 35, 35, 64)   16384       ['average_pooling2d_10[0][0]']   \n",
      "                                                                                                  \n",
      " batch_normalization_106 (Batch  (None, 35, 35, 64)  192         ['conv2d_106[0][0]']             \n",
      " Normalization)                                                                                   \n",
      "                                                                                                  \n",
      " batch_normalization_108 (Batch  (None, 35, 35, 64)  192         ['conv2d_108[0][0]']             \n",
      " Normalization)                                                                                   \n",
      "                                                                                                  \n",
      " batch_normalization_111 (Batch  (None, 35, 35, 96)  288         ['conv2d_111[0][0]']             \n",
      " Normalization)                                                                                   \n",
      "                                                                                                  \n",
      " batch_normalization_112 (Batch  (None, 35, 35, 64)  192         ['conv2d_112[0][0]']             \n",
      " Normalization)                                                                                   \n",
      "                                                                                                  \n",
      " activation_106 (Activation)    (None, 35, 35, 64)   0           ['batch_normalization_106[0][0]']\n",
      "                                                                                                  \n",
      " activation_108 (Activation)    (None, 35, 35, 64)   0           ['batch_normalization_108[0][0]']\n",
      "                                                                                                  \n",
      " activation_111 (Activation)    (None, 35, 35, 96)   0           ['batch_normalization_111[0][0]']\n",
      "                                                                                                  \n",
      " activation_112 (Activation)    (None, 35, 35, 64)   0           ['batch_normalization_112[0][0]']\n",
      "                                                                                                  \n",
      " mixed1 (Concatenate)           (None, 35, 35, 288)  0           ['activation_106[0][0]',         \n",
      "                                                                  'activation_108[0][0]',         \n",
      "                                                                  'activation_111[0][0]',         \n",
      "                                                                  'activation_112[0][0]']         \n",
      "                                                                                                  \n",
      " conv2d_116 (Conv2D)            (None, 35, 35, 64)   18432       ['mixed1[0][0]']                 \n",
      "                                                                                                  \n",
      " batch_normalization_116 (Batch  (None, 35, 35, 64)  192         ['conv2d_116[0][0]']             \n",
      " Normalization)                                                                                   \n",
      "                                                                                                  \n",
      " activation_116 (Activation)    (None, 35, 35, 64)   0           ['batch_normalization_116[0][0]']\n",
      "                                                                                                  \n",
      " conv2d_114 (Conv2D)            (None, 35, 35, 48)   13824       ['mixed1[0][0]']                 \n",
      "                                                                                                  \n",
      " conv2d_117 (Conv2D)            (None, 35, 35, 96)   55296       ['activation_116[0][0]']         \n",
      "                                                                                                  \n",
      " batch_normalization_114 (Batch  (None, 35, 35, 48)  144         ['conv2d_114[0][0]']             \n",
      " Normalization)                                                                                   \n",
      "                                                                                                  \n",
      " batch_normalization_117 (Batch  (None, 35, 35, 96)  288         ['conv2d_117[0][0]']             \n",
      " Normalization)                                                                                   \n",
      "                                                                                                  \n",
      " activation_114 (Activation)    (None, 35, 35, 48)   0           ['batch_normalization_114[0][0]']\n",
      "                                                                                                  \n",
      " activation_117 (Activation)    (None, 35, 35, 96)   0           ['batch_normalization_117[0][0]']\n",
      "                                                                                                  \n",
      " average_pooling2d_11 (AverageP  (None, 35, 35, 288)  0          ['mixed1[0][0]']                 \n",
      " ooling2D)                                                                                        \n",
      "                                                                                                  \n",
      " conv2d_113 (Conv2D)            (None, 35, 35, 64)   18432       ['mixed1[0][0]']                 \n",
      "                                                                                                  \n",
      " conv2d_115 (Conv2D)            (None, 35, 35, 64)   76800       ['activation_114[0][0]']         \n",
      "                                                                                                  \n",
      " conv2d_118 (Conv2D)            (None, 35, 35, 96)   82944       ['activation_117[0][0]']         \n",
      "                                                                                                  \n",
      " conv2d_119 (Conv2D)            (None, 35, 35, 64)   18432       ['average_pooling2d_11[0][0]']   \n",
      "                                                                                                  \n",
      " batch_normalization_113 (Batch  (None, 35, 35, 64)  192         ['conv2d_113[0][0]']             \n",
      " Normalization)                                                                                   \n",
      "                                                                                                  \n",
      " batch_normalization_115 (Batch  (None, 35, 35, 64)  192         ['conv2d_115[0][0]']             \n",
      " Normalization)                                                                                   \n",
      "                                                                                                  \n",
      " batch_normalization_118 (Batch  (None, 35, 35, 96)  288         ['conv2d_118[0][0]']             \n",
      " Normalization)                                                                                   \n",
      "                                                                                                  \n",
      " batch_normalization_119 (Batch  (None, 35, 35, 64)  192         ['conv2d_119[0][0]']             \n",
      " Normalization)                                                                                   \n",
      "                                                                                                  \n",
      " activation_113 (Activation)    (None, 35, 35, 64)   0           ['batch_normalization_113[0][0]']\n",
      "                                                                                                  \n",
      " activation_115 (Activation)    (None, 35, 35, 64)   0           ['batch_normalization_115[0][0]']\n",
      "                                                                                                  \n",
      " activation_118 (Activation)    (None, 35, 35, 96)   0           ['batch_normalization_118[0][0]']\n",
      "                                                                                                  \n",
      " activation_119 (Activation)    (None, 35, 35, 64)   0           ['batch_normalization_119[0][0]']\n",
      "                                                                                                  \n",
      " mixed2 (Concatenate)           (None, 35, 35, 288)  0           ['activation_113[0][0]',         \n",
      "                                                                  'activation_115[0][0]',         \n",
      "                                                                  'activation_118[0][0]',         \n",
      "                                                                  'activation_119[0][0]']         \n",
      "                                                                                                  \n",
      " conv2d_121 (Conv2D)            (None, 35, 35, 64)   18432       ['mixed2[0][0]']                 \n",
      "                                                                                                  \n",
      " batch_normalization_121 (Batch  (None, 35, 35, 64)  192         ['conv2d_121[0][0]']             \n",
      " Normalization)                                                                                   \n",
      "                                                                                                  \n",
      " activation_121 (Activation)    (None, 35, 35, 64)   0           ['batch_normalization_121[0][0]']\n",
      "                                                                                                  \n",
      " conv2d_122 (Conv2D)            (None, 35, 35, 96)   55296       ['activation_121[0][0]']         \n",
      "                                                                                                  \n",
      " batch_normalization_122 (Batch  (None, 35, 35, 96)  288         ['conv2d_122[0][0]']             \n",
      " Normalization)                                                                                   \n",
      "                                                                                                  \n",
      " activation_122 (Activation)    (None, 35, 35, 96)   0           ['batch_normalization_122[0][0]']\n",
      "                                                                                                  \n",
      " conv2d_120 (Conv2D)            (None, 17, 17, 384)  995328      ['mixed2[0][0]']                 \n",
      "                                                                                                  \n",
      " conv2d_123 (Conv2D)            (None, 17, 17, 96)   82944       ['activation_122[0][0]']         \n",
      "                                                                                                  \n",
      " batch_normalization_120 (Batch  (None, 17, 17, 384)  1152       ['conv2d_120[0][0]']             \n",
      " Normalization)                                                                                   \n",
      "                                                                                                  \n",
      " batch_normalization_123 (Batch  (None, 17, 17, 96)  288         ['conv2d_123[0][0]']             \n",
      " Normalization)                                                                                   \n",
      "                                                                                                  \n",
      " activation_120 (Activation)    (None, 17, 17, 384)  0           ['batch_normalization_120[0][0]']\n",
      "                                                                                                  \n",
      " activation_123 (Activation)    (None, 17, 17, 96)   0           ['batch_normalization_123[0][0]']\n",
      "                                                                                                  \n",
      " max_pooling2d_6 (MaxPooling2D)  (None, 17, 17, 288)  0          ['mixed2[0][0]']                 \n",
      "                                                                                                  \n",
      " mixed3 (Concatenate)           (None, 17, 17, 768)  0           ['activation_120[0][0]',         \n",
      "                                                                  'activation_123[0][0]',         \n",
      "                                                                  'max_pooling2d_6[0][0]']        \n",
      "                                                                                                  \n",
      " conv2d_128 (Conv2D)            (None, 17, 17, 128)  98304       ['mixed3[0][0]']                 \n",
      "                                                                                                  \n",
      " batch_normalization_128 (Batch  (None, 17, 17, 128)  384        ['conv2d_128[0][0]']             \n",
      " Normalization)                                                                                   \n",
      "                                                                                                  \n",
      " activation_128 (Activation)    (None, 17, 17, 128)  0           ['batch_normalization_128[0][0]']\n",
      "                                                                                                  \n",
      " conv2d_129 (Conv2D)            (None, 17, 17, 128)  114688      ['activation_128[0][0]']         \n",
      "                                                                                                  \n",
      " batch_normalization_129 (Batch  (None, 17, 17, 128)  384        ['conv2d_129[0][0]']             \n",
      " Normalization)                                                                                   \n",
      "                                                                                                  \n",
      " activation_129 (Activation)    (None, 17, 17, 128)  0           ['batch_normalization_129[0][0]']\n",
      "                                                                                                  \n",
      " conv2d_125 (Conv2D)            (None, 17, 17, 128)  98304       ['mixed3[0][0]']                 \n",
      "                                                                                                  \n",
      " conv2d_130 (Conv2D)            (None, 17, 17, 128)  114688      ['activation_129[0][0]']         \n",
      "                                                                                                  \n",
      " batch_normalization_125 (Batch  (None, 17, 17, 128)  384        ['conv2d_125[0][0]']             \n",
      " Normalization)                                                                                   \n",
      "                                                                                                  \n",
      " batch_normalization_130 (Batch  (None, 17, 17, 128)  384        ['conv2d_130[0][0]']             \n",
      " Normalization)                                                                                   \n",
      "                                                                                                  \n",
      " activation_125 (Activation)    (None, 17, 17, 128)  0           ['batch_normalization_125[0][0]']\n",
      "                                                                                                  \n",
      " activation_130 (Activation)    (None, 17, 17, 128)  0           ['batch_normalization_130[0][0]']\n",
      "                                                                                                  \n",
      " conv2d_126 (Conv2D)            (None, 17, 17, 128)  114688      ['activation_125[0][0]']         \n",
      "                                                                                                  \n",
      " conv2d_131 (Conv2D)            (None, 17, 17, 128)  114688      ['activation_130[0][0]']         \n",
      "                                                                                                  \n",
      " batch_normalization_126 (Batch  (None, 17, 17, 128)  384        ['conv2d_126[0][0]']             \n",
      " Normalization)                                                                                   \n",
      "                                                                                                  \n",
      " batch_normalization_131 (Batch  (None, 17, 17, 128)  384        ['conv2d_131[0][0]']             \n",
      " Normalization)                                                                                   \n",
      "                                                                                                  \n",
      " activation_126 (Activation)    (None, 17, 17, 128)  0           ['batch_normalization_126[0][0]']\n",
      "                                                                                                  \n",
      " activation_131 (Activation)    (None, 17, 17, 128)  0           ['batch_normalization_131[0][0]']\n",
      "                                                                                                  \n",
      " average_pooling2d_12 (AverageP  (None, 17, 17, 768)  0          ['mixed3[0][0]']                 \n",
      " ooling2D)                                                                                        \n",
      "                                                                                                  \n",
      " conv2d_124 (Conv2D)            (None, 17, 17, 192)  147456      ['mixed3[0][0]']                 \n",
      "                                                                                                  \n",
      " conv2d_127 (Conv2D)            (None, 17, 17, 192)  172032      ['activation_126[0][0]']         \n",
      "                                                                                                  \n",
      " conv2d_132 (Conv2D)            (None, 17, 17, 192)  172032      ['activation_131[0][0]']         \n",
      "                                                                                                  \n",
      " conv2d_133 (Conv2D)            (None, 17, 17, 192)  147456      ['average_pooling2d_12[0][0]']   \n",
      "                                                                                                  \n",
      " batch_normalization_124 (Batch  (None, 17, 17, 192)  576        ['conv2d_124[0][0]']             \n",
      " Normalization)                                                                                   \n",
      "                                                                                                  \n",
      " batch_normalization_127 (Batch  (None, 17, 17, 192)  576        ['conv2d_127[0][0]']             \n",
      " Normalization)                                                                                   \n",
      "                                                                                                  \n",
      " batch_normalization_132 (Batch  (None, 17, 17, 192)  576        ['conv2d_132[0][0]']             \n",
      " Normalization)                                                                                   \n",
      "                                                                                                  \n",
      " batch_normalization_133 (Batch  (None, 17, 17, 192)  576        ['conv2d_133[0][0]']             \n",
      " Normalization)                                                                                   \n",
      "                                                                                                  \n",
      " activation_124 (Activation)    (None, 17, 17, 192)  0           ['batch_normalization_124[0][0]']\n",
      "                                                                                                  \n",
      " activation_127 (Activation)    (None, 17, 17, 192)  0           ['batch_normalization_127[0][0]']\n",
      "                                                                                                  \n",
      " activation_132 (Activation)    (None, 17, 17, 192)  0           ['batch_normalization_132[0][0]']\n",
      "                                                                                                  \n",
      " activation_133 (Activation)    (None, 17, 17, 192)  0           ['batch_normalization_133[0][0]']\n",
      "                                                                                                  \n",
      " mixed4 (Concatenate)           (None, 17, 17, 768)  0           ['activation_124[0][0]',         \n",
      "                                                                  'activation_127[0][0]',         \n",
      "                                                                  'activation_132[0][0]',         \n",
      "                                                                  'activation_133[0][0]']         \n",
      "                                                                                                  \n",
      " conv2d_138 (Conv2D)            (None, 17, 17, 160)  122880      ['mixed4[0][0]']                 \n",
      "                                                                                                  \n",
      " batch_normalization_138 (Batch  (None, 17, 17, 160)  480        ['conv2d_138[0][0]']             \n",
      " Normalization)                                                                                   \n",
      "                                                                                                  \n",
      " activation_138 (Activation)    (None, 17, 17, 160)  0           ['batch_normalization_138[0][0]']\n",
      "                                                                                                  \n",
      " conv2d_139 (Conv2D)            (None, 17, 17, 160)  179200      ['activation_138[0][0]']         \n",
      "                                                                                                  \n",
      " batch_normalization_139 (Batch  (None, 17, 17, 160)  480        ['conv2d_139[0][0]']             \n",
      " Normalization)                                                                                   \n",
      "                                                                                                  \n",
      " activation_139 (Activation)    (None, 17, 17, 160)  0           ['batch_normalization_139[0][0]']\n",
      "                                                                                                  \n",
      " conv2d_135 (Conv2D)            (None, 17, 17, 160)  122880      ['mixed4[0][0]']                 \n",
      "                                                                                                  \n",
      " conv2d_140 (Conv2D)            (None, 17, 17, 160)  179200      ['activation_139[0][0]']         \n",
      "                                                                                                  \n",
      " batch_normalization_135 (Batch  (None, 17, 17, 160)  480        ['conv2d_135[0][0]']             \n",
      " Normalization)                                                                                   \n",
      "                                                                                                  \n",
      " batch_normalization_140 (Batch  (None, 17, 17, 160)  480        ['conv2d_140[0][0]']             \n",
      " Normalization)                                                                                   \n",
      "                                                                                                  \n",
      " activation_135 (Activation)    (None, 17, 17, 160)  0           ['batch_normalization_135[0][0]']\n",
      "                                                                                                  \n",
      " activation_140 (Activation)    (None, 17, 17, 160)  0           ['batch_normalization_140[0][0]']\n",
      "                                                                                                  \n",
      " conv2d_136 (Conv2D)            (None, 17, 17, 160)  179200      ['activation_135[0][0]']         \n",
      "                                                                                                  \n",
      " conv2d_141 (Conv2D)            (None, 17, 17, 160)  179200      ['activation_140[0][0]']         \n",
      "                                                                                                  \n",
      " batch_normalization_136 (Batch  (None, 17, 17, 160)  480        ['conv2d_136[0][0]']             \n",
      " Normalization)                                                                                   \n",
      "                                                                                                  \n",
      " batch_normalization_141 (Batch  (None, 17, 17, 160)  480        ['conv2d_141[0][0]']             \n",
      " Normalization)                                                                                   \n",
      "                                                                                                  \n",
      " activation_136 (Activation)    (None, 17, 17, 160)  0           ['batch_normalization_136[0][0]']\n",
      "                                                                                                  \n",
      " activation_141 (Activation)    (None, 17, 17, 160)  0           ['batch_normalization_141[0][0]']\n",
      "                                                                                                  \n",
      " average_pooling2d_13 (AverageP  (None, 17, 17, 768)  0          ['mixed4[0][0]']                 \n",
      " ooling2D)                                                                                        \n",
      "                                                                                                  \n",
      " conv2d_134 (Conv2D)            (None, 17, 17, 192)  147456      ['mixed4[0][0]']                 \n",
      "                                                                                                  \n",
      " conv2d_137 (Conv2D)            (None, 17, 17, 192)  215040      ['activation_136[0][0]']         \n",
      "                                                                                                  \n",
      " conv2d_142 (Conv2D)            (None, 17, 17, 192)  215040      ['activation_141[0][0]']         \n",
      "                                                                                                  \n",
      " conv2d_143 (Conv2D)            (None, 17, 17, 192)  147456      ['average_pooling2d_13[0][0]']   \n",
      "                                                                                                  \n",
      " batch_normalization_134 (Batch  (None, 17, 17, 192)  576        ['conv2d_134[0][0]']             \n",
      " Normalization)                                                                                   \n",
      "                                                                                                  \n",
      " batch_normalization_137 (Batch  (None, 17, 17, 192)  576        ['conv2d_137[0][0]']             \n",
      " Normalization)                                                                                   \n",
      "                                                                                                  \n",
      " batch_normalization_142 (Batch  (None, 17, 17, 192)  576        ['conv2d_142[0][0]']             \n",
      " Normalization)                                                                                   \n",
      "                                                                                                  \n",
      " batch_normalization_143 (Batch  (None, 17, 17, 192)  576        ['conv2d_143[0][0]']             \n",
      " Normalization)                                                                                   \n",
      "                                                                                                  \n",
      " activation_134 (Activation)    (None, 17, 17, 192)  0           ['batch_normalization_134[0][0]']\n",
      "                                                                                                  \n",
      " activation_137 (Activation)    (None, 17, 17, 192)  0           ['batch_normalization_137[0][0]']\n",
      "                                                                                                  \n",
      " activation_142 (Activation)    (None, 17, 17, 192)  0           ['batch_normalization_142[0][0]']\n",
      "                                                                                                  \n",
      " activation_143 (Activation)    (None, 17, 17, 192)  0           ['batch_normalization_143[0][0]']\n",
      "                                                                                                  \n",
      " mixed5 (Concatenate)           (None, 17, 17, 768)  0           ['activation_134[0][0]',         \n",
      "                                                                  'activation_137[0][0]',         \n",
      "                                                                  'activation_142[0][0]',         \n",
      "                                                                  'activation_143[0][0]']         \n",
      "                                                                                                  \n",
      " conv2d_148 (Conv2D)            (None, 17, 17, 160)  122880      ['mixed5[0][0]']                 \n",
      "                                                                                                  \n",
      " batch_normalization_148 (Batch  (None, 17, 17, 160)  480        ['conv2d_148[0][0]']             \n",
      " Normalization)                                                                                   \n",
      "                                                                                                  \n",
      " activation_148 (Activation)    (None, 17, 17, 160)  0           ['batch_normalization_148[0][0]']\n",
      "                                                                                                  \n",
      " conv2d_149 (Conv2D)            (None, 17, 17, 160)  179200      ['activation_148[0][0]']         \n",
      "                                                                                                  \n",
      " batch_normalization_149 (Batch  (None, 17, 17, 160)  480        ['conv2d_149[0][0]']             \n",
      " Normalization)                                                                                   \n",
      "                                                                                                  \n",
      " activation_149 (Activation)    (None, 17, 17, 160)  0           ['batch_normalization_149[0][0]']\n",
      "                                                                                                  \n",
      " conv2d_145 (Conv2D)            (None, 17, 17, 160)  122880      ['mixed5[0][0]']                 \n",
      "                                                                                                  \n",
      " conv2d_150 (Conv2D)            (None, 17, 17, 160)  179200      ['activation_149[0][0]']         \n",
      "                                                                                                  \n",
      " batch_normalization_145 (Batch  (None, 17, 17, 160)  480        ['conv2d_145[0][0]']             \n",
      " Normalization)                                                                                   \n",
      "                                                                                                  \n",
      " batch_normalization_150 (Batch  (None, 17, 17, 160)  480        ['conv2d_150[0][0]']             \n",
      " Normalization)                                                                                   \n",
      "                                                                                                  \n",
      " activation_145 (Activation)    (None, 17, 17, 160)  0           ['batch_normalization_145[0][0]']\n",
      "                                                                                                  \n",
      " activation_150 (Activation)    (None, 17, 17, 160)  0           ['batch_normalization_150[0][0]']\n",
      "                                                                                                  \n",
      " conv2d_146 (Conv2D)            (None, 17, 17, 160)  179200      ['activation_145[0][0]']         \n",
      "                                                                                                  \n",
      " conv2d_151 (Conv2D)            (None, 17, 17, 160)  179200      ['activation_150[0][0]']         \n",
      "                                                                                                  \n",
      " batch_normalization_146 (Batch  (None, 17, 17, 160)  480        ['conv2d_146[0][0]']             \n",
      " Normalization)                                                                                   \n",
      "                                                                                                  \n",
      " batch_normalization_151 (Batch  (None, 17, 17, 160)  480        ['conv2d_151[0][0]']             \n",
      " Normalization)                                                                                   \n",
      "                                                                                                  \n",
      " activation_146 (Activation)    (None, 17, 17, 160)  0           ['batch_normalization_146[0][0]']\n",
      "                                                                                                  \n",
      " activation_151 (Activation)    (None, 17, 17, 160)  0           ['batch_normalization_151[0][0]']\n",
      "                                                                                                  \n",
      " average_pooling2d_14 (AverageP  (None, 17, 17, 768)  0          ['mixed5[0][0]']                 \n",
      " ooling2D)                                                                                        \n",
      "                                                                                                  \n",
      " conv2d_144 (Conv2D)            (None, 17, 17, 192)  147456      ['mixed5[0][0]']                 \n",
      "                                                                                                  \n",
      " conv2d_147 (Conv2D)            (None, 17, 17, 192)  215040      ['activation_146[0][0]']         \n",
      "                                                                                                  \n",
      " conv2d_152 (Conv2D)            (None, 17, 17, 192)  215040      ['activation_151[0][0]']         \n",
      "                                                                                                  \n",
      " conv2d_153 (Conv2D)            (None, 17, 17, 192)  147456      ['average_pooling2d_14[0][0]']   \n",
      "                                                                                                  \n",
      " batch_normalization_144 (Batch  (None, 17, 17, 192)  576        ['conv2d_144[0][0]']             \n",
      " Normalization)                                                                                   \n",
      "                                                                                                  \n",
      " batch_normalization_147 (Batch  (None, 17, 17, 192)  576        ['conv2d_147[0][0]']             \n",
      " Normalization)                                                                                   \n",
      "                                                                                                  \n",
      " batch_normalization_152 (Batch  (None, 17, 17, 192)  576        ['conv2d_152[0][0]']             \n",
      " Normalization)                                                                                   \n",
      "                                                                                                  \n",
      " batch_normalization_153 (Batch  (None, 17, 17, 192)  576        ['conv2d_153[0][0]']             \n",
      " Normalization)                                                                                   \n",
      "                                                                                                  \n",
      " activation_144 (Activation)    (None, 17, 17, 192)  0           ['batch_normalization_144[0][0]']\n",
      "                                                                                                  \n",
      " activation_147 (Activation)    (None, 17, 17, 192)  0           ['batch_normalization_147[0][0]']\n",
      "                                                                                                  \n",
      " activation_152 (Activation)    (None, 17, 17, 192)  0           ['batch_normalization_152[0][0]']\n",
      "                                                                                                  \n",
      " activation_153 (Activation)    (None, 17, 17, 192)  0           ['batch_normalization_153[0][0]']\n",
      "                                                                                                  \n",
      " mixed6 (Concatenate)           (None, 17, 17, 768)  0           ['activation_144[0][0]',         \n",
      "                                                                  'activation_147[0][0]',         \n",
      "                                                                  'activation_152[0][0]',         \n",
      "                                                                  'activation_153[0][0]']         \n",
      "                                                                                                  \n",
      " conv2d_158 (Conv2D)            (None, 17, 17, 192)  147456      ['mixed6[0][0]']                 \n",
      "                                                                                                  \n",
      " batch_normalization_158 (Batch  (None, 17, 17, 192)  576        ['conv2d_158[0][0]']             \n",
      " Normalization)                                                                                   \n",
      "                                                                                                  \n",
      " activation_158 (Activation)    (None, 17, 17, 192)  0           ['batch_normalization_158[0][0]']\n",
      "                                                                                                  \n",
      " conv2d_159 (Conv2D)            (None, 17, 17, 192)  258048      ['activation_158[0][0]']         \n",
      "                                                                                                  \n",
      " batch_normalization_159 (Batch  (None, 17, 17, 192)  576        ['conv2d_159[0][0]']             \n",
      " Normalization)                                                                                   \n",
      "                                                                                                  \n",
      " activation_159 (Activation)    (None, 17, 17, 192)  0           ['batch_normalization_159[0][0]']\n",
      "                                                                                                  \n",
      " conv2d_155 (Conv2D)            (None, 17, 17, 192)  147456      ['mixed6[0][0]']                 \n",
      "                                                                                                  \n",
      " conv2d_160 (Conv2D)            (None, 17, 17, 192)  258048      ['activation_159[0][0]']         \n",
      "                                                                                                  \n",
      " batch_normalization_155 (Batch  (None, 17, 17, 192)  576        ['conv2d_155[0][0]']             \n",
      " Normalization)                                                                                   \n",
      "                                                                                                  \n",
      " batch_normalization_160 (Batch  (None, 17, 17, 192)  576        ['conv2d_160[0][0]']             \n",
      " Normalization)                                                                                   \n",
      "                                                                                                  \n",
      " activation_155 (Activation)    (None, 17, 17, 192)  0           ['batch_normalization_155[0][0]']\n",
      "                                                                                                  \n",
      " activation_160 (Activation)    (None, 17, 17, 192)  0           ['batch_normalization_160[0][0]']\n",
      "                                                                                                  \n",
      " conv2d_156 (Conv2D)            (None, 17, 17, 192)  258048      ['activation_155[0][0]']         \n",
      "                                                                                                  \n",
      " conv2d_161 (Conv2D)            (None, 17, 17, 192)  258048      ['activation_160[0][0]']         \n",
      "                                                                                                  \n",
      " batch_normalization_156 (Batch  (None, 17, 17, 192)  576        ['conv2d_156[0][0]']             \n",
      " Normalization)                                                                                   \n",
      "                                                                                                  \n",
      " batch_normalization_161 (Batch  (None, 17, 17, 192)  576        ['conv2d_161[0][0]']             \n",
      " Normalization)                                                                                   \n",
      "                                                                                                  \n",
      " activation_156 (Activation)    (None, 17, 17, 192)  0           ['batch_normalization_156[0][0]']\n",
      "                                                                                                  \n",
      " activation_161 (Activation)    (None, 17, 17, 192)  0           ['batch_normalization_161[0][0]']\n",
      "                                                                                                  \n",
      " average_pooling2d_15 (AverageP  (None, 17, 17, 768)  0          ['mixed6[0][0]']                 \n",
      " ooling2D)                                                                                        \n",
      "                                                                                                  \n",
      " conv2d_154 (Conv2D)            (None, 17, 17, 192)  147456      ['mixed6[0][0]']                 \n",
      "                                                                                                  \n",
      " conv2d_157 (Conv2D)            (None, 17, 17, 192)  258048      ['activation_156[0][0]']         \n",
      "                                                                                                  \n",
      " conv2d_162 (Conv2D)            (None, 17, 17, 192)  258048      ['activation_161[0][0]']         \n",
      "                                                                                                  \n",
      " conv2d_163 (Conv2D)            (None, 17, 17, 192)  147456      ['average_pooling2d_15[0][0]']   \n",
      "                                                                                                  \n",
      " batch_normalization_154 (Batch  (None, 17, 17, 192)  576        ['conv2d_154[0][0]']             \n",
      " Normalization)                                                                                   \n",
      "                                                                                                  \n",
      " batch_normalization_157 (Batch  (None, 17, 17, 192)  576        ['conv2d_157[0][0]']             \n",
      " Normalization)                                                                                   \n",
      "                                                                                                  \n",
      " batch_normalization_162 (Batch  (None, 17, 17, 192)  576        ['conv2d_162[0][0]']             \n",
      " Normalization)                                                                                   \n",
      "                                                                                                  \n",
      " batch_normalization_163 (Batch  (None, 17, 17, 192)  576        ['conv2d_163[0][0]']             \n",
      " Normalization)                                                                                   \n",
      "                                                                                                  \n",
      " activation_154 (Activation)    (None, 17, 17, 192)  0           ['batch_normalization_154[0][0]']\n",
      "                                                                                                  \n",
      " activation_157 (Activation)    (None, 17, 17, 192)  0           ['batch_normalization_157[0][0]']\n",
      "                                                                                                  \n",
      " activation_162 (Activation)    (None, 17, 17, 192)  0           ['batch_normalization_162[0][0]']\n",
      "                                                                                                  \n",
      " activation_163 (Activation)    (None, 17, 17, 192)  0           ['batch_normalization_163[0][0]']\n",
      "                                                                                                  \n",
      " mixed7 (Concatenate)           (None, 17, 17, 768)  0           ['activation_154[0][0]',         \n",
      "                                                                  'activation_157[0][0]',         \n",
      "                                                                  'activation_162[0][0]',         \n",
      "                                                                  'activation_163[0][0]']         \n",
      "                                                                                                  \n",
      " flatten (Flatten)              (None, 221952)       0           ['mixed7[0][0]']                 \n",
      "                                                                                                  \n",
      " dropout (Dropout)              (None, 221952)       0           ['flatten[0][0]']                \n",
      "                                                                                                  \n",
      " dense_2 (Dense)                (None, 1024)         227279872   ['dropout[0][0]']                \n",
      "                                                                                                  \n",
      " dense_3 (Dense)                (None, 4)            4100        ['dense_2[0][0]']                \n",
      "                                                                                                  \n",
      "==================================================================================================\n",
      "Total params: 236,259,236\n",
      "Trainable params: 227,283,972\n",
      "Non-trainable params: 8,975,264\n",
      "__________________________________________________________________________________________________\n"
     ]
    }
   ],
   "source": [
    "model.summary()"
   ]
  },
  {
   "cell_type": "code",
   "execution_count": 47,
   "id": "f208a50a",
   "metadata": {
    "papermill": {
     "duration": 372.503622,
     "end_time": "2022-06-05T20:58:18.258795",
     "exception": false,
     "start_time": "2022-06-05T20:52:05.755173",
     "status": "completed"
    },
    "tags": []
   },
   "outputs": [
    {
     "name": "stdout",
     "output_type": "stream",
     "text": [
      "Epoch 1/20\n",
      "20/20 [==============================] - 107s 5s/step - loss: 3.7577 - accuracy: 0.3840 - val_loss: 0.9257 - val_accuracy: 0.6143\n",
      "Epoch 2/20\n",
      "20/20 [==============================] - 100s 5s/step - loss: 0.9802 - accuracy: 0.6234 - val_loss: 1.0150 - val_accuracy: 0.5357\n",
      "Epoch 3/20\n",
      "20/20 [==============================] - 99s 5s/step - loss: 1.0462 - accuracy: 0.5632 - val_loss: 0.9721 - val_accuracy: 0.6571\n",
      "Epoch 4/20\n",
      "20/20 [==============================] - 98s 5s/step - loss: 0.9099 - accuracy: 0.6562 - val_loss: 1.1343 - val_accuracy: 0.6071\n",
      "Epoch 5/20\n",
      "20/20 [==============================] - 98s 5s/step - loss: 0.8514 - accuracy: 0.6859 - val_loss: 0.8435 - val_accuracy: 0.7071\n",
      "Epoch 6/20\n",
      "20/20 [==============================] - 98s 5s/step - loss: 0.9179 - accuracy: 0.6453 - val_loss: 1.0420 - val_accuracy: 0.5714\n",
      "Epoch 7/20\n",
      "20/20 [==============================] - 97s 5s/step - loss: 0.7793 - accuracy: 0.6896 - val_loss: 0.8632 - val_accuracy: 0.6429\n",
      "Epoch 8/20\n",
      "20/20 [==============================] - 97s 5s/step - loss: 0.8470 - accuracy: 0.6784 - val_loss: 1.1298 - val_accuracy: 0.5571\n",
      "Epoch 9/20\n",
      "20/20 [==============================] - 98s 5s/step - loss: 0.7634 - accuracy: 0.7094 - val_loss: 0.9485 - val_accuracy: 0.6286\n",
      "Epoch 10/20\n",
      "20/20 [==============================] - 98s 5s/step - loss: 0.7494 - accuracy: 0.7250 - val_loss: 0.8560 - val_accuracy: 0.6714\n",
      "Epoch 11/20\n",
      "20/20 [==============================] - 98s 5s/step - loss: 0.7403 - accuracy: 0.7188 - val_loss: 0.9417 - val_accuracy: 0.6571\n",
      "Epoch 12/20\n",
      "20/20 [==============================] - 96s 5s/step - loss: 0.8068 - accuracy: 0.6944 - val_loss: 0.6842 - val_accuracy: 0.7500\n",
      "Epoch 13/20\n",
      "20/20 [==============================] - 96s 5s/step - loss: 0.7233 - accuracy: 0.7328 - val_loss: 0.7656 - val_accuracy: 0.7214\n",
      "Epoch 14/20\n",
      "20/20 [==============================] - 96s 5s/step - loss: 0.7224 - accuracy: 0.7312 - val_loss: 0.6883 - val_accuracy: 0.7857\n",
      "Epoch 15/20\n",
      "20/20 [==============================] - 97s 5s/step - loss: 0.7387 - accuracy: 0.7248 - val_loss: 0.7051 - val_accuracy: 0.7286\n",
      "Epoch 16/20\n",
      "20/20 [==============================] - 98s 5s/step - loss: 0.6659 - accuracy: 0.7520 - val_loss: 0.7145 - val_accuracy: 0.7500\n",
      "Epoch 17/20\n",
      "20/20 [==============================] - 98s 5s/step - loss: 0.6724 - accuracy: 0.7437 - val_loss: 0.7851 - val_accuracy: 0.7429\n",
      "Epoch 18/20\n",
      "20/20 [==============================] - 97s 5s/step - loss: 0.7406 - accuracy: 0.7453 - val_loss: 0.7869 - val_accuracy: 0.7214\n",
      "Epoch 19/20\n",
      "20/20 [==============================] - 99s 5s/step - loss: 0.6532 - accuracy: 0.7609 - val_loss: 0.6858 - val_accuracy: 0.7643\n",
      "Epoch 20/20\n",
      "20/20 [==============================] - 98s 5s/step - loss: 0.7056 - accuracy: 0.7266 - val_loss: 0.6422 - val_accuracy: 0.7714\n"
     ]
    }
   ],
   "source": [
    "history = model.fit(\n",
    "            train_generator,\n",
    "            validation_data = validation_generator,\n",
    "            steps_per_epoch=20,\n",
    "            epochs =20,\n",
    "            validation_steps=5,\n",
    "            verbose = 1)"
   ]
  },
  {
   "cell_type": "code",
   "execution_count": 48,
   "id": "2586db1f",
   "metadata": {
    "papermill": {
     "duration": 1.606921,
     "end_time": "2022-06-05T20:58:19.998883",
     "exception": false,
     "start_time": "2022-06-05T20:58:18.391962",
     "status": "completed"
    },
    "tags": []
   },
   "outputs": [
    {
     "name": "stdout",
     "output_type": "stream",
     "text": [
      "5/5 [==============================] - 9s 2s/step - loss: 0.6771 - accuracy: 0.7687\n"
     ]
    },
    {
     "data": {
      "text/plain": [
       "[0.6771495342254639, 0.7687074542045593]"
      ]
     },
     "execution_count": 48,
     "metadata": {},
     "output_type": "execute_result"
    }
   ],
   "source": [
    "model.evaluate(test_generator)"
   ]
  },
  {
   "cell_type": "code",
   "execution_count": 49,
   "id": "e01729a1",
   "metadata": {
    "papermill": {
     "duration": 4.284602,
     "end_time": "2022-06-05T20:58:24.421467",
     "exception": false,
     "start_time": "2022-06-05T20:58:20.136865",
     "status": "completed"
    },
    "tags": []
   },
   "outputs": [],
   "source": [
    "model.save(\"inception_v3.h5\")"
   ]
  },
  {
   "cell_type": "code",
   "execution_count": 50,
   "id": "107ba89b",
   "metadata": {
    "papermill": {
     "duration": 0.88181,
     "end_time": "2022-06-05T20:58:26.143966",
     "exception": false,
     "start_time": "2022-06-05T20:58:25.262156",
     "status": "completed"
    },
    "tags": []
   },
   "outputs": [
    {
     "data": {
      "image/png": "[encoded data removed]",
      "text/plain": [
       "<Figure size 720x360 with 1 Axes>"
      ]
     },
     "metadata": {
      "needs_background": "light"
     },
     "output_type": "display_data"
    },
    {
     "data": {
      "image/png": "[encoded data removed]",
      "text/plain": [
       "<Figure size 720x360 with 1 Axes>"
      ]
     },
     "metadata": {
      "needs_background": "light"
     },
     "output_type": "display_data"
    }
   ],
   "source": [
    "#plotting training values\n",
    "import matplotlib.pyplot as plt\n",
    "\n",
    "acc = history.history['accuracy']\n",
    "val_acc = history.history['val_accuracy']\n",
    "loss = history.history['loss']\n",
    "val_loss = history.history['val_loss']\n",
    "\n",
    "epochs = range(1, len(loss) + 1)\n",
    "\n",
    "#accuracy plot\n",
    "plt.figure(figsize=(10,5))\n",
    "plt.plot(epochs, acc,  label='Training Accuracy') #color='lightblue',\n",
    "plt.plot(epochs, val_acc,  label='Validation Accuracy') #color='orange',\n",
    "plt.title('Training and Validation Accuracy')\n",
    "plt.ylabel('Accuracy')\n",
    "plt.xlabel('Epoch')\n",
    "plt.legend(loc=\"best\")\n",
    "plt.grid(visible=True, which='major', color='#666666', linestyle='-')\n",
    "plt.tight_layout()\n",
    "plt.savefig('inception_weights_accuracy.png')\n",
    "\n",
    "#loss plot\n",
    "plt.figure(figsize=(10,5))\n",
    "plt.plot(epochs, loss, color='pink', label='Training Loss')\n",
    "plt.plot(epochs, val_loss, color='red', label='Validation Loss')\n",
    "plt.title('Training and Validation Loss')\n",
    "plt.xlabel('Epoch')\n",
    "plt.ylabel('Loss')\n",
    "plt.legend(loc=\"best\")\n",
    "plt.grid(visible=True, which='major', color='#666666', linestyle='-')\n",
    "plt.tight_layout()\n",
    "plt.rcParams['axes.facecolor'] = 'white'\n",
    "plt.savefig('inception_weights_loss.png')"
   ]
  },
  {
   "cell_type": "markdown",
   "id": "ba3304de",
   "metadata": {
    "papermill": {
     "duration": 0.136553,
     "end_time": "2022-06-05T20:58:26.425148",
     "exception": false,
     "start_time": "2022-06-05T20:58:26.288595",
     "status": "completed"
    },
    "tags": []
   },
   "source": [
    "# ResNet"
   ]
  },
  {
   "cell_type": "code",
   "execution_count": 51,
   "id": "a06265d2",
   "metadata": {
    "papermill": {
     "duration": 0.453255,
     "end_time": "2022-06-05T20:58:27.018509",
     "exception": false,
     "start_time": "2022-06-05T20:58:26.565254",
     "status": "completed"
    },
    "tags": []
   },
   "outputs": [
    {
     "name": "stdout",
     "output_type": "stream",
     "text": [
      "Found 1137 images belonging to 4 classes.\n",
      "Found 140 images belonging to 4 classes.\n",
      "Found 147 images belonging to 4 classes.\n"
     ]
    }
   ],
   "source": [
    "train_generator,validation_generator,test_generator = img_p(224,224)"
   ]
  },
  {
   "cell_type": "code",
   "execution_count": 52,
   "id": "cfa72a5a",
   "metadata": {
    "papermill": {
     "duration": 6.613272,
     "end_time": "2022-06-05T20:58:33.768338",
     "exception": false,
     "start_time": "2022-06-05T20:58:27.155066",
     "status": "completed"
    },
    "tags": []
   },
   "outputs": [],
   "source": [
    "resnet_m = ResNet50(input_shape=(224, 224, 3), weights='imagenet', include_top=True)"
   ]
  },
  {
   "cell_type": "code",
   "execution_count": 53,
   "id": "f9cbb297",
   "metadata": {
    "papermill": {
     "duration": 0.168632,
     "end_time": "2022-06-05T20:58:34.070058",
     "exception": false,
     "start_time": "2022-06-05T20:58:33.901426",
     "status": "completed"
    },
    "scrolled": true,
    "tags": []
   },
   "outputs": [
    {
     "name": "stdout",
     "output_type": "stream",
     "text": [
      "Model: \"resnet50\"\n",
      "__________________________________________________________________________________________________\n",
      " Layer (type)                   Output Shape         Param #     Connected to                     \n",
      "==================================================================================================\n",
      " input_3 (InputLayer)           [(None, 224, 224, 3  0           []                               \n",
      "                                )]                                                                \n",
      "                                                                                                  \n",
      " conv1_pad (ZeroPadding2D)      (None, 230, 230, 3)  0           ['input_3[0][0]']                \n",
      "                                                                                                  \n",
      " conv1_conv (Conv2D)            (None, 112, 112, 64  9472        ['conv1_pad[0][0]']              \n",
      "                                )                                                                 \n",
      "                                                                                                  \n",
      " conv1_bn (BatchNormalization)  (None, 112, 112, 64  256         ['conv1_conv[0][0]']             \n",
      "                                )                                                                 \n",
      "                                                                                                  \n",
      " conv1_relu (Activation)        (None, 112, 112, 64  0           ['conv1_bn[0][0]']               \n",
      "                                )                                                                 \n",
      "                                                                                                  \n",
      " pool1_pad (ZeroPadding2D)      (None, 114, 114, 64  0           ['conv1_relu[0][0]']             \n",
      "                                )                                                                 \n",
      "                                                                                                  \n",
      " pool1_pool (MaxPooling2D)      (None, 56, 56, 64)   0           ['pool1_pad[0][0]']              \n",
      "                                                                                                  \n",
      " conv2_block1_1_conv (Conv2D)   (None, 56, 56, 64)   4160        ['pool1_pool[0][0]']             \n",
      "                                                                                                  \n",
      " conv2_block1_1_bn (BatchNormal  (None, 56, 56, 64)  256         ['conv2_block1_1_conv[0][0]']    \n",
      " ization)                                                                                         \n",
      "                                                                                                  \n",
      " conv2_block1_1_relu (Activatio  (None, 56, 56, 64)  0           ['conv2_block1_1_bn[0][0]']      \n",
      " n)                                                                                               \n",
      "                                                                                                  \n",
      " conv2_block1_2_conv (Conv2D)   (None, 56, 56, 64)   36928       ['conv2_block1_1_relu[0][0]']    \n",
      "                                                                                                  \n",
      " conv2_block1_2_bn (BatchNormal  (None, 56, 56, 64)  256         ['conv2_block1_2_conv[0][0]']    \n",
      " ization)                                                                                         \n",
      "                                                                                                  \n",
      " conv2_block1_2_relu (Activatio  (None, 56, 56, 64)  0           ['conv2_block1_2_bn[0][0]']      \n",
      " n)                                                                                               \n",
      "                                                                                                  \n",
      " conv2_block1_0_conv (Conv2D)   (None, 56, 56, 256)  16640       ['pool1_pool[0][0]']             \n",
      "                                                                                                  \n",
      " conv2_block1_3_conv (Conv2D)   (None, 56, 56, 256)  16640       ['conv2_block1_2_relu[0][0]']    \n",
      "                                                                                                  \n",
      " conv2_block1_0_bn (BatchNormal  (None, 56, 56, 256)  1024       ['conv2_block1_0_conv[0][0]']    \n",
      " ization)                                                                                         \n",
      "                                                                                                  \n",
      " conv2_block1_3_bn (BatchNormal  (None, 56, 56, 256)  1024       ['conv2_block1_3_conv[0][0]']    \n",
      " ization)                                                                                         \n",
      "                                                                                                  \n",
      " conv2_block1_add (Add)         (None, 56, 56, 256)  0           ['conv2_block1_0_bn[0][0]',      \n",
      "                                                                  'conv2_block1_3_bn[0][0]']      \n",
      "                                                                                                  \n",
      " conv2_block1_out (Activation)  (None, 56, 56, 256)  0           ['conv2_block1_add[0][0]']       \n",
      "                                                                                                  \n",
      " conv2_block2_1_conv (Conv2D)   (None, 56, 56, 64)   16448       ['conv2_block1_out[0][0]']       \n",
      "                                                                                                  \n",
      " conv2_block2_1_bn (BatchNormal  (None, 56, 56, 64)  256         ['conv2_block2_1_conv[0][0]']    \n",
      " ization)                                                                                         \n",
      "                                                                                                  \n",
      " conv2_block2_1_relu (Activatio  (None, 56, 56, 64)  0           ['conv2_block2_1_bn[0][0]']      \n",
      " n)                                                                                               \n",
      "                                                                                                  \n",
      " conv2_block2_2_conv (Conv2D)   (None, 56, 56, 64)   36928       ['conv2_block2_1_relu[0][0]']    \n",
      "                                                                                                  \n",
      " conv2_block2_2_bn (BatchNormal  (None, 56, 56, 64)  256         ['conv2_block2_2_conv[0][0]']    \n",
      " ization)                                                                                         \n",
      "                                                                                                  \n",
      " conv2_block2_2_relu (Activatio  (None, 56, 56, 64)  0           ['conv2_block2_2_bn[0][0]']      \n",
      " n)                                                                                               \n",
      "                                                                                                  \n",
      " conv2_block2_3_conv (Conv2D)   (None, 56, 56, 256)  16640       ['conv2_block2_2_relu[0][0]']    \n",
      "                                                                                                  \n",
      " conv2_block2_3_bn (BatchNormal  (None, 56, 56, 256)  1024       ['conv2_block2_3_conv[0][0]']    \n",
      " ization)                                                                                         \n",
      "                                                                                                  \n",
      " conv2_block2_add (Add)         (None, 56, 56, 256)  0           ['conv2_block1_out[0][0]',       \n",
      "                                                                  'conv2_block2_3_bn[0][0]']      \n",
      "                                                                                                  \n",
      " conv2_block2_out (Activation)  (None, 56, 56, 256)  0           ['conv2_block2_add[0][0]']       \n",
      "                                                                                                  \n",
      " conv2_block3_1_conv (Conv2D)   (None, 56, 56, 64)   16448       ['conv2_block2_out[0][0]']       \n",
      "                                                                                                  \n",
      " conv2_block3_1_bn (BatchNormal  (None, 56, 56, 64)  256         ['conv2_block3_1_conv[0][0]']    \n",
      " ization)                                                                                         \n",
      "                                                                                                  \n",
      " conv2_block3_1_relu (Activatio  (None, 56, 56, 64)  0           ['conv2_block3_1_bn[0][0]']      \n",
      " n)                                                                                               \n",
      "                                                                                                  \n",
      " conv2_block3_2_conv (Conv2D)   (None, 56, 56, 64)   36928       ['conv2_block3_1_relu[0][0]']    \n",
      "                                                                                                  \n",
      " conv2_block3_2_bn (BatchNormal  (None, 56, 56, 64)  256         ['conv2_block3_2_conv[0][0]']    \n",
      " ization)                                                                                         \n",
      "                                                                                                  \n",
      " conv2_block3_2_relu (Activatio  (None, 56, 56, 64)  0           ['conv2_block3_2_bn[0][0]']      \n",
      " n)                                                                                               \n",
      "                                                                                                  \n",
      " conv2_block3_3_conv (Conv2D)   (None, 56, 56, 256)  16640       ['conv2_block3_2_relu[0][0]']    \n",
      "                                                                                                  \n",
      " conv2_block3_3_bn (BatchNormal  (None, 56, 56, 256)  1024       ['conv2_block3_3_conv[0][0]']    \n",
      " ization)                                                                                         \n",
      "                                                                                                  \n",
      " conv2_block3_add (Add)         (None, 56, 56, 256)  0           ['conv2_block2_out[0][0]',       \n",
      "                                                                  'conv2_block3_3_bn[0][0]']      \n",
      "                                                                                                  \n",
      " conv2_block3_out (Activation)  (None, 56, 56, 256)  0           ['conv2_block3_add[0][0]']       \n",
      "                                                                                                  \n",
      " conv3_block1_1_conv (Conv2D)   (None, 28, 28, 128)  32896       ['conv2_block3_out[0][0]']       \n",
      "                                                                                                  \n",
      " conv3_block1_1_bn (BatchNormal  (None, 28, 28, 128)  512        ['conv3_block1_1_conv[0][0]']    \n",
      " ization)                                                                                         \n",
      "                                                                                                  \n",
      " conv3_block1_1_relu (Activatio  (None, 28, 28, 128)  0          ['conv3_block1_1_bn[0][0]']      \n",
      " n)                                                                                               \n",
      "                                                                                                  \n",
      " conv3_block1_2_conv (Conv2D)   (None, 28, 28, 128)  147584      ['conv3_block1_1_relu[0][0]']    \n",
      "                                                                                                  \n",
      " conv3_block1_2_bn (BatchNormal  (None, 28, 28, 128)  512        ['conv3_block1_2_conv[0][0]']    \n",
      " ization)                                                                                         \n",
      "                                                                                                  \n",
      " conv3_block1_2_relu (Activatio  (None, 28, 28, 128)  0          ['conv3_block1_2_bn[0][0]']      \n",
      " n)                                                                                               \n",
      "                                                                                                  \n",
      " conv3_block1_0_conv (Conv2D)   (None, 28, 28, 512)  131584      ['conv2_block3_out[0][0]']       \n",
      "                                                                                                  \n",
      " conv3_block1_3_conv (Conv2D)   (None, 28, 28, 512)  66048       ['conv3_block1_2_relu[0][0]']    \n",
      "                                                                                                  \n",
      " conv3_block1_0_bn (BatchNormal  (None, 28, 28, 512)  2048       ['conv3_block1_0_conv[0][0]']    \n",
      " ization)                                                                                         \n",
      "                                                                                                  \n",
      " conv3_block1_3_bn (BatchNormal  (None, 28, 28, 512)  2048       ['conv3_block1_3_conv[0][0]']    \n",
      " ization)                                                                                         \n",
      "                                                                                                  \n",
      " conv3_block1_add (Add)         (None, 28, 28, 512)  0           ['conv3_block1_0_bn[0][0]',      \n",
      "                                                                  'conv3_block1_3_bn[0][0]']      \n",
      "                                                                                                  \n",
      " conv3_block1_out (Activation)  (None, 28, 28, 512)  0           ['conv3_block1_add[0][0]']       \n",
      "                                                                                                  \n",
      " conv3_block2_1_conv (Conv2D)   (None, 28, 28, 128)  65664       ['conv3_block1_out[0][0]']       \n",
      "                                                                                                  \n",
      " conv3_block2_1_bn (BatchNormal  (None, 28, 28, 128)  512        ['conv3_block2_1_conv[0][0]']    \n",
      " ization)                                                                                         \n",
      "                                                                                                  \n",
      " conv3_block2_1_relu (Activatio  (None, 28, 28, 128)  0          ['conv3_block2_1_bn[0][0]']      \n",
      " n)                                                                                               \n",
      "                                                                                                  \n",
      " conv3_block2_2_conv (Conv2D)   (None, 28, 28, 128)  147584      ['conv3_block2_1_relu[0][0]']    \n",
      "                                                                                                  \n",
      " conv3_block2_2_bn (BatchNormal  (None, 28, 28, 128)  512        ['conv3_block2_2_conv[0][0]']    \n",
      " ization)                                                                                         \n",
      "                                                                                                  \n",
      " conv3_block2_2_relu (Activatio  (None, 28, 28, 128)  0          ['conv3_block2_2_bn[0][0]']      \n",
      " n)                                                                                               \n",
      "                                                                                                  \n",
      " conv3_block2_3_conv (Conv2D)   (None, 28, 28, 512)  66048       ['conv3_block2_2_relu[0][0]']    \n",
      "                                                                                                  \n",
      " conv3_block2_3_bn (BatchNormal  (None, 28, 28, 512)  2048       ['conv3_block2_3_conv[0][0]']    \n",
      " ization)                                                                                         \n",
      "                                                                                                  \n",
      " conv3_block2_add (Add)         (None, 28, 28, 512)  0           ['conv3_block1_out[0][0]',       \n",
      "                                                                  'conv3_block2_3_bn[0][0]']      \n",
      "                                                                                                  \n",
      " conv3_block2_out (Activation)  (None, 28, 28, 512)  0           ['conv3_block2_add[0][0]']       \n",
      "                                                                                                  \n",
      " conv3_block3_1_conv (Conv2D)   (None, 28, 28, 128)  65664       ['conv3_block2_out[0][0]']       \n",
      "                                                                                                  \n",
      " conv3_block3_1_bn (BatchNormal  (None, 28, 28, 128)  512        ['conv3_block3_1_conv[0][0]']    \n",
      " ization)                                                                                         \n",
      "                                                                                                  \n",
      " conv3_block3_1_relu (Activatio  (None, 28, 28, 128)  0          ['conv3_block3_1_bn[0][0]']      \n",
      " n)                                                                                               \n",
      "                                                                                                  \n",
      " conv3_block3_2_conv (Conv2D)   (None, 28, 28, 128)  147584      ['conv3_block3_1_relu[0][0]']    \n",
      "                                                                                                  \n",
      " conv3_block3_2_bn (BatchNormal  (None, 28, 28, 128)  512        ['conv3_block3_2_conv[0][0]']    \n",
      " ization)                                                                                         \n",
      "                                                                                                  \n",
      " conv3_block3_2_relu (Activatio  (None, 28, 28, 128)  0          ['conv3_block3_2_bn[0][0]']      \n",
      " n)                                                                                               \n",
      "                                                                                                  \n",
      " conv3_block3_3_conv (Conv2D)   (None, 28, 28, 512)  66048       ['conv3_block3_2_relu[0][0]']    \n",
      "                                                                                                  \n",
      " conv3_block3_3_bn (BatchNormal  (None, 28, 28, 512)  2048       ['conv3_block3_3_conv[0][0]']    \n",
      " ization)                                                                                         \n",
      "                                                                                                  \n",
      " conv3_block3_add (Add)         (None, 28, 28, 512)  0           ['conv3_block2_out[0][0]',       \n",
      "                                                                  'conv3_block3_3_bn[0][0]']      \n",
      "                                                                                                  \n",
      " conv3_block3_out (Activation)  (None, 28, 28, 512)  0           ['conv3_block3_add[0][0]']       \n",
      "                                                                                                  \n",
      " conv3_block4_1_conv (Conv2D)   (None, 28, 28, 128)  65664       ['conv3_block3_out[0][0]']       \n",
      "                                                                                                  \n",
      " conv3_block4_1_bn (BatchNormal  (None, 28, 28, 128)  512        ['conv3_block4_1_conv[0][0]']    \n",
      " ization)                                                                                         \n",
      "                                                                                                  \n",
      " conv3_block4_1_relu (Activatio  (None, 28, 28, 128)  0          ['conv3_block4_1_bn[0][0]']      \n",
      " n)                                                                                               \n",
      "                                                                                                  \n",
      " conv3_block4_2_conv (Conv2D)   (None, 28, 28, 128)  147584      ['conv3_block4_1_relu[0][0]']    \n",
      "                                                                                                  \n",
      " conv3_block4_2_bn (BatchNormal  (None, 28, 28, 128)  512        ['conv3_block4_2_conv[0][0]']    \n",
      " ization)                                                                                         \n",
      "                                                                                                  \n",
      " conv3_block4_2_relu (Activatio  (None, 28, 28, 128)  0          ['conv3_block4_2_bn[0][0]']      \n",
      " n)                                                                                               \n",
      "                                                                                                  \n",
      " conv3_block4_3_conv (Conv2D)   (None, 28, 28, 512)  66048       ['conv3_block4_2_relu[0][0]']    \n",
      "                                                                                                  \n",
      " conv3_block4_3_bn (BatchNormal  (None, 28, 28, 512)  2048       ['conv3_block4_3_conv[0][0]']    \n",
      " ization)                                                                                         \n",
      "                                                                                                  \n",
      " conv3_block4_add (Add)         (None, 28, 28, 512)  0           ['conv3_block3_out[0][0]',       \n",
      "                                                                  'conv3_block4_3_bn[0][0]']      \n",
      "                                                                                                  \n",
      " conv3_block4_out (Activation)  (None, 28, 28, 512)  0           ['conv3_block4_add[0][0]']       \n",
      "                                                                                                  \n",
      " conv4_block1_1_conv (Conv2D)   (None, 14, 14, 256)  131328      ['conv3_block4_out[0][0]']       \n",
      "                                                                                                  \n",
      " conv4_block1_1_bn (BatchNormal  (None, 14, 14, 256)  1024       ['conv4_block1_1_conv[0][0]']    \n",
      " ization)                                                                                         \n",
      "                                                                                                  \n",
      " conv4_block1_1_relu (Activatio  (None, 14, 14, 256)  0          ['conv4_block1_1_bn[0][0]']      \n",
      " n)                                                                                               \n",
      "                                                                                                  \n",
      " conv4_block1_2_conv (Conv2D)   (None, 14, 14, 256)  590080      ['conv4_block1_1_relu[0][0]']    \n",
      "                                                                                                  \n",
      " conv4_block1_2_bn (BatchNormal  (None, 14, 14, 256)  1024       ['conv4_block1_2_conv[0][0]']    \n",
      " ization)                                                                                         \n",
      "                                                                                                  \n",
      " conv4_block1_2_relu (Activatio  (None, 14, 14, 256)  0          ['conv4_block1_2_bn[0][0]']      \n",
      " n)                                                                                               \n",
      "                                                                                                  \n",
      " conv4_block1_0_conv (Conv2D)   (None, 14, 14, 1024  525312      ['conv3_block4_out[0][0]']       \n",
      "                                )                                                                 \n",
      "                                                                                                  \n",
      " conv4_block1_3_conv (Conv2D)   (None, 14, 14, 1024  263168      ['conv4_block1_2_relu[0][0]']    \n",
      "                                )                                                                 \n",
      "                                                                                                  \n",
      " conv4_block1_0_bn (BatchNormal  (None, 14, 14, 1024  4096       ['conv4_block1_0_conv[0][0]']    \n",
      " ization)                       )                                                                 \n",
      "                                                                                                  \n",
      " conv4_block1_3_bn (BatchNormal  (None, 14, 14, 1024  4096       ['conv4_block1_3_conv[0][0]']    \n",
      " ization)                       )                                                                 \n",
      "                                                                                                  \n",
      " conv4_block1_add (Add)         (None, 14, 14, 1024  0           ['conv4_block1_0_bn[0][0]',      \n",
      "                                )                                 'conv4_block1_3_bn[0][0]']      \n",
      "                                                                                                  \n",
      " conv4_block1_out (Activation)  (None, 14, 14, 1024  0           ['conv4_block1_add[0][0]']       \n",
      "                                )                                                                 \n",
      "                                                                                                  \n",
      " conv4_block2_1_conv (Conv2D)   (None, 14, 14, 256)  262400      ['conv4_block1_out[0][0]']       \n",
      "                                                                                                  \n",
      " conv4_block2_1_bn (BatchNormal  (None, 14, 14, 256)  1024       ['conv4_block2_1_conv[0][0]']    \n",
      " ization)                                                                                         \n",
      "                                                                                                  \n",
      " conv4_block2_1_relu (Activatio  (None, 14, 14, 256)  0          ['conv4_block2_1_bn[0][0]']      \n",
      " n)                                                                                               \n",
      "                                                                                                  \n",
      " conv4_block2_2_conv (Conv2D)   (None, 14, 14, 256)  590080      ['conv4_block2_1_relu[0][0]']    \n",
      "                                                                                                  \n",
      " conv4_block2_2_bn (BatchNormal  (None, 14, 14, 256)  1024       ['conv4_block2_2_conv[0][0]']    \n",
      " ization)                                                                                         \n",
      "                                                                                                  \n",
      " conv4_block2_2_relu (Activatio  (None, 14, 14, 256)  0          ['conv4_block2_2_bn[0][0]']      \n",
      " n)                                                                                               \n",
      "                                                                                                  \n",
      " conv4_block2_3_conv (Conv2D)   (None, 14, 14, 1024  263168      ['conv4_block2_2_relu[0][0]']    \n",
      "                                )                                                                 \n",
      "                                                                                                  \n",
      " conv4_block2_3_bn (BatchNormal  (None, 14, 14, 1024  4096       ['conv4_block2_3_conv[0][0]']    \n",
      " ization)                       )                                                                 \n",
      "                                                                                                  \n",
      " conv4_block2_add (Add)         (None, 14, 14, 1024  0           ['conv4_block1_out[0][0]',       \n",
      "                                )                                 'conv4_block2_3_bn[0][0]']      \n",
      "                                                                                                  \n",
      " conv4_block2_out (Activation)  (None, 14, 14, 1024  0           ['conv4_block2_add[0][0]']       \n",
      "                                )                                                                 \n",
      "                                                                                                  \n",
      " conv4_block3_1_conv (Conv2D)   (None, 14, 14, 256)  262400      ['conv4_block2_out[0][0]']       \n",
      "                                                                                                  \n",
      " conv4_block3_1_bn (BatchNormal  (None, 14, 14, 256)  1024       ['conv4_block3_1_conv[0][0]']    \n",
      " ization)                                                                                         \n",
      "                                                                                                  \n",
      " conv4_block3_1_relu (Activatio  (None, 14, 14, 256)  0          ['conv4_block3_1_bn[0][0]']      \n",
      " n)                                                                                               \n",
      "                                                                                                  \n",
      " conv4_block3_2_conv (Conv2D)   (None, 14, 14, 256)  590080      ['conv4_block3_1_relu[0][0]']    \n",
      "                                                                                                  \n",
      " conv4_block3_2_bn (BatchNormal  (None, 14, 14, 256)  1024       ['conv4_block3_2_conv[0][0]']    \n",
      " ization)                                                                                         \n",
      "                                                                                                  \n",
      " conv4_block3_2_relu (Activatio  (None, 14, 14, 256)  0          ['conv4_block3_2_bn[0][0]']      \n",
      " n)                                                                                               \n",
      "                                                                                                  \n",
      " conv4_block3_3_conv (Conv2D)   (None, 14, 14, 1024  263168      ['conv4_block3_2_relu[0][0]']    \n",
      "                                )                                                                 \n",
      "                                                                                                  \n",
      " conv4_block3_3_bn (BatchNormal  (None, 14, 14, 1024  4096       ['conv4_block3_3_conv[0][0]']    \n",
      " ization)                       )                                                                 \n",
      "                                                                                                  \n",
      " conv4_block3_add (Add)         (None, 14, 14, 1024  0           ['conv4_block2_out[0][0]',       \n",
      "                                )                                 'conv4_block3_3_bn[0][0]']      \n",
      "                                                                                                  \n",
      " conv4_block3_out (Activation)  (None, 14, 14, 1024  0           ['conv4_block3_add[0][0]']       \n",
      "                                )                                                                 \n",
      "                                                                                                  \n",
      " conv4_block4_1_conv (Conv2D)   (None, 14, 14, 256)  262400      ['conv4_block3_out[0][0]']       \n",
      "                                                                                                  \n",
      " conv4_block4_1_bn (BatchNormal  (None, 14, 14, 256)  1024       ['conv4_block4_1_conv[0][0]']    \n",
      " ization)                                                                                         \n",
      "                                                                                                  \n",
      " conv4_block4_1_relu (Activatio  (None, 14, 14, 256)  0          ['conv4_block4_1_bn[0][0]']      \n",
      " n)                                                                                               \n",
      "                                                                                                  \n",
      " conv4_block4_2_conv (Conv2D)   (None, 14, 14, 256)  590080      ['conv4_block4_1_relu[0][0]']    \n",
      "                                                                                                  \n",
      " conv4_block4_2_bn (BatchNormal  (None, 14, 14, 256)  1024       ['conv4_block4_2_conv[0][0]']    \n",
      " ization)                                                                                         \n",
      "                                                                                                  \n",
      " conv4_block4_2_relu (Activatio  (None, 14, 14, 256)  0          ['conv4_block4_2_bn[0][0]']      \n",
      " n)                                                                                               \n",
      "                                                                                                  \n",
      " conv4_block4_3_conv (Conv2D)   (None, 14, 14, 1024  263168      ['conv4_block4_2_relu[0][0]']    \n",
      "                                )                                                                 \n",
      "                                                                                                  \n",
      " conv4_block4_3_bn (BatchNormal  (None, 14, 14, 1024  4096       ['conv4_block4_3_conv[0][0]']    \n",
      " ization)                       )                                                                 \n",
      "                                                                                                  \n",
      " conv4_block4_add (Add)         (None, 14, 14, 1024  0           ['conv4_block3_out[0][0]',       \n",
      "                                )                                 'conv4_block4_3_bn[0][0]']      \n",
      "                                                                                                  \n",
      " conv4_block4_out (Activation)  (None, 14, 14, 1024  0           ['conv4_block4_add[0][0]']       \n",
      "                                )                                                                 \n",
      "                                                                                                  \n",
      " conv4_block5_1_conv (Conv2D)   (None, 14, 14, 256)  262400      ['conv4_block4_out[0][0]']       \n",
      "                                                                                                  \n",
      " conv4_block5_1_bn (BatchNormal  (None, 14, 14, 256)  1024       ['conv4_block5_1_conv[0][0]']    \n",
      " ization)                                                                                         \n",
      "                                                                                                  \n",
      " conv4_block5_1_relu (Activatio  (None, 14, 14, 256)  0          ['conv4_block5_1_bn[0][0]']      \n",
      " n)                                                                                               \n",
      "                                                                                                  \n",
      " conv4_block5_2_conv (Conv2D)   (None, 14, 14, 256)  590080      ['conv4_block5_1_relu[0][0]']    \n",
      "                                                                                                  \n",
      " conv4_block5_2_bn (BatchNormal  (None, 14, 14, 256)  1024       ['conv4_block5_2_conv[0][0]']    \n",
      " ization)                                                                                         \n",
      "                                                                                                  \n",
      " conv4_block5_2_relu (Activatio  (None, 14, 14, 256)  0          ['conv4_block5_2_bn[0][0]']      \n",
      " n)                                                                                               \n",
      "                                                                                                  \n",
      " conv4_block5_3_conv (Conv2D)   (None, 14, 14, 1024  263168      ['conv4_block5_2_relu[0][0]']    \n",
      "                                )                                                                 \n",
      "                                                                                                  \n",
      " conv4_block5_3_bn (BatchNormal  (None, 14, 14, 1024  4096       ['conv4_block5_3_conv[0][0]']    \n",
      " ization)                       )                                                                 \n",
      "                                                                                                  \n",
      " conv4_block5_add (Add)         (None, 14, 14, 1024  0           ['conv4_block4_out[0][0]',       \n",
      "                                )                                 'conv4_block5_3_bn[0][0]']      \n",
      "                                                                                                  \n",
      " conv4_block5_out (Activation)  (None, 14, 14, 1024  0           ['conv4_block5_add[0][0]']       \n",
      "                                )                                                                 \n",
      "                                                                                                  \n",
      " conv4_block6_1_conv (Conv2D)   (None, 14, 14, 256)  262400      ['conv4_block5_out[0][0]']       \n",
      "                                                                                                  \n",
      " conv4_block6_1_bn (BatchNormal  (None, 14, 14, 256)  1024       ['conv4_block6_1_conv[0][0]']    \n",
      " ization)                                                                                         \n",
      "                                                                                                  \n",
      " conv4_block6_1_relu (Activatio  (None, 14, 14, 256)  0          ['conv4_block6_1_bn[0][0]']      \n",
      " n)                                                                                               \n",
      "                                                                                                  \n",
      " conv4_block6_2_conv (Conv2D)   (None, 14, 14, 256)  590080      ['conv4_block6_1_relu[0][0]']    \n",
      "                                                                                                  \n",
      " conv4_block6_2_bn (BatchNormal  (None, 14, 14, 256)  1024       ['conv4_block6_2_conv[0][0]']    \n",
      " ization)                                                                                         \n",
      "                                                                                                  \n",
      " conv4_block6_2_relu (Activatio  (None, 14, 14, 256)  0          ['conv4_block6_2_bn[0][0]']      \n",
      " n)                                                                                               \n",
      "                                                                                                  \n",
      " conv4_block6_3_conv (Conv2D)   (None, 14, 14, 1024  263168      ['conv4_block6_2_relu[0][0]']    \n",
      "                                )                                                                 \n",
      "                                                                                                  \n",
      " conv4_block6_3_bn (BatchNormal  (None, 14, 14, 1024  4096       ['conv4_block6_3_conv[0][0]']    \n",
      " ization)                       )                                                                 \n",
      "                                                                                                  \n",
      " conv4_block6_add (Add)         (None, 14, 14, 1024  0           ['conv4_block5_out[0][0]',       \n",
      "                                )                                 'conv4_block6_3_bn[0][0]']      \n",
      "                                                                                                  \n",
      " conv4_block6_out (Activation)  (None, 14, 14, 1024  0           ['conv4_block6_add[0][0]']       \n",
      "                                )                                                                 \n",
      "                                                                                                  \n",
      " conv5_block1_1_conv (Conv2D)   (None, 7, 7, 512)    524800      ['conv4_block6_out[0][0]']       \n",
      "                                                                                                  \n",
      " conv5_block1_1_bn (BatchNormal  (None, 7, 7, 512)   2048        ['conv5_block1_1_conv[0][0]']    \n",
      " ization)                                                                                         \n",
      "                                                                                                  \n",
      " conv5_block1_1_relu (Activatio  (None, 7, 7, 512)   0           ['conv5_block1_1_bn[0][0]']      \n",
      " n)                                                                                               \n",
      "                                                                                                  \n",
      " conv5_block1_2_conv (Conv2D)   (None, 7, 7, 512)    2359808     ['conv5_block1_1_relu[0][0]']    \n",
      "                                                                                                  \n",
      " conv5_block1_2_bn (BatchNormal  (None, 7, 7, 512)   2048        ['conv5_block1_2_conv[0][0]']    \n",
      " ization)                                                                                         \n",
      "                                                                                                  \n",
      " conv5_block1_2_relu (Activatio  (None, 7, 7, 512)   0           ['conv5_block1_2_bn[0][0]']      \n",
      " n)                                                                                               \n",
      "                                                                                                  \n",
      " conv5_block1_0_conv (Conv2D)   (None, 7, 7, 2048)   2099200     ['conv4_block6_out[0][0]']       \n",
      "                                                                                                  \n",
      " conv5_block1_3_conv (Conv2D)   (None, 7, 7, 2048)   1050624     ['conv5_block1_2_relu[0][0]']    \n",
      "                                                                                                  \n",
      " conv5_block1_0_bn (BatchNormal  (None, 7, 7, 2048)  8192        ['conv5_block1_0_conv[0][0]']    \n",
      " ization)                                                                                         \n",
      "                                                                                                  \n",
      " conv5_block1_3_bn (BatchNormal  (None, 7, 7, 2048)  8192        ['conv5_block1_3_conv[0][0]']    \n",
      " ization)                                                                                         \n",
      "                                                                                                  \n",
      " conv5_block1_add (Add)         (None, 7, 7, 2048)   0           ['conv5_block1_0_bn[0][0]',      \n",
      "                                                                  'conv5_block1_3_bn[0][0]']      \n",
      "                                                                                                  \n",
      " conv5_block1_out (Activation)  (None, 7, 7, 2048)   0           ['conv5_block1_add[0][0]']       \n",
      "                                                                                                  \n",
      " conv5_block2_1_conv (Conv2D)   (None, 7, 7, 512)    1049088     ['conv5_block1_out[0][0]']       \n",
      "                                                                                                  \n",
      " conv5_block2_1_bn (BatchNormal  (None, 7, 7, 512)   2048        ['conv5_block2_1_conv[0][0]']    \n",
      " ization)                                                                                         \n",
      "                                                                                                  \n",
      " conv5_block2_1_relu (Activatio  (None, 7, 7, 512)   0           ['conv5_block2_1_bn[0][0]']      \n",
      " n)                                                                                               \n",
      "                                                                                                  \n",
      " conv5_block2_2_conv (Conv2D)   (None, 7, 7, 512)    2359808     ['conv5_block2_1_relu[0][0]']    \n",
      "                                                                                                  \n",
      " conv5_block2_2_bn (BatchNormal  (None, 7, 7, 512)   2048        ['conv5_block2_2_conv[0][0]']    \n",
      " ization)                                                                                         \n",
      "                                                                                                  \n",
      " conv5_block2_2_relu (Activatio  (None, 7, 7, 512)   0           ['conv5_block2_2_bn[0][0]']      \n",
      " n)                                                                                               \n",
      "                                                                                                  \n",
      " conv5_block2_3_conv (Conv2D)   (None, 7, 7, 2048)   1050624     ['conv5_block2_2_relu[0][0]']    \n",
      "                                                                                                  \n",
      " conv5_block2_3_bn (BatchNormal  (None, 7, 7, 2048)  8192        ['conv5_block2_3_conv[0][0]']    \n",
      " ization)                                                                                         \n",
      "                                                                                                  \n",
      " conv5_block2_add (Add)         (None, 7, 7, 2048)   0           ['conv5_block1_out[0][0]',       \n",
      "                                                                  'conv5_block2_3_bn[0][0]']      \n",
      "                                                                                                  \n",
      " conv5_block2_out (Activation)  (None, 7, 7, 2048)   0           ['conv5_block2_add[0][0]']       \n",
      "                                                                                                  \n",
      " conv5_block3_1_conv (Conv2D)   (None, 7, 7, 512)    1049088     ['conv5_block2_out[0][0]']       \n",
      "                                                                                                  \n",
      " conv5_block3_1_bn (BatchNormal  (None, 7, 7, 512)   2048        ['conv5_block3_1_conv[0][0]']    \n",
      " ization)                                                                                         \n",
      "                                                                                                  \n",
      " conv5_block3_1_relu (Activatio  (None, 7, 7, 512)   0           ['conv5_block3_1_bn[0][0]']      \n",
      " n)                                                                                               \n",
      "                                                                                                  \n",
      " conv5_block3_2_conv (Conv2D)   (None, 7, 7, 512)    2359808     ['conv5_block3_1_relu[0][0]']    \n",
      "                                                                                                  \n",
      " conv5_block3_2_bn (BatchNormal  (None, 7, 7, 512)   2048        ['conv5_block3_2_conv[0][0]']    \n",
      " ization)                                                                                         \n",
      "                                                                                                  \n",
      " conv5_block3_2_relu (Activatio  (None, 7, 7, 512)   0           ['conv5_block3_2_bn[0][0]']      \n",
      " n)                                                                                               \n",
      "                                                                                                  \n",
      " conv5_block3_3_conv (Conv2D)   (None, 7, 7, 2048)   1050624     ['conv5_block3_2_relu[0][0]']    \n",
      "                                                                                                  \n",
      " conv5_block3_3_bn (BatchNormal  (None, 7, 7, 2048)  8192        ['conv5_block3_3_conv[0][0]']    \n",
      " ization)                                                                                         \n",
      "                                                                                                  \n",
      " conv5_block3_add (Add)         (None, 7, 7, 2048)   0           ['conv5_block2_out[0][0]',       \n",
      "                                                                  'conv5_block3_3_bn[0][0]']      \n",
      "                                                                                                  \n",
      " conv5_block3_out (Activation)  (None, 7, 7, 2048)   0           ['conv5_block3_add[0][0]']       \n",
      "                                                                                                  \n",
      " avg_pool (GlobalAveragePooling  (None, 2048)        0           ['conv5_block3_out[0][0]']       \n",
      " 2D)                                                                                              \n",
      "                                                                                                  \n",
      " predictions (Dense)            (None, 1000)         2049000     ['avg_pool[0][0]']               \n",
      "                                                                                                  \n",
      "==================================================================================================\n",
      "Total params: 25,636,712\n",
      "Trainable params: 25,583,592\n",
      "Non-trainable params: 53,120\n",
      "__________________________________________________________________________________________________\n"
     ]
    }
   ],
   "source": [
    "resnet_m.summary()"
   ]
  },
  {
   "cell_type": "code",
   "execution_count": 54,
   "id": "846e8ba1",
   "metadata": {
    "papermill": {
     "duration": 0.159219,
     "end_time": "2022-06-05T20:58:34.364921",
     "exception": false,
     "start_time": "2022-06-05T20:58:34.205702",
     "status": "completed"
    },
    "tags": []
   },
   "outputs": [],
   "source": [
    "x = resnet_m.layers[-2].output\n",
    "x = layers.Dense(1024, activation='relu')(x)\n",
    "x = layers.Dense (4, activation='softmax')(x)"
   ]
  },
  {
   "cell_type": "code",
   "execution_count": 55,
   "id": "5754ce81",
   "metadata": {
    "papermill": {
     "duration": 0.167647,
     "end_time": "2022-06-05T20:58:34.667101",
     "exception": false,
     "start_time": "2022-06-05T20:58:34.499454",
     "status": "completed"
    },
    "tags": []
   },
   "outputs": [],
   "source": [
    "resnet_m = Model(inputs=resnet_m.input, outputs=x)\n",
    "resnet_m.compile(optimizer = RMSprop(learning_rate=0.0001), \n",
    "              loss = 'categorical_crossentropy', \n",
    "              metrics = ['accuracy'])"
   ]
  },
  {
   "cell_type": "code",
   "execution_count": 56,
   "id": "4ccc307e",
   "metadata": {
    "papermill": {
     "duration": 298.850334,
     "end_time": "2022-06-05T21:03:33.651471",
     "exception": false,
     "start_time": "2022-06-05T20:58:34.801137",
     "status": "completed"
    },
    "tags": []
   },
   "outputs": [
    {
     "name": "stdout",
     "output_type": "stream",
     "text": [
      "Epoch 1/20\n",
      "20/20 [==============================] - 228s 11s/step - loss: 0.9047 - accuracy: 0.6448 - val_loss: 1.6290 - val_accuracy: 0.2857\n",
      "Epoch 2/20\n",
      "20/20 [==============================] - 214s 11s/step - loss: 0.6373 - accuracy: 0.7872 - val_loss: 3.2988 - val_accuracy: 0.2857\n",
      "Epoch 3/20\n",
      "20/20 [==============================] - 221s 11s/step - loss: 0.6312 - accuracy: 0.7728 - val_loss: 4.1600 - val_accuracy: 0.2857\n",
      "Epoch 4/20\n",
      "20/20 [==============================] - 215s 11s/step - loss: 0.5296 - accuracy: 0.8176 - val_loss: 5.4645 - val_accuracy: 0.2857\n",
      "Epoch 5/20\n",
      "20/20 [==============================] - 218s 11s/step - loss: 0.5162 - accuracy: 0.8304 - val_loss: 6.8352 - val_accuracy: 0.2786\n",
      "Epoch 6/20\n",
      "20/20 [==============================] - 215s 11s/step - loss: 0.4419 - accuracy: 0.8448 - val_loss: 12.9110 - val_accuracy: 0.2857\n",
      "Epoch 7/20\n",
      "20/20 [==============================] - 215s 11s/step - loss: 0.3844 - accuracy: 0.8528 - val_loss: 4.5612 - val_accuracy: 0.2857\n",
      "Epoch 8/20\n",
      "20/20 [==============================] - 214s 11s/step - loss: 0.3554 - accuracy: 0.8656 - val_loss: 11.4495 - val_accuracy: 0.2857\n",
      "Epoch 9/20\n",
      "20/20 [==============================] - 214s 11s/step - loss: 0.3779 - accuracy: 0.8688 - val_loss: 10.1731 - val_accuracy: 0.2857\n",
      "Epoch 10/20\n",
      "20/20 [==============================] - 214s 11s/step - loss: 0.3004 - accuracy: 0.8896 - val_loss: 10.6114 - val_accuracy: 0.2857\n",
      "Epoch 11/20\n",
      "20/20 [==============================] - 215s 11s/step - loss: 0.2959 - accuracy: 0.9008 - val_loss: 5.2799 - val_accuracy: 0.2857\n",
      "Epoch 12/20\n",
      "20/20 [==============================] - 219s 11s/step - loss: 0.2665 - accuracy: 0.9016 - val_loss: 5.6654 - val_accuracy: 0.2857\n",
      "Epoch 13/20\n",
      "20/20 [==============================] - 214s 11s/step - loss: 0.2504 - accuracy: 0.9184 - val_loss: 25.2275 - val_accuracy: 0.2857\n",
      "Epoch 14/20\n",
      "20/20 [==============================] - 219s 11s/step - loss: 0.2715 - accuracy: 0.9016 - val_loss: 26.7580 - val_accuracy: 0.2857\n",
      "Epoch 15/20\n",
      "20/20 [==============================] - 219s 11s/step - loss: 0.2523 - accuracy: 0.9094 - val_loss: 33.3153 - val_accuracy: 0.2857\n",
      "Epoch 16/20\n",
      "20/20 [==============================] - 218s 11s/step - loss: 0.2897 - accuracy: 0.8969 - val_loss: 49.5554 - val_accuracy: 0.2857\n",
      "Epoch 17/20\n",
      "20/20 [==============================] - 214s 11s/step - loss: 0.2089 - accuracy: 0.9344 - val_loss: 37.3820 - val_accuracy: 0.2857\n",
      "Epoch 18/20\n",
      "20/20 [==============================] - 214s 11s/step - loss: 0.1703 - accuracy: 0.9392 - val_loss: 25.2091 - val_accuracy: 0.2857\n",
      "Epoch 19/20\n",
      "20/20 [==============================] - 219s 11s/step - loss: 0.1721 - accuracy: 0.9375 - val_loss: 45.0219 - val_accuracy: 0.2857\n",
      "Epoch 20/20\n",
      "20/20 [==============================] - 218s 11s/step - loss: 0.2462 - accuracy: 0.9031 - val_loss: 31.9387 - val_accuracy: 0.3071\n"
     ]
    }
   ],
   "source": [
    "res_clf = resnet_m.fit(train_generator,\n",
    "            validation_data = validation_generator,\n",
    "            steps_per_epoch=20,\n",
    "            epochs =20,\n",
    "            validation_steps=5,\n",
    "            verbose = 1)"
   ]
  },
  {
   "cell_type": "code",
   "execution_count": 57,
   "id": "89bd58e2",
   "metadata": {
    "papermill": {
     "duration": 0.841294,
     "end_time": "2022-06-05T21:03:34.709483",
     "exception": false,
     "start_time": "2022-06-05T21:03:33.868189",
     "status": "completed"
    },
    "tags": []
   },
   "outputs": [
    {
     "data": {
      "image/png": "[encoded data removed]",
      "text/plain": [
       "<Figure size 720x360 with 1 Axes>"
      ]
     },
     "metadata": {
      "needs_background": "light"
     },
     "output_type": "display_data"
    },
    {
     "data": {
      "image/png": "[encoded data removed]",
      "text/plain": [
       "<Figure size 720x360 with 1 Axes>"
      ]
     },
     "metadata": {
      "needs_background": "light"
     },
     "output_type": "display_data"
    }
   ],
   "source": [
    "#plotting training values\n",
    "import matplotlib.pyplot as plt\n",
    "\n",
    "acc = res_clf.history['accuracy']\n",
    "val_acc = res_clf.history['val_accuracy']\n",
    "loss = res_clf.history['loss']\n",
    "val_loss = res_clf.history['val_loss']\n",
    "\n",
    "epochs = range(1, len(loss) + 1)\n",
    "\n",
    "#accuracy plot\n",
    "plt.figure(figsize=(10,5))\n",
    "plt.plot(epochs, acc,  label='Training Accuracy') #color='lightblue',\n",
    "plt.plot(epochs, val_acc,  label='Validation Accuracy') #color='orange',\n",
    "plt.title('Training and Validation Accuracy')\n",
    "plt.ylabel('Accuracy')\n",
    "plt.xlabel('Epoch')\n",
    "plt.legend(loc=\"best\")\n",
    "plt.grid(visible=True, which='major', color='#666666', linestyle='-')\n",
    "plt.tight_layout()\n",
    "plt.savefig('resnet_accuracy.png')\n",
    "\n",
    "#loss plot\n",
    "plt.figure(figsize=(10,5))\n",
    "plt.plot(epochs, loss, color='pink', label='Training Loss')\n",
    "plt.plot(epochs, val_loss, color='red', label='Validation Loss')\n",
    "plt.title('Training and Validation Loss')\n",
    "plt.xlabel('Epoch')\n",
    "plt.ylabel('Loss')\n",
    "plt.legend(loc=\"best\")\n",
    "plt.grid(visible=True, which='major', color='#666666', linestyle='-')\n",
    "plt.tight_layout()\n",
    "plt.rcParams['axes.facecolor'] = 'white'\n",
    "plt.savefig('resnet_loss.png')"
   ]
  },
  {
   "cell_type": "code",
   "execution_count": 58,
   "id": "2d1fe8cd",
   "metadata": {
    "papermill": {
     "duration": 2.097979,
     "end_time": "2022-06-05T21:03:36.967498",
     "exception": false,
     "start_time": "2022-06-05T21:03:34.869519",
     "status": "completed"
    },
    "tags": []
   },
   "outputs": [],
   "source": [
    "pre_trained_model = ResNet50(input_shape = (224,224, 3),\n",
    "                        include_top = False,\n",
    "                        weights = 'imagenet')\n",
    "\n",
    "for layer in pre_trained_model.layers:\n",
    "    layer.trainable = False"
   ]
  },
  {
   "cell_type": "code",
   "execution_count": 59,
   "id": "5fdbfe81",
   "metadata": {
    "papermill": {
     "duration": 0.590222,
     "end_time": "2022-06-05T21:03:37.720413",
     "exception": false,
     "start_time": "2022-06-05T21:03:37.130191",
     "status": "completed"
    },
    "tags": []
   },
   "outputs": [],
   "source": [
    "resNet_model = Sequential([\n",
    "        pre_trained_model,\n",
    "        Flatten(),\n",
    "        Dropout(0.5),\n",
    "        Dense(1024, activation='relu'),\n",
    "        Dense(4, activation='softmax')])"
   ]
  },
  {
   "cell_type": "code",
   "execution_count": 60,
   "id": "bc489167",
   "metadata": {
    "papermill": {
     "duration": 0.320032,
     "end_time": "2022-06-05T21:03:38.264553",
     "exception": false,
     "start_time": "2022-06-05T21:03:37.944521",
     "status": "completed"
    },
    "tags": []
   },
   "outputs": [],
   "source": [
    "resNet_model.compile(optimizer = RMSprop(learning_rate=0.0001), \n",
    "              loss = 'categorical_crossentropy', \n",
    "              metrics = ['accuracy'])"
   ]
  },
  {
   "cell_type": "code",
   "execution_count": 61,
   "id": "5517061d",
   "metadata": {
    "papermill": {
     "duration": 0.171701,
     "end_time": "2022-06-05T21:03:38.666951",
     "exception": false,
     "start_time": "2022-06-05T21:03:38.495250",
     "status": "completed"
    },
    "tags": []
   },
   "outputs": [],
   "source": [
    "input_shape = (None, 224, 224, 3)\n",
    "resNet_model.build(input_shape)"
   ]
  },
  {
   "cell_type": "code",
   "execution_count": 62,
   "id": "f8350ad9",
   "metadata": {
    "papermill": {
     "duration": 0.185432,
     "end_time": "2022-06-05T21:03:39.013926",
     "exception": false,
     "start_time": "2022-06-05T21:03:38.828494",
     "status": "completed"
    },
    "tags": []
   },
   "outputs": [
    {
     "name": "stdout",
     "output_type": "stream",
     "text": [
      "Model: \"sequential\"\n",
      "_________________________________________________________________\n",
      " Layer (type)                Output Shape              Param #   \n",
      "=================================================================\n",
      " resnet50 (Functional)       (None, 7, 7, 2048)        23587712  \n",
      "                                                                 \n",
      " flatten_1 (Flatten)         (None, 100352)            0         \n",
      "                                                                 \n",
      " dropout_1 (Dropout)         (None, 100352)            0         \n",
      "                                                                 \n",
      " dense_6 (Dense)             (None, 1024)              102761472 \n",
      "                                                                 \n",
      " dense_7 (Dense)             (None, 4)                 4100      \n",
      "                                                                 \n",
      "=================================================================\n",
      "Total params: 126,353,284\n",
      "Trainable params: 102,765,572\n",
      "Non-trainable params: 23,587,712\n",
      "_________________________________________________________________\n"
     ]
    }
   ],
   "source": [
    "resNet_model.summary()"
   ]
  },
  {
   "cell_type": "code",
   "execution_count": 63,
   "id": "bee817f7",
   "metadata": {
    "papermill": {
     "duration": 239.655477,
     "end_time": "2022-06-05T21:07:38.836436",
     "exception": false,
     "start_time": "2022-06-05T21:03:39.180959",
     "status": "completed"
    },
    "tags": []
   },
   "outputs": [
    {
     "name": "stdout",
     "output_type": "stream",
     "text": [
      "Epoch 1/20\n",
      "20/20 [==============================] - 78s 4s/step - loss: 5.8358 - accuracy: 0.2672 - val_loss: 3.3421 - val_accuracy: 0.2143\n",
      "Epoch 2/20\n",
      "20/20 [==============================] - 78s 4s/step - loss: 2.5110 - accuracy: 0.2528 - val_loss: 3.1160 - val_accuracy: 0.2786\n",
      "Epoch 3/20\n",
      "20/20 [==============================] - 74s 4s/step - loss: 2.0500 - accuracy: 0.2720 - val_loss: 1.6338 - val_accuracy: 0.2286\n",
      "Epoch 4/20\n",
      "20/20 [==============================] - 74s 4s/step - loss: 1.8513 - accuracy: 0.2640 - val_loss: 1.7461 - val_accuracy: 0.2786\n",
      "Epoch 5/20\n",
      "20/20 [==============================] - 76s 4s/step - loss: 1.9721 - accuracy: 0.2547 - val_loss: 1.5074 - val_accuracy: 0.3071\n",
      "Epoch 6/20\n",
      "20/20 [==============================] - 75s 4s/step - loss: 1.6671 - accuracy: 0.2797 - val_loss: 1.4396 - val_accuracy: 0.3143\n",
      "Epoch 7/20\n",
      "20/20 [==============================] - 77s 4s/step - loss: 1.6728 - accuracy: 0.2688 - val_loss: 1.5064 - val_accuracy: 0.3571\n",
      "Epoch 8/20\n",
      "20/20 [==============================] - 76s 4s/step - loss: 1.6964 - accuracy: 0.3047 - val_loss: 1.4016 - val_accuracy: 0.3286\n",
      "Epoch 9/20\n",
      "20/20 [==============================] - 75s 4s/step - loss: 1.5701 - accuracy: 0.3109 - val_loss: 1.3127 - val_accuracy: 0.4071\n",
      "Epoch 10/20\n",
      "20/20 [==============================] - 74s 4s/step - loss: 1.6219 - accuracy: 0.2672 - val_loss: 1.5736 - val_accuracy: 0.3714\n",
      "Epoch 11/20\n",
      "20/20 [==============================] - 74s 4s/step - loss: 1.5083 - accuracy: 0.3072 - val_loss: 1.4460 - val_accuracy: 0.3500\n",
      "Epoch 12/20\n",
      "20/20 [==============================] - 74s 4s/step - loss: 1.5669 - accuracy: 0.2816 - val_loss: 1.4315 - val_accuracy: 0.2929\n",
      "Epoch 13/20\n",
      "20/20 [==============================] - 75s 4s/step - loss: 1.5213 - accuracy: 0.2976 - val_loss: 1.5196 - val_accuracy: 0.3357\n",
      "Epoch 14/20\n",
      "20/20 [==============================] - 75s 4s/step - loss: 1.5280 - accuracy: 0.2953 - val_loss: 1.4562 - val_accuracy: 0.3786\n",
      "Epoch 15/20\n",
      "20/20 [==============================] - 75s 4s/step - loss: 1.4397 - accuracy: 0.3313 - val_loss: 1.3175 - val_accuracy: 0.4357\n",
      "Epoch 16/20\n",
      "20/20 [==============================] - 74s 4s/step - loss: 1.4603 - accuracy: 0.3120 - val_loss: 1.5296 - val_accuracy: 0.2643\n",
      "Epoch 17/20\n",
      "20/20 [==============================] - 75s 4s/step - loss: 1.5218 - accuracy: 0.3016 - val_loss: 1.3397 - val_accuracy: 0.4214\n",
      "Epoch 18/20\n",
      "20/20 [==============================] - 74s 4s/step - loss: 1.4475 - accuracy: 0.3152 - val_loss: 1.4547 - val_accuracy: 0.3143\n",
      "Epoch 19/20\n",
      "20/20 [==============================] - 74s 4s/step - loss: 1.5272 - accuracy: 0.2976 - val_loss: 1.4891 - val_accuracy: 0.3071\n",
      "Epoch 20/20\n",
      "20/20 [==============================] - 73s 4s/step - loss: 1.4644 - accuracy: 0.3152 - val_loss: 1.3522 - val_accuracy: 0.4000\n"
     ]
    }
   ],
   "source": [
    "history = resNet_model.fit(\n",
    "            train_generator,\n",
    "            validation_data = validation_generator,\n",
    "            steps_per_epoch=20,\n",
    "            epochs =20,\n",
    "            validation_steps=5,\n",
    "            verbose = 1)"
   ]
  },
  {
   "cell_type": "code",
   "execution_count": 64,
   "id": "2bf3af66",
   "metadata": {
    "papermill": {
     "duration": 1.648845,
     "end_time": "2022-06-05T21:07:40.729529",
     "exception": false,
     "start_time": "2022-06-05T21:07:39.080684",
     "status": "completed"
    },
    "tags": []
   },
   "outputs": [
    {
     "name": "stdout",
     "output_type": "stream",
     "text": [
      "5/5 [==============================] - 10s 2s/step - loss: 1.2825 - accuracy: 0.3878\n"
     ]
    },
    {
     "data": {
      "text/plain": [
       "[1.2825241088867188, 0.3877550959587097]"
      ]
     },
     "execution_count": 64,
     "metadata": {},
     "output_type": "execute_result"
    }
   ],
   "source": [
    "resNet_model.evaluate(test_generator)"
   ]
  },
  {
   "cell_type": "code",
   "execution_count": 65,
   "id": "fe418a2d",
   "metadata": {
    "papermill": {
     "duration": 0.834325,
     "end_time": "2022-06-05T21:07:41.759298",
     "exception": false,
     "start_time": "2022-06-05T21:07:40.924973",
     "status": "completed"
    },
    "tags": []
   },
   "outputs": [
    {
     "data": {
      "image/png": "[encoded data removed]",
      "text/plain": [
       "<Figure size 720x360 with 1 Axes>"
      ]
     },
     "metadata": {
      "needs_background": "light"
     },
     "output_type": "display_data"
    },
    {
     "data": {
      "image/png": "[encoded data removed]",
      "text/plain": [
       "<Figure size 720x360 with 1 Axes>"
      ]
     },
     "metadata": {
      "needs_background": "light"
     },
     "output_type": "display_data"
    }
   ],
   "source": [
    "#plotting training values\n",
    "import matplotlib.pyplot as plt\n",
    "\n",
    "acc = history.history['accuracy']\n",
    "val_acc = history.history['val_accuracy']\n",
    "loss = history.history['loss']\n",
    "val_loss = history.history['val_loss']\n",
    "\n",
    "epochs = range(1, len(loss) + 1)\n",
    "\n",
    "#accuracy plot\n",
    "plt.figure(figsize=(10,5))\n",
    "plt.plot(epochs, acc,  label='Training Accuracy') #color='lightblue',\n",
    "plt.plot(epochs, val_acc,  label='Validation Accuracy') #color='orange',\n",
    "plt.title('Training and Validation Accuracy')\n",
    "plt.ylabel('Accuracy')\n",
    "plt.xlabel('Epoch')\n",
    "plt.legend(loc=\"best\")\n",
    "plt.grid(visible=True, which='major', color='#666666', linestyle='-')\n",
    "plt.tight_layout()\n",
    "plt.savefig('resnet_weights_accuracy.png')\n",
    "\n",
    "#loss plot\n",
    "plt.figure(figsize=(10,5))\n",
    "plt.plot(epochs, loss, color='pink', label='Training Loss')\n",
    "plt.plot(epochs, val_loss, color='red', label='Validation Loss')\n",
    "plt.title('Training and Validation Loss')\n",
    "plt.xlabel('Epoch')\n",
    "plt.ylabel('Loss')\n",
    "plt.legend(loc=\"best\")\n",
    "plt.grid(visible=True, which='major', color='#666666', linestyle='-')\n",
    "plt.tight_layout()\n",
    "plt.rcParams['axes.facecolor'] = 'white'\n",
    "plt.savefig('resnet_weights_loss.png')"
   ]
  },
  {
   "cell_type": "code",
   "execution_count": 66,
   "id": "cc9aaba5",
   "metadata": {
    "papermill": {
     "duration": 2.786376,
     "end_time": "2022-06-05T21:07:44.741282",
     "exception": false,
     "start_time": "2022-06-05T21:07:41.954906",
     "status": "completed"
    },
    "tags": []
   },
   "outputs": [],
   "source": [
    "resNet_model.save(\"resnet_model.h5\")"
   ]
  },
  {
   "cell_type": "markdown",
   "id": "c7900e44",
   "metadata": {
    "papermill": {
     "duration": 0.192496,
     "end_time": "2022-06-05T21:07:45.123213",
     "exception": false,
     "start_time": "2022-06-05T21:07:44.930717",
     "status": "completed"
    },
    "tags": []
   },
   "source": [
    "# VGG16"
   ]
  },
  {
   "cell_type": "code",
   "execution_count": 67,
   "id": "64cba8ff",
   "metadata": {
    "papermill": {
     "duration": 8.22703,
     "end_time": "2022-06-05T21:07:53.542430",
     "exception": false,
     "start_time": "2022-06-05T21:07:45.315400",
     "status": "completed"
    },
    "tags": []
   },
   "outputs": [],
   "source": [
    "model=vgg16.VGG16(weights='imagenet',input_shape=(224,224,3), include_top=True, pooling=\"avg\")"
   ]
  },
  {
   "cell_type": "code",
   "execution_count": 68,
   "id": "762f727e",
   "metadata": {
    "papermill": {
     "duration": 0.220972,
     "end_time": "2022-06-05T21:07:53.971437",
     "exception": false,
     "start_time": "2022-06-05T21:07:53.750465",
     "status": "completed"
    },
    "tags": []
   },
   "outputs": [
    {
     "name": "stdout",
     "output_type": "stream",
     "text": [
      "Model: \"vgg16\"\n",
      "_________________________________________________________________\n",
      " Layer (type)                Output Shape              Param #   \n",
      "=================================================================\n",
      " input_5 (InputLayer)        [(None, 224, 224, 3)]     0         \n",
      "                                                                 \n",
      " block1_conv1 (Conv2D)       (None, 224, 224, 64)      1792      \n",
      "                                                                 \n",
      " block1_conv2 (Conv2D)       (None, 224, 224, 64)      36928     \n",
      "                                                                 \n",
      " block1_pool (MaxPooling2D)  (None, 112, 112, 64)      0         \n",
      "                                                                 \n",
      " block2_conv1 (Conv2D)       (None, 112, 112, 128)     73856     \n",
      "                                                                 \n",
      " block2_conv2 (Conv2D)       (None, 112, 112, 128)     147584    \n",
      "                                                                 \n",
      " block2_pool (MaxPooling2D)  (None, 56, 56, 128)       0         \n",
      "                                                                 \n",
      " block3_conv1 (Conv2D)       (None, 56, 56, 256)       295168    \n",
      "                                                                 \n",
      " block3_conv2 (Conv2D)       (None, 56, 56, 256)       590080    \n",
      "                                                                 \n",
      " block3_conv3 (Conv2D)       (None, 56, 56, 256)       590080    \n",
      "                                                                 \n",
      " block3_pool (MaxPooling2D)  (None, 28, 28, 256)       0         \n",
      "                                                                 \n",
      " block4_conv1 (Conv2D)       (None, 28, 28, 512)       1180160   \n",
      "                                                                 \n",
      " block4_conv2 (Conv2D)       (None, 28, 28, 512)       2359808   \n",
      "                                                                 \n",
      " block4_conv3 (Conv2D)       (None, 28, 28, 512)       2359808   \n",
      "                                                                 \n",
      " block4_pool (MaxPooling2D)  (None, 14, 14, 512)       0         \n",
      "                                                                 \n",
      " block5_conv1 (Conv2D)       (None, 14, 14, 512)       2359808   \n",
      "                                                                 \n",
      " block5_conv2 (Conv2D)       (None, 14, 14, 512)       2359808   \n",
      "                                                                 \n",
      " block5_conv3 (Conv2D)       (None, 14, 14, 512)       2359808   \n",
      "                                                                 \n",
      " block5_pool (MaxPooling2D)  (None, 7, 7, 512)         0         \n",
      "                                                                 \n",
      " flatten (Flatten)           (None, 25088)             0         \n",
      "                                                                 \n",
      " fc1 (Dense)                 (None, 4096)              102764544 \n",
      "                                                                 \n",
      " fc2 (Dense)                 (None, 4096)              16781312  \n",
      "                                                                 \n",
      " predictions (Dense)         (None, 1000)              4097000   \n",
      "                                                                 \n",
      "=================================================================\n",
      "Total params: 138,357,544\n",
      "Trainable params: 138,357,544\n",
      "Non-trainable params: 0\n",
      "_________________________________________________________________\n"
     ]
    }
   ],
   "source": [
    "model.summary()"
   ]
  },
  {
   "cell_type": "code",
   "execution_count": 69,
   "id": "0828fd11",
   "metadata": {
    "papermill": {
     "duration": 0.231685,
     "end_time": "2022-06-05T21:07:54.407914",
     "exception": false,
     "start_time": "2022-06-05T21:07:54.176229",
     "status": "completed"
    },
    "tags": []
   },
   "outputs": [],
   "source": [
    "x = model.layers[-2].output\n",
    "x = layers.Dense(1024, activation='relu')(x)\n",
    "x = layers.Dense (4, activation='softmax')(x)"
   ]
  },
  {
   "cell_type": "code",
   "execution_count": 70,
   "id": "94f0323d",
   "metadata": {
    "papermill": {
     "duration": 0.390941,
     "end_time": "2022-06-05T21:07:55.001352",
     "exception": false,
     "start_time": "2022-06-05T21:07:54.610411",
     "status": "completed"
    },
    "tags": []
   },
   "outputs": [],
   "source": [
    "b_mvgg16 = Model(inputs=model.input, outputs=x)\n",
    "# b_mvgg16.compile(optimizer = RMSprop(lr=0.0001), \n",
    "#               loss = 'categorical_crossentropy', \n",
    "#               metrics = ['accuracy'])\n",
    "\n",
    "\n",
    "b_mvgg16.compile(optimizer = RMSprop(learning_rate=0.0001), \n",
    "              loss = 'categorical_crossentropy', \n",
    "              metrics = ['accuracy'])\n",
    "\n"
   ]
  },
  {
   "cell_type": "code",
   "execution_count": 71,
   "id": "8291ad76",
   "metadata": {
    "papermill": {
     "duration": 330.051336,
     "end_time": "2022-06-05T21:13:25.289608",
     "exception": false,
     "start_time": "2022-06-05T21:07:55.238272",
     "status": "completed"
    },
    "tags": []
   },
   "outputs": [
    {
     "name": "stdout",
     "output_type": "stream",
     "text": [
      "Epoch 1/20\n",
      "20/20 [==============================] - 414s 21s/step - loss: 2.7910 - accuracy: 0.2484 - val_loss: 1.5646 - val_accuracy: 0.2857\n",
      "Epoch 2/20\n",
      "20/20 [==============================] - 417s 21s/step - loss: 1.4724 - accuracy: 0.3047 - val_loss: 1.4083 - val_accuracy: 0.2214\n",
      "Epoch 3/20\n",
      "20/20 [==============================] - 405s 20s/step - loss: 1.4771 - accuracy: 0.2752 - val_loss: 1.3746 - val_accuracy: 0.3643\n",
      "Epoch 4/20\n",
      "20/20 [==============================] - 411s 21s/step - loss: 1.4485 - accuracy: 0.2703 - val_loss: 1.3845 - val_accuracy: 0.2357\n",
      "Epoch 5/20\n",
      "20/20 [==============================] - 411s 21s/step - loss: 1.5647 - accuracy: 0.3266 - val_loss: 1.3699 - val_accuracy: 0.3000\n",
      "Epoch 6/20\n",
      "20/20 [==============================] - 403s 20s/step - loss: 1.3586 - accuracy: 0.3472 - val_loss: 1.6937 - val_accuracy: 0.3286\n",
      "Epoch 7/20\n",
      "20/20 [==============================] - 410s 21s/step - loss: 1.3357 - accuracy: 0.3969 - val_loss: 1.3567 - val_accuracy: 0.4071\n",
      "Epoch 8/20\n",
      "20/20 [==============================] - 401s 20s/step - loss: 1.1949 - accuracy: 0.4848 - val_loss: 1.1560 - val_accuracy: 0.5143\n",
      "Epoch 9/20\n",
      "20/20 [==============================] - 410s 21s/step - loss: 1.1726 - accuracy: 0.5063 - val_loss: 1.0334 - val_accuracy: 0.5929\n",
      "Epoch 10/20\n",
      "20/20 [==============================] - 401s 20s/step - loss: 1.0380 - accuracy: 0.5632 - val_loss: 1.2094 - val_accuracy: 0.5714\n",
      "Epoch 11/20\n",
      "20/20 [==============================] - 402s 20s/step - loss: 1.1035 - accuracy: 0.5216 - val_loss: 1.0286 - val_accuracy: 0.5071\n",
      "Epoch 12/20\n",
      "20/20 [==============================] - 411s 21s/step - loss: 1.0436 - accuracy: 0.5437 - val_loss: 1.5983 - val_accuracy: 0.2429\n",
      "Epoch 13/20\n",
      "20/20 [==============================] - 401s 20s/step - loss: 1.0481 - accuracy: 0.5408 - val_loss: 1.0924 - val_accuracy: 0.5000\n",
      "Epoch 14/20\n",
      "20/20 [==============================] - 402s 20s/step - loss: 1.0189 - accuracy: 0.6080 - val_loss: 0.7891 - val_accuracy: 0.7000\n",
      "Epoch 15/20\n",
      "20/20 [==============================] - 410s 20s/step - loss: 0.9697 - accuracy: 0.6172 - val_loss: 1.1087 - val_accuracy: 0.6357\n",
      "Epoch 16/20\n",
      "20/20 [==============================] - 401s 20s/step - loss: 0.8167 - accuracy: 0.7120 - val_loss: 1.3052 - val_accuracy: 0.4786\n",
      "Epoch 17/20\n",
      "20/20 [==============================] - 402s 20s/step - loss: 1.0475 - accuracy: 0.5776 - val_loss: 0.8836 - val_accuracy: 0.6786\n",
      "Epoch 18/20\n",
      "20/20 [==============================] - 403s 20s/step - loss: 0.8786 - accuracy: 0.6848 - val_loss: 0.8512 - val_accuracy: 0.7143\n",
      "Epoch 19/20\n",
      "20/20 [==============================] - 401s 20s/step - loss: 0.8855 - accuracy: 0.6784 - val_loss: 0.6690 - val_accuracy: 0.7571\n",
      "Epoch 20/20\n",
      "20/20 [==============================] - 401s 20s/step - loss: 0.8727 - accuracy: 0.6848 - val_loss: 0.7797 - val_accuracy: 0.7357\n"
     ]
    }
   ],
   "source": [
    "vgg_clf = b_mvgg16.fit(train_generator,\n",
    "            validation_data = validation_generator,\n",
    "            steps_per_epoch=20,\n",
    "            epochs =20,\n",
    "            validation_steps=5,\n",
    "            verbose = 1)"
   ]
  },
  {
   "cell_type": "code",
   "execution_count": 72,
   "id": "e0306f8c",
   "metadata": {
    "papermill": {
     "duration": 5.522989,
     "end_time": "2022-06-05T21:13:31.042961",
     "exception": false,
     "start_time": "2022-06-05T21:13:25.519972",
     "status": "completed"
    },
    "tags": []
   },
   "outputs": [
    {
     "name": "stdout",
     "output_type": "stream",
     "text": [
      "5/5 [==============================] - 19s 4s/step - loss: 0.7496 - accuracy: 0.7143\n"
     ]
    },
    {
     "data": {
      "text/plain": [
       "[0.7495604157447815, 0.7142857313156128]"
      ]
     },
     "execution_count": 72,
     "metadata": {},
     "output_type": "execute_result"
    }
   ],
   "source": [
    "b_mvgg16.evaluate(test_generator)"
   ]
  },
  {
   "cell_type": "code",
   "execution_count": 73,
   "id": "6d48fb29",
   "metadata": {
    "papermill": {
     "duration": 1.100829,
     "end_time": "2022-06-05T21:13:32.427350",
     "exception": false,
     "start_time": "2022-06-05T21:13:31.326521",
     "status": "completed"
    },
    "tags": []
   },
   "outputs": [
    {
     "data": {
      "image/png": "[encoded data removed]",
      "text/plain": [
       "<Figure size 720x360 with 1 Axes>"
      ]
     },
     "metadata": {
      "needs_background": "light"
     },
     "output_type": "display_data"
    },
    {
     "data": {
      "image/png": "[encoded data removed]",
      "text/plain": [
       "<Figure size 720x360 with 1 Axes>"
      ]
     },
     "metadata": {
      "needs_background": "light"
     },
     "output_type": "display_data"
    }
   ],
   "source": [
    "#plotting training values\n",
    "import matplotlib.pyplot as plt\n",
    "\n",
    "acc = history.history['accuracy']\n",
    "val_acc = history.history['val_accuracy']\n",
    "loss = history.history['loss']\n",
    "val_loss = history.history['val_loss']\n",
    "\n",
    "epochs = range(1, len(loss) + 1)\n",
    "\n",
    "#accuracy plot\n",
    "plt.figure(figsize=(10,5))\n",
    "plt.plot(epochs, acc,  label='Training Accuracy') #color='lightblue',\n",
    "plt.plot(epochs, val_acc,  label='Validation Accuracy') #color='orange',\n",
    "plt.title('Training and Validation Accuracy')\n",
    "plt.ylabel('Accuracy')\n",
    "plt.xlabel('Epoch')\n",
    "plt.legend(loc=\"best\")\n",
    "plt.grid(visible=True, which='major', color='#666666', linestyle='-')\n",
    "plt.tight_layout()\n",
    "plt.savefig('vgg_accuracy.png')\n",
    "\n",
    "#loss plot\n",
    "plt.figure(figsize=(10,5))\n",
    "plt.plot(epochs, loss, color='pink', label='Training Loss')\n",
    "plt.plot(epochs, val_loss, color='red', label='Validation Loss')\n",
    "plt.title('Training and Validation Loss')\n",
    "plt.xlabel('Epoch')\n",
    "plt.ylabel('Loss')\n",
    "plt.legend(loc=\"best\")\n",
    "plt.grid(visible=True, which='major', color='#666666', linestyle='-')\n",
    "plt.tight_layout()\n",
    "plt.rcParams['axes.facecolor'] = 'white'\n",
    "plt.savefig('vgg_loss.png')"
   ]
  },
  {
   "cell_type": "code",
   "execution_count": 74,
   "id": "3c1794ba",
   "metadata": {
    "papermill": {
     "duration": 0.893052,
     "end_time": "2022-06-05T21:13:33.574885",
     "exception": false,
     "start_time": "2022-06-05T21:13:32.681833",
     "status": "completed"
    },
    "scrolled": true,
    "tags": []
   },
   "outputs": [
    {
     "name": "stdout",
     "output_type": "stream",
     "text": [
      "Model: \"vgg16\"\n",
      "_________________________________________________________________\n",
      " Layer (type)                Output Shape              Param #   \n",
      "=================================================================\n",
      " input_6 (InputLayer)        [(None, 224, 224, 3)]     0         \n",
      "                                                                 \n",
      " block1_conv1 (Conv2D)       (None, 224, 224, 64)      1792      \n",
      "                                                                 \n",
      " block1_conv2 (Conv2D)       (None, 224, 224, 64)      36928     \n",
      "                                                                 \n",
      " block1_pool (MaxPooling2D)  (None, 112, 112, 64)      0         \n",
      "                                                                 \n",
      " block2_conv1 (Conv2D)       (None, 112, 112, 128)     73856     \n",
      "                                                                 \n",
      " block2_conv2 (Conv2D)       (None, 112, 112, 128)     147584    \n",
      "                                                                 \n",
      " block2_pool (MaxPooling2D)  (None, 56, 56, 128)       0         \n",
      "                                                                 \n",
      " block3_conv1 (Conv2D)       (None, 56, 56, 256)       295168    \n",
      "                                                                 \n",
      " block3_conv2 (Conv2D)       (None, 56, 56, 256)       590080    \n",
      "                                                                 \n",
      " block3_conv3 (Conv2D)       (None, 56, 56, 256)       590080    \n",
      "                                                                 \n",
      " block3_pool (MaxPooling2D)  (None, 28, 28, 256)       0         \n",
      "                                                                 \n",
      " block4_conv1 (Conv2D)       (None, 28, 28, 512)       1180160   \n",
      "                                                                 \n",
      " block4_conv2 (Conv2D)       (None, 28, 28, 512)       2359808   \n",
      "                                                                 \n",
      " block4_conv3 (Conv2D)       (None, 28, 28, 512)       2359808   \n",
      "                                                                 \n",
      " block4_pool (MaxPooling2D)  (None, 14, 14, 512)       0         \n",
      "                                                                 \n",
      " block5_conv1 (Conv2D)       (None, 14, 14, 512)       2359808   \n",
      "                                                                 \n",
      " block5_conv2 (Conv2D)       (None, 14, 14, 512)       2359808   \n",
      "                                                                 \n",
      " block5_conv3 (Conv2D)       (None, 14, 14, 512)       2359808   \n",
      "                                                                 \n",
      " block5_pool (MaxPooling2D)  (None, 7, 7, 512)         0         \n",
      "                                                                 \n",
      "=================================================================\n",
      "Total params: 14,714,688\n",
      "Trainable params: 14,714,688\n",
      "Non-trainable params: 0\n",
      "_________________________________________________________________\n"
     ]
    }
   ],
   "source": [
    "model_vgg = vgg16.VGG16(weights='imagenet', input_shape=(224,224,3), include_top=False)\n",
    "model_vgg.summary()\n",
    "  # Make all layers untrainable\n",
    "for layer in model_vgg.layers:\n",
    "    layer.trainable = False"
   ]
  },
  {
   "cell_type": "code",
   "execution_count": 75,
   "id": "dadeb7b2",
   "metadata": {
    "papermill": {
     "duration": 0.255672,
     "end_time": "2022-06-05T21:13:34.057931",
     "exception": false,
     "start_time": "2022-06-05T21:13:33.802259",
     "status": "completed"
    },
    "tags": []
   },
   "outputs": [],
   "source": [
    "x = model_vgg.output\n",
    "x = Flatten()(x)\n",
    "x = Dropout(0.5)(x)\n",
    "x = Dense(1024, activation=\"relu\")(x)\n",
    "predictions = Dense(4, activation=\"softmax\")(x)"
   ]
  },
  {
   "cell_type": "code",
   "execution_count": 76,
   "id": "19c43528",
   "metadata": {
    "papermill": {
     "duration": 0.24265,
     "end_time": "2022-06-05T21:13:34.528573",
     "exception": false,
     "start_time": "2022-06-05T21:13:34.285923",
     "status": "completed"
    },
    "tags": []
   },
   "outputs": [],
   "source": [
    "m = Model(inputs=model_vgg.input, outputs=predictions)"
   ]
  },
  {
   "cell_type": "code",
   "execution_count": 77,
   "id": "f573eed6",
   "metadata": {
    "papermill": {
     "duration": 0.241917,
     "end_time": "2022-06-05T21:13:34.997300",
     "exception": false,
     "start_time": "2022-06-05T21:13:34.755383",
     "status": "completed"
    },
    "tags": []
   },
   "outputs": [],
   "source": [
    "m.compile(optimizer = RMSprop(learning_rate=0.0001), \n",
    "              loss = 'categorical_crossentropy', \n",
    "              metrics = ['accuracy'])"
   ]
  },
  {
   "cell_type": "code",
   "execution_count": 78,
   "id": "d2b97f33",
   "metadata": {
    "papermill": {
     "duration": 255.489083,
     "end_time": "2022-06-05T21:17:50.715614",
     "exception": false,
     "start_time": "2022-06-05T21:13:35.226531",
     "status": "completed"
    },
    "tags": []
   },
   "outputs": [
    {
     "name": "stdout",
     "output_type": "stream",
     "text": [
      "20/20 [==============================] - 106s 5s/step - loss: 2.5578 - accuracy: 0.3078 - val_loss: 1.2882 - val_accuracy: 0.4857\n"
     ]
    }
   ],
   "source": [
    "vgg_clfw = m.fit(train_generator,\n",
    "                epochs=1,\n",
    "                steps_per_epoch=20,\n",
    "                validation_data=validation_generator,\n",
    "                validation_steps=5)"
   ]
  },
  {
   "cell_type": "code",
   "execution_count": 79,
   "id": "cbeb3c8a",
   "metadata": {
    "papermill": {
     "duration": 1.244277,
     "end_time": "2022-06-05T21:17:52.216876",
     "exception": false,
     "start_time": "2022-06-05T21:17:50.972599",
     "status": "completed"
    },
    "tags": []
   },
   "outputs": [
    {
     "name": "stdout",
     "output_type": "stream",
     "text": [
      "5/5 [==============================] - 18s 4s/step - loss: 1.2063 - accuracy: 0.4898\n"
     ]
    },
    {
     "data": {
      "text/plain": [
       "[1.20631742477417, 0.4897959232330322]"
      ]
     },
     "execution_count": 79,
     "metadata": {},
     "output_type": "execute_result"
    }
   ],
   "source": [
    "m.evaluate(test_generator)"
   ]
  },
  {
   "cell_type": "code",
   "execution_count": 80,
   "id": "399faba5",
   "metadata": {
    "papermill": {
     "duration": 0.908206,
     "end_time": "2022-06-05T21:17:53.378872",
     "exception": false,
     "start_time": "2022-06-05T21:17:52.470666",
     "status": "completed"
    },
    "tags": []
   },
   "outputs": [
    {
     "data": {
      "image/png": "[encoded data removed]",
      "text/plain": [
       "<Figure size 720x360 with 1 Axes>"
      ]
     },
     "metadata": {
      "needs_background": "light"
     },
     "output_type": "display_data"
    },
    {
     "data": {
      "image/png": "[encoded data removed]",
      "text/plain": [
       "<Figure size 720x360 with 1 Axes>"
      ]
     },
     "metadata": {
      "needs_background": "light"
     },
     "output_type": "display_data"
    }
   ],
   "source": [
    "#plotting training values\n",
    "import matplotlib.pyplot as plt\n",
    "\n",
    "acc = history.history['accuracy']\n",
    "val_acc = history.history['val_accuracy']\n",
    "loss = history.history['loss']\n",
    "val_loss = history.history['val_loss']\n",
    "\n",
    "epochs = range(1, len(loss) + 1)\n",
    "\n",
    "#accuracy plot\n",
    "plt.figure(figsize=(10,5))\n",
    "plt.plot(epochs, acc,  label='Training Accuracy') #color='lightblue',\n",
    "plt.plot(epochs, val_acc,  label='Validation Accuracy') #color='orange',\n",
    "plt.title('Training and Validation Accuracy')\n",
    "plt.ylabel('Accuracy')\n",
    "plt.xlabel('Epoch')\n",
    "plt.legend(loc=\"best\")\n",
    "plt.grid(visible=True, which='major', color='#666666', linestyle='-')\n",
    "plt.tight_layout()\n",
    "plt.savefig('vgg_weights_accuracy.png')\n",
    "\n",
    "#loss plot\n",
    "plt.figure(figsize=(10,5))\n",
    "plt.plot(epochs, loss, color='pink', label='Training Loss')\n",
    "plt.plot(epochs, val_loss, color='red', label='Validation Loss')\n",
    "plt.title('Training and Validation Loss')\n",
    "plt.xlabel('Epoch')\n",
    "plt.ylabel('Loss')\n",
    "plt.legend(loc=\"best\")\n",
    "plt.grid(visible=True, which='major', color='#666666', linestyle='-')\n",
    "plt.tight_layout()\n",
    "plt.rcParams['axes.facecolor'] = 'white'\n",
    "plt.savefig('vgg_weights_loss.png')"
   ]
  },
  {
   "cell_type": "code",
   "execution_count": 81,
   "id": "099ddcdd",
   "metadata": {
    "papermill": {
     "duration": 0.799688,
     "end_time": "2022-06-05T21:17:54.434956",
     "exception": false,
     "start_time": "2022-06-05T21:17:53.635268",
     "status": "completed"
    },
    "tags": []
   },
   "outputs": [],
   "source": [
    "m.save(\"vgg_model.h5\")"
   ]
  },
  {
   "cell_type": "code",
   "execution_count": null,
   "id": "04691e4c",
   "metadata": {
    "papermill": {
     "duration": 0.265339,
     "end_time": "2022-06-05T21:17:54.950525",
     "exception": false,
     "start_time": "2022-06-05T21:17:54.685186",
     "status": "completed"
    },
    "tags": []
   },
   "outputs": [],
   "source": []
  }
 ],
 "metadata": {
  "kernelspec": {
   "display_name": "Python 3",
   "language": "python",
   "name": "python3"
  },
  "language_info": {
   "codemirror_mode": {
    "name": "ipython",
    "version": 3
   },
   "file_extension": ".py",
   "mimetype": "text/x-python",
   "name": "python",
   "nbconvert_exporter": "python",
   "pygments_lexer": "ipython3",
   "version": "3.7.13"
  },
  "papermill": {
   "default_parameters": {},
   "duration": 2059.601544,
   "end_time": "2022-06-05T21:17:58.324382",
   "environment_variables": {},
   "exception": null,
   "input_path": "__notebook__.ipynb",
   "output_path": "__notebook__.ipynb",
   "parameters": {},
   "start_time": "2022-06-05T20:43:38.722838",
   "version": "2.3.4"
  }
 },
 "nbformat": 4,
 "nbformat_minor": 5
}
